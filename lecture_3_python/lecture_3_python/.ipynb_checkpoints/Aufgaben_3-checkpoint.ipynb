{
 "cells": [
  {
   "cell_type": "markdown",
   "metadata": {},
   "source": [
    "# Aufgaben Woche 3"
   ]
  },
  {
   "cell_type": "markdown",
   "metadata": {},
   "source": [
    "## Aufgabe 1\n",
    "\n",
    "#### Funktionen und Schleifen\n",
    "\n",
    "(a) Schreiben Sie eine Funktion, welche eine Liste und eine Zahl als Inputparameter hat. Die Funktion gibt als Boolschen Wert zurück, ob die Zahl in der Liste enthalten ist. \n",
    "\n",
    "(b) Implementieren Sie die Funktion nun als binäre Suche, wobei der erste Inputparameter als geordnete Liste von Zahlen (von klein nach groß) vorausgesetzt wird.\n",
    "\n",
    "(c) Fügen Sie der Funktionen einen Docstring hinzu."
   ]
  },
  {
   "cell_type": "markdown",
   "metadata": {},
   "source": [
    "## Aufgabe 2\n",
    "\n",
    "#### Funktionen, Verzweigungen und Schleifen\n",
    "\n",
    "(a) Schreiben Sie eine Funktion, welche drei Zahlen als Inputparameter erhält und die größte von ihnen zurückgibt.\n",
    "\n",
    "(b) Schreiben Sie eine Funktion, welche eine Liste von Zahlen bekommt und die Summe der Elemente zurückgibt.\n",
    "\n",
    "(c) Erweitern Sie die Funktion in (b), indem Sie beliebige Listen so verarbeiten, dass bei der Summenbildung nur die  Zahlen unter den Listenelementen berücksichtigt werden.\n"
   ]
  }
 ],
 "metadata": {
  "kernelspec": {
   "display_name": "Python 3",
   "language": "python",
   "name": "python3"
  },
  "language_info": {
   "codemirror_mode": {
    "name": "ipython",
    "version": 3
   },
   "file_extension": ".py",
   "mimetype": "text/x-python",
   "name": "python",
   "nbconvert_exporter": "python",
   "pygments_lexer": "ipython3",
   "version": "3.6.5"
  }
 },
 "nbformat": 4,
 "nbformat_minor": 2
}
