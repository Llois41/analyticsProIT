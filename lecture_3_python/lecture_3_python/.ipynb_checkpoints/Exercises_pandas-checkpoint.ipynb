{
 "cells": [
  {
   "cell_type": "markdown",
   "metadata": {},
   "source": [
    "# Aufgaben zu `pandas`"
   ]
  },
  {
   "cell_type": "markdown",
   "metadata": {},
   "source": [
    "Die folgenden Aufgaben sind mit Hilfe der Library `pandas` zu lösen. Die nötigen Methoden etc. finden Sie in den Folien. Ich empfehle, die Aufgaben in einem Jupyter Notebook zu lösen."
   ]
  },
  {
   "cell_type": "markdown",
   "metadata": {},
   "source": [
    "## Aufgabe 1\n",
    "\n",
    "Laden Sie die CSV Datei `zuwendungen-berlin.csv.gz` im Verzeichnis `data` in einen `pandas DataFrame` `df`. Nutzen Sie für die Angabe des Dateipfades die Funktion `os.path.join` aus der Library `os` (mit dieser stellen Sie sicher, dass Ihr Code unabhängig von Pfad-Schreibweisen verschiedener Betriebssysteme funktioniert).\n",
    "\n",
    "Geben Sie mit geeigneten `DataFrame`-Methoden folgendes aus:\n",
    "\n",
    "1. die ersten 3 Zeilen\n",
    "2. die letzten 3 Zeilen\n",
    "3. 5 zufällig ausgewählte Zeilen"
   ]
  },
  {
   "cell_type": "markdown",
   "metadata": {},
   "source": [
    "## Aufgabe 2\n",
    "\n",
    "Finden Sie heraus, welcher Politikbereich wie häufig in der Tabelle vertreten ist. Welcher kam am häufigsten vor, welcher am seltensten?"
   ]
  },
  {
   "cell_type": "markdown",
   "metadata": {},
   "source": [
    "## Aufgabe 3\n",
    "\n",
    "Mit der `DataFrame` Methode `describe()` erhalten Sie die wichtigsten Statistiken zu allen numerischen Spalten (die Dokumentation zu der Methode finden Sie übrigens [hier](https://pandas.pydata.org/pandas-docs/stable/reference/api/pandas.DataFrame.describe.html)). Die Methode `describe()` gibt selbst einen `pandas DataFrame` zurück. \n",
    "\n",
    "1. Speichern Sie diesen in der Variable `df_stats` und zeigen Sie sich den Inhalt dessen an.\n",
    "2. Finden Sie mit Hilfe von `df_stats` heraus, was der höchste ausgegebene `Betrag` war (Hinweis: verwenden Sie den Indeixierungsoperator `loc`). Speichern Sie diesen Wert in der Variable `max_betrag`.\n",
    "3. Selektieren Sie nun in `df` diejenige Zeile, in welcher der Wert in der Spalte `Betrag` dem zuvor gefundenen Wert `max_betrag` entspricht. Für welches Projekt wurde also die höchste Summe ausgegeben, und in welchem Jahr? \n",
    "4. Schauen Sie sich die [Syntax der Methode `sort_values()`](https://pandas.pydata.org/pandas-docs/stable/reference/api/pandas.DataFrame.sort_values.html) an und wenden Sie diese an, um die 10 teuersten Ausgaben zu sehen. (Hinweis: die ersten `n` Zeilen eines `DataFrames` haben Sie berits in Aufgabe 1 gelernt auszugeben; nutzen Sie das hier).\n",
    "5. Zusatzaufgabe: Schreiben Sie eine Funktion `get_max_value()`, welche einen `DataFrame` und einen Spaltennamen (string) als Parameter bekommt und den maximalen Wert in dieser Spalte zurückgibt. Die Aufgabe ist also, Ihre Arbeit aus 1. und 2. als Funktion zu modularisieren."
   ]
  },
  {
   "cell_type": "markdown",
   "metadata": {},
   "source": [
    "## Aufgabe 4\n",
    "\n",
    "1. Analysieren Sie die Syntax der verschiedenen Einträge in der Spalte `Anschrift` und schreiben Sie eine Funktion, welche aus **einem** solchen String mit Hilfe eines regulären Ausdrucks oder mit Hilfe von `string` Methoden die Postleitzahl extrahiert.\n",
    "\n",
    "2. Wenden Sie die Funktion mit Hilfe der `DataFrame` Methode `map()` auf `df` and und speichern Sie das Ergebnis in einer neuen Spalte namens `Postleitzahl`.\n"
   ]
  }
 ],
 "metadata": {
  "kernelspec": {
   "display_name": "Python 3",
   "language": "python",
   "name": "python3"
  },
  "language_info": {
   "codemirror_mode": {
    "name": "ipython",
    "version": 3
   },
   "file_extension": ".py",
   "mimetype": "text/x-python",
   "name": "python",
   "nbconvert_exporter": "python",
   "pygments_lexer": "ipython3",
   "version": "3.6.5"
  }
 },
 "nbformat": 4,
 "nbformat_minor": 2
}
