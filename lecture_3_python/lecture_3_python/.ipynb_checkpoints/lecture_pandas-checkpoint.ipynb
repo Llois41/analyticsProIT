{
 "cells": [
  {
   "cell_type": "markdown",
   "metadata": {
    "slideshow": {
     "slide_type": "slide"
    }
   },
   "source": [
    "<style>\n",
    "body {\n",
    "    font-size: 1.7em;\n",
    "} \n",
    "\n",
    ".rendered_html h1 {\n",
    "  font-size: 3.8em;\n",
    "}\n",
    "\n",
    ".rendered_html h2 {\n",
    "  font-size: 2.2em;\n",
    "}\n",
    "\n",
    ".rendered_html h3 {\n",
    "  font-size: 1.8em;\n",
    "}\n",
    "\n",
    ".rendered_html h4 {\n",
    "  font-size: 1.4em;\n",
    "}\n",
    "\n",
    "div.slides {\n",
    "width: 1920px;\n",
    "height: 1080px;\n",
    "}\n",
    "\n",
    ".rendered_html table, .rendered_html th, .rendered_html tr, .rendered_html td {\n",
    "     font-size: 100%;\n",
    "}\n",
    "\n",
    "</style>\n",
    "\n",
    "# <font color=\"#BD1550\">Analytics</font>\n",
    "## Jupyter Notebook, pandas\n",
    "\n",
    "\n",
    "-------\n",
    "### Prof. Dr. Helena Mihaljević\n",
    "#### WS 2019/20\n"
   ]
  },
  {
   "cell_type": "markdown",
   "metadata": {
    "slideshow": {
     "slide_type": "slide"
    }
   },
   "source": [
    "# Jupyter Notebook\n",
    "\n",
    "- ursprünglich für Julia, python und R entwickelt (deshalb **Ju**-**py**-te**R**); mittlerweile >40 Sprachen  unterstützt \n",
    "- läuft im Browser\n",
    "- open-source \n",
    "- **literate programming**: Software development Stil, bei welchem verständlicher Text und Code-Blöcke sich abwechseln\n",
    "- Code, Text, Formeln und inline-Visualisierungen in Einem\n",
    "- mittlerweile gibt es JupyterHub als multi-user Version für kollaboratives Arbeiten\n",
    "- Extrem beliebt, in Wissenschaft und Unternehmen\n",
    "- Artikel zu Jupyter Notebooks in *Nature*: https://www.nature.com/news/interactive-notebooks-sharing-the-code-1.16261"
   ]
  },
  {
   "cell_type": "markdown",
   "metadata": {
    "slideshow": {
     "slide_type": "slide"
    }
   },
   "source": [
    "## Ein paar Tipps\n",
    "\n",
    "* Nicht den gesamten Code in eine Zelle schreiben\n",
    "* Markdown-Zellen nutzen um Ideen zu dokumentieren oder Fragen/Hypothesen festzuhalten\n",
    "* Shortcuts benutzen: z.B. Shift+Enter um Code auszuführen\n",
    "* Zugriff auf **Dokumentation** mit Hilfe von `?`, z.B.\n",
    "```python\n",
    "import pandas as pd\n",
    "pd.Series?\n",
    "```\n",
    "* **Auto-Completion** von Code über Tab-Taste, z.B. tippe `pd.Series.` + Tab, um alle verfügbaren Methoden und Attribute für diese Klasse zu sehen\n",
    "* Advanced stuff: Cell Magics, Interactive Dashboards, uvm. Es gibt viele Blogs zu Jupyter Notebooks, siehe z.B. hier: https://www.analyticsvidhya.com/blog/2018/05/starters-guide-jupyter-notebook/"
   ]
  },
  {
   "cell_type": "markdown",
   "metadata": {
    "slideshow": {
     "slide_type": "slide"
    }
   },
   "source": [
    "## Übung\n",
    "\n",
    "1. aktivieren Sie in einem Terminal Ihre virtuelle Umgebung\n",
    "2. Installieren Sie das python Paket `jupyter`\n",
    "3. Starten Sie danach das jupyter Notebook, indem Sie `jupyter notebook` direkt ins Terminal eingeben\n",
    "4. Probieren Sie, dort Code auszuführen, Text in Markdown-Syntax zu schreiben etc. Sie können auch versuchen, eine ältere Hausaufgabe dort nochmal zu schreiben"
   ]
  },
  {
   "cell_type": "markdown",
   "metadata": {
    "slideshow": {
     "slide_type": "slide"
    }
   },
   "source": [
    "## Pros und Cons\n",
    "\n",
    "### Pros \n",
    "\n",
    "- viele nützliche Features (siehe z.B. Cell Magics)\n",
    "- inline plotting\n",
    "- interactive plots\n",
    "- remote execution\n",
    "\n",
    " \n",
    "### Cons\n",
    "\n",
    " - hidden state\n",
    " - version control ist schwierig\n",
    " - testen ist schwierig"
   ]
  },
  {
   "cell_type": "markdown",
   "metadata": {
    "slideshow": {
     "slide_type": "slide"
    }
   },
   "source": [
    "## Empfehlung\n",
    "\n",
    "**(Daten-)Explorationen** in Jupyter Notebook starten, danach Code wie bisher modularisieren und nach gelerneten (und weiteren) Engineering Best Practices strukturieren."
   ]
  },
  {
   "cell_type": "markdown",
   "metadata": {
    "slideshow": {
     "slide_type": "slide"
    }
   },
   "source": [
    "# Pandas\n",
    "\n",
    "- **pan**el **da**ta\n",
    "- DataFrames für Python\n",
    "- Read/Write für viele Formate\n",
    "- Viele Operationen deutlich effizienter als in plain python\n",
    "- Database-like API\n",
    "- Sehr beliebt in Data Science"
   ]
  },
  {
   "cell_type": "markdown",
   "metadata": {
    "slideshow": {
     "slide_type": "slide"
    }
   },
   "source": [
    "## Pandas - Why Python is booming\n",
    "\n",
    "<img src=\"figures/pandas_popularity.png\" width=500px/>\n",
    "\n",
    "[Stackoverflow Blog: Why is Python Growing So Quickly?](https://stackoverflow.blog/2017/09/14/python-growing-quickly/)"
   ]
  },
  {
   "cell_type": "markdown",
   "metadata": {
    "slideshow": {
     "slide_type": "slide"
    }
   },
   "source": [
    "# Pandas Data Structures\n",
    "\n",
    "- ``DataFrame``: \n",
    "    Tabelle  (denk an Abbildung von relationalen Tabellen)\n",
    "- ``Series``: \n",
    "    1-dimensionale Daten-Struktur mit Index (denk an Abbildung von einer Tabellenspalte)"
   ]
  },
  {
   "cell_type": "markdown",
   "metadata": {
    "slideshow": {
     "slide_type": "slide"
    }
   },
   "source": [
    "# `pandas Series` \n",
    "\n",
    "one-dimensional array of indexed data\n"
   ]
  },
  {
   "cell_type": "code",
   "execution_count": 1,
   "metadata": {
    "slideshow": {
     "slide_type": "slide"
    }
   },
   "outputs": [
    {
     "data": {
      "text/plain": [
       "0    0.25\n",
       "1    0.50\n",
       "2    0.75\n",
       "3    1.00\n",
       "dtype: float64"
      ]
     },
     "execution_count": 1,
     "metadata": {},
     "output_type": "execute_result"
    }
   ],
   "source": [
    "import pandas as pd\n",
    "\n",
    "# create a pandas Series\n",
    "series_a = pd.Series([0.25, 0.5, 0.75, 1.0])\n",
    "series_a"
   ]
  },
  {
   "cell_type": "code",
   "execution_count": 2,
   "metadata": {
    "slideshow": {
     "slide_type": "fragment"
    }
   },
   "outputs": [
    {
     "data": {
      "text/plain": [
       "RangeIndex(start=0, stop=4, step=1)"
      ]
     },
     "execution_count": 2,
     "metadata": {},
     "output_type": "execute_result"
    }
   ],
   "source": [
    "series_a.index"
   ]
  },
  {
   "cell_type": "code",
   "execution_count": 3,
   "metadata": {
    "slideshow": {
     "slide_type": "fragment"
    }
   },
   "outputs": [
    {
     "data": {
      "text/plain": [
       "array([0.25, 0.5 , 0.75, 1.  ])"
      ]
     },
     "execution_count": 3,
     "metadata": {},
     "output_type": "execute_result"
    }
   ],
   "source": [
    "series_a.values"
   ]
  },
  {
   "cell_type": "markdown",
   "metadata": {
    "slideshow": {
     "slide_type": "slide"
    }
   },
   "source": [
    "## Generating a `pandas Series`\n",
    "\n",
    "Ein `Series` Objekt kann aus den meisten python *collections* generiert werden,\n",
    "und unterstützt somit alle üblichen Typen in den Daten.\n"
   ]
  },
  {
   "cell_type": "code",
   "execution_count": 4,
   "metadata": {
    "slideshow": {
     "slide_type": "slide"
    }
   },
   "outputs": [
    {
     "data": {
      "text/plain": [
       "0      one\n",
       "1      two\n",
       "2    three\n",
       "dtype: object"
      ]
     },
     "execution_count": 4,
     "metadata": {},
     "output_type": "execute_result"
    }
   ],
   "source": [
    "# a list\n",
    "list_a = ['one','two','three']\n",
    "\n",
    "series_b = pd.Series(list_a)\n",
    "series_b"
   ]
  },
  {
   "cell_type": "code",
   "execution_count": 5,
   "metadata": {
    "slideshow": {
     "slide_type": "fragment"
    }
   },
   "outputs": [
    {
     "data": {
      "text/plain": [
       "index_one        one\n",
       "index_two        two\n",
       "index_three    three\n",
       "dtype: object"
      ]
     },
     "execution_count": 5,
     "metadata": {},
     "output_type": "execute_result"
    }
   ],
   "source": [
    "# a list with indices\n",
    "list_a = ['one','two','three']\n",
    "list_b = ['index_one','index_two','index_three']\n",
    "\n",
    "series_c = pd.Series(data=list_a, index=list_b)\n",
    "series_c"
   ]
  },
  {
   "cell_type": "code",
   "execution_count": 6,
   "metadata": {
    "slideshow": {
     "slide_type": "fragment"
    }
   },
   "outputs": [
    {
     "data": {
      "text/plain": [
       "100    5\n",
       "200    5\n",
       "300    5\n",
       "dtype: int64"
      ]
     },
     "execution_count": 6,
     "metadata": {},
     "output_type": "execute_result"
    }
   ],
   "source": [
    "# creating a Series with same value \n",
    "pd.Series(5, index=[100, 200, 300])"
   ]
  },
  {
   "cell_type": "markdown",
   "metadata": {
    "slideshow": {
     "slide_type": "slide"
    }
   },
   "source": [
    "## Warum ist das nützlich? \n",
    "\n",
    "* viele Gründe, warum solche Datenstruktures sinnvoll\n",
    "* viele haben mit Geschwindigkeit zu tun\n",
    "* Oder mit \"Bedienungskomfort\":"
   ]
  },
  {
   "cell_type": "code",
   "execution_count": 7,
   "metadata": {
    "slideshow": {
     "slide_type": "slide"
    }
   },
   "outputs": [],
   "source": [
    "fruits = pd.Series([1,0,2,2], index=['apples','oranges','bananas','lemons'])\n",
    "more_fruits = pd.Series([1,0,1,5], index=['lemons','oranges','apples','bananas'])"
   ]
  },
  {
   "cell_type": "code",
   "execution_count": 8,
   "metadata": {
    "slideshow": {
     "slide_type": "fragment"
    }
   },
   "outputs": [
    {
     "data": {
      "text/plain": [
       "apples     1\n",
       "oranges    0\n",
       "bananas    2\n",
       "lemons     2\n",
       "dtype: int64"
      ]
     },
     "execution_count": 8,
     "metadata": {},
     "output_type": "execute_result"
    }
   ],
   "source": [
    "fruits"
   ]
  },
  {
   "cell_type": "code",
   "execution_count": 9,
   "metadata": {
    "slideshow": {
     "slide_type": "fragment"
    }
   },
   "outputs": [
    {
     "data": {
      "text/plain": [
       "lemons     1\n",
       "oranges    0\n",
       "apples     1\n",
       "bananas    5\n",
       "dtype: int64"
      ]
     },
     "execution_count": 9,
     "metadata": {},
     "output_type": "execute_result"
    }
   ],
   "source": [
    "more_fruits"
   ]
  },
  {
   "cell_type": "code",
   "execution_count": 10,
   "metadata": {
    "slideshow": {
     "slide_type": "fragment"
    }
   },
   "outputs": [
    {
     "data": {
      "text/plain": [
       "apples     2\n",
       "bananas    7\n",
       "lemons     3\n",
       "oranges    0\n",
       "dtype: int64"
      ]
     },
     "execution_count": 10,
     "metadata": {},
     "output_type": "execute_result"
    }
   ],
   "source": [
    "fruits + more_fruits"
   ]
  },
  {
   "cell_type": "markdown",
   "metadata": {
    "slideshow": {
     "slide_type": "slide"
    }
   },
   "source": [
    "## Mehr Beispiele\n"
   ]
  },
  {
   "cell_type": "code",
   "execution_count": 11,
   "metadata": {
    "slideshow": {
     "slide_type": "slide"
    }
   },
   "outputs": [],
   "source": [
    "berlin_year_to_population = {\n",
    " '1917': 1681916,\n",
    " '1919': 1902509,\n",
    " '1925': 4024286,\n",
    " '1933': 4242501,\n",
    " '1939': 4338756,\n",
    " '1945': 2807405,\n",
    " '1946': 3170832,\n",
    " '1950': 3336026,\n",
    " '1960': 3274016,\n",
    " '1970': 3208719,\n",
    " '1980': 3048759,\n",
    " '1990': 3433695,\n",
    " '2000': 3382169,\n",
    " '2005': 3394000,\n",
    " '2010': 3460725,\n",
    " '2015': 3520031}\n",
    "\n",
    "population = pd.Series(berlin_year_to_population)"
   ]
  },
  {
   "cell_type": "code",
   "execution_count": 12,
   "metadata": {},
   "outputs": [
    {
     "data": {
      "text/plain": [
       "1917    1681916\n",
       "1919    1902509\n",
       "1925    4024286\n",
       "1933    4242501\n",
       "1939    4338756\n",
       "dtype: int64"
      ]
     },
     "execution_count": 12,
     "metadata": {},
     "output_type": "execute_result"
    }
   ],
   "source": [
    "# show me first 5 rows \n",
    "# can also call head() with a parameter specifying the number of rows\n",
    "population.head()"
   ]
  },
  {
   "cell_type": "code",
   "execution_count": 13,
   "metadata": {
    "slideshow": {
     "slide_type": "slide"
    }
   },
   "outputs": [
    {
     "data": {
      "text/plain": [
       "Text(0.5, 0, 'Year')"
      ]
     },
     "execution_count": 13,
     "metadata": {},
     "output_type": "execute_result"
    },
    {
     "data": {
      "image/png": "[encoded data removed]",
      "text/plain": [
       "<Figure size 864x288 with 1 Axes>"
      ]
     },
     "metadata": {
      "needs_background": "light"
     },
     "output_type": "display_data"
    }
   ],
   "source": [
    "%matplotlib inline\n",
    "import matplotlib.pyplot as plt\n",
    "plt.figure(figsize=[12,4])\n",
    "plt.plot(population)\n",
    "plt.ylabel(\"Population\")\n",
    "plt.xlabel(\"Year\")"
   ]
  },
  {
   "cell_type": "markdown",
   "metadata": {
    "slideshow": {
     "slide_type": "slide"
    }
   },
   "source": [
    "## Indexing a `pandas Series`\n"
   ]
  },
  {
   "cell_type": "code",
   "execution_count": 14,
   "metadata": {
    "slideshow": {
     "slide_type": "fragment"
    }
   },
   "outputs": [
    {
     "data": {
      "text/plain": [
       "Year\n",
       "1917    1681916\n",
       "1919    1902509\n",
       "1925    4024286\n",
       "1933    4242501\n",
       "1939    4338756\n",
       "1945    2807405\n",
       "1946    3170832\n",
       "1950    3336026\n",
       "1960    3274016\n",
       "1970    3208719\n",
       "1980    3048759\n",
       "1990    3433695\n",
       "2000    3382169\n",
       "2005    3394000\n",
       "2010    3460725\n",
       "2015    3520031\n",
       "Name: Population, dtype: int64"
      ]
     },
     "execution_count": 14,
     "metadata": {},
     "output_type": "execute_result"
    }
   ],
   "source": [
    "population.name = 'Population'\n",
    "population.index.name = 'Year'\n",
    "# note that the indices are strings\n",
    "population"
   ]
  },
  {
   "cell_type": "code",
   "execution_count": 15,
   "metadata": {
    "slideshow": {
     "slide_type": "slide"
    }
   },
   "outputs": [
    {
     "data": {
      "text/plain": [
       "1681916"
      ]
     },
     "execution_count": 15,
     "metadata": {},
     "output_type": "execute_result"
    }
   ],
   "source": [
    "population['1917']"
   ]
  },
  {
   "cell_type": "code",
   "execution_count": 16,
   "metadata": {
    "slideshow": {
     "slide_type": "fragment"
    }
   },
   "outputs": [
    {
     "data": {
      "text/plain": [
       "Year\n",
       "1917    1681916\n",
       "1925    4024286\n",
       "1945    2807405\n",
       "2010    3460725\n",
       "Name: Population, dtype: int64"
      ]
     },
     "execution_count": 16,
     "metadata": {},
     "output_type": "execute_result"
    }
   ],
   "source": [
    "population[['1917','1925','1945','2010']]"
   ]
  },
  {
   "cell_type": "code",
   "execution_count": 17,
   "metadata": {
    "slideshow": {
     "slide_type": "fragment"
    }
   },
   "outputs": [
    {
     "data": {
      "text/plain": [
       "Year\n",
       "1925    4024286\n",
       "1933    4242501\n",
       "1939    4338756\n",
       "1945    2807405\n",
       "1946    3170832\n",
       "1950    3336026\n",
       "Name: Population, dtype: int64"
      ]
     },
     "execution_count": 17,
     "metadata": {},
     "output_type": "execute_result"
    }
   ],
   "source": [
    "population['1925':'1950']"
   ]
  },
  {
   "cell_type": "code",
   "execution_count": 18,
   "metadata": {
    "slideshow": {
     "slide_type": "slide"
    }
   },
   "outputs": [
    {
     "data": {
      "text/plain": [
       "Year\n",
       "1917    False\n",
       "1919    False\n",
       "1925     True\n",
       "1933     True\n",
       "1939     True\n",
       "1945    False\n",
       "1946    False\n",
       "1950    False\n",
       "1960    False\n",
       "1970    False\n",
       "1980    False\n",
       "1990    False\n",
       "2000    False\n",
       "2005    False\n",
       "2010    False\n",
       "2015    False\n",
       "Name: Population, dtype: bool"
      ]
     },
     "execution_count": 18,
     "metadata": {},
     "output_type": "execute_result"
    }
   ],
   "source": [
    "population > 4e6"
   ]
  },
  {
   "cell_type": "code",
   "execution_count": 19,
   "metadata": {
    "slideshow": {
     "slide_type": "fragment"
    }
   },
   "outputs": [
    {
     "data": {
      "text/plain": [
       "Year\n",
       "1925    4024286\n",
       "1933    4242501\n",
       "1939    4338756\n",
       "Name: Population, dtype: int64"
      ]
     },
     "execution_count": 19,
     "metadata": {},
     "output_type": "execute_result"
    }
   ],
   "source": [
    "# filter Series by condition\n",
    "population[population > 4e6]"
   ]
  },
  {
   "cell_type": "code",
   "execution_count": 83,
   "metadata": {
    "slideshow": {
     "slide_type": "slide"
    }
   },
   "outputs": [
    {
     "data": {
      "text/plain": [
       "Year\n",
       "1917                   1681916\n",
       "1919                   1902509\n",
       "1925    more than four million\n",
       "1933    more than four million\n",
       "1939    more than four million\n",
       "1945                   2807405\n",
       "1946                   3170832\n",
       "1950                   3336026\n",
       "1960                   3274016\n",
       "1970                   3208719\n",
       "1980                   3048759\n",
       "1990                   3433695\n",
       "2000                   3382169\n",
       "2005                   3394000\n",
       "2010                   3460725\n",
       "2015                   3520031\n",
       "Name: Population, dtype: object"
      ]
     },
     "execution_count": 83,
     "metadata": {},
     "output_type": "execute_result"
    }
   ],
   "source": [
    "population_ = population.copy() # Series mutable; ohne copy verändern Sie das ursprüngliche Objekt \n",
    "population_[population_ > 4e6] = \"more than four million\"\n",
    "population_"
   ]
  },
  {
   "cell_type": "code",
   "execution_count": 21,
   "metadata": {
    "slideshow": {
     "slide_type": "slide"
    }
   },
   "outputs": [
    {
     "data": {
      "text/plain": [
       "Year\n",
       "1917    1681916\n",
       "Name: Population, dtype: int64"
      ]
     },
     "execution_count": 21,
     "metadata": {},
     "output_type": "execute_result"
    }
   ],
   "source": [
    "population[population==1681916]"
   ]
  },
  {
   "cell_type": "code",
   "execution_count": 22,
   "metadata": {
    "slideshow": {
     "slide_type": "fragment"
    }
   },
   "outputs": [
    {
     "data": {
      "text/plain": [
       "Year\n",
       "1917    1681916\n",
       "2010    3460725\n",
       "Name: Population, dtype: int64"
      ]
     },
     "execution_count": 22,
     "metadata": {},
     "output_type": "execute_result"
    }
   ],
   "source": [
    "# komplexere Bedingungen\n",
    "population[(population==1681916) | (population==3460725)]"
   ]
  },
  {
   "cell_type": "markdown",
   "metadata": {
    "slideshow": {
     "slide_type": "slide"
    }
   },
   "source": [
    "## Dictionary-like Zugriff"
   ]
  },
  {
   "cell_type": "code",
   "execution_count": 23,
   "metadata": {
    "slideshow": {
     "slide_type": "fragment"
    }
   },
   "outputs": [
    {
     "data": {
      "text/plain": [
       "a    0.5\n",
       "b    1.0\n",
       "c    1.5\n",
       "d    2.0\n",
       "dtype: float64"
      ]
     },
     "execution_count": 23,
     "metadata": {},
     "output_type": "execute_result"
    }
   ],
   "source": [
    "data = pd.Series([0.5, 1, 1.5, 2], index=['a', 'b', 'c', 'd'])\n",
    "data"
   ]
  },
  {
   "cell_type": "code",
   "execution_count": 24,
   "metadata": {
    "slideshow": {
     "slide_type": "fragment"
    }
   },
   "outputs": [
    {
     "data": {
      "text/plain": [
       "1.0"
      ]
     },
     "execution_count": 24,
     "metadata": {},
     "output_type": "execute_result"
    }
   ],
   "source": [
    "data['b']"
   ]
  },
  {
   "cell_type": "code",
   "execution_count": 25,
   "metadata": {
    "slideshow": {
     "slide_type": "fragment"
    }
   },
   "outputs": [
    {
     "data": {
      "text/plain": [
       "True"
      ]
     },
     "execution_count": 25,
     "metadata": {},
     "output_type": "execute_result"
    }
   ],
   "source": [
    "'a' in data"
   ]
  },
  {
   "cell_type": "code",
   "execution_count": 26,
   "metadata": {
    "slideshow": {
     "slide_type": "slide"
    }
   },
   "outputs": [
    {
     "data": {
      "text/plain": [
       "Index(['a', 'b', 'c', 'd'], dtype='object')"
      ]
     },
     "execution_count": 26,
     "metadata": {},
     "output_type": "execute_result"
    }
   ],
   "source": [
    "data.keys()"
   ]
  },
  {
   "cell_type": "code",
   "execution_count": 27,
   "metadata": {
    "slideshow": {
     "slide_type": "fragment"
    }
   },
   "outputs": [
    {
     "data": {
      "text/plain": [
       "[('a', 0.5), ('b', 1.0), ('c', 1.5), ('d', 2.0)]"
      ]
     },
     "execution_count": 27,
     "metadata": {},
     "output_type": "execute_result"
    }
   ],
   "source": [
    "list(data.items())"
   ]
  },
  {
   "cell_type": "code",
   "execution_count": 28,
   "metadata": {
    "slideshow": {
     "slide_type": "fragment"
    }
   },
   "outputs": [
    {
     "data": {
      "text/plain": [
       "a    0.50\n",
       "b    1.00\n",
       "c    1.50\n",
       "d    2.00\n",
       "e    1.25\n",
       "dtype: float64"
      ]
     },
     "execution_count": 28,
     "metadata": {},
     "output_type": "execute_result"
    }
   ],
   "source": [
    "data['e'] = 1.25\n",
    "data"
   ]
  },
  {
   "cell_type": "markdown",
   "metadata": {
    "slideshow": {
     "slide_type": "slide"
    }
   },
   "source": [
    "## Array-like Zugriff"
   ]
  },
  {
   "cell_type": "code",
   "execution_count": 29,
   "metadata": {
    "slideshow": {
     "slide_type": "fragment"
    }
   },
   "outputs": [
    {
     "data": {
      "text/plain": [
       "a    0.5\n",
       "b    1.0\n",
       "c    1.5\n",
       "dtype: float64"
      ]
     },
     "execution_count": 29,
     "metadata": {},
     "output_type": "execute_result"
    }
   ],
   "source": [
    "# slicing by explicit index\n",
    "data['a':'c']"
   ]
  },
  {
   "cell_type": "code",
   "execution_count": 30,
   "metadata": {
    "slideshow": {
     "slide_type": "fragment"
    }
   },
   "outputs": [
    {
     "data": {
      "text/plain": [
       "a    0.5\n",
       "b    1.0\n",
       "dtype: float64"
      ]
     },
     "execution_count": 30,
     "metadata": {},
     "output_type": "execute_result"
    }
   ],
   "source": [
    "# slicing by implicit integer index\n",
    "data[0:2]"
   ]
  },
  {
   "cell_type": "code",
   "execution_count": 31,
   "metadata": {
    "slideshow": {
     "slide_type": "fragment"
    }
   },
   "outputs": [
    {
     "data": {
      "text/plain": [
       "a    0.50\n",
       "e    1.25\n",
       "dtype: float64"
      ]
     },
     "execution_count": 31,
     "metadata": {},
     "output_type": "execute_result"
    }
   ],
   "source": [
    "# fancy indexing\n",
    "data[['a', 'e']]"
   ]
  },
  {
   "cell_type": "markdown",
   "metadata": {
    "slideshow": {
     "slide_type": "slide"
    }
   },
   "source": [
    "## Explicit and Positional Indexing\n",
    "\n",
    "- Pandas Objekte können auf unterschiedliche Art indexiert werden: \n",
    " - explicit indices: was man selbst als Index definiert\n",
    " - positional index: die row number\n",
    "- Auf einzelne Zeilen (und in DataFrames später auch auf Spalten) kann man wieder mit dem [] Operator zugreifen\n",
    "- Allerdings nicht immer klar, welche Art von Indexing wann benutzt wird\n",
    "- Empfehlung: explizit die Art des Zugriffs spezifizieren: ``loc`` (explicit indexing) or ``iloc`` (positional indexing)"
   ]
  },
  {
   "cell_type": "code",
   "execution_count": 32,
   "metadata": {
    "slideshow": {
     "slide_type": "fragment"
    }
   },
   "outputs": [
    {
     "data": {
      "text/plain": [
       "1    a\n",
       "3    b\n",
       "5    c\n",
       "dtype: object"
      ]
     },
     "execution_count": 32,
     "metadata": {},
     "output_type": "execute_result"
    }
   ],
   "source": [
    "data = pd.Series(['a', 'b', 'c'], index=[1, 3, 5])\n",
    "data"
   ]
  },
  {
   "cell_type": "code",
   "execution_count": 33,
   "metadata": {
    "slideshow": {
     "slide_type": "slide"
    }
   },
   "outputs": [
    {
     "data": {
      "text/plain": [
       "'a'"
      ]
     },
     "execution_count": 33,
     "metadata": {},
     "output_type": "execute_result"
    }
   ],
   "source": [
    "data[1]"
   ]
  },
  {
   "cell_type": "code",
   "execution_count": 34,
   "metadata": {
    "slideshow": {
     "slide_type": "fragment"
    }
   },
   "outputs": [
    {
     "data": {
      "text/plain": [
       "1    a\n",
       "3    b\n",
       "dtype: object"
      ]
     },
     "execution_count": 34,
     "metadata": {},
     "output_type": "execute_result"
    }
   ],
   "source": [
    "# explicit index for more rows\n",
    "data[[1,3]]"
   ]
  },
  {
   "cell_type": "code",
   "execution_count": 35,
   "metadata": {
    "slideshow": {
     "slide_type": "fragment"
    }
   },
   "outputs": [
    {
     "data": {
      "text/plain": [
       "3    b\n",
       "5    c\n",
       "dtype: object"
      ]
     },
     "execution_count": 35,
     "metadata": {},
     "output_type": "execute_result"
    }
   ],
   "source": [
    "# positional index for slicing\n",
    "data[1:3]"
   ]
  },
  {
   "cell_type": "code",
   "execution_count": 36,
   "metadata": {
    "slideshow": {
     "slide_type": "fragment"
    }
   },
   "outputs": [
    {
     "data": {
      "text/plain": [
       "'a'"
      ]
     },
     "execution_count": 36,
     "metadata": {},
     "output_type": "execute_result"
    }
   ],
   "source": [
    "# positional index when actual index is not integer valued\n",
    "data[1]"
   ]
  },
  {
   "cell_type": "markdown",
   "metadata": {
    "slideshow": {
     "slide_type": "slide"
    }
   },
   "source": [
    "### Explicit Indexing with ``loc``"
   ]
  },
  {
   "cell_type": "code",
   "execution_count": 37,
   "metadata": {
    "slideshow": {
     "slide_type": "fragment"
    }
   },
   "outputs": [
    {
     "data": {
      "text/plain": [
       "'a'"
      ]
     },
     "execution_count": 37,
     "metadata": {},
     "output_type": "execute_result"
    }
   ],
   "source": [
    "data = pd.Series(['a', 'b', 'c'], index=[1, 3, 5])\n",
    "data.loc[1]"
   ]
  },
  {
   "cell_type": "code",
   "execution_count": 38,
   "metadata": {
    "slideshow": {
     "slide_type": "fragment"
    }
   },
   "outputs": [
    {
     "data": {
      "text/plain": [
       "1    a\n",
       "3    b\n",
       "dtype: object"
      ]
     },
     "execution_count": 38,
     "metadata": {},
     "output_type": "execute_result"
    }
   ],
   "source": [
    "#  loc for explicit indexing\n",
    "data.loc[1:3]"
   ]
  },
  {
   "cell_type": "markdown",
   "metadata": {
    "slideshow": {
     "slide_type": "slide"
    }
   },
   "source": [
    "### Positional Indexing with ``iloc``"
   ]
  },
  {
   "cell_type": "code",
   "execution_count": 39,
   "metadata": {
    "slideshow": {
     "slide_type": "fragment"
    }
   },
   "outputs": [
    {
     "data": {
      "text/plain": [
       "'b'"
      ]
     },
     "execution_count": 39,
     "metadata": {},
     "output_type": "execute_result"
    }
   ],
   "source": [
    "data = pd.Series(['a', 'b', 'c'], index=[1, 3, 5])\n",
    "data.iloc[1]"
   ]
  },
  {
   "cell_type": "code",
   "execution_count": 40,
   "metadata": {
    "slideshow": {
     "slide_type": "fragment"
    }
   },
   "outputs": [
    {
     "data": {
      "text/plain": [
       "3    b\n",
       "5    c\n",
       "dtype: object"
      ]
     },
     "execution_count": 40,
     "metadata": {},
     "output_type": "execute_result"
    }
   ],
   "source": [
    "data.iloc[1:3]"
   ]
  },
  {
   "cell_type": "markdown",
   "metadata": {
    "slideshow": {
     "slide_type": "slide"
    }
   },
   "source": [
    "## Methoden auf `pandas Series`\n",
    "\n",
    "- Effiziente arithmetische Operationen und Aggregationen\n",
    "- Geben in der Regel das neue Objekt zurück und verändern nicht (dafür Parameter `inplace=True`)"
   ]
  },
  {
   "cell_type": "code",
   "execution_count": 41,
   "metadata": {
    "slideshow": {
     "slide_type": "fragment"
    }
   },
   "outputs": [
    {
     "data": {
      "text/plain": [
       "Year\n",
       "1917    1.681916\n",
       "1919    1.902509\n",
       "1925    4.024286\n",
       "1933    4.242501\n",
       "1939    4.338756\n",
       "1945    2.807405\n",
       "1946    3.170832\n",
       "1950    3.336026\n",
       "1960    3.274016\n",
       "1970    3.208719\n",
       "1980    3.048759\n",
       "1990    3.433695\n",
       "2000    3.382169\n",
       "2005    3.394000\n",
       "2010    3.460725\n",
       "2015    3.520031\n",
       "Name: Population, dtype: float64"
      ]
     },
     "execution_count": 41,
     "metadata": {},
     "output_type": "execute_result"
    }
   ],
   "source": [
    "population_in_millions = population / 1e6\n",
    "population_in_millions"
   ]
  },
  {
   "cell_type": "code",
   "execution_count": 42,
   "metadata": {
    "slideshow": {
     "slide_type": "slide"
    }
   },
   "outputs": [
    {
     "data": {
      "text/plain": [
       "4.338756    1\n",
       "3.433695    1\n",
       "3.170832    1\n",
       "3.520031    1\n",
       "3.208719    1\n",
       "4.242501    1\n",
       "3.048759    1\n",
       "3.274016    1\n",
       "1.681916    1\n",
       "3.382169    1\n",
       "2.807405    1\n",
       "3.460725    1\n",
       "4.024286    1\n",
       "3.394000    1\n",
       "1.902509    1\n",
       "3.336026    1\n",
       "Name: Population, dtype: int64"
      ]
     },
     "execution_count": 42,
     "metadata": {},
     "output_type": "execute_result"
    }
   ],
   "source": [
    "# histograms: welcher Wert kommt wie häufig vor\n",
    "population_in_millions.value_counts()"
   ]
  },
  {
   "cell_type": "code",
   "execution_count": 43,
   "metadata": {
    "slideshow": {
     "slide_type": "slide"
    }
   },
   "outputs": [
    {
     "data": {
      "text/plain": [
       "Year\n",
       "1917    1681916\n",
       "1919    1902509\n",
       "1945    2807405\n",
       "1980    3048759\n",
       "1946    3170832\n",
       "1970    3208719\n",
       "1960    3274016\n",
       "1950    3336026\n",
       "2000    3382169\n",
       "2005    3394000\n",
       "1990    3433695\n",
       "2010    3460725\n",
       "2015    3520031\n",
       "1925    4024286\n",
       "1933    4242501\n",
       "1939    4338756\n",
       "Name: Population, dtype: int64"
      ]
     },
     "execution_count": 43,
     "metadata": {},
     "output_type": "execute_result"
    }
   ],
   "source": [
    "# sorting \n",
    "population.sort_values()"
   ]
  },
  {
   "cell_type": "code",
   "execution_count": 44,
   "metadata": {
    "slideshow": {
     "slide_type": "fragment"
    }
   },
   "outputs": [],
   "source": [
    "# for sorting inplace do below\n",
    "# population.sort_values(inplace_True)"
   ]
  },
  {
   "cell_type": "code",
   "execution_count": 45,
   "metadata": {
    "slideshow": {
     "slide_type": "slide"
    }
   },
   "outputs": [
    {
     "data": {
      "text/plain": [
       "16"
      ]
     },
     "execution_count": 45,
     "metadata": {},
     "output_type": "execute_result"
    }
   ],
   "source": [
    "# the good old len still available\n",
    "len(population)"
   ]
  },
  {
   "cell_type": "code",
   "execution_count": 46,
   "metadata": {
    "slideshow": {
     "slide_type": "fragment"
    }
   },
   "outputs": [
    {
     "data": {
      "text/plain": [
       "count    1.600000e+01\n",
       "mean     3.264147e+06\n",
       "std      7.063045e+05\n",
       "min      1.681916e+06\n",
       "25%      3.140314e+06\n",
       "50%      3.359098e+06\n",
       "75%      3.475552e+06\n",
       "max      4.338756e+06\n",
       "Name: Population, dtype: float64"
      ]
     },
     "execution_count": 46,
     "metadata": {},
     "output_type": "execute_result"
    }
   ],
   "source": [
    "# basic stats\n",
    "population.describe()"
   ]
  },
  {
   "cell_type": "markdown",
   "metadata": {
    "slideshow": {
     "slide_type": "slide"
    }
   },
   "source": [
    "## Applying arbitrary functions"
   ]
  },
  {
   "cell_type": "code",
   "execution_count": 47,
   "metadata": {
    "slideshow": {
     "slide_type": "slide"
    }
   },
   "outputs": [
    {
     "data": {
      "text/plain": [
       "35"
      ]
     },
     "execution_count": 47,
     "metadata": {},
     "output_type": "execute_result"
    }
   ],
   "source": [
    "def int_divide_by_million(v):\n",
    "    \"\"\"Divides number by a million and returns its integer representation\"\"\"\n",
    "    return int(v / 1e6)\n",
    "\n",
    "int_divide_by_million(35 * 1e6)"
   ]
  },
  {
   "cell_type": "code",
   "execution_count": 48,
   "metadata": {
    "slideshow": {
     "slide_type": "slide"
    }
   },
   "outputs": [
    {
     "data": {
      "text/plain": [
       "Year\n",
       "1917    1\n",
       "1919    1\n",
       "1925    4\n",
       "1933    4\n",
       "1939    4\n",
       "1945    2\n",
       "1946    3\n",
       "1950    3\n",
       "1960    3\n",
       "1970    3\n",
       "1980    3\n",
       "1990    3\n",
       "2000    3\n",
       "2005    3\n",
       "2010    3\n",
       "2015    3\n",
       "Name: Population, dtype: int64"
      ]
     },
     "execution_count": 48,
     "metadata": {},
     "output_type": "execute_result"
    }
   ],
   "source": [
    "population.map(int_divide_by_million)"
   ]
  },
  {
   "cell_type": "markdown",
   "metadata": {
    "slideshow": {
     "slide_type": "slide"
    }
   },
   "source": [
    "### Vorteile von `map` (oder `apply`)\n",
    "\n",
    "* Geschwindigkeit\n",
    "* Lässt sich parallelisieren\n",
    "* Code klarer und modularer"
   ]
  },
  {
   "cell_type": "markdown",
   "metadata": {
    "slideshow": {
     "slide_type": "slide"
    }
   },
   "source": [
    "# `pandas DataFrame`\n",
    "\n",
    "Denk an relationale Tabelle"
   ]
  },
  {
   "cell_type": "markdown",
   "metadata": {
    "slideshow": {
     "slide_type": "slide"
    }
   },
   "source": [
    "## Generating `pandas DataFrame`"
   ]
  },
  {
   "cell_type": "code",
   "execution_count": 50,
   "metadata": {
    "slideshow": {
     "slide_type": "slide"
    }
   },
   "outputs": [],
   "source": [
    "import numpy as np"
   ]
  },
  {
   "cell_type": "code",
   "execution_count": 51,
   "metadata": {
    "slideshow": {
     "slide_type": "fragment"
    }
   },
   "outputs": [
    {
     "data": {
      "text/plain": [
       "array([[0, 1, 2],\n",
       "       [3, 4, 5],\n",
       "       [6, 7, 8]])"
      ]
     },
     "execution_count": 51,
     "metadata": {},
     "output_type": "execute_result"
    }
   ],
   "source": [
    "some_numpy_array = np.arange(9).reshape((3, 3))\n",
    "some_numpy_array"
   ]
  },
  {
   "cell_type": "code",
   "execution_count": 52,
   "metadata": {
    "slideshow": {
     "slide_type": "fragment"
    }
   },
   "outputs": [
    {
     "data": {
      "text/html": [
       "<div>\n",
       "<style scoped>\n",
       "    .dataframe tbody tr th:only-of-type {\n",
       "        vertical-align: middle;\n",
       "    }\n",
       "\n",
       "    .dataframe tbody tr th {\n",
       "        vertical-align: top;\n",
       "    }\n",
       "\n",
       "    .dataframe thead th {\n",
       "        text-align: right;\n",
       "    }\n",
       "</style>\n",
       "<table border=\"1\" class=\"dataframe\">\n",
       "  <thead>\n",
       "    <tr style=\"text-align: right;\">\n",
       "      <th></th>\n",
       "      <th>Ohio</th>\n",
       "      <th>Texas</th>\n",
       "      <th>California</th>\n",
       "    </tr>\n",
       "  </thead>\n",
       "  <tbody>\n",
       "    <tr>\n",
       "      <th>a</th>\n",
       "      <td>0</td>\n",
       "      <td>1</td>\n",
       "      <td>2</td>\n",
       "    </tr>\n",
       "    <tr>\n",
       "      <th>c</th>\n",
       "      <td>3</td>\n",
       "      <td>4</td>\n",
       "      <td>5</td>\n",
       "    </tr>\n",
       "    <tr>\n",
       "      <th>d</th>\n",
       "      <td>6</td>\n",
       "      <td>7</td>\n",
       "      <td>8</td>\n",
       "    </tr>\n",
       "  </tbody>\n",
       "</table>\n",
       "</div>"
      ],
      "text/plain": [
       "   Ohio  Texas  California\n",
       "a     0      1           2\n",
       "c     3      4           5\n",
       "d     6      7           8"
      ]
     },
     "execution_count": 52,
     "metadata": {},
     "output_type": "execute_result"
    }
   ],
   "source": [
    "df = pd.DataFrame(some_numpy_array,\n",
    "                  index=['a', 'c', 'd'],\n",
    "                  columns=['Ohio', 'Texas', 'California'])\n",
    "df"
   ]
  },
  {
   "cell_type": "markdown",
   "metadata": {
    "slideshow": {
     "slide_type": "slide"
    }
   },
   "source": [
    "### Constructors\n",
    "\n",
    "|Type | Notes|\n",
    "|-----|------|\n",
    "|2D ndarray|A matrix of data, passing optional row and column labels|\n",
    "|dict of arrays, lists, or tuples|Each sequence becomes a column in the DataFrame; all sequences must be the same length|\n",
    "|NumPy structured/record array|Treated as the “dict of arrays” case\n",
    "|dict of Series|Each value becomes a column|\n",
    "|dict of dicts|Each inner dict becomes a column|\n",
    "|List of dicts or Series|Each item becomes a row in the DataFrame|\n",
    "|List of lists or tuples|Treated as the “2D ndarray” case|\n",
    "|Another DataFrame|The DataFrame’s indexes are used unless different ones are passed|\n",
    "|NumPy MaskedArray|Like the “2D ndarray” case except masked values become NA/missing in the DataFrame result|\n",
    "\n"
   ]
  },
  {
   "cell_type": "markdown",
   "metadata": {
    "slideshow": {
     "slide_type": "slide"
    }
   },
   "source": [
    "### `DataFrame` from a csv file\n",
    "\n",
    "kommt sehr oft vor"
   ]
  },
  {
   "cell_type": "code",
   "execution_count": 53,
   "metadata": {
    "slideshow": {
     "slide_type": "fragment"
    }
   },
   "outputs": [],
   "source": [
    "import os\n",
    "file_path = os.path.join(\"data\",\"berlin_population.csv\")"
   ]
  },
  {
   "cell_type": "code",
   "execution_count": 54,
   "metadata": {
    "slideshow": {
     "slide_type": "fragment"
    }
   },
   "outputs": [],
   "source": [
    "berlin_population = pd.read_csv(file_path)"
   ]
  },
  {
   "cell_type": "code",
   "execution_count": 55,
   "metadata": {},
   "outputs": [
    {
     "data": {
      "text/html": [
       "<div>\n",
       "<style scoped>\n",
       "    .dataframe tbody tr th:only-of-type {\n",
       "        vertical-align: middle;\n",
       "    }\n",
       "\n",
       "    .dataframe tbody tr th {\n",
       "        vertical-align: top;\n",
       "    }\n",
       "\n",
       "    .dataframe thead th {\n",
       "        text-align: right;\n",
       "    }\n",
       "</style>\n",
       "<table border=\"1\" class=\"dataframe\">\n",
       "  <thead>\n",
       "    <tr style=\"text-align: right;\">\n",
       "      <th></th>\n",
       "      <th>Borough</th>\n",
       "      <th>Population 30 September 2010</th>\n",
       "      <th>Area in km²</th>\n",
       "      <th>Largest Non-German ethnic groups</th>\n",
       "    </tr>\n",
       "  </thead>\n",
       "  <tbody>\n",
       "    <tr>\n",
       "      <th>0</th>\n",
       "      <td>Mitte</td>\n",
       "      <td>332100</td>\n",
       "      <td>39.47</td>\n",
       "      <td>Turks, Arabs, Kurds, many Asians, Africans and...</td>\n",
       "    </tr>\n",
       "    <tr>\n",
       "      <th>1</th>\n",
       "      <td>Friedrichshain-Kreuzberg</td>\n",
       "      <td>268831</td>\n",
       "      <td>20.16</td>\n",
       "      <td>Turks, Arabs, African, Kurds, Chinese</td>\n",
       "    </tr>\n",
       "    <tr>\n",
       "      <th>2</th>\n",
       "      <td>Pankow</td>\n",
       "      <td>368956</td>\n",
       "      <td>103.01</td>\n",
       "      <td>Poles, Italians, French, Americans, Vietnamese...</td>\n",
       "    </tr>\n",
       "    <tr>\n",
       "      <th>3</th>\n",
       "      <td>Charlottenburg-Wilmersdorf</td>\n",
       "      <td>320014</td>\n",
       "      <td>64.72</td>\n",
       "      <td>Turks, Africans, Russians, Arabs, others.</td>\n",
       "    </tr>\n",
       "    <tr>\n",
       "      <th>4</th>\n",
       "      <td>Spandau</td>\n",
       "      <td>225420</td>\n",
       "      <td>91.91</td>\n",
       "      <td>Turks, Africans, Russians, Arabs, others.</td>\n",
       "    </tr>\n",
       "  </tbody>\n",
       "</table>\n",
       "</div>"
      ],
      "text/plain": [
       "                      Borough  Population 30 September 2010  Area in km²  \\\n",
       "0                       Mitte                        332100        39.47   \n",
       "1    Friedrichshain-Kreuzberg                        268831        20.16   \n",
       "2                      Pankow                        368956       103.01   \n",
       "3  Charlottenburg-Wilmersdorf                        320014        64.72   \n",
       "4                     Spandau                        225420        91.91   \n",
       "\n",
       "                    Largest Non-German ethnic groups  \n",
       "0  Turks, Arabs, Kurds, many Asians, Africans and...  \n",
       "1              Turks, Arabs, African, Kurds, Chinese  \n",
       "2  Poles, Italians, French, Americans, Vietnamese...  \n",
       "3          Turks, Africans, Russians, Arabs, others.  \n",
       "4          Turks, Africans, Russians, Arabs, others.  "
      ]
     },
     "execution_count": 55,
     "metadata": {},
     "output_type": "execute_result"
    }
   ],
   "source": [
    "berlin_population.head()"
   ]
  },
  {
   "cell_type": "markdown",
   "metadata": {
    "slideshow": {
     "slide_type": "slide"
    }
   },
   "source": [
    "### `pandas DataFrame` IO \n",
    "\n",
    "'<table border=\"1\" class=\"dataframe\">  <thead>    <tr style=\"text-align: right;\">      <th>Format Type</th>      <th>Data Description</th>      <th>Reader</th>      <th>Writer</th>    </tr>  </thead>  <tbody>    <tr>      <td>text</td>      <td>CSV</td>      <td>read_csv</td>      <td>to_csv</td>    </tr>    <tr>      <td>text</td>      <td>JSON</td>      <td>read_json</td>      <td>to_json</td>    </tr>    <tr>      <td>text</td>      <td>HTML</td>      <td>read_html</td>      <td>to_html</td>    </tr>    <tr>      <td>text</td>      <td>Local clipboard</td>      <td>read_clipboard</td>      <td>to_clipboard</td>    </tr>    <tr>      <td>binary</td>      <td>MS Excel</td>      <td>read_excel</td>      <td>to_excel</td>    </tr>    <tr>      <td>binary</td>      <td>HDF5 Format</td>      <td>read_hdf</td>      <td>to_hdf</td>    </tr>    <tr>      <td>binary</td>      <td>Feather Format</td>      <td>read_feather</td>      <td>to_feather</td>    </tr>    <tr>      <td>binary</td>      <td>Parquet Format</td>      <td>read_parquet</td>      <td>to_parquet</td>    </tr>    <tr>      <td>binary</td>      <td>Msgpack</td>      <td>read_msgpack</td>      <td>to_msgpack</td>    </tr>    <tr>      <td>binary</td>      <td>Stata</td>      <td>read_stata</td>      <td>to_stata</td>    </tr>    <tr>      <td>binary</td>      <td>SAS</td>      <td>read_sas</td>      <td></td>    </tr>    <tr>      <td>binary</td>      <td>Python Pickle Format</td>      <td>read_pickle</td>      <td>to_pickle</td>    </tr>    <tr>      <td>SQL</td>      <td>SQL</td>      <td>read_sql</td>      <td>to_sql</td>    </tr>    <tr>      <td>SQL</td>      <td>Google Big Query</td>      <td>read_gbq</td>      <td>to_gbq</td>    </tr>  </tbody></table>'"
   ]
  },
  {
   "cell_type": "markdown",
   "metadata": {
    "slideshow": {
     "slide_type": "slide"
    }
   },
   "source": [
    "## Accessing values in `pandas DataFrame`\n"
   ]
  },
  {
   "cell_type": "code",
   "execution_count": 56,
   "metadata": {
    "slideshow": {
     "slide_type": "slide"
    }
   },
   "outputs": [],
   "source": [
    "# some data\n",
    "berlin_population_by_borough = {\n",
    "  'Area in km²': {\n",
    "    'Charlottenburg-Wilmersdorf': 64.72,\n",
    "    'Friedrichshain-Kreuzberg': 20.16,\n",
    "    'Lichtenberg': 52.29,\n",
    "    'Marzahn-Hellersdorf': 61.74,\n",
    "    'Mitte': 39.47,\n",
    "    'Neukölln': 44.93,\n",
    "    'Pankow': 103.01,\n",
    "    'Spandau': 91.91,\n",
    "    'Steglitz-Zehlendorf': 102.5,\n",
    "    'Tempelhof-Schöneberg': 53.09,\n",
    "    'Treptow-Köpenick': 168.42},\n",
    " 'Population 30 September 2010': {\n",
    "    'Charlottenburg-Wilmersdorf': 320014,\n",
    "    'Friedrichshain-Kreuzberg': 268831,\n",
    "    'Lichtenberg': 259881,\n",
    "    'Marzahn-Hellersdorf': 248264,\n",
    "    'Mitte': 332100,\n",
    "    'Neukölln': 310283,\n",
    "    'Pankow': 368956,\n",
    "    'Spandau': 225420,\n",
    "    'Steglitz-Zehlendorf': 293989,\n",
    "    'Tempelhof-Schöneberg': 335060,\n",
    "    'Treptow-Köpenick': 241335}}\n"
   ]
  },
  {
   "cell_type": "code",
   "execution_count": 57,
   "metadata": {
    "slideshow": {
     "slide_type": "slide"
    }
   },
   "outputs": [
    {
     "data": {
      "text/html": [
       "<div>\n",
       "<style scoped>\n",
       "    .dataframe tbody tr th:only-of-type {\n",
       "        vertical-align: middle;\n",
       "    }\n",
       "\n",
       "    .dataframe tbody tr th {\n",
       "        vertical-align: top;\n",
       "    }\n",
       "\n",
       "    .dataframe thead th {\n",
       "        text-align: right;\n",
       "    }\n",
       "</style>\n",
       "<table border=\"1\" class=\"dataframe\">\n",
       "  <thead>\n",
       "    <tr style=\"text-align: right;\">\n",
       "      <th></th>\n",
       "      <th>Area in km²</th>\n",
       "      <th>Population 30 September 2010</th>\n",
       "    </tr>\n",
       "  </thead>\n",
       "  <tbody>\n",
       "    <tr>\n",
       "      <th>Charlottenburg-Wilmersdorf</th>\n",
       "      <td>64.72</td>\n",
       "      <td>320014</td>\n",
       "    </tr>\n",
       "    <tr>\n",
       "      <th>Friedrichshain-Kreuzberg</th>\n",
       "      <td>20.16</td>\n",
       "      <td>268831</td>\n",
       "    </tr>\n",
       "    <tr>\n",
       "      <th>Lichtenberg</th>\n",
       "      <td>52.29</td>\n",
       "      <td>259881</td>\n",
       "    </tr>\n",
       "    <tr>\n",
       "      <th>Marzahn-Hellersdorf</th>\n",
       "      <td>61.74</td>\n",
       "      <td>248264</td>\n",
       "    </tr>\n",
       "    <tr>\n",
       "      <th>Mitte</th>\n",
       "      <td>39.47</td>\n",
       "      <td>332100</td>\n",
       "    </tr>\n",
       "    <tr>\n",
       "      <th>Neukölln</th>\n",
       "      <td>44.93</td>\n",
       "      <td>310283</td>\n",
       "    </tr>\n",
       "    <tr>\n",
       "      <th>Pankow</th>\n",
       "      <td>103.01</td>\n",
       "      <td>368956</td>\n",
       "    </tr>\n",
       "    <tr>\n",
       "      <th>Spandau</th>\n",
       "      <td>91.91</td>\n",
       "      <td>225420</td>\n",
       "    </tr>\n",
       "    <tr>\n",
       "      <th>Steglitz-Zehlendorf</th>\n",
       "      <td>102.50</td>\n",
       "      <td>293989</td>\n",
       "    </tr>\n",
       "    <tr>\n",
       "      <th>Tempelhof-Schöneberg</th>\n",
       "      <td>53.09</td>\n",
       "      <td>335060</td>\n",
       "    </tr>\n",
       "    <tr>\n",
       "      <th>Treptow-Köpenick</th>\n",
       "      <td>168.42</td>\n",
       "      <td>241335</td>\n",
       "    </tr>\n",
       "  </tbody>\n",
       "</table>\n",
       "</div>"
      ],
      "text/plain": [
       "                            Area in km²  Population 30 September 2010\n",
       "Charlottenburg-Wilmersdorf        64.72                        320014\n",
       "Friedrichshain-Kreuzberg          20.16                        268831\n",
       "Lichtenberg                       52.29                        259881\n",
       "Marzahn-Hellersdorf               61.74                        248264\n",
       "Mitte                             39.47                        332100\n",
       "Neukölln                          44.93                        310283\n",
       "Pankow                           103.01                        368956\n",
       "Spandau                           91.91                        225420\n",
       "Steglitz-Zehlendorf              102.50                        293989\n",
       "Tempelhof-Schöneberg              53.09                        335060\n",
       "Treptow-Köpenick                 168.42                        241335"
      ]
     },
     "execution_count": 57,
     "metadata": {},
     "output_type": "execute_result"
    }
   ],
   "source": [
    "# a DataFrame from a dictionary of dictionaries\n",
    "df = pd.DataFrame(berlin_population_by_borough)\n",
    "df"
   ]
  },
  {
   "cell_type": "code",
   "execution_count": 58,
   "metadata": {
    "slideshow": {
     "slide_type": "slide"
    }
   },
   "outputs": [
    {
     "data": {
      "text/plain": [
       "Index(['Charlottenburg-Wilmersdorf', 'Friedrichshain-Kreuzberg', 'Lichtenberg',\n",
       "       'Marzahn-Hellersdorf', 'Mitte', 'Neukölln', 'Pankow', 'Spandau',\n",
       "       'Steglitz-Zehlendorf', 'Tempelhof-Schöneberg', 'Treptow-Köpenick'],\n",
       "      dtype='object')"
      ]
     },
     "execution_count": 58,
     "metadata": {},
     "output_type": "execute_result"
    }
   ],
   "source": [
    "# like Series (and tables in DBs) DataFrames have indices\n",
    "df.index"
   ]
  },
  {
   "cell_type": "code",
   "execution_count": 59,
   "metadata": {
    "slideshow": {
     "slide_type": "fragment"
    }
   },
   "outputs": [
    {
     "data": {
      "text/plain": [
       "20.16"
      ]
     },
     "execution_count": 59,
     "metadata": {},
     "output_type": "execute_result"
    }
   ],
   "source": [
    "# Accessing by row and column index\n",
    "df.loc['Friedrichshain-Kreuzberg','Area in km²']"
   ]
  },
  {
   "cell_type": "code",
   "execution_count": 60,
   "metadata": {
    "slideshow": {
     "slide_type": "slide"
    }
   },
   "outputs": [
    {
     "data": {
      "text/plain": [
       "Charlottenburg-Wilmersdorf     64.72\n",
       "Friedrichshain-Kreuzberg       20.16\n",
       "Lichtenberg                    52.29\n",
       "Marzahn-Hellersdorf            61.74\n",
       "Mitte                          39.47\n",
       "Neukölln                       44.93\n",
       "Pankow                        103.01\n",
       "Spandau                        91.91\n",
       "Steglitz-Zehlendorf           102.50\n",
       "Tempelhof-Schöneberg           53.09\n",
       "Treptow-Köpenick              168.42\n",
       "Name: Area in km², dtype: float64"
      ]
     },
     "execution_count": 60,
     "metadata": {},
     "output_type": "execute_result"
    }
   ],
   "source": [
    "# Accessing an entire column\n",
    "df.loc[:,'Area in km²']"
   ]
  },
  {
   "cell_type": "code",
   "execution_count": 61,
   "metadata": {
    "slideshow": {
     "slide_type": "slide"
    }
   },
   "outputs": [
    {
     "data": {
      "text/plain": [
       "Charlottenburg-Wilmersdorf     64.72\n",
       "Friedrichshain-Kreuzberg       20.16\n",
       "Lichtenberg                    52.29\n",
       "Marzahn-Hellersdorf            61.74\n",
       "Mitte                          39.47\n",
       "Neukölln                       44.93\n",
       "Pankow                        103.01\n",
       "Spandau                        91.91\n",
       "Steglitz-Zehlendorf           102.50\n",
       "Tempelhof-Schöneberg           53.09\n",
       "Treptow-Köpenick              168.42\n",
       "Name: Area in km², dtype: float64"
      ]
     },
     "execution_count": 61,
     "metadata": {},
     "output_type": "execute_result"
    }
   ],
   "source": [
    "# Accessing an entire column\n",
    "df['Area in km²']"
   ]
  },
  {
   "cell_type": "code",
   "execution_count": 62,
   "metadata": {
    "slideshow": {
     "slide_type": "slide"
    }
   },
   "outputs": [
    {
     "data": {
      "text/plain": [
       "['Friedrichshain-Kreuzberg', 'Lichtenberg', 'Tempelhof-Schöneberg']"
      ]
     },
     "execution_count": 62,
     "metadata": {},
     "output_type": "execute_result"
    }
   ],
   "source": [
    "[b for b in df.index if 'berg' in b.lower()]"
   ]
  },
  {
   "cell_type": "code",
   "execution_count": 63,
   "metadata": {
    "slideshow": {
     "slide_type": "fragment"
    }
   },
   "outputs": [
    {
     "data": {
      "text/html": [
       "<div>\n",
       "<style scoped>\n",
       "    .dataframe tbody tr th:only-of-type {\n",
       "        vertical-align: middle;\n",
       "    }\n",
       "\n",
       "    .dataframe tbody tr th {\n",
       "        vertical-align: top;\n",
       "    }\n",
       "\n",
       "    .dataframe thead th {\n",
       "        text-align: right;\n",
       "    }\n",
       "</style>\n",
       "<table border=\"1\" class=\"dataframe\">\n",
       "  <thead>\n",
       "    <tr style=\"text-align: right;\">\n",
       "      <th></th>\n",
       "      <th>Area in km²</th>\n",
       "      <th>Population 30 September 2010</th>\n",
       "    </tr>\n",
       "  </thead>\n",
       "  <tbody>\n",
       "    <tr>\n",
       "      <th>Friedrichshain-Kreuzberg</th>\n",
       "      <td>20.16</td>\n",
       "      <td>268831</td>\n",
       "    </tr>\n",
       "    <tr>\n",
       "      <th>Lichtenberg</th>\n",
       "      <td>52.29</td>\n",
       "      <td>259881</td>\n",
       "    </tr>\n",
       "    <tr>\n",
       "      <th>Tempelhof-Schöneberg</th>\n",
       "      <td>53.09</td>\n",
       "      <td>335060</td>\n",
       "    </tr>\n",
       "  </tbody>\n",
       "</table>\n",
       "</div>"
      ],
      "text/plain": [
       "                          Area in km²  Population 30 September 2010\n",
       "Friedrichshain-Kreuzberg        20.16                        268831\n",
       "Lichtenberg                     52.29                        259881\n",
       "Tempelhof-Schöneberg            53.09                        335060"
      ]
     },
     "execution_count": 63,
     "metadata": {},
     "output_type": "execute_result"
    }
   ],
   "source": [
    "df.loc[['Friedrichshain-Kreuzberg', 'Lichtenberg', 'Tempelhof-Schöneberg'],:]"
   ]
  },
  {
   "cell_type": "code",
   "execution_count": 64,
   "metadata": {
    "slideshow": {
     "slide_type": "slide"
    }
   },
   "outputs": [
    {
     "data": {
      "text/plain": [
       "Charlottenburg-Wilmersdorf    320014\n",
       "Friedrichshain-Kreuzberg      268831\n",
       "Lichtenberg                   259881\n",
       "Marzahn-Hellersdorf           248264\n",
       "Mitte                         332100\n",
       "Neukölln                      310283\n",
       "Pankow                        368956\n",
       "Spandau                       225420\n",
       "Steglitz-Zehlendorf           293989\n",
       "Tempelhof-Schöneberg          335060\n",
       "Treptow-Köpenick              241335\n",
       "Name: Population 30 September 2010, dtype: int64"
      ]
     },
     "execution_count": 64,
     "metadata": {},
     "output_type": "execute_result"
    }
   ],
   "source": [
    "# a single column of a DataFrame is a Series\n",
    "df['Population 30 September 2010']"
   ]
  },
  {
   "cell_type": "code",
   "execution_count": 65,
   "metadata": {
    "slideshow": {
     "slide_type": "slide"
    }
   },
   "outputs": [
    {
     "data": {
      "text/plain": [
       "Charlottenburg-Wilmersdorf     True\n",
       "Friedrichshain-Kreuzberg      False\n",
       "Lichtenberg                   False\n",
       "Marzahn-Hellersdorf           False\n",
       "Mitte                          True\n",
       "Neukölln                       True\n",
       "Pankow                         True\n",
       "Spandau                       False\n",
       "Steglitz-Zehlendorf           False\n",
       "Tempelhof-Schöneberg           True\n",
       "Treptow-Köpenick              False\n",
       "Name: Population 30 September 2010, dtype: bool"
      ]
     },
     "execution_count": 65,
     "metadata": {},
     "output_type": "execute_result"
    }
   ],
   "source": [
    "# boolean indexing\n",
    "df['Population 30 September 2010'] > 3e5"
   ]
  },
  {
   "cell_type": "code",
   "execution_count": 66,
   "metadata": {
    "slideshow": {
     "slide_type": "slide"
    }
   },
   "outputs": [
    {
     "data": {
      "text/html": [
       "<div>\n",
       "<style scoped>\n",
       "    .dataframe tbody tr th:only-of-type {\n",
       "        vertical-align: middle;\n",
       "    }\n",
       "\n",
       "    .dataframe tbody tr th {\n",
       "        vertical-align: top;\n",
       "    }\n",
       "\n",
       "    .dataframe thead th {\n",
       "        text-align: right;\n",
       "    }\n",
       "</style>\n",
       "<table border=\"1\" class=\"dataframe\">\n",
       "  <thead>\n",
       "    <tr style=\"text-align: right;\">\n",
       "      <th></th>\n",
       "      <th>Area in km²</th>\n",
       "      <th>Population 30 September 2010</th>\n",
       "    </tr>\n",
       "  </thead>\n",
       "  <tbody>\n",
       "    <tr>\n",
       "      <th>Charlottenburg-Wilmersdorf</th>\n",
       "      <td>64.72</td>\n",
       "      <td>320014</td>\n",
       "    </tr>\n",
       "    <tr>\n",
       "      <th>Mitte</th>\n",
       "      <td>39.47</td>\n",
       "      <td>332100</td>\n",
       "    </tr>\n",
       "    <tr>\n",
       "      <th>Neukölln</th>\n",
       "      <td>44.93</td>\n",
       "      <td>310283</td>\n",
       "    </tr>\n",
       "    <tr>\n",
       "      <th>Pankow</th>\n",
       "      <td>103.01</td>\n",
       "      <td>368956</td>\n",
       "    </tr>\n",
       "    <tr>\n",
       "      <th>Tempelhof-Schöneberg</th>\n",
       "      <td>53.09</td>\n",
       "      <td>335060</td>\n",
       "    </tr>\n",
       "  </tbody>\n",
       "</table>\n",
       "</div>"
      ],
      "text/plain": [
       "                            Area in km²  Population 30 September 2010\n",
       "Charlottenburg-Wilmersdorf        64.72                        320014\n",
       "Mitte                             39.47                        332100\n",
       "Neukölln                          44.93                        310283\n",
       "Pankow                           103.01                        368956\n",
       "Tempelhof-Schöneberg              53.09                        335060"
      ]
     },
     "execution_count": 66,
     "metadata": {},
     "output_type": "execute_result"
    }
   ],
   "source": [
    "# boolean indexing\n",
    "df[df['Population 30 September 2010'] > 3e5]"
   ]
  },
  {
   "cell_type": "code",
   "execution_count": 67,
   "metadata": {
    "slideshow": {
     "slide_type": "slide"
    }
   },
   "outputs": [
    {
     "data": {
      "text/plain": [
       "Charlottenburg-Wilmersdorf    320014\n",
       "Mitte                         332100\n",
       "Neukölln                      310283\n",
       "Pankow                        368956\n",
       "Tempelhof-Schöneberg          335060\n",
       "Name: Population 30 September 2010, dtype: int64"
      ]
     },
     "execution_count": 67,
     "metadata": {},
     "output_type": "execute_result"
    }
   ],
   "source": [
    "# boolean row indexing with column indexing\n",
    "df.loc[df['Population 30 September 2010'] > 3e5,'Population 30 September 2010']"
   ]
  },
  {
   "cell_type": "markdown",
   "metadata": {
    "slideshow": {
     "slide_type": "slide"
    }
   },
   "source": [
    "## Methoden auf `DataFrame`"
   ]
  },
  {
   "cell_type": "markdown",
   "metadata": {
    "slideshow": {
     "slide_type": "fragment"
    }
   },
   "source": [
    "- Alle `Series` Methoden funktionieren auf Spalten eines `DataFrame` \n",
    "- Alle standard DB Operationen und vieles mehr wird unterstützt"
   ]
  },
  {
   "cell_type": "code",
   "execution_count": 69,
   "metadata": {
    "slideshow": {
     "slide_type": "slide"
    }
   },
   "outputs": [
    {
     "data": {
      "text/html": [
       "<div>\n",
       "<style scoped>\n",
       "    .dataframe tbody tr th:only-of-type {\n",
       "        vertical-align: middle;\n",
       "    }\n",
       "\n",
       "    .dataframe tbody tr th {\n",
       "        vertical-align: top;\n",
       "    }\n",
       "\n",
       "    .dataframe thead th {\n",
       "        text-align: right;\n",
       "    }\n",
       "</style>\n",
       "<table border=\"1\" class=\"dataframe\">\n",
       "  <thead>\n",
       "    <tr style=\"text-align: right;\">\n",
       "      <th></th>\n",
       "      <th>Area in km²</th>\n",
       "      <th>Population 30 September 2010</th>\n",
       "      <th>Density</th>\n",
       "    </tr>\n",
       "  </thead>\n",
       "  <tbody>\n",
       "    <tr>\n",
       "      <th>Treptow-Köpenick</th>\n",
       "      <td>168.42</td>\n",
       "      <td>241335</td>\n",
       "      <td>1432.935518</td>\n",
       "    </tr>\n",
       "    <tr>\n",
       "      <th>Spandau</th>\n",
       "      <td>91.91</td>\n",
       "      <td>225420</td>\n",
       "      <td>2452.616690</td>\n",
       "    </tr>\n",
       "    <tr>\n",
       "      <th>Steglitz-Zehlendorf</th>\n",
       "      <td>102.50</td>\n",
       "      <td>293989</td>\n",
       "      <td>2868.185366</td>\n",
       "    </tr>\n",
       "    <tr>\n",
       "      <th>Pankow</th>\n",
       "      <td>103.01</td>\n",
       "      <td>368956</td>\n",
       "      <td>3581.749345</td>\n",
       "    </tr>\n",
       "    <tr>\n",
       "      <th>Marzahn-Hellersdorf</th>\n",
       "      <td>61.74</td>\n",
       "      <td>248264</td>\n",
       "      <td>4021.120829</td>\n",
       "    </tr>\n",
       "    <tr>\n",
       "      <th>Charlottenburg-Wilmersdorf</th>\n",
       "      <td>64.72</td>\n",
       "      <td>320014</td>\n",
       "      <td>4944.592089</td>\n",
       "    </tr>\n",
       "    <tr>\n",
       "      <th>Lichtenberg</th>\n",
       "      <td>52.29</td>\n",
       "      <td>259881</td>\n",
       "      <td>4969.994263</td>\n",
       "    </tr>\n",
       "    <tr>\n",
       "      <th>Tempelhof-Schöneberg</th>\n",
       "      <td>53.09</td>\n",
       "      <td>335060</td>\n",
       "      <td>6311.169712</td>\n",
       "    </tr>\n",
       "    <tr>\n",
       "      <th>Neukölln</th>\n",
       "      <td>44.93</td>\n",
       "      <td>310283</td>\n",
       "      <td>6905.920320</td>\n",
       "    </tr>\n",
       "    <tr>\n",
       "      <th>Mitte</th>\n",
       "      <td>39.47</td>\n",
       "      <td>332100</td>\n",
       "      <td>8413.985305</td>\n",
       "    </tr>\n",
       "    <tr>\n",
       "      <th>Friedrichshain-Kreuzberg</th>\n",
       "      <td>20.16</td>\n",
       "      <td>268831</td>\n",
       "      <td>13334.871032</td>\n",
       "    </tr>\n",
       "  </tbody>\n",
       "</table>\n",
       "</div>"
      ],
      "text/plain": [
       "                            Area in km²  Population 30 September 2010  \\\n",
       "Treptow-Köpenick                 168.42                        241335   \n",
       "Spandau                           91.91                        225420   \n",
       "Steglitz-Zehlendorf              102.50                        293989   \n",
       "Pankow                           103.01                        368956   \n",
       "Marzahn-Hellersdorf               61.74                        248264   \n",
       "Charlottenburg-Wilmersdorf        64.72                        320014   \n",
       "Lichtenberg                       52.29                        259881   \n",
       "Tempelhof-Schöneberg              53.09                        335060   \n",
       "Neukölln                          44.93                        310283   \n",
       "Mitte                             39.47                        332100   \n",
       "Friedrichshain-Kreuzberg          20.16                        268831   \n",
       "\n",
       "                                 Density  \n",
       "Treptow-Köpenick             1432.935518  \n",
       "Spandau                      2452.616690  \n",
       "Steglitz-Zehlendorf          2868.185366  \n",
       "Pankow                       3581.749345  \n",
       "Marzahn-Hellersdorf          4021.120829  \n",
       "Charlottenburg-Wilmersdorf   4944.592089  \n",
       "Lichtenberg                  4969.994263  \n",
       "Tempelhof-Schöneberg         6311.169712  \n",
       "Neukölln                     6905.920320  \n",
       "Mitte                        8413.985305  \n",
       "Friedrichshain-Kreuzberg    13334.871032  "
      ]
     },
     "execution_count": 69,
     "metadata": {},
     "output_type": "execute_result"
    }
   ],
   "source": [
    "df['Density'] = df['Population 30 September 2010'] / df['Area in km²']\n",
    "df = df.sort_values(by=['Density'])\n",
    "df"
   ]
  },
  {
   "cell_type": "markdown",
   "metadata": {
    "slideshow": {
     "slide_type": "slide"
    }
   },
   "source": [
    "## Database style joins"
   ]
  },
  {
   "cell_type": "code",
   "execution_count": 70,
   "metadata": {
    "slideshow": {
     "slide_type": "slide"
    }
   },
   "outputs": [
    {
     "data": {
      "text/html": [
       "<div>\n",
       "<style scoped>\n",
       "    .dataframe tbody tr th:only-of-type {\n",
       "        vertical-align: middle;\n",
       "    }\n",
       "\n",
       "    .dataframe tbody tr th {\n",
       "        vertical-align: top;\n",
       "    }\n",
       "\n",
       "    .dataframe thead th {\n",
       "        text-align: right;\n",
       "    }\n",
       "</style>\n",
       "<table border=\"1\" class=\"dataframe\">\n",
       "  <thead>\n",
       "    <tr style=\"text-align: right;\">\n",
       "      <th></th>\n",
       "      <th>key</th>\n",
       "      <th>data1</th>\n",
       "    </tr>\n",
       "  </thead>\n",
       "  <tbody>\n",
       "    <tr>\n",
       "      <th>0</th>\n",
       "      <td>b</td>\n",
       "      <td>0</td>\n",
       "    </tr>\n",
       "    <tr>\n",
       "      <th>1</th>\n",
       "      <td>b</td>\n",
       "      <td>1</td>\n",
       "    </tr>\n",
       "    <tr>\n",
       "      <th>2</th>\n",
       "      <td>a</td>\n",
       "      <td>2</td>\n",
       "    </tr>\n",
       "    <tr>\n",
       "      <th>3</th>\n",
       "      <td>c</td>\n",
       "      <td>3</td>\n",
       "    </tr>\n",
       "    <tr>\n",
       "      <th>4</th>\n",
       "      <td>a</td>\n",
       "      <td>4</td>\n",
       "    </tr>\n",
       "    <tr>\n",
       "      <th>5</th>\n",
       "      <td>a</td>\n",
       "      <td>5</td>\n",
       "    </tr>\n",
       "    <tr>\n",
       "      <th>6</th>\n",
       "      <td>b</td>\n",
       "      <td>6</td>\n",
       "    </tr>\n",
       "  </tbody>\n",
       "</table>\n",
       "</div>"
      ],
      "text/plain": [
       "  key  data1\n",
       "0   b      0\n",
       "1   b      1\n",
       "2   a      2\n",
       "3   c      3\n",
       "4   a      4\n",
       "5   a      5\n",
       "6   b      6"
      ]
     },
     "execution_count": 70,
     "metadata": {},
     "output_type": "execute_result"
    }
   ],
   "source": [
    "df1 = pd.DataFrame({'key': ['b', 'b', 'a', 'c', 'a', 'a', 'b'], 'data1': range(7)})\n",
    "df1"
   ]
  },
  {
   "cell_type": "code",
   "execution_count": 71,
   "metadata": {
    "slideshow": {
     "slide_type": "fragment"
    }
   },
   "outputs": [
    {
     "data": {
      "text/html": [
       "<div>\n",
       "<style scoped>\n",
       "    .dataframe tbody tr th:only-of-type {\n",
       "        vertical-align: middle;\n",
       "    }\n",
       "\n",
       "    .dataframe tbody tr th {\n",
       "        vertical-align: top;\n",
       "    }\n",
       "\n",
       "    .dataframe thead th {\n",
       "        text-align: right;\n",
       "    }\n",
       "</style>\n",
       "<table border=\"1\" class=\"dataframe\">\n",
       "  <thead>\n",
       "    <tr style=\"text-align: right;\">\n",
       "      <th></th>\n",
       "      <th>key</th>\n",
       "      <th>data2</th>\n",
       "    </tr>\n",
       "  </thead>\n",
       "  <tbody>\n",
       "    <tr>\n",
       "      <th>0</th>\n",
       "      <td>a</td>\n",
       "      <td>0</td>\n",
       "    </tr>\n",
       "    <tr>\n",
       "      <th>1</th>\n",
       "      <td>b</td>\n",
       "      <td>1</td>\n",
       "    </tr>\n",
       "    <tr>\n",
       "      <th>2</th>\n",
       "      <td>d</td>\n",
       "      <td>2</td>\n",
       "    </tr>\n",
       "  </tbody>\n",
       "</table>\n",
       "</div>"
      ],
      "text/plain": [
       "  key  data2\n",
       "0   a      0\n",
       "1   b      1\n",
       "2   d      2"
      ]
     },
     "execution_count": 71,
     "metadata": {},
     "output_type": "execute_result"
    }
   ],
   "source": [
    "df2 = pd.DataFrame({'key': ['a', 'b', 'd'], 'data2': range(3)})\n",
    "df2"
   ]
  },
  {
   "cell_type": "markdown",
   "metadata": {
    "slideshow": {
     "slide_type": "slide"
    }
   },
   "source": [
    "### Inner join"
   ]
  },
  {
   "cell_type": "code",
   "execution_count": 72,
   "metadata": {
    "slideshow": {
     "slide_type": "fragment"
    }
   },
   "outputs": [
    {
     "data": {
      "text/html": [
       "<div>\n",
       "<style scoped>\n",
       "    .dataframe tbody tr th:only-of-type {\n",
       "        vertical-align: middle;\n",
       "    }\n",
       "\n",
       "    .dataframe tbody tr th {\n",
       "        vertical-align: top;\n",
       "    }\n",
       "\n",
       "    .dataframe thead th {\n",
       "        text-align: right;\n",
       "    }\n",
       "</style>\n",
       "<table border=\"1\" class=\"dataframe\">\n",
       "  <thead>\n",
       "    <tr style=\"text-align: right;\">\n",
       "      <th></th>\n",
       "      <th>key</th>\n",
       "      <th>data1</th>\n",
       "      <th>data2</th>\n",
       "    </tr>\n",
       "  </thead>\n",
       "  <tbody>\n",
       "    <tr>\n",
       "      <th>0</th>\n",
       "      <td>b</td>\n",
       "      <td>0</td>\n",
       "      <td>1</td>\n",
       "    </tr>\n",
       "    <tr>\n",
       "      <th>1</th>\n",
       "      <td>b</td>\n",
       "      <td>1</td>\n",
       "      <td>1</td>\n",
       "    </tr>\n",
       "    <tr>\n",
       "      <th>2</th>\n",
       "      <td>b</td>\n",
       "      <td>6</td>\n",
       "      <td>1</td>\n",
       "    </tr>\n",
       "    <tr>\n",
       "      <th>3</th>\n",
       "      <td>a</td>\n",
       "      <td>2</td>\n",
       "      <td>0</td>\n",
       "    </tr>\n",
       "    <tr>\n",
       "      <th>4</th>\n",
       "      <td>a</td>\n",
       "      <td>4</td>\n",
       "      <td>0</td>\n",
       "    </tr>\n",
       "    <tr>\n",
       "      <th>5</th>\n",
       "      <td>a</td>\n",
       "      <td>5</td>\n",
       "      <td>0</td>\n",
       "    </tr>\n",
       "  </tbody>\n",
       "</table>\n",
       "</div>"
      ],
      "text/plain": [
       "  key  data1  data2\n",
       "0   b      0      1\n",
       "1   b      1      1\n",
       "2   b      6      1\n",
       "3   a      2      0\n",
       "4   a      4      0\n",
       "5   a      5      0"
      ]
     },
     "execution_count": 72,
     "metadata": {},
     "output_type": "execute_result"
    }
   ],
   "source": [
    "pd.merge(df1, df2, on='key')"
   ]
  },
  {
   "cell_type": "markdown",
   "metadata": {
    "slideshow": {
     "slide_type": "slide"
    }
   },
   "source": [
    "### Outer join"
   ]
  },
  {
   "cell_type": "code",
   "execution_count": 73,
   "metadata": {
    "slideshow": {
     "slide_type": "fragment"
    }
   },
   "outputs": [
    {
     "data": {
      "text/html": [
       "<div>\n",
       "<style scoped>\n",
       "    .dataframe tbody tr th:only-of-type {\n",
       "        vertical-align: middle;\n",
       "    }\n",
       "\n",
       "    .dataframe tbody tr th {\n",
       "        vertical-align: top;\n",
       "    }\n",
       "\n",
       "    .dataframe thead th {\n",
       "        text-align: right;\n",
       "    }\n",
       "</style>\n",
       "<table border=\"1\" class=\"dataframe\">\n",
       "  <thead>\n",
       "    <tr style=\"text-align: right;\">\n",
       "      <th></th>\n",
       "      <th>key</th>\n",
       "      <th>data1</th>\n",
       "      <th>data2</th>\n",
       "    </tr>\n",
       "  </thead>\n",
       "  <tbody>\n",
       "    <tr>\n",
       "      <th>0</th>\n",
       "      <td>b</td>\n",
       "      <td>0.0</td>\n",
       "      <td>1.0</td>\n",
       "    </tr>\n",
       "    <tr>\n",
       "      <th>1</th>\n",
       "      <td>b</td>\n",
       "      <td>1.0</td>\n",
       "      <td>1.0</td>\n",
       "    </tr>\n",
       "    <tr>\n",
       "      <th>2</th>\n",
       "      <td>b</td>\n",
       "      <td>6.0</td>\n",
       "      <td>1.0</td>\n",
       "    </tr>\n",
       "    <tr>\n",
       "      <th>3</th>\n",
       "      <td>a</td>\n",
       "      <td>2.0</td>\n",
       "      <td>0.0</td>\n",
       "    </tr>\n",
       "    <tr>\n",
       "      <th>4</th>\n",
       "      <td>a</td>\n",
       "      <td>4.0</td>\n",
       "      <td>0.0</td>\n",
       "    </tr>\n",
       "    <tr>\n",
       "      <th>5</th>\n",
       "      <td>a</td>\n",
       "      <td>5.0</td>\n",
       "      <td>0.0</td>\n",
       "    </tr>\n",
       "    <tr>\n",
       "      <th>6</th>\n",
       "      <td>c</td>\n",
       "      <td>3.0</td>\n",
       "      <td>NaN</td>\n",
       "    </tr>\n",
       "    <tr>\n",
       "      <th>7</th>\n",
       "      <td>d</td>\n",
       "      <td>NaN</td>\n",
       "      <td>2.0</td>\n",
       "    </tr>\n",
       "  </tbody>\n",
       "</table>\n",
       "</div>"
      ],
      "text/plain": [
       "  key  data1  data2\n",
       "0   b    0.0    1.0\n",
       "1   b    1.0    1.0\n",
       "2   b    6.0    1.0\n",
       "3   a    2.0    0.0\n",
       "4   a    4.0    0.0\n",
       "5   a    5.0    0.0\n",
       "6   c    3.0    NaN\n",
       "7   d    NaN    2.0"
      ]
     },
     "execution_count": 73,
     "metadata": {},
     "output_type": "execute_result"
    }
   ],
   "source": [
    "pd.merge(df1, df2, on='key', how='outer')"
   ]
  },
  {
   "cell_type": "markdown",
   "metadata": {
    "slideshow": {
     "slide_type": "slide"
    }
   },
   "source": [
    "### Concatenation"
   ]
  },
  {
   "cell_type": "code",
   "execution_count": 74,
   "metadata": {
    "slideshow": {
     "slide_type": "fragment"
    }
   },
   "outputs": [
    {
     "data": {
      "text/plain": [
       "a    0\n",
       "b    1\n",
       "dtype: int64"
      ]
     },
     "execution_count": 74,
     "metadata": {},
     "output_type": "execute_result"
    }
   ],
   "source": [
    "s1 = pd.Series([0, 1], index=['a', 'b'])\n",
    "s1"
   ]
  },
  {
   "cell_type": "code",
   "execution_count": 75,
   "metadata": {
    "slideshow": {
     "slide_type": "fragment"
    }
   },
   "outputs": [
    {
     "data": {
      "text/plain": [
       "c    2\n",
       "d    3\n",
       "e    4\n",
       "dtype: int64"
      ]
     },
     "execution_count": 75,
     "metadata": {},
     "output_type": "execute_result"
    }
   ],
   "source": [
    "s2 = pd.Series([2, 3, 4], index=['c', 'd', 'e'])\n",
    "s2"
   ]
  },
  {
   "cell_type": "code",
   "execution_count": 76,
   "metadata": {
    "slideshow": {
     "slide_type": "fragment"
    }
   },
   "outputs": [
    {
     "data": {
      "text/plain": [
       "a    0\n",
       "b    1\n",
       "c    2\n",
       "d    3\n",
       "e    4\n",
       "f    5\n",
       "g    6\n",
       "dtype: int64"
      ]
     },
     "execution_count": 76,
     "metadata": {},
     "output_type": "execute_result"
    }
   ],
   "source": [
    "s3 = pd.Series([5, 6], index=['f', 'g'])\n",
    "pd.concat([s1, s2, s3])"
   ]
  },
  {
   "cell_type": "code",
   "execution_count": 77,
   "metadata": {
    "slideshow": {
     "slide_type": "slide"
    }
   },
   "outputs": [
    {
     "data": {
      "text/html": [
       "<div>\n",
       "<style scoped>\n",
       "    .dataframe tbody tr th:only-of-type {\n",
       "        vertical-align: middle;\n",
       "    }\n",
       "\n",
       "    .dataframe tbody tr th {\n",
       "        vertical-align: top;\n",
       "    }\n",
       "\n",
       "    .dataframe thead th {\n",
       "        text-align: right;\n",
       "    }\n",
       "</style>\n",
       "<table border=\"1\" class=\"dataframe\">\n",
       "  <thead>\n",
       "    <tr style=\"text-align: right;\">\n",
       "      <th></th>\n",
       "      <th>0</th>\n",
       "      <th>1</th>\n",
       "      <th>2</th>\n",
       "    </tr>\n",
       "  </thead>\n",
       "  <tbody>\n",
       "    <tr>\n",
       "      <th>a</th>\n",
       "      <td>0.0</td>\n",
       "      <td>NaN</td>\n",
       "      <td>NaN</td>\n",
       "    </tr>\n",
       "    <tr>\n",
       "      <th>b</th>\n",
       "      <td>1.0</td>\n",
       "      <td>NaN</td>\n",
       "      <td>NaN</td>\n",
       "    </tr>\n",
       "    <tr>\n",
       "      <th>c</th>\n",
       "      <td>NaN</td>\n",
       "      <td>2.0</td>\n",
       "      <td>NaN</td>\n",
       "    </tr>\n",
       "    <tr>\n",
       "      <th>d</th>\n",
       "      <td>NaN</td>\n",
       "      <td>3.0</td>\n",
       "      <td>NaN</td>\n",
       "    </tr>\n",
       "    <tr>\n",
       "      <th>e</th>\n",
       "      <td>NaN</td>\n",
       "      <td>4.0</td>\n",
       "      <td>NaN</td>\n",
       "    </tr>\n",
       "    <tr>\n",
       "      <th>f</th>\n",
       "      <td>NaN</td>\n",
       "      <td>NaN</td>\n",
       "      <td>5.0</td>\n",
       "    </tr>\n",
       "    <tr>\n",
       "      <th>g</th>\n",
       "      <td>NaN</td>\n",
       "      <td>NaN</td>\n",
       "      <td>6.0</td>\n",
       "    </tr>\n",
       "  </tbody>\n",
       "</table>\n",
       "</div>"
      ],
      "text/plain": [
       "     0    1    2\n",
       "a  0.0  NaN  NaN\n",
       "b  1.0  NaN  NaN\n",
       "c  NaN  2.0  NaN\n",
       "d  NaN  3.0  NaN\n",
       "e  NaN  4.0  NaN\n",
       "f  NaN  NaN  5.0\n",
       "g  NaN  NaN  6.0"
      ]
     },
     "execution_count": 77,
     "metadata": {},
     "output_type": "execute_result"
    }
   ],
   "source": [
    "pd.concat([s1, s2, s3], axis=1, sort=True)"
   ]
  },
  {
   "cell_type": "markdown",
   "metadata": {
    "slideshow": {
     "slide_type": "slide"
    }
   },
   "source": [
    "# Exploration von Kindernamen in Berlin\n",
    "\n",
    "Datenquelle: [data portal Berlin](https://daten.berlin.de/search/node/vornamen)\n"
   ]
  },
  {
   "cell_type": "code",
   "execution_count": 78,
   "metadata": {
    "slideshow": {
     "slide_type": "slide"
    }
   },
   "outputs": [],
   "source": [
    "# check the URL syntax\n",
    "df = pd.read_csv(\"https://www.berlin.de/daten/liste-der-vornamen-2013/charlottenburg-wilmersdorf.csv\",\n",
    "                 sep=';',\n",
    "                 error_bad_lines=False)"
   ]
  },
  {
   "cell_type": "code",
   "execution_count": 79,
   "metadata": {
    "scrolled": true,
    "slideshow": {
     "slide_type": "fragment"
    }
   },
   "outputs": [
    {
     "data": {
      "text/html": [
       "<div>\n",
       "<style scoped>\n",
       "    .dataframe tbody tr th:only-of-type {\n",
       "        vertical-align: middle;\n",
       "    }\n",
       "\n",
       "    .dataframe tbody tr th {\n",
       "        vertical-align: top;\n",
       "    }\n",
       "\n",
       "    .dataframe thead th {\n",
       "        text-align: right;\n",
       "    }\n",
       "</style>\n",
       "<table border=\"1\" class=\"dataframe\">\n",
       "  <thead>\n",
       "    <tr style=\"text-align: right;\">\n",
       "      <th></th>\n",
       "      <th>vorname</th>\n",
       "      <th>anzahl</th>\n",
       "      <th>geschlecht</th>\n",
       "    </tr>\n",
       "  </thead>\n",
       "  <tbody>\n",
       "    <tr>\n",
       "      <th>0</th>\n",
       "      <td>Marie</td>\n",
       "      <td>121</td>\n",
       "      <td>w</td>\n",
       "    </tr>\n",
       "    <tr>\n",
       "      <th>1</th>\n",
       "      <td>Sophie</td>\n",
       "      <td>96</td>\n",
       "      <td>w</td>\n",
       "    </tr>\n",
       "    <tr>\n",
       "      <th>2</th>\n",
       "      <td>Charlotte</td>\n",
       "      <td>77</td>\n",
       "      <td>w</td>\n",
       "    </tr>\n",
       "    <tr>\n",
       "      <th>3</th>\n",
       "      <td>Emilia</td>\n",
       "      <td>66</td>\n",
       "      <td>w</td>\n",
       "    </tr>\n",
       "    <tr>\n",
       "      <th>4</th>\n",
       "      <td>Paul</td>\n",
       "      <td>64</td>\n",
       "      <td>m</td>\n",
       "    </tr>\n",
       "  </tbody>\n",
       "</table>\n",
       "</div>"
      ],
      "text/plain": [
       "     vorname  anzahl geschlecht\n",
       "0      Marie     121          w\n",
       "1     Sophie      96          w\n",
       "2  Charlotte      77          w\n",
       "3     Emilia      66          w\n",
       "4       Paul      64          m"
      ]
     },
     "execution_count": 79,
     "metadata": {},
     "output_type": "execute_result"
    }
   ],
   "source": [
    "df.head()"
   ]
  },
  {
   "cell_type": "code",
   "execution_count": 80,
   "metadata": {
    "slideshow": {
     "slide_type": "slide"
    }
   },
   "outputs": [],
   "source": [
    "import urllib\n",
    "import os\n",
    "\n",
    "stadtteile = [\n",
    "\"charlottenburg-wilmersdorf\",\n",
    "\"friedrichshain-kreuzberg\",\n",
    "\"lichtenberg\",\n",
    "\"marzahn-hellersdorf\",\n",
    "\"mitte\",\n",
    "\"neukoelln\",\n",
    "\"pankow\",\n",
    "\"reinickendorf\",\n",
    "\"spandau\",\n",
    "\"steglitz-zehlendorf\",\n",
    "\"tempelhof-schoeneberg\",\n",
    "\"treptow-koepenick\"\n",
    "]\n",
    "\n",
    "jahre = range(2013,2018)"
   ]
  },
  {
   "cell_type": "code",
   "execution_count": 81,
   "metadata": {
    "slideshow": {
     "slide_type": "slide"
    }
   },
   "outputs": [],
   "source": [
    "# download all name files from Berlin open data portal\n",
    "all_names = []\n",
    "\n",
    "for stadtteil in stadtteile:\n",
    "    for jahr in jahre:\n",
    "        try:\n",
    "            url = f\"https://www.berlin.de/daten/liste-der-vornamen-{jahr}/{stadtteil}.csv\"\n",
    "            df_vornamen_stadtteil = pd.read_csv(url, sep=';', error_bad_lines=False)\n",
    "            df_vornamen_stadtteil['stadtteil'] = stadtteil\n",
    "            df_vornamen_stadtteil['year'] = jahr\n",
    "            all_names.append(df_vornamen_stadtteil)\n",
    "        except:\n",
    "            print(\"File {} not found\".format(url))\n",
    "\n",
    "# concatenate DataFrames\n",
    "all_names_df = pd.concat(all_names, sort=True)\n",
    "# dump to file\n",
    "all_names_df.to_csv(os.path.join(\"data\",\"all_names_berlin.csv\"), index=False)"
   ]
  },
  {
   "cell_type": "code",
   "execution_count": 82,
   "metadata": {
    "slideshow": {
     "slide_type": "slide"
    }
   },
   "outputs": [
    {
     "data": {
      "text/html": [
       "<div>\n",
       "<style scoped>\n",
       "    .dataframe tbody tr th:only-of-type {\n",
       "        vertical-align: middle;\n",
       "    }\n",
       "\n",
       "    .dataframe tbody tr th {\n",
       "        vertical-align: top;\n",
       "    }\n",
       "\n",
       "    .dataframe thead th {\n",
       "        text-align: right;\n",
       "    }\n",
       "</style>\n",
       "<table border=\"1\" class=\"dataframe\">\n",
       "  <thead>\n",
       "    <tr style=\"text-align: right;\">\n",
       "      <th></th>\n",
       "      <th>anzahl</th>\n",
       "      <th>geschlecht</th>\n",
       "      <th>position</th>\n",
       "      <th>stadtteil</th>\n",
       "      <th>vorname</th>\n",
       "      <th>year</th>\n",
       "    </tr>\n",
       "  </thead>\n",
       "  <tbody>\n",
       "    <tr>\n",
       "      <th>1579</th>\n",
       "      <td>1</td>\n",
       "      <td>w</td>\n",
       "      <td>NaN</td>\n",
       "      <td>charlottenburg-wilmersdorf</td>\n",
       "      <td>Daila</td>\n",
       "      <td>2016</td>\n",
       "    </tr>\n",
       "    <tr>\n",
       "      <th>2323</th>\n",
       "      <td>1</td>\n",
       "      <td>w</td>\n",
       "      <td>NaN</td>\n",
       "      <td>friedrichshain-kreuzberg</td>\n",
       "      <td>Maxine</td>\n",
       "      <td>2014</td>\n",
       "    </tr>\n",
       "    <tr>\n",
       "      <th>441</th>\n",
       "      <td>1</td>\n",
       "      <td>w</td>\n",
       "      <td>NaN</td>\n",
       "      <td>steglitz-zehlendorf</td>\n",
       "      <td>Ecem</td>\n",
       "      <td>2016</td>\n",
       "    </tr>\n",
       "    <tr>\n",
       "      <th>2789</th>\n",
       "      <td>1</td>\n",
       "      <td>w</td>\n",
       "      <td>NaN</td>\n",
       "      <td>mitte</td>\n",
       "      <td>Myleen</td>\n",
       "      <td>2015</td>\n",
       "    </tr>\n",
       "    <tr>\n",
       "      <th>170</th>\n",
       "      <td>2</td>\n",
       "      <td>m</td>\n",
       "      <td>NaN</td>\n",
       "      <td>marzahn-hellersdorf</td>\n",
       "      <td>Alwin</td>\n",
       "      <td>2015</td>\n",
       "    </tr>\n",
       "    <tr>\n",
       "      <th>1071</th>\n",
       "      <td>2</td>\n",
       "      <td>m</td>\n",
       "      <td>NaN</td>\n",
       "      <td>mitte</td>\n",
       "      <td>Wolf</td>\n",
       "      <td>2016</td>\n",
       "    </tr>\n",
       "    <tr>\n",
       "      <th>774</th>\n",
       "      <td>2</td>\n",
       "      <td>m</td>\n",
       "      <td>NaN</td>\n",
       "      <td>friedrichshain-kreuzberg</td>\n",
       "      <td>Furkan</td>\n",
       "      <td>2015</td>\n",
       "    </tr>\n",
       "    <tr>\n",
       "      <th>875</th>\n",
       "      <td>2</td>\n",
       "      <td>w</td>\n",
       "      <td>NaN</td>\n",
       "      <td>friedrichshain-kreuzberg</td>\n",
       "      <td>Phuong</td>\n",
       "      <td>2015</td>\n",
       "    </tr>\n",
       "    <tr>\n",
       "      <th>2474</th>\n",
       "      <td>1</td>\n",
       "      <td>m</td>\n",
       "      <td>NaN</td>\n",
       "      <td>charlottenburg-wilmersdorf</td>\n",
       "      <td>Naveh</td>\n",
       "      <td>2013</td>\n",
       "    </tr>\n",
       "    <tr>\n",
       "      <th>756</th>\n",
       "      <td>1</td>\n",
       "      <td>m</td>\n",
       "      <td>NaN</td>\n",
       "      <td>reinickendorf</td>\n",
       "      <td>Jay</td>\n",
       "      <td>2013</td>\n",
       "    </tr>\n",
       "  </tbody>\n",
       "</table>\n",
       "</div>"
      ],
      "text/plain": [
       "      anzahl geschlecht  position                   stadtteil vorname  year\n",
       "1579       1          w       NaN  charlottenburg-wilmersdorf   Daila  2016\n",
       "2323       1          w       NaN    friedrichshain-kreuzberg  Maxine  2014\n",
       "441        1          w       NaN         steglitz-zehlendorf    Ecem  2016\n",
       "2789       1          w       NaN                       mitte  Myleen  2015\n",
       "170        2          m       NaN         marzahn-hellersdorf   Alwin  2015\n",
       "1071       2          m       NaN                       mitte    Wolf  2016\n",
       "774        2          m       NaN    friedrichshain-kreuzberg  Furkan  2015\n",
       "875        2          w       NaN    friedrichshain-kreuzberg  Phuong  2015\n",
       "2474       1          m       NaN  charlottenburg-wilmersdorf   Naveh  2013\n",
       "756        1          m       NaN               reinickendorf     Jay  2013"
      ]
     },
     "execution_count": 82,
     "metadata": {},
     "output_type": "execute_result"
    }
   ],
   "source": [
    "all_names_df.sample(n=10)"
   ]
  },
  {
   "cell_type": "markdown",
   "metadata": {
    "slideshow": {
     "slide_type": "slide"
    }
   },
   "source": [
    "## Übung\n",
    "\n",
    "1. Filtern Sie die Tabelle auf die Namen für Jungen \n",
    "2. Filtern Sie die Tabelle auf die Namen für Mädchen in Friedrichshain-Kreuzberg\n",
    "3. Was waren die drei beliebtesten Namen für Mädchen in Friedrichshain-Kreuzberg in 2016?\n",
    "4. Was waren die drei beliebtesten Namen für Jungen in Lichtenberg in 2015?"
   ]
  }
 ],
 "metadata": {
  "celltoolbar": "Slideshow",
  "kernelspec": {
   "display_name": "Python 3",
   "language": "python",
   "name": "python3"
  },
  "language_info": {
   "codemirror_mode": {
    "name": "ipython",
    "version": 3
   },
   "file_extension": ".py",
   "mimetype": "text/x-python",
   "name": "python",
   "nbconvert_exporter": "python",
   "pygments_lexer": "ipython3",
   "version": "3.6.5"
  }
 },
 "nbformat": 4,
 "nbformat_minor": 2
}
