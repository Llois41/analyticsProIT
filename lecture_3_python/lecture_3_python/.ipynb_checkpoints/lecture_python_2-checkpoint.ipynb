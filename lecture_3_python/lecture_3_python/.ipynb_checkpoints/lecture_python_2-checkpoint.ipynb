{
 "cells": [
  {
   "cell_type": "markdown",
   "metadata": {
    "slideshow": {
     "slide_type": "slide"
    }
   },
   "source": [
    "<style>\n",
    "body {\n",
    "    font-size: 1.7em;\n",
    "} \n",
    "\n",
    ".rendered_html h1 {\n",
    "  font-size: 3.8em;\n",
    "}\n",
    "\n",
    ".rendered_html h2 {\n",
    "  font-size: 2.2em;\n",
    "}\n",
    "\n",
    ".rendered_html h3 {\n",
    "  font-size: 1.8em;\n",
    "}\n",
    "\n",
    ".rendered_html h4 {\n",
    "  font-size: 1.4em;\n",
    "}\n",
    "\n",
    "div.slides {\n",
    "width: 1920px;\n",
    "height: 1080px;\n",
    "}\n",
    "\n",
    ".rendered_html table, .rendered_html th, .rendered_html tr, .rendered_html td {\n",
    "     font-size: 100%;\n",
    "}\n",
    "\n",
    "</style>\n",
    "\n",
    "# <font color=\"#BD1550\">Analytics</font>\n",
    "## Python Funktionen (& Methoden), Dictionaries, Module\n",
    "\n",
    "-------\n",
    "### Prof. Dr. Helena Mihaljević\n",
    "#### WS 2019/20\n",
    "\n"
   ]
  },
  {
   "cell_type": "markdown",
   "metadata": {
    "slideshow": {
     "slide_type": "slide"
    }
   },
   "source": [
    "# Funktionen\n",
    "\n"
   ]
  },
  {
   "cell_type": "markdown",
   "metadata": {
    "slideshow": {
     "slide_type": "fragment"
    }
   },
   "source": [
    "\n",
    "- Strukturierungselement, um Anweisungen zu gruppieren, damit man sie mehrmals im Programm verwenden kann\n",
    "- reduziert Fehleranfälligkeit, erhöht Lesbarkeit\n",
    "\n",
    "```python\n",
    "def funktionsname(parameterliste):\n",
    "      Anweisung(en)\n",
    "```"
   ]
  },
  {
   "cell_type": "code",
   "execution_count": 1,
   "metadata": {
    "slideshow": {
     "slide_type": "slide"
    }
   },
   "outputs": [],
   "source": [
    "def say_hello(name):\n",
    "    return \"Hello \" + name"
   ]
  },
  {
   "cell_type": "code",
   "execution_count": 2,
   "metadata": {
    "slideshow": {
     "slide_type": "fragment"
    }
   },
   "outputs": [
    {
     "name": "stdout",
     "output_type": "stream",
     "text": [
      "Hello Helena\n"
     ]
    }
   ],
   "source": [
    "greeting = say_hello(\"Helena\")\n",
    "print(greeting)"
   ]
  },
  {
   "cell_type": "markdown",
   "metadata": {
    "slideshow": {
     "slide_type": "fragment"
    }
   },
   "source": [
    "- `name` ist ein **Parameter** der Funktion `say_hello()`\n",
    "- mehrere Parameter werden durch Kommata getrennt\n",
    "- beim Aufruf werden Parameter als **Argumente** bezeichnet (hier: \"Helena\")\n",
    "- der Funktionskörper (function body) wird **eingerückt** "
   ]
  },
  {
   "cell_type": "markdown",
   "metadata": {
    "slideshow": {
     "slide_type": "slide"
    }
   },
   "source": [
    "## optionale Parameter\n",
    "\n",
    "- Parameter können **obligatorisch** und **optional** sein. In der Definition folgen optionale den obligatorischen\n",
    "- optionale Parameter müssen beim Aufruf der Funktionen nicht gesetzt werden \n",
    "- wenn beim Aufruf nicht verwendet, wird ein default-Wert eingesetzt"
   ]
  },
  {
   "cell_type": "code",
   "execution_count": 3,
   "metadata": {
    "slideshow": {
     "slide_type": "fragment"
    }
   },
   "outputs": [],
   "source": [
    "def say_hello(name, surname=None):\n",
    "    if surname is not None:\n",
    "        return \"Hello \" + name + ' ' + surname\n",
    "    else:\n",
    "        return \"Hello \" + name"
   ]
  },
  {
   "cell_type": "code",
   "execution_count": 4,
   "metadata": {
    "slideshow": {
     "slide_type": "fragment"
    }
   },
   "outputs": [
    {
     "data": {
      "text/plain": [
       "'Hello Helena Mihaljević'"
      ]
     },
     "execution_count": 4,
     "metadata": {},
     "output_type": "execute_result"
    }
   ],
   "source": [
    "say_hello('Helena', 'Mihaljević')"
   ]
  },
  {
   "cell_type": "code",
   "execution_count": 5,
   "metadata": {
    "slideshow": {
     "slide_type": "fragment"
    }
   },
   "outputs": [
    {
     "data": {
      "text/plain": [
       "'Hello Helena'"
      ]
     },
     "execution_count": 5,
     "metadata": {},
     "output_type": "execute_result"
    }
   ],
   "source": [
    "say_hello('Helena')"
   ]
  },
  {
   "cell_type": "markdown",
   "metadata": {
    "slideshow": {
     "slide_type": "slide"
    }
   },
   "source": [
    "## Keyword-Parameter (= Schlüsselwort Parameter; named parameters)\n",
    "\n",
    "- ermöglicht, nur einen Teil der optionalen Parameter zu überschreiben"
   ]
  },
  {
   "cell_type": "code",
   "execution_count": 6,
   "metadata": {
    "slideshow": {
     "slide_type": "fragment"
    }
   },
   "outputs": [],
   "source": [
    "def sumsub(a, b, c=0, d=0):\n",
    "    return a - b + c - d"
   ]
  },
  {
   "cell_type": "code",
   "execution_count": 7,
   "metadata": {
    "slideshow": {
     "slide_type": "fragment"
    }
   },
   "outputs": [
    {
     "name": "stdout",
     "output_type": "stream",
     "text": [
      "8\n"
     ]
    }
   ],
   "source": [
    "print(sumsub(12,4))"
   ]
  },
  {
   "cell_type": "code",
   "execution_count": 8,
   "metadata": {
    "slideshow": {
     "slide_type": "fragment"
    }
   },
   "outputs": [
    {
     "name": "stdout",
     "output_type": "stream",
     "text": [
      "17\n"
     ]
    }
   ],
   "source": [
    "print(sumsub(42,15,d=10))"
   ]
  },
  {
   "cell_type": "code",
   "execution_count": 9,
   "metadata": {
    "slideshow": {
     "slide_type": "fragment"
    }
   },
   "outputs": [
    {
     "name": "stdout",
     "output_type": "stream",
     "text": [
      "17\n"
     ]
    }
   ],
   "source": [
    "# ohne Angabe des Schlüsselwort-Parameters\n",
    "print(sumsub(42,15,0,10))"
   ]
  },
  {
   "cell_type": "code",
   "execution_count": 10,
   "metadata": {
    "slideshow": {
     "slide_type": "slide"
    }
   },
   "outputs": [
    {
     "ename": "SyntaxError",
     "evalue": "positional argument follows keyword argument (<ipython-input-10-8a56727e11b7>, line 2)",
     "output_type": "error",
     "traceback": [
      "\u001b[0;36m  File \u001b[0;32m\"<ipython-input-10-8a56727e11b7>\"\u001b[0;36m, line \u001b[0;32m2\u001b[0m\n\u001b[0;31m    print(sumsub(d=10, 42,15))\u001b[0m\n\u001b[0m                      ^\u001b[0m\n\u001b[0;31mSyntaxError\u001b[0m\u001b[0;31m:\u001b[0m positional argument follows keyword argument\n"
     ]
    }
   ],
   "source": [
    "# folgendes geht nicht!!!\n",
    "print(sumsub(d=10, 42,15))"
   ]
  },
  {
   "cell_type": "code",
   "execution_count": 11,
   "metadata": {
    "slideshow": {
     "slide_type": "fragment"
    }
   },
   "outputs": [
    {
     "name": "stdout",
     "output_type": "stream",
     "text": [
      "17\n"
     ]
    }
   ],
   "source": [
    "# Reihenfolge bei der Übergabe von Parametern egal, wenn alle als Schlüsselwort-parameter angegeben werden\n",
    "print(sumsub(d=10,a=42,b=15))"
   ]
  },
  {
   "cell_type": "markdown",
   "metadata": {
    "slideshow": {
     "slide_type": "slide"
    }
   },
   "source": [
    "## Rückgabewerte\n",
    "\n",
    "- Der Funktionskörper kann keine, eine oder mehrere `return`-Anweisungen an beliebiger Stelle enthalten \n",
    "- Eine `return`-Anweisung beendet den Funktionsaufruf, und das Ergebnis des Ausdrucks, der hinter der `return`-Anweisung steht, wird an die aufrufende Stelle zurückgeliefert \n",
    "- Eine Funktion gibt **maximal ein Objekt** zurück\n",
    "- Falls kein Ausdruck dem `return` folgt, wird `None` zurückgegeben \n",
    "- Falls der Funktionsaufruf das Ende des Funktionskörpers erreicht, ohne auf eine `return`-Anweisung gestoßen zu sein, endet der Funktionsaufruf und es wird `None` zurückgegeben"
   ]
  },
  {
   "cell_type": "code",
   "execution_count": 12,
   "metadata": {
    "slideshow": {
     "slide_type": "fragment"
    }
   },
   "outputs": [],
   "source": [
    "def my_special_sum(x, y):\n",
    "    z = x + y + 5\n",
    "    return z"
   ]
  },
  {
   "cell_type": "code",
   "execution_count": 13,
   "metadata": {
    "slideshow": {
     "slide_type": "fragment"
    }
   },
   "outputs": [
    {
     "name": "stdout",
     "output_type": "stream",
     "text": [
      "8\n"
     ]
    }
   ],
   "source": [
    "res = my_special_sum(1,2)\n",
    "print(res)"
   ]
  },
  {
   "cell_type": "markdown",
   "metadata": {
    "slideshow": {
     "slide_type": "slide"
    }
   },
   "source": [
    "Das Rückgabe-Objekt kann aber **beliebig** sein, d.h. auch eine Liste oder ein Tupel.\n",
    "\n",
    "Dadurch können wir auch **mehrere Werte** zurückgeben. "
   ]
  },
  {
   "cell_type": "code",
   "execution_count": 14,
   "metadata": {
    "slideshow": {
     "slide_type": "fragment"
    }
   },
   "outputs": [],
   "source": [
    "def find_min_max(coll_of_orderables):\n",
    "    min_item = coll_of_orderables[0]\n",
    "    max_item = coll_of_orderables[0]\n",
    "    \n",
    "    for elem in coll_of_orderables:\n",
    "        if elem > max_item:\n",
    "            max_item = elem\n",
    "        if elem < min_item:\n",
    "            min_item = elem\n",
    "            \n",
    "    return [min_item, max_item]"
   ]
  },
  {
   "cell_type": "code",
   "execution_count": 15,
   "metadata": {
    "slideshow": {
     "slide_type": "fragment"
    }
   },
   "outputs": [
    {
     "data": {
      "text/plain": [
       "[-100, 485]"
      ]
     },
     "execution_count": 15,
     "metadata": {},
     "output_type": "execute_result"
    }
   ],
   "source": [
    "find_min_max([3, -1, 5.56, 485, -100])"
   ]
  },
  {
   "cell_type": "code",
   "execution_count": 16,
   "metadata": {
    "slideshow": {
     "slide_type": "slide"
    }
   },
   "outputs": [],
   "source": [
    "def find_min_max(coll_of_orderables):\n",
    "    min_item = coll_of_orderables[0]\n",
    "    max_item = coll_of_orderables[0]\n",
    "    \n",
    "    for elem in coll_of_orderables:\n",
    "        if elem > max_item:\n",
    "            max_item = elem\n",
    "        if elem < min_item:\n",
    "            min_item = elem\n",
    "            \n",
    "    return min_item, max_item"
   ]
  },
  {
   "cell_type": "code",
   "execution_count": 17,
   "metadata": {
    "slideshow": {
     "slide_type": "fragment"
    }
   },
   "outputs": [
    {
     "data": {
      "text/plain": [
       "(-100, 485)"
      ]
     },
     "execution_count": 17,
     "metadata": {},
     "output_type": "execute_result"
    }
   ],
   "source": [
    "find_min_max([3, -1, 5.56, 485, -100])"
   ]
  },
  {
   "cell_type": "code",
   "execution_count": 18,
   "metadata": {
    "slideshow": {
     "slide_type": "fragment"
    }
   },
   "outputs": [
    {
     "data": {
      "text/plain": [
       "tuple"
      ]
     },
     "execution_count": 18,
     "metadata": {},
     "output_type": "execute_result"
    }
   ],
   "source": [
    "type(find_min_max([3, -1, 5.56, 485, -100]))"
   ]
  },
  {
   "cell_type": "markdown",
   "metadata": {
    "slideshow": {
     "slide_type": "slide"
    }
   },
   "source": [
    "## Docstring\n",
    "\n",
    "- beschreibt, was die Funktion tut\n",
    "- ist üblicherweise die erste Zeile im Funktionskörper, gesetzt in 3-fache Anführungszeichen\n",
    "- bei einfachen Funktionen reicht ein Satz\n",
    "- bei komplexeren sollten auch die Parameter und der Rückgabe-Wert beschrieben werden\n",
    "- PEP-Standard: https://www.python.org/dev/peps/pep-0257/"
   ]
  },
  {
   "cell_type": "code",
   "execution_count": 19,
   "metadata": {
    "slideshow": {
     "slide_type": "fragment"
    }
   },
   "outputs": [],
   "source": [
    "def say_hello(name, surname=None):\n",
    "    \"\"\"Begrüßt eine Person mit Vor- und Nachnamen\"\"\"\n",
    "    if surname is not None:\n",
    "        return \"Hello \" + name + ' ' + surname\n",
    "    else:\n",
    "        return \"Hello \" + name"
   ]
  },
  {
   "cell_type": "code",
   "execution_count": 20,
   "metadata": {
    "slideshow": {
     "slide_type": "fragment"
    }
   },
   "outputs": [
    {
     "name": "stdout",
     "output_type": "stream",
     "text": [
      "Begrüßt eine Person mit Vor- und Nachnamen\n"
     ]
    }
   ],
   "source": [
    "# Zugriff auf docstring\n",
    "print(say_hello.__doc__)"
   ]
  },
  {
   "cell_type": "markdown",
   "metadata": {
    "slideshow": {
     "slide_type": "slide"
    }
   },
   "source": [
    "## Exkurs: Funktion `print()` \n",
    "\n",
    "- Die Dokumentation der `print()` Funktion finden wir unter: https://docs.python.org/3/library/functions.html#print\n",
    "- Die Funktion `print()` hat folgende Argumente:\n",
    "    \n",
    "```\n",
    "print(value1, ..., sep=' ', end='\\n', file=sys.stdout, flush=False)\n",
    "```\n",
    "\n",
    "- kann **beliebig viele Parameter** annhemen und entsprechend beliebig viele Werte ausgeben: `(\"value1, value2, ...\")` (lernen später, wie man solche eine Funktion definiert)\n",
    "- Wir können konfigurieren, wie die Werte getrennt werden (`sep`) werden, wohin sie geschrieben werden (`file`) etc."
   ]
  },
  {
   "cell_type": "markdown",
   "metadata": {
    "slideshow": {
     "slide_type": "slide"
    }
   },
   "source": [
    "## Übung\n",
    "\n",
    "(a) Schreiben SIe eine Funktion, welche eine Liste von Strings als Parameter erwartet und die Verknüpfung der Strings zu einem String als Rückgabewert hat, z.B. für das Argument `[\"hello\", \"world\"]` würde die Funktion `\"helloworld\"` zurückgeben.\n",
    "\n",
    "(b) Verändern Sie die Funktion nun so, dass zwischen den einzelnen Strings ein Leerzeichen eingesetzt wird. Für das obige Beispiel würden wir also `\"hello world ` erhalten. (Zusatz: versuchen Sie, das letzte Leerzeichen loszuwerden).\n",
    "\n",
    "(c) Verändern Sie nun die Signatur der Funktion so, dass der Verknüpfungsstring `' '` nun als Parameter gesetzt werden kann aber nicht muss. Das Leerzeichen soll der default-Wert bei diesem optionalen Parameter sein.\n"
   ]
  },
  {
   "cell_type": "markdown",
   "metadata": {
    "slideshow": {
     "slide_type": "slide"
    }
   },
   "source": [
    "# Funktion vs. Methode\n",
    "\n",
    "- Funktionen in Python können \"frei\" aufgerufen werden; sie bekommen Argumente übergeben und verarbeiten diese  (hoffentlich) \n",
    "- Methoden sind an **Klassen** gebunden\n",
    "- Eine Methode wird innerhalb einer Klasse definiert\n",
    "- Sie wird immer an einem Objekt dieser Klasse aufgerufen\n",
    "- Eine Methode kann ein Objekt verändern; Funktionen sollten dies am besten nicht tun (stattdessen z.B. ein neues Objekt zurückgeben)\n",
    "- Wir betrachten Objekt-Orientierte Programmierung (OOP) später; fürs erste reicht uns die Unterscheidung bei der Anwendung\n"
   ]
  },
  {
   "cell_type": "markdown",
   "metadata": {
    "slideshow": {
     "slide_type": "slide"
    }
   },
   "source": [
    "## Beispiel: Funktionen und Methoden auf Listen"
   ]
  },
  {
   "cell_type": "code",
   "execution_count": 21,
   "metadata": {
    "slideshow": {
     "slide_type": "fragment"
    }
   },
   "outputs": [],
   "source": [
    "li = [1, -13, 23, 45, 7.5, -2]"
   ]
  },
  {
   "cell_type": "code",
   "execution_count": 22,
   "metadata": {
    "slideshow": {
     "slide_type": "fragment"
    }
   },
   "outputs": [
    {
     "data": {
      "text/plain": [
       "[-13, -2, 1, 7.5, 23, 45]"
      ]
     },
     "execution_count": 22,
     "metadata": {},
     "output_type": "execute_result"
    }
   ],
   "source": [
    "# Funktion zum Sortieren\n",
    "sorted_li = sorted(li)\n",
    "sorted_li"
   ]
  },
  {
   "cell_type": "code",
   "execution_count": 23,
   "metadata": {
    "slideshow": {
     "slide_type": "fragment"
    }
   },
   "outputs": [
    {
     "data": {
      "text/plain": [
       "[1, -13, 23, 45, 7.5, -2]"
      ]
     },
     "execution_count": 23,
     "metadata": {},
     "output_type": "execute_result"
    }
   ],
   "source": [
    "li"
   ]
  },
  {
   "cell_type": "code",
   "execution_count": 24,
   "metadata": {
    "slideshow": {
     "slide_type": "fragment"
    }
   },
   "outputs": [
    {
     "data": {
      "text/plain": [
       "[-13, -2, 1, 7.5, 23, 45]"
      ]
     },
     "execution_count": 24,
     "metadata": {},
     "output_type": "execute_result"
    }
   ],
   "source": [
    "# List-Methode zum Sortieren\n",
    "li.sort()\n",
    "li"
   ]
  },
  {
   "cell_type": "markdown",
   "metadata": {
    "slideshow": {
     "slide_type": "slide"
    }
   },
   "source": [
    "# Dictionary\n",
    "\n",
    "- Konzept wird in anderen Sprachen auch als `Map`, `Hash` oder `Assoziatives Feld` implementiert\n",
    "- Ein Dictionary besteht aus **ungeordneten Schlüssel-Objekt-Paaren** (=key-value pairs)\n",
    "- Zu einem bestimmten Schlüssel gehört immer genau ein Objekt &#8594; **Schlüssel eindeutig**, Objekt nicht notwendigerweise\n",
    "- Dictionaries können wie Listen leicht verändert werden\n",
    "- Dictionaries sind sehr häufig in Python-Programmen"
   ]
  },
  {
   "cell_type": "code",
   "execution_count": 25,
   "metadata": {
    "slideshow": {
     "slide_type": "slide"
    }
   },
   "outputs": [],
   "source": [
    "country_to_capital = {\"Afghanistan\": \"Kabul\", \n",
    "                      \"Argentina\": \"Buenos Aires\", \n",
    "                      \"Belarus\": \"Minsk\", \n",
    "                      \"China\": \"Beijing\", \n",
    "                      \"Luxembourg\": \"Luxembourg\"}"
   ]
  },
  {
   "cell_type": "code",
   "execution_count": 26,
   "metadata": {
    "slideshow": {
     "slide_type": "fragment"
    }
   },
   "outputs": [
    {
     "name": "stdout",
     "output_type": "stream",
     "text": [
      "{'Afghanistan': 'Kabul', 'Argentina': 'Buenos Aires', 'Belarus': 'Minsk', 'China': 'Beijing', 'Luxembourg': 'Luxembourg'}\n"
     ]
    }
   ],
   "source": [
    "print(country_to_capital)"
   ]
  },
  {
   "cell_type": "code",
   "execution_count": 27,
   "metadata": {
    "slideshow": {
     "slide_type": "fragment"
    }
   },
   "outputs": [
    {
     "name": "stdout",
     "output_type": "stream",
     "text": [
      "Buenos Aires\n"
     ]
    }
   ],
   "source": [
    "# Zugriff auf einen bestimmten Schlüsselwert mit eckigen Klammern\n",
    "print(country_to_capital[\"Argentina\"])"
   ]
  },
  {
   "cell_type": "code",
   "execution_count": 28,
   "metadata": {
    "slideshow": {
     "slide_type": "slide"
    }
   },
   "outputs": [],
   "source": [
    "# füge ein neues Schlüssel-Objekt-Paar\n",
    "country_to_capital[\"Germany\"] = \"Bonn\""
   ]
  },
  {
   "cell_type": "code",
   "execution_count": 29,
   "metadata": {
    "slideshow": {
     "slide_type": "fragment"
    }
   },
   "outputs": [
    {
     "name": "stdout",
     "output_type": "stream",
     "text": [
      "{'Afghanistan': 'Kabul', 'Argentina': 'Buenos Aires', 'Belarus': 'Minsk', 'China': 'Beijing', 'Luxembourg': 'Luxembourg', 'Germany': 'Bonn'}\n"
     ]
    }
   ],
   "source": [
    "print(country_to_capital)"
   ]
  },
  {
   "cell_type": "code",
   "execution_count": 30,
   "metadata": {
    "slideshow": {
     "slide_type": "fragment"
    }
   },
   "outputs": [],
   "source": [
    "# ersetze ein Objekt durch ein anderes\n",
    "country_to_capital[\"Germany\"] = \"Berlin\""
   ]
  },
  {
   "cell_type": "code",
   "execution_count": 31,
   "metadata": {
    "slideshow": {
     "slide_type": "fragment"
    }
   },
   "outputs": [
    {
     "name": "stdout",
     "output_type": "stream",
     "text": [
      "{'Afghanistan': 'Kabul', 'Argentina': 'Buenos Aires', 'Belarus': 'Minsk', 'China': 'Beijing', 'Luxembourg': 'Luxembourg', 'Germany': 'Berlin'}\n"
     ]
    }
   ],
   "source": [
    "print(country_to_capital)"
   ]
  },
  {
   "cell_type": "code",
   "execution_count": 32,
   "metadata": {
    "slideshow": {
     "slide_type": "fragment"
    }
   },
   "outputs": [
    {
     "ename": "KeyError",
     "evalue": "'Denmark'",
     "output_type": "error",
     "traceback": [
      "\u001b[0;31m---------------------------------------------------------------------------\u001b[0m",
      "\u001b[0;31mKeyError\u001b[0m                                  Traceback (most recent call last)",
      "\u001b[0;32m<ipython-input-32-9f7530355a04>\u001b[0m in \u001b[0;36m<module>\u001b[0;34m\u001b[0m\n\u001b[1;32m      1\u001b[0m \u001b[0;31m# Zugriff über einen nicht existierenden Schlüssel führt zu einem KeyError\u001b[0m\u001b[0;34m\u001b[0m\u001b[0;34m\u001b[0m\u001b[0m\n\u001b[0;32m----> 2\u001b[0;31m \u001b[0mprint\u001b[0m\u001b[0;34m(\u001b[0m\u001b[0mcountry_to_capital\u001b[0m\u001b[0;34m[\u001b[0m\u001b[0;34m\"Denmark\"\u001b[0m\u001b[0;34m]\u001b[0m\u001b[0;34m)\u001b[0m\u001b[0;34m\u001b[0m\u001b[0m\n\u001b[0m",
      "\u001b[0;31mKeyError\u001b[0m: 'Denmark'"
     ]
    }
   ],
   "source": [
    "# Zugriff über einen nicht existierenden Schlüssel führt zu einem KeyError\n",
    "print(country_to_capital[\"Denmark\"])"
   ]
  },
  {
   "cell_type": "markdown",
   "metadata": {
    "slideshow": {
     "slide_type": "slide"
    }
   },
   "source": [
    "- **Schlüssel dürfen nur unveränderliche Datentypen sein (immutable)**\n",
    "- insbesondere keine Listen und keine Dictionaries\n",
    "- Tupel sind möglich, wenn die Elemente des Tupels ebenfalls unveränderlich sind"
   ]
  },
  {
   "cell_type": "code",
   "execution_count": 33,
   "metadata": {
    "slideshow": {
     "slide_type": "fragment"
    }
   },
   "outputs": [
    {
     "ename": "TypeError",
     "evalue": "unhashable type: 'list'",
     "output_type": "error",
     "traceback": [
      "\u001b[0;31m---------------------------------------------------------------------------\u001b[0m",
      "\u001b[0;31mTypeError\u001b[0m                                 Traceback (most recent call last)",
      "\u001b[0;32m<ipython-input-33-80686c8b9624>\u001b[0m in \u001b[0;36m<module>\u001b[0;34m\u001b[0m\n\u001b[0;32m----> 1\u001b[0;31m \u001b[0mcountry_to_capital\u001b[0m\u001b[0;34m[\u001b[0m\u001b[0;34m[\u001b[0m\u001b[0;34m\"USA\"\u001b[0m\u001b[0;34m,\u001b[0m \u001b[0;34m\"US\"\u001b[0m\u001b[0;34m,\u001b[0m \u001b[0;34m\"United States\"\u001b[0m\u001b[0;34m]\u001b[0m\u001b[0;34m]\u001b[0m \u001b[0;34m=\u001b[0m \u001b[0;34m\"Washington, D.C.\"\u001b[0m\u001b[0;34m\u001b[0m\u001b[0m\n\u001b[0m",
      "\u001b[0;31mTypeError\u001b[0m: unhashable type: 'list'"
     ]
    }
   ],
   "source": [
    "country_to_capital[[\"USA\", \"US\", \"United States\"]] = \"Washington, D.C.\""
   ]
  },
  {
   "cell_type": "markdown",
   "metadata": {
    "slideshow": {
     "slide_type": "slide"
    }
   },
   "source": [
    "## Methoden auf dictionaries"
   ]
  },
  {
   "cell_type": "markdown",
   "metadata": {
    "slideshow": {
     "slide_type": "fragment"
    }
   },
   "source": [
    "### `keys()`, `values()`, `items()`"
   ]
  },
  {
   "cell_type": "code",
   "execution_count": 34,
   "metadata": {
    "slideshow": {
     "slide_type": "fragment"
    }
   },
   "outputs": [
    {
     "data": {
      "text/plain": [
       "dict_keys(['Afghanistan', 'Argentina', 'Belarus', 'China', 'Luxembourg', 'Germany'])"
      ]
     },
     "execution_count": 34,
     "metadata": {},
     "output_type": "execute_result"
    }
   ],
   "source": [
    "country_to_capital.keys()"
   ]
  },
  {
   "cell_type": "code",
   "execution_count": 35,
   "metadata": {
    "slideshow": {
     "slide_type": "fragment"
    }
   },
   "outputs": [
    {
     "data": {
      "text/plain": [
       "dict_values(['Kabul', 'Buenos Aires', 'Minsk', 'Beijing', 'Luxembourg', 'Berlin'])"
      ]
     },
     "execution_count": 35,
     "metadata": {},
     "output_type": "execute_result"
    }
   ],
   "source": [
    "country_to_capital.values()"
   ]
  },
  {
   "cell_type": "code",
   "execution_count": 36,
   "metadata": {
    "slideshow": {
     "slide_type": "fragment"
    }
   },
   "outputs": [
    {
     "data": {
      "text/plain": [
       "dict_items([('Afghanistan', 'Kabul'), ('Argentina', 'Buenos Aires'), ('Belarus', 'Minsk'), ('China', 'Beijing'), ('Luxembourg', 'Luxembourg'), ('Germany', 'Berlin')])"
      ]
     },
     "execution_count": 36,
     "metadata": {},
     "output_type": "execute_result"
    }
   ],
   "source": [
    "country_to_capital.items()"
   ]
  },
  {
   "cell_type": "code",
   "execution_count": 37,
   "metadata": {
    "slideshow": {
     "slide_type": "slide"
    }
   },
   "outputs": [
    {
     "data": {
      "text/plain": [
       "[('Afghanistan', 'Kabul'),\n",
       " ('Argentina', 'Buenos Aires'),\n",
       " ('Belarus', 'Minsk'),\n",
       " ('China', 'Beijing'),\n",
       " ('Luxembourg', 'Luxembourg'),\n",
       " ('Germany', 'Berlin')]"
      ]
     },
     "execution_count": 37,
     "metadata": {},
     "output_type": "execute_result"
    }
   ],
   "source": [
    "# konvertiere die items eines dictionaries in eine Liste von Tupeln\n",
    "list(country_to_capital.items())"
   ]
  },
  {
   "cell_type": "code",
   "execution_count": 38,
   "metadata": {
    "slideshow": {
     "slide_type": "fragment"
    }
   },
   "outputs": [
    {
     "data": {
      "text/plain": [
       "False"
      ]
     },
     "execution_count": 38,
     "metadata": {},
     "output_type": "execute_result"
    }
   ],
   "source": [
    "\"Denmark\" in country_to_capital.keys()"
   ]
  },
  {
   "cell_type": "code",
   "execution_count": 39,
   "metadata": {
    "slideshow": {
     "slide_type": "fragment"
    }
   },
   "outputs": [
    {
     "data": {
      "text/plain": [
       "False"
      ]
     },
     "execution_count": 39,
     "metadata": {},
     "output_type": "execute_result"
    }
   ],
   "source": [
    "\"Denmark\" in country_to_capital"
   ]
  },
  {
   "cell_type": "code",
   "execution_count": 40,
   "metadata": {
    "slideshow": {
     "slide_type": "fragment"
    }
   },
   "outputs": [
    {
     "data": {
      "text/plain": [
       "True"
      ]
     },
     "execution_count": 40,
     "metadata": {},
     "output_type": "execute_result"
    }
   ],
   "source": [
    "\"Kabul\" in country_to_capital.values()"
   ]
  },
  {
   "cell_type": "markdown",
   "metadata": {
    "slideshow": {
     "slide_type": "slide"
    }
   },
   "source": [
    "### `get(k[,d])`\n",
    "\n",
    "`dic.get(k)` liefert `dic[k]` zurück, falls `k` ein Schlüssel von `dic` und sonst `None` (default-Wert für optionalen Parameter `d`)"
   ]
  },
  {
   "cell_type": "code",
   "execution_count": 41,
   "metadata": {
    "slideshow": {
     "slide_type": "fragment"
    }
   },
   "outputs": [
    {
     "name": "stdout",
     "output_type": "stream",
     "text": [
      "None\n"
     ]
    }
   ],
   "source": [
    "print(country_to_capital.get(\"Denmark\"))"
   ]
  },
  {
   "cell_type": "code",
   "execution_count": 42,
   "metadata": {
    "slideshow": {
     "slide_type": "fragment"
    }
   },
   "outputs": [
    {
     "name": "stdout",
     "output_type": "stream",
     "text": [
      "Kabul\n"
     ]
    }
   ],
   "source": [
    "print(country_to_capital.get(\"Afghanistan\"))"
   ]
  },
  {
   "cell_type": "code",
   "execution_count": 43,
   "metadata": {
    "slideshow": {
     "slide_type": "fragment"
    }
   },
   "outputs": [
    {
     "name": "stdout",
     "output_type": "stream",
     "text": [
      "unknown\n"
     ]
    }
   ],
   "source": [
    "print(country_to_capital.get(\"Denmark\", \"unknown\"))"
   ]
  },
  {
   "cell_type": "markdown",
   "metadata": {
    "slideshow": {
     "slide_type": "slide"
    }
   },
   "source": [
    "# Module"
   ]
  },
  {
   "cell_type": "markdown",
   "metadata": {
    "slideshow": {
     "slide_type": "fragment"
    }
   },
   "source": [
    "## Modulares Design\n",
    "\n",
    "- zerlege ein komplexes Programm in logische Teilblöcke = Module\n",
    "- Bibliotheken (= libraries): stellen Datentypen oder Funktionen für alle Python-Programme bereit\n",
    "    - Standardbibliothek (built-in functions, types, constants, ...; sehr umfangreich; https://docs.python.org/3/library/) \n",
    "    - eigene Module\n",
    "    - Module von Drittanbietern\n",
    "- lokale Module: nur für ein lokales Programm verfügbar\n",
    "- Module werden allgemein häufig als Bibliotheken (libraries) bezeichnet "
   ]
  },
  {
   "cell_type": "markdown",
   "metadata": {
    "slideshow": {
     "slide_type": "slide"
    }
   },
   "source": [
    "## Module einbinden\n",
    "\n",
    "- Modul/Bibliothek muss installiert sein; wenn nicht, dann `pip install <module_name>` )oder über einen anderen Weg)\n",
    "- Achtung: Installation innerhalb der virtuellen Umgebung \n",
    "- Danach kann man das Modul importieren und verwenden"
   ]
  },
  {
   "cell_type": "markdown",
   "metadata": {
    "slideshow": {
     "slide_type": "slide"
    }
   },
   "source": [
    "## Aufgabe 1\n",
    "\n",
    "#### Funktionen und Schleifen\n",
    "\n",
    "(a) Schreiben Sie eine Funktion, welche eine Liste und eine Zahl als Inputparameter hat. Die Funktion gibt als Boolschen Wert zurück, ob die Zahl in der Liste enthalten ist. \n",
    "\n",
    "(b) Implementieren Sie die Funktion nun als binäre Suche, wobei der erste Inputparameter als geordnete Liste von Zahlen (von klein nach groß) vorausgesetzt wird.\n",
    "\n",
    "(c) Fügen Sie der Funktionen einen Docstring hinzu."
   ]
  },
  {
   "cell_type": "markdown",
   "metadata": {
    "slideshow": {
     "slide_type": "slide"
    }
   },
   "source": [
    "## Aufgabe 2\n",
    "\n",
    "#### Funktionen, Verzweigungen und Schleifen\n",
    "\n",
    "(a) Schreiben Sie eine Funktion, welche drei Zahlen als Inputparameter erhält und die größte von ihnen zurückgibt.\n",
    "\n",
    "(b) Schreiben Sie eine Funktion, welche eine Liste von Zahlen bekommt und die Summe der Elemente zurückgibt.\n",
    "\n",
    "(c) Erweitern Sie die Funktion in (b), indem Sie beliebige Listen so verarbeiten, dass bei der Summenbildung nur die  Zahlen unter den Listenelementen berücksichtigt werden.\n"
   ]
  }
 ],
 "metadata": {
  "celltoolbar": "Slideshow",
  "kernelspec": {
   "display_name": "Python 3",
   "language": "python",
   "name": "python3"
  },
  "language_info": {
   "codemirror_mode": {
    "name": "ipython",
    "version": 3
   },
   "file_extension": ".py",
   "mimetype": "text/x-python",
   "name": "python",
   "nbconvert_exporter": "python",
   "pygments_lexer": "ipython3",
   "version": "3.6.5"
  }
 },
 "nbformat": 4,
 "nbformat_minor": 2
}
