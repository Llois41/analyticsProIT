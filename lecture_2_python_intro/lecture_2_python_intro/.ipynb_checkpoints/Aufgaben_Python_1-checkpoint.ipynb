{
 "cells": [
  {
   "cell_type": "markdown",
   "metadata": {},
   "source": [
    "# Aufgaben Python Woche 1"
   ]
  },
  {
   "cell_type": "markdown",
   "metadata": {},
   "source": [
    "## Aufgabe 1\n",
    "\n",
    "Welche der folgenden Anweisungen in der Python-Shell sind richtig und welche nicht? Erklären Sie im Falle der inkorrekten Anweisungen, worin das Problem besteht.\n",
    "\n",
    "```python\n",
    "\n",
    ">>> t = (4, 7, 9)\n",
    ">>> s = \"Die Sonne scheint\"\n",
    ">>> l = [34, 22.1,\"777\",[3, 4]]\n",
    ">>> t2 = (4, 8, [45, 91])\n",
    ">>> t[0]\n",
    ">>> t[3]\n",
    ">>> t(3)\n",
    ">>> s[4]\n",
    ">>> s[4] = \"x\"\n",
    ">>> l[2][0] = \"g\"\n",
    ">>> l[3][0] = \"h\"\n",
    ">>> l\n",
    ">>> t2[2][0] = 23\n",
    "```\n"
   ]
  },
  {
   "cell_type": "markdown",
   "metadata": {},
   "source": [
    "## Aufgabe 2\n",
    "#### Slicing-Operator auf sequentiellen Datentypen\n",
    "\n",
    "Welche zwei Sätze verbergen sich hinter dem folgenden Buchstabensalat \n",
    "\n",
    "<pre>\n",
    "\"IY otuh ihnakv ei ta  ipsr oac endeuwr ef ewaittuhr e1.0  Dpoanr'atm etteelrls ?a nyyooun ep riotb awbalsy  amni sascecdi dseonmte..\"\n",
    "</pre>"
   ]
  },
  {
   "cell_type": "markdown",
   "metadata": {},
   "source": [
    "## Aufgabe 3\n",
    "\n",
    "#### Verzweigungen mit Vergleichsoperatoren und Boolschen Operatoren\n",
    " \n",
    "(a) Schreiben Sie ein Programm, welches die Userin auffordert, eine Farbe oder einen Anfangsbuchtaben einer Farbe einzugeben. Ist die Farbe 'schwarz' oder 'grau', soll der Satz 'Die Farbe ist etwas langweilig' ausgegeben werden. Fängt die Farbe mit dem Buchstaben 'b' oder 'g' an, soll eine andere Aussage ausgegeben werden (suchen Sie sich selbst eine aus :-)). \n",
    "\n",
    "(b) Erweitern Sie das Programm so, dass sowohl Groß- als auch Kleinschreibung akzeptiert wird. Hinweis: verwenden Sie dafür die String-Methode `lower()`, welche Sie folgender verwenden können: \n",
    "\n",
    "```python\n",
    ">>> 'sRt'.lower()\n",
    "'srt'\n",
    "```\n",
    "\n",
    "(c) Überlegen Sie sich eine Zahl und speichern Sie diese in einer Variable `my_lucky_number`. Ihr Programm soll nun die Userin auffordern, eine Zahl einzugeben. Ist die Zahl größer als der Wert Ihrer erdachten Zahl, soll 'Die eingegebene Zahl ist zu groß' ausgegeben werden. Entsprechende Sätze sollen für die anderen beiden Fälle (identisch mit der Zahl und kleiner als die Zahl) ausgegeben werden. Hinweis: die Funktion `input()` gibt einen string zurück, den Sie mit Hilfe einer Typ-ändernden Funktion konvertieren müssen."
   ]
  },
  {
   "cell_type": "markdown",
   "metadata": {},
   "source": [
    "## Aufgabe 4\n",
    "\n",
    "#### Schleifen mit Vergleichsoperatoren\n",
    "\n",
    "(a) Schreiben Sie ein Programm, welches den User auffordert, Ihre Glückszahl zu erraten (diese überlegen Sie sich selbst). Falls die Antwort korrekt ist, stoppt das Programm und gibt einen passenden Satz aus. Ansonsten wird die Aufforderung wiederholt.\n",
    "\n",
    "(b) Passen Sie das Programm aus (a) so an, dass der User zusätzlich gefragt wird, ob er nur einmal raten möchte. Verwenden Sie für die beiden Antworten des Users jeweils eine Variable. Das Programm stoppt, falls der User die richtige Zahl errät oder auf die zusätzliche Frage mit 'ja' geantwortet hat.\n",
    "\n",
    "(c) Passen SIe das Programm aus (b) so an, dass der User eine maximale Anzahl von Versuchen angeben kann. Er wird höchstens so oft aufgefordert, die richtige Zahl zu erraten."
   ]
  },
  {
   "cell_type": "markdown",
   "metadata": {},
   "source": [
    "## Aufgabe 5\n",
    "\n",
    "#### `for`-Schleifen und Listen\n",
    "\n",
    "(a) Printen Sie alle Vielfachen von 11 zwischen 5 und 203. Verwenden Sie dafür die Funktion `range()`. \n",
    "\n",
    "(b) Schreiben Sie ein Programm, welches einen Input-String in umgekehrter Reihenfolge zurückgibt.\n",
    "\n",
    "(c) Erweitern Sie das Programm aus (b), indem Sie zwischen den einzelnen Zeichen das Zeichen '+' einbauen\n",
    "\n",
    "(d) Erweiter Sie das Programm aus (c), indem Sie zusätzlich prüfen, ob der eingegebene String der leere String '' ist. Falls ja, soll '+' ausgegeben werden."
   ]
  }
 ],
 "metadata": {
  "kernelspec": {
   "display_name": "Python 3",
   "language": "python",
   "name": "python3"
  },
  "language_info": {
   "codemirror_mode": {
    "name": "ipython",
    "version": 3
   },
   "file_extension": ".py",
   "mimetype": "text/x-python",
   "name": "python",
   "nbconvert_exporter": "python",
   "pygments_lexer": "ipython3",
   "version": "3.6.5"
  }
 },
 "nbformat": 4,
 "nbformat_minor": 2
}
