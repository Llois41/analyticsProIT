{
 "cells": [
  {
   "cell_type": "markdown",
   "metadata": {
    "slideshow": {
     "slide_type": "slide"
    }
   },
   "source": [
    "<style>\n",
    "body {\n",
    "    font-size: 1.7em;\n",
    "} \n",
    "\n",
    ".rendered_html h1 {\n",
    "  font-size: 3.8em;\n",
    "}\n",
    "\n",
    ".rendered_html h2 {\n",
    "  font-size: 2.2em;\n",
    "}\n",
    "\n",
    ".rendered_html h3 {\n",
    "  font-size: 1.8em;\n",
    "}\n",
    "\n",
    ".rendered_html h4 {\n",
    "  font-size: 1.4em;\n",
    "}\n",
    "\n",
    "div.slides {\n",
    "width: 1920px;\n",
    "height: 1080px;\n",
    "}\n",
    "\n",
    "</style>\n",
    "\n",
    "# <font color=\"#BD1550\">Machine Learning: Einführung</font>\n",
    "\n",
    "-------\n",
    "### Prof. Dr. Helena Mihaljević\n",
    "#### WS 2018/19\n"
   ]
  },
  {
   "cell_type": "markdown",
   "metadata": {
    "slideshow": {
     "slide_type": "subslide"
    }
   },
   "source": [
    "## Lernen aus Daten\n",
    "\n",
    "* \"Synonyme\": *Predictive Analytics* oder *Statistical Learning*\n",
    "* Anwendungen von ML sind seit einigen Jahren Bestandteil des täglichen Lebens. \n",
    "* Beispiel Empfehlungen: welchen Film soll ich gucken? Welche Produkte soll ich kaufen?\n",
    "* Seiten wie die von Netflix, Amazon, Facebook oder Google basieren auf etlichen ML Modellen\n",
    "* Auch jenseits kommerzieller Anwendungen hat ML großen Einfluß auf die heutige Daten-getriebene Forschung und Wissenschaft, z.B. Verstehen von Sternen, Auffindung ferner Planeten, Analyze von DNA-Sequenzen oder personalisierte Behandlung von chronischen Krankheiten."
   ]
  },
  {
   "cell_type": "markdown",
   "metadata": {
    "slideshow": {
     "slide_type": "subslide"
    }
   },
   "source": [
    "## Wichtige Vorarbeit\n",
    "\n",
    "\n",
    "* Welche Frage versuche ich zu beantworten?\n",
    "* Können die vorhandenen Daten dafür verwendet werden? \n",
    "* Wie kann ich meine Frage möglichst gut als ein ML Problem formulieren?\n",
    "* Reicht die Datenmenge aus? Wie ist die Qualität der Daten?\n",
    "* Welche Variablen kann ich aus den Daten extrahieren, um eine gute Vorhersage zu erzielen?\n",
    "* Wie kann ich den Erfolg messen?\n",
    "* Wir wird der ML Algorithmus mit dem Rest des Produkts/Tools interagieren?"
   ]
  },
  {
   "cell_type": "markdown",
   "metadata": {
    "slideshow": {
     "slide_type": "slide"
    }
   },
   "source": [
    "<figure>\n",
    "    <img src=\"images/ml_overview.png\" alt=\"Drawing\" style=\"width: 800px;\"/> \n",
    "    <br>\n",
    "</figure>\n",
    "<small>https://medium.com/deep-math-machine-learning-ai/different-types-of-machine-learning-and-their-types-34760b9128a2</small>"
   ]
  },
  {
   "cell_type": "markdown",
   "metadata": {
    "slideshow": {
     "slide_type": "subslide"
    }
   },
   "source": [
    "## Typen von ML Algorithmen\n",
    "\n",
    "* **Supervised Learning** (Überwachtes Lernen)\n",
    "* **Unsupervised Learning** (Unüberwachtes Lernen)\n",
    "* **Reinforcement Learning**\n",
    "\n",
    "Wir werden v.a. die englischsprachigen Begriffe verwenden\n",
    "\n",
    "Supervised Learning und Unsupervised Learning werden am meisten angewendet; Reinforcement Learning ist sehr mächtig aber komplex anzuwenden.\n",
    "\n",
    "Unser Fokus: **Supervised Learning**"
   ]
  },
  {
   "cell_type": "markdown",
   "metadata": {
    "slideshow": {
     "slide_type": "subslide"
    }
   },
   "source": [
    "## Supervised Learning\n",
    "\n",
    "Automatisierung von Entschiedungsprozessen durch Lernen aus bekannten Beispielen\n",
    "\n",
    "Daten bestehen aus einer Output-Variable sowie einer oder mehreren Input-Variablen, welche Einfluß auf den Wert der Zielvariable haben\n",
    "\n",
    "Bsp. Vorhersage von Mietpreisen. Output: Preis; Input: Fläche, Alter/Baujahr, Deckenhöhe, Altbau: ja/nein, usw.\n",
    "\n",
    "Input-Variablen: **Prädiktoren**, **Features**, **unabhängige Variablen**; Output-Variable: **Ziel-Variable**, **abhängige Variable** \n",
    "\n",
    "ML Algorithmen werden **trainiert** mit Hilfe von **gelabelten** bzw. **markierten** Daten, d.h. zu jedem Datensatz ist der Wert der Output-Variable bekannt"
   ]
  },
  {
   "cell_type": "markdown",
   "metadata": {
    "slideshow": {
     "slide_type": "subslide"
    }
   },
   "source": [
    "Der trainierte Algorithmus ist in der Lage, für ungesehene Daten einen Wert für die Ziel-Variable **vorherzusagen**\n",
    "\n",
    "Wenn 'alles gut lief', macht der Algorithmus nur 'geringe Fehler' auf ungesehenen Daten\n",
    "\n",
    "SL Algorithmen sind gut verstanden. Wenn das zu lösende Problem als SL formuliert werden kann, und wir gute (und viele) Daten haben, ist es wahrscheinlich, dass wir einen effizienten SL Algorithmus trainieren können"
   ]
  },
  {
   "cell_type": "markdown",
   "metadata": {
    "slideshow": {
     "slide_type": "slide"
    }
   },
   "source": [
    "# Beispiele"
   ]
  },
  {
   "cell_type": "markdown",
   "metadata": {
    "slideshow": {
     "slide_type": "subslide"
    }
   },
   "source": [
    "### Erkennung von handgeschriebenen Postleitzahlen \n",
    "\n",
    "* Input: Scan der handgeschriebenen PLZ \n",
    "* Output: numerische Darstellung der PLZ\n",
    "* Notwendige Vorarbeit: \n",
    "    * Umschläge sammeln und scannen\n",
    "    * Gescannte PLZen lesen und Zahlenwerte speichern\n",
    "* Modellierung: was sollen die Input-Variablen sein? Übersetzung: Scan --> Input-Variablen"
   ]
  },
  {
   "cell_type": "markdown",
   "metadata": {
    "slideshow": {
     "slide_type": "subslide"
    }
   },
   "source": [
    "### Entscheidung, ob ein Tumor gut- oder bösartig ist basierned auf CT-Bildern \n",
    "\n",
    "* Input: CT-Bild\n",
    "* Output: gutartig/bösartig\n",
    "* Notwendige Vorarbeit: \n",
    "    * viele CT-Aufnahmen sammeln\n",
    "    * Ärztliche Auswertung der Bilder; ggf. weitere Untersuchungen"
   ]
  },
  {
   "cell_type": "markdown",
   "metadata": {
    "slideshow": {
     "slide_type": "subslide"
    }
   },
   "source": [
    "\n",
    "### Erkennung von Betrugsversuchen mit Hilfe von Kreditkarten-Transaktionen \n",
    "\n",
    "* Input: Transaktionsdaten (z.B: wieivel Geld? wann? von wo?)\n",
    "* Output: Betrug/kein Betrug\n",
    "* Notwendige Vorarbeit: \n",
    "    * Speicherung von Daten zu Transaktionen \n",
    "    * Speichern, ob Nutzerin Betrug gemeldet hat"
   ]
  },
  {
   "cell_type": "markdown",
   "metadata": {
    "slideshow": {
     "slide_type": "subslide"
    }
   },
   "source": [
    "## Labeln von Daten\n",
    "\n",
    "* häufig ein Arbeitsaufwendiger Prozess --> hohe Kosten\n",
    "* Aufwand hängt vom Anwendungsfall ab:\n",
    "    * Briefumschläge lesen ist arbeitsaufwendig aber erfordert keine Expertise\n",
    "    * Erstellung von CT-Bildern benötigt teure Geräte, Interpretation erfordert seltene Expertise. Datenschutz und ethische Bedenken zu beachten.\n",
    "    * Daten zu Kreditkarten-Betrug werden mit wenig Aufwand und Kosten erstellt, man muss nur warten."
   ]
  },
  {
   "cell_type": "markdown",
   "metadata": {
    "slideshow": {
     "slide_type": "slide"
    }
   },
   "source": [
    "### Beispiel: Klassifikation von Lilien\n",
    "-----\n",
    "<figure>\n",
    "    <img src=\"images/lily_petal_sepal.jpg\" alt=\"Drawing\" style=\"width: 500px;\"/> \n",
    "    <br>\n",
    "</figure>\n"
   ]
  },
  {
   "cell_type": "code",
   "execution_count": 1,
   "metadata": {
    "slideshow": {
     "slide_type": "subslide"
    }
   },
   "outputs": [],
   "source": [
    "# Lade den Datensatz\n",
    "from sklearn.datasets import load_iris\n",
    "iris = load_iris()"
   ]
  },
  {
   "cell_type": "code",
   "execution_count": 2,
   "metadata": {
    "slideshow": {
     "slide_type": "fragment"
    }
   },
   "outputs": [
    {
     "data": {
      "text/plain": [
       "dict_keys(['data', 'target', 'target_names', 'DESCR', 'feature_names'])"
      ]
     },
     "execution_count": 2,
     "metadata": {},
     "output_type": "execute_result"
    }
   ],
   "source": [
    "# Was steckt im Datensatz?\n",
    "iris.keys()"
   ]
  },
  {
   "cell_type": "code",
   "execution_count": 3,
   "metadata": {
    "slideshow": {
     "slide_type": "fragment"
    }
   },
   "outputs": [
    {
     "data": {
      "text/plain": [
       "array(['setosa', 'versicolor', 'virginica'], dtype='<U10')"
      ]
     },
     "execution_count": 3,
     "metadata": {},
     "output_type": "execute_result"
    }
   ],
   "source": [
    "# Mögliche Werte für die Ziel-Variable\n",
    "iris.target_names"
   ]
  },
  {
   "cell_type": "code",
   "execution_count": 4,
   "metadata": {
    "slideshow": {
     "slide_type": "subslide"
    }
   },
   "outputs": [],
   "source": [
    "import pandas as pd\n",
    "# Erstelle einen DataFrame mit Input-Variablen und der Ziel-Variable als Spalten\n",
    "df = pd.DataFrame(iris.data, columns=iris.feature_names)\n",
    "df['output'] = iris.target"
   ]
  },
  {
   "cell_type": "code",
   "execution_count": 5,
   "metadata": {
    "slideshow": {
     "slide_type": "fragment"
    }
   },
   "outputs": [
    {
     "data": {
      "text/html": [
       "<div>\n",
       "<style scoped>\n",
       "    .dataframe tbody tr th:only-of-type {\n",
       "        vertical-align: middle;\n",
       "    }\n",
       "\n",
       "    .dataframe tbody tr th {\n",
       "        vertical-align: top;\n",
       "    }\n",
       "\n",
       "    .dataframe thead th {\n",
       "        text-align: right;\n",
       "    }\n",
       "</style>\n",
       "<table border=\"1\" class=\"dataframe\">\n",
       "  <thead>\n",
       "    <tr style=\"text-align: right;\">\n",
       "      <th></th>\n",
       "      <th>sepal length (cm)</th>\n",
       "      <th>sepal width (cm)</th>\n",
       "      <th>petal length (cm)</th>\n",
       "      <th>petal width (cm)</th>\n",
       "      <th>output</th>\n",
       "    </tr>\n",
       "  </thead>\n",
       "  <tbody>\n",
       "    <tr>\n",
       "      <th>23</th>\n",
       "      <td>5.1</td>\n",
       "      <td>3.3</td>\n",
       "      <td>1.7</td>\n",
       "      <td>0.5</td>\n",
       "      <td>0</td>\n",
       "    </tr>\n",
       "    <tr>\n",
       "      <th>61</th>\n",
       "      <td>5.9</td>\n",
       "      <td>3.0</td>\n",
       "      <td>4.2</td>\n",
       "      <td>1.5</td>\n",
       "      <td>1</td>\n",
       "    </tr>\n",
       "    <tr>\n",
       "      <th>106</th>\n",
       "      <td>4.9</td>\n",
       "      <td>2.5</td>\n",
       "      <td>4.5</td>\n",
       "      <td>1.7</td>\n",
       "      <td>2</td>\n",
       "    </tr>\n",
       "  </tbody>\n",
       "</table>\n",
       "</div>"
      ],
      "text/plain": [
       "     sepal length (cm)  sepal width (cm)  petal length (cm)  petal width (cm)  \\\n",
       "23                 5.1               3.3                1.7               0.5   \n",
       "61                 5.9               3.0                4.2               1.5   \n",
       "106                4.9               2.5                4.5               1.7   \n",
       "\n",
       "     output  \n",
       "23        0  \n",
       "61        1  \n",
       "106       2  "
      ]
     },
     "execution_count": 5,
     "metadata": {},
     "output_type": "execute_result"
    }
   ],
   "source": [
    "df.sample(3)"
   ]
  },
  {
   "cell_type": "markdown",
   "metadata": {
    "slideshow": {
     "slide_type": "subslide"
    }
   },
   "source": [
    "Wie können wir beurteilen, ob wir einem (ML) Algorithmus **vertrauen** können? Hierfür müssen wir ihn **evaluieren**, d.h. die Qualität seiner Vorhersagen messen.\n",
    "* **Auf welchen Daten?**\n",
    "* **Mit welcher Evaluationsmetrik?**"
   ]
  },
  {
   "cell_type": "markdown",
   "metadata": {
    "slideshow": {
     "slide_type": "fragment"
    }
   },
   "source": [
    "Daten für Evaluierung trennen von Daten für Modellbildung: ein **komplexer** Algorithmus könnte sich an alle Zuordnungen zwischen Input und Output **erinnern**. Der Algorithmus würde für alle Datenpunkte die richtige Lilienart zuordnen aber nicht gut auf neue Daten anwendebar sein (**Generalisierbarkeit**).\n",
    "\n",
    "**Trainingsmenge** wird für die Erstellung des Algorithmus verwendet; auf dem Rest, **Testmenge**, wird der Algorithmus evaluiert. \n",
    "\n",
    "Aufteilung der Daten sollte **zufällig** sein."
   ]
  },
  {
   "cell_type": "markdown",
   "metadata": {
    "slideshow": {
     "slide_type": "subslide"
    }
   },
   "source": [
    "## Trainings- und Test-Daten\n",
    "<figure>\n",
    "    <img src=\"images/petal_sepal_train_test.png\" alt=\"Drawing\" style=\"width: 400px;\"/> \n",
    "    <br>\n",
    "</figure>\n"
   ]
  },
  {
   "cell_type": "code",
   "execution_count": 6,
   "metadata": {
    "slideshow": {
     "slide_type": "subslide"
    }
   },
   "outputs": [],
   "source": [
    "# sklearn verfügt über eine Methode zum Splitten der Daten in Trainings- und Testmenge\n",
    "from sklearn.model_selection import train_test_split\n",
    "X, y = iris['data'], iris['target']\n",
    "# wenn der DataFrame benutzt werden soll\n",
    "# X, y = df.drop('output', axis=1), df['output']\n",
    "X_train, X_test, y_train, y_test = train_test_split(X, y, test_size=0.25, random_state=0)"
   ]
  },
  {
   "cell_type": "code",
   "execution_count": 7,
   "metadata": {
    "slideshow": {
     "slide_type": "fragment"
    }
   },
   "outputs": [
    {
     "name": "stdout",
     "output_type": "stream",
     "text": [
      "112 38\n"
     ]
    }
   ],
   "source": [
    "# Anzahl der Datensätze in der Trainings- bzw. Testmenge\n",
    "print(len(X_train), len(X_test))"
   ]
  },
  {
   "cell_type": "markdown",
   "metadata": {
    "slideshow": {
     "slide_type": "subslide"
    }
   },
   "source": [
    "# Evaluationsmetrik\n"
   ]
  },
  {
   "cell_type": "markdown",
   "metadata": {
    "slideshow": {
     "slide_type": "fragment"
    }
   },
   "source": [
    "**Accuracy**: einfachste Metrik; Anteil der Lilien, für welche der Algorithmus die richtige Lilienart vorhergesagt hat\n",
    "\n",
    "Es gibt noch viele mehr, aber die schauen wir uns zu einem späteren Zeitpunkt an"
   ]
  },
  {
   "cell_type": "markdown",
   "metadata": {
    "slideshow": {
     "slide_type": "slide"
    }
   },
   "source": [
    "# $k$ Nearest Neighbors"
   ]
  },
  {
   "cell_type": "markdown",
   "metadata": {
    "slideshow": {
     "slide_type": "fragment"
    }
   },
   "source": [
    "Sehr einfaches Verfahren.\n",
    "Idee: **zwei Datenpunkte mit geringem Abstand sind sich besonders ähnlich** und gehören somit vermutlich in die gleiche Klasse."
   ]
  },
  {
   "cell_type": "code",
   "execution_count": 8,
   "metadata": {
    "slideshow": {
     "slide_type": "subslide"
    }
   },
   "outputs": [],
   "source": [
    "import seaborn as sns\n",
    "sns.set(color_codes=True)\n",
    "sns.set(style=\"darkgrid\")\n",
    "sns.set_context(\"paper\", font_scale=1.5)\n",
    "\n",
    "import matplotlib\n",
    "import matplotlib.pyplot as plt\n",
    "\n",
    "font = {'family' : 'serif',\n",
    "        'size'   : 28}\n",
    "\n",
    "matplotlib.rc('font', **font)"
   ]
  },
  {
   "cell_type": "code",
   "execution_count": 9,
   "metadata": {
    "slideshow": {
     "slide_type": "fragment"
    }
   },
   "outputs": [],
   "source": [
    "sns_iris = sns.load_dataset(\"iris\")\n",
    "sns_iris = sns_iris[sns_iris.species!='setosa']\n"
   ]
  },
  {
   "cell_type": "markdown",
   "metadata": {
    "slideshow": {
     "slide_type": "subslide"
    }
   },
   "source": [
    "## 1-nearest neighbor(s)\n",
    "\n",
    "<figure>\n",
    "    <img src=\"images/1_nearest_neighbor.png\" alt=\"Drawing\" style=\"width: 600px;\"/> \n",
    "    <br>\n",
    "</figure>"
   ]
  },
  {
   "cell_type": "markdown",
   "metadata": {
    "slideshow": {
     "slide_type": "subslide"
    }
   },
   "source": [
    "1. **Training**: Speichere die Trainingsmenge $x_{1}, \\ldots , x_{m}$.\n",
    "2. Sei $x$ ein nicht-gelabelter Datenpunkt (z.B. aus der Testmenge und wir ignorieren sein Label). Berechne für alle Objekte in der Trainingsmenge den Abstand zu $x$.\n",
    "3. Wähle den nächsten Trainigspunkt, d.h. wähle denjenigen Datensatz $x_{i}$ aus der Trainingsmenge, welcher den geringsten Abstand zu $x$ hat. \n",
    "4. Klassifiziere $x$ in die gleiche Klasse wie $x_{i}$."
   ]
  },
  {
   "cell_type": "markdown",
   "metadata": {
    "slideshow": {
     "slide_type": "subslide"
    }
   },
   "source": [
    "## Verallgemeinerung: $k$-nearest neighbors (hier: $k=3$)\n",
    "\n",
    "<figure>\n",
    "    <img src=\"images/3_nearest_neighbor.png\" alt=\"Drawing\" style=\"width: 600px;\"/> \n",
    "    <br>\n",
    "</figure>"
   ]
  },
  {
   "cell_type": "markdown",
   "metadata": {
    "slideshow": {
     "slide_type": "subslide"
    }
   },
   "source": [
    "1. **Training**: Speichere die Trainingsmenge $x_{^1}, \\ldots , x_{m}$.\n",
    "2. Sei $x$ ein nicht-gelabelter Datenpunkt. Berechne für alle Objekte in der Trainingsmenge den Abstand zu $x$.\n",
    "3. Wähle denjenigen $k$ Datensätze aus der Trainingsmenge, die den geringensten Abstand zu $x$ haben. \n",
    "4. Klassifiziere $x$ in diejenige Klasse, welche am häufigsten unter den am nächsten gelegenen Nachbarn vorkommt (*majority vote* = Modus). \n"
   ]
  },
  {
   "cell_type": "markdown",
   "metadata": {
    "slideshow": {
     "slide_type": "subslide"
    }
   },
   "source": [
    "# Implementierung in `scikit-learn`\n"
   ]
  },
  {
   "cell_type": "markdown",
   "metadata": {
    "slideshow": {
     "slide_type": "notes"
    }
   },
   "source": [
    "* Alle ML Modelle in `scikit-learn` sind als eigene Klassen implementiert \n",
    "\n",
    "* kNN Klassifikator ist implementiert in der Klasse `KNeighborsClassifier` im Modul `neighbors` "
   ]
  },
  {
   "cell_type": "code",
   "execution_count": 10,
   "metadata": {
    "slideshow": {
     "slide_type": "fragment"
    }
   },
   "outputs": [],
   "source": [
    "from sklearn.neighbors import KNeighborsClassifier\n",
    "knn = KNeighborsClassifier(n_neighbors=1)"
   ]
  },
  {
   "cell_type": "code",
   "execution_count": 11,
   "metadata": {
    "slideshow": {
     "slide_type": "fragment"
    }
   },
   "outputs": [
    {
     "data": {
      "text/plain": [
       "KNeighborsClassifier(algorithm='auto', leaf_size=30, metric='minkowski',\n",
       "           metric_params=None, n_jobs=1, n_neighbors=1, p=2,\n",
       "           weights='uniform')"
      ]
     },
     "execution_count": 11,
     "metadata": {},
     "output_type": "execute_result"
    }
   ],
   "source": [
    "knn.fit(X_train, y_train)"
   ]
  },
  {
   "cell_type": "code",
   "execution_count": 12,
   "metadata": {
    "slideshow": {
     "slide_type": "subslide"
    }
   },
   "outputs": [
    {
     "name": "stdout",
     "output_type": "stream",
     "text": [
      "X_new.shape: (1, 4)\n"
     ]
    }
   ],
   "source": [
    "import numpy as np\n",
    "X_new = np.array([[5, 2.9, 1, 0.2]]) # needs to be a 2-dim numpy array for sklearn\n",
    "print(f\"X_new.shape: {X_new.shape}\")"
   ]
  },
  {
   "cell_type": "code",
   "execution_count": 13,
   "metadata": {
    "slideshow": {
     "slide_type": "fragment"
    }
   },
   "outputs": [
    {
     "name": "stdout",
     "output_type": "stream",
     "text": [
      "Predicted output name: ['setosa']\n"
     ]
    }
   ],
   "source": [
    "predicted_class = knn.predict(X_new) # encoded as an integer 0, 1 or 2\n",
    "predicted_class_name = iris['target_names'][predicted_class] # corresponding class name\n",
    "print(f\"Predicted output name: {predicted_class_name}\")"
   ]
  },
  {
   "cell_type": "code",
   "execution_count": 14,
   "metadata": {
    "slideshow": {
     "slide_type": "subslide"
    }
   },
   "outputs": [
    {
     "data": {
      "text/plain": [
       "0.9736842105263158"
      ]
     },
     "execution_count": 14,
     "metadata": {},
     "output_type": "execute_result"
    }
   ],
   "source": [
    "knn.score(X_test, y_test)"
   ]
  },
  {
   "cell_type": "code",
   "execution_count": 15,
   "metadata": {
    "slideshow": {
     "slide_type": "fragment"
    }
   },
   "outputs": [],
   "source": [
    "test_data = pd.DataFrame(X_test, columns=iris.feature_names)\n",
    "test_data['output'] = y_test\n",
    "test_data['pred_output'] = knn.predict(X_test)"
   ]
  },
  {
   "cell_type": "code",
   "execution_count": 16,
   "metadata": {
    "slideshow": {
     "slide_type": "fragment"
    }
   },
   "outputs": [
    {
     "data": {
      "text/html": [
       "<div>\n",
       "<style scoped>\n",
       "    .dataframe tbody tr th:only-of-type {\n",
       "        vertical-align: middle;\n",
       "    }\n",
       "\n",
       "    .dataframe tbody tr th {\n",
       "        vertical-align: top;\n",
       "    }\n",
       "\n",
       "    .dataframe thead th {\n",
       "        text-align: right;\n",
       "    }\n",
       "</style>\n",
       "<table border=\"1\" class=\"dataframe\">\n",
       "  <thead>\n",
       "    <tr style=\"text-align: right;\">\n",
       "      <th></th>\n",
       "      <th>sepal length (cm)</th>\n",
       "      <th>sepal width (cm)</th>\n",
       "      <th>petal length (cm)</th>\n",
       "      <th>petal width (cm)</th>\n",
       "      <th>output</th>\n",
       "      <th>pred_output</th>\n",
       "    </tr>\n",
       "  </thead>\n",
       "  <tbody>\n",
       "    <tr>\n",
       "      <th>16</th>\n",
       "      <td>6.0</td>\n",
       "      <td>2.9</td>\n",
       "      <td>4.5</td>\n",
       "      <td>1.5</td>\n",
       "      <td>1</td>\n",
       "      <td>1</td>\n",
       "    </tr>\n",
       "    <tr>\n",
       "      <th>26</th>\n",
       "      <td>5.1</td>\n",
       "      <td>3.8</td>\n",
       "      <td>1.9</td>\n",
       "      <td>0.4</td>\n",
       "      <td>0</td>\n",
       "      <td>0</td>\n",
       "    </tr>\n",
       "  </tbody>\n",
       "</table>\n",
       "</div>"
      ],
      "text/plain": [
       "    sepal length (cm)  sepal width (cm)  petal length (cm)  petal width (cm)  \\\n",
       "16                6.0               2.9                4.5               1.5   \n",
       "26                5.1               3.8                1.9               0.4   \n",
       "\n",
       "    output  pred_output  \n",
       "16       1            1  \n",
       "26       0            0  "
      ]
     },
     "execution_count": 16,
     "metadata": {},
     "output_type": "execute_result"
    }
   ],
   "source": [
    "test_data.sample(2)"
   ]
  },
  {
   "cell_type": "code",
   "execution_count": 17,
   "metadata": {
    "slideshow": {
     "slide_type": "subslide"
    }
   },
   "outputs": [
    {
     "data": {
      "text/html": [
       "<div>\n",
       "<style scoped>\n",
       "    .dataframe tbody tr th:only-of-type {\n",
       "        vertical-align: middle;\n",
       "    }\n",
       "\n",
       "    .dataframe tbody tr th {\n",
       "        vertical-align: top;\n",
       "    }\n",
       "\n",
       "    .dataframe thead th {\n",
       "        text-align: right;\n",
       "    }\n",
       "</style>\n",
       "<table border=\"1\" class=\"dataframe\">\n",
       "  <thead>\n",
       "    <tr style=\"text-align: right;\">\n",
       "      <th></th>\n",
       "      <th>sepal length (cm)</th>\n",
       "      <th>sepal width (cm)</th>\n",
       "      <th>petal length (cm)</th>\n",
       "      <th>petal width (cm)</th>\n",
       "      <th>output</th>\n",
       "      <th>pred_output</th>\n",
       "    </tr>\n",
       "  </thead>\n",
       "  <tbody>\n",
       "    <tr>\n",
       "      <th>37</th>\n",
       "      <td>6.0</td>\n",
       "      <td>2.7</td>\n",
       "      <td>5.1</td>\n",
       "      <td>1.6</td>\n",
       "      <td>1</td>\n",
       "      <td>2</td>\n",
       "    </tr>\n",
       "  </tbody>\n",
       "</table>\n",
       "</div>"
      ],
      "text/plain": [
       "    sepal length (cm)  sepal width (cm)  petal length (cm)  petal width (cm)  \\\n",
       "37                6.0               2.7                5.1               1.6   \n",
       "\n",
       "    output  pred_output  \n",
       "37       1            2  "
      ]
     },
     "execution_count": 17,
     "metadata": {},
     "output_type": "execute_result"
    }
   ],
   "source": [
    "test_data[test_data['output']!=test_data['pred_output']]"
   ]
  },
  {
   "cell_type": "markdown",
   "metadata": {
    "slideshow": {
     "slide_type": "subslide"
    }
   },
   "source": [
    "## Welche Voraussetzung müssen die Daten erfüllen, damit $k$-NN angewendet werden kann?"
   ]
  },
  {
   "cell_type": "markdown",
   "metadata": {
    "slideshow": {
     "slide_type": "fragment"
    }
   },
   "source": [
    "Auf den Daten muss eine **Distanzfunktion** gegeben sein. Genauer: es muss eine Funktion $d$ geben, mit der Eigenschaft:\n",
    "\n",
    "1. $d(z, w) >=0$ \n",
    "2. $d(z, z) = 0$\n",
    "3. $d(z, w) = d(w, z)$ (Symmetrie)\n",
    "4. $d(z, w) <= d(z, s) + d(s, w)$ (Dreiecksungleichung)\n"
   ]
  },
  {
   "cell_type": "markdown",
   "metadata": {
    "slideshow": {
     "slide_type": "subslide"
    }
   },
   "source": [
    "## Einige typische Distanzfunktionen\n",
    "\n",
    "<figure>\n",
    "    <img src=\"images/distance_metrics.png\" alt=\"Drawing\" style=\"width: 700px;\"/> \n",
    "    <br>\n",
    "</figure>"
   ]
  },
  {
   "cell_type": "markdown",
   "metadata": {
    "slideshow": {
     "slide_type": "subslide"
    }
   },
   "source": [
    "\n",
    "* **Euklidische Distanz**\n",
    "$$d_E(z, w) = \\sqrt{\\sum_i (z_i - w_i)^2}$$\n",
    "\n",
    "* **Manhattan Distanz**\n",
    "$$d_{\\text{Man}}(z, w) = \\sum_i |z_i - w_i|$$\n",
    "\n",
    "* **Maximum Distanz**\n",
    "$$d_{\\text{Max}}(z, w) = \\text{max}_i(|z_i - w_i|)$$\n",
    "\n"
   ]
  },
  {
   "cell_type": "markdown",
   "metadata": {
    "slideshow": {
     "slide_type": "fragment"
    }
   },
   "source": [
    "$k$-NN in `scikit-learn` verwendet per default die Euklidische Abstandsfunktion. \n",
    "\n",
    "Für mehr Distanzfunktionen in `scikit-learn`: http://scikit-learn.org/stable/modules/generated/sklearn.neighbors.DistanceMetric.html"
   ]
  },
  {
   "cell_type": "markdown",
   "metadata": {
    "slideshow": {
     "slide_type": "slide"
    }
   },
   "source": [
    "# Normalisierung von Daten"
   ]
  },
  {
   "cell_type": "code",
   "execution_count": 18,
   "metadata": {
    "slideshow": {
     "slide_type": "subslide"
    }
   },
   "outputs": [
    {
     "data": {
      "text/html": [
       "<div>\n",
       "<style scoped>\n",
       "    .dataframe tbody tr th:only-of-type {\n",
       "        vertical-align: middle;\n",
       "    }\n",
       "\n",
       "    .dataframe tbody tr th {\n",
       "        vertical-align: top;\n",
       "    }\n",
       "\n",
       "    .dataframe thead th {\n",
       "        text-align: right;\n",
       "    }\n",
       "</style>\n",
       "<table border=\"1\" class=\"dataframe\">\n",
       "  <thead>\n",
       "    <tr style=\"text-align: right;\">\n",
       "      <th></th>\n",
       "      <th>alter</th>\n",
       "      <th>akad_abschluss</th>\n",
       "      <th>einkommensklasse</th>\n",
       "    </tr>\n",
       "  </thead>\n",
       "  <tbody>\n",
       "    <tr>\n",
       "      <th>0</th>\n",
       "      <td>61</td>\n",
       "      <td>1</td>\n",
       "      <td>hoch</td>\n",
       "    </tr>\n",
       "    <tr>\n",
       "      <th>1</th>\n",
       "      <td>55</td>\n",
       "      <td>0</td>\n",
       "      <td>gering</td>\n",
       "    </tr>\n",
       "    <tr>\n",
       "      <th>2</th>\n",
       "      <td>39</td>\n",
       "      <td>0</td>\n",
       "      <td>gering</td>\n",
       "    </tr>\n",
       "    <tr>\n",
       "      <th>3</th>\n",
       "      <td>30</td>\n",
       "      <td>1</td>\n",
       "      <td>hoch</td>\n",
       "    </tr>\n",
       "    <tr>\n",
       "      <th>4</th>\n",
       "      <td>37</td>\n",
       "      <td>1</td>\n",
       "      <td>hoch</td>\n",
       "    </tr>\n",
       "    <tr>\n",
       "      <th>5</th>\n",
       "      <td>21</td>\n",
       "      <td>0</td>\n",
       "      <td>gering</td>\n",
       "    </tr>\n",
       "    <tr>\n",
       "      <th>6</th>\n",
       "      <td>44</td>\n",
       "      <td>0</td>\n",
       "      <td>gering</td>\n",
       "    </tr>\n",
       "    <tr>\n",
       "      <th>7</th>\n",
       "      <td>53</td>\n",
       "      <td>1</td>\n",
       "      <td>hoch</td>\n",
       "    </tr>\n",
       "  </tbody>\n",
       "</table>\n",
       "</div>"
      ],
      "text/plain": [
       "   alter  akad_abschluss einkommensklasse\n",
       "0     61               1             hoch\n",
       "1     55               0           gering\n",
       "2     39               0           gering\n",
       "3     30               1             hoch\n",
       "4     37               1             hoch\n",
       "5     21               0           gering\n",
       "6     44               0           gering\n",
       "7     53               1             hoch"
      ]
     },
     "execution_count": 18,
     "metadata": {},
     "output_type": "execute_result"
    }
   ],
   "source": [
    "# Einfache Idee: akademischer Abschluss führt zu hohem Einkommen\n",
    "cols = ['alter', 'akad_abschluss', 'einkommensklasse']\n",
    "data = pd.DataFrame([[61, 1, 'hoch'], [55, 0, 'gering'], [39, 0, 'gering'], [30, 1, 'hoch'], [37, 1, 'hoch'], [21, 0, 'gering'], [44, 0, 'gering'], [53, 1, 'hoch']], columns=cols)\n",
    "data"
   ]
  },
  {
   "cell_type": "markdown",
   "metadata": {
    "slideshow": {
     "slide_type": "subslide"
    }
   },
   "source": [
    "Euklidische Distanz macht hier zunächst keinen Sinn, denn die Variable `alter` dominiert:"
   ]
  },
  {
   "cell_type": "code",
   "execution_count": 19,
   "metadata": {
    "slideshow": {
     "slide_type": "fragment"
    }
   },
   "outputs": [
    {
     "data": {
      "image/png": "[encoded data removed]",
      "text/plain": [
       "<Figure size 1296x576 with 1 Axes>"
      ]
     },
     "metadata": {},
     "output_type": "display_data"
    }
   ],
   "source": [
    "fig, ax = plt.subplots(1, 1, figsize=(18,8))\n",
    "sns.scatterplot(x=\"alter\", y=\"akad_abschluss\", hue=\"einkommensklasse\",data=data, legend=False, size=100, sizes=(100,100))\n",
    "plt.gca().set_aspect('equal', adjustable='box')\n",
    "plt.plot(23, 1, marker='o', markersize=9, color='black')\n",
    "ax.set(ylim=(-2, 3), title='');\n"
   ]
  },
  {
   "cell_type": "code",
   "execution_count": 20,
   "metadata": {
    "slideshow": {
     "slide_type": "subslide"
    }
   },
   "outputs": [
    {
     "data": {
      "text/plain": [
       "array(['gering'], dtype=object)"
      ]
     },
     "execution_count": 20,
     "metadata": {},
     "output_type": "execute_result"
    }
   ],
   "source": [
    "knn = KNeighborsClassifier(n_neighbors=1)\n",
    "knn.fit(data.drop('einkommensklasse', axis=1), data['einkommensklasse'])\n",
    "knn.predict([[23, 1]])"
   ]
  },
  {
   "cell_type": "markdown",
   "metadata": {
    "slideshow": {
     "slide_type": "fragment"
    }
   },
   "source": [
    "Lösung: **Normalisierung** bzw. **Skalierung** der Daten, so dass sie im gleichen Wertebereich liegen"
   ]
  },
  {
   "cell_type": "code",
   "execution_count": 21,
   "metadata": {
    "scrolled": true,
    "slideshow": {
     "slide_type": "subslide"
    }
   },
   "outputs": [
    {
     "data": {
      "text/html": [
       "<div>\n",
       "<style scoped>\n",
       "    .dataframe tbody tr th:only-of-type {\n",
       "        vertical-align: middle;\n",
       "    }\n",
       "\n",
       "    .dataframe tbody tr th {\n",
       "        vertical-align: top;\n",
       "    }\n",
       "\n",
       "    .dataframe thead th {\n",
       "        text-align: right;\n",
       "    }\n",
       "</style>\n",
       "<table border=\"1\" class=\"dataframe\">\n",
       "  <thead>\n",
       "    <tr style=\"text-align: right;\">\n",
       "      <th></th>\n",
       "      <th>alter</th>\n",
       "      <th>akad_abschluss</th>\n",
       "      <th>einkommensklasse</th>\n",
       "    </tr>\n",
       "  </thead>\n",
       "  <tbody>\n",
       "    <tr>\n",
       "      <th>7</th>\n",
       "      <td>0.800</td>\n",
       "      <td>1.0</td>\n",
       "      <td>hoch</td>\n",
       "    </tr>\n",
       "    <tr>\n",
       "      <th>0</th>\n",
       "      <td>1.000</td>\n",
       "      <td>1.0</td>\n",
       "      <td>hoch</td>\n",
       "    </tr>\n",
       "    <tr>\n",
       "      <th>3</th>\n",
       "      <td>0.225</td>\n",
       "      <td>1.0</td>\n",
       "      <td>hoch</td>\n",
       "    </tr>\n",
       "  </tbody>\n",
       "</table>\n",
       "</div>"
      ],
      "text/plain": [
       "   alter  akad_abschluss einkommensklasse\n",
       "7  0.800             1.0             hoch\n",
       "0  1.000             1.0             hoch\n",
       "3  0.225             1.0             hoch"
      ]
     },
     "execution_count": 21,
     "metadata": {},
     "output_type": "execute_result"
    }
   ],
   "source": [
    "from sklearn.preprocessing import MinMaxScaler\n",
    "scaler = MinMaxScaler()\n",
    "data_scaled = scaler.fit_transform(data.drop('einkommensklasse', axis=1))\n",
    "data_scaled = pd.DataFrame(data_scaled, columns=['alter', 'akad_abschluss'])\n",
    "data_scaled['einkommensklasse'] = data['einkommensklasse']\n",
    "data_scaled.sample(3)"
   ]
  },
  {
   "cell_type": "code",
   "execution_count": 22,
   "metadata": {
    "slideshow": {
     "slide_type": "fragment"
    }
   },
   "outputs": [
    {
     "data": {
      "text/plain": [
       "array([[0.05, 1.  ]])"
      ]
     },
     "execution_count": 22,
     "metadata": {},
     "output_type": "execute_result"
    }
   ],
   "source": [
    "# scale the new point\n",
    "scaler.transform([[23,1]])"
   ]
  },
  {
   "cell_type": "code",
   "execution_count": 23,
   "metadata": {
    "scrolled": true,
    "slideshow": {
     "slide_type": "subslide"
    }
   },
   "outputs": [
    {
     "data": {
      "image/png": "[encoded data removed]",
      "text/plain": [
       "<Figure size 360x360 with 1 Axes>"
      ]
     },
     "metadata": {},
     "output_type": "display_data"
    }
   ],
   "source": [
    "fig, ax = plt.subplots(1, 1, figsize=(5,5))\n",
    "sns.scatterplot(x=\"alter\", y=\"akad_abschluss\", hue=\"einkommensklasse\",data=data_scaled, legend=False, size=100, sizes=(100,100))\n",
    "plt.plot(0.05, 1, marker='o', markersize=9, color='black');"
   ]
  },
  {
   "cell_type": "code",
   "execution_count": 24,
   "metadata": {
    "slideshow": {
     "slide_type": "fragment"
    }
   },
   "outputs": [
    {
     "data": {
      "text/plain": [
       "array(['hoch'], dtype=object)"
      ]
     },
     "execution_count": 24,
     "metadata": {},
     "output_type": "execute_result"
    }
   ],
   "source": [
    "knn = KNeighborsClassifier(n_neighbors=1)\n",
    "knn.fit(data_scaled.drop('einkommensklasse', axis=1), data_scaled['einkommensklasse'])\n",
    "knn.predict([[0.05, 1]])"
   ]
  },
  {
   "cell_type": "markdown",
   "metadata": {
    "slideshow": {
     "slide_type": "slide"
    }
   },
   "source": [
    "# Kategorische Daten"
   ]
  },
  {
   "cell_type": "code",
   "execution_count": 25,
   "metadata": {
    "slideshow": {
     "slide_type": "skip"
    }
   },
   "outputs": [],
   "source": [
    "data = pd.DataFrame([['alt', 'ja', 'ja', 'ja', 'hoch'],\n",
    "                     ['alt', 'ja', 'nein', 'nein', 'gering'], \n",
    "                     ['mittel', 'nein', 'nein', 'nein', 'gering'],\n",
    "                     ['mittel', 'ja', 'ja', 'ja', 'hoch'],\n",
    "                     ['jung', 'nein', 'nein', 'nein', 'gering'],\n",
    "                     ['jung', 'ja', 'nein', 'nein', 'mittel'], \n",
    "                     ['jung', 'ja', 'ja', 'ja', 'mittel'],\n",
    "                     ['alt', 'nein', 'ja', 'nein', 'hoch']],\n",
    "                    columns=['alter', 'verheiratet', 'eigenheim', 'akad_abschluss', 'einkommensklasse'])"
   ]
  },
  {
   "cell_type": "code",
   "execution_count": 26,
   "metadata": {
    "slideshow": {
     "slide_type": "subslide"
    }
   },
   "outputs": [
    {
     "data": {
      "text/html": [
       "<div>\n",
       "<style scoped>\n",
       "    .dataframe tbody tr th:only-of-type {\n",
       "        vertical-align: middle;\n",
       "    }\n",
       "\n",
       "    .dataframe tbody tr th {\n",
       "        vertical-align: top;\n",
       "    }\n",
       "\n",
       "    .dataframe thead th {\n",
       "        text-align: right;\n",
       "    }\n",
       "</style>\n",
       "<table border=\"1\" class=\"dataframe\">\n",
       "  <thead>\n",
       "    <tr style=\"text-align: right;\">\n",
       "      <th></th>\n",
       "      <th>alter</th>\n",
       "      <th>verheiratet</th>\n",
       "      <th>eigenheim</th>\n",
       "      <th>akad_abschluss</th>\n",
       "      <th>einkommensklasse</th>\n",
       "    </tr>\n",
       "  </thead>\n",
       "  <tbody>\n",
       "    <tr>\n",
       "      <th>0</th>\n",
       "      <td>alt</td>\n",
       "      <td>ja</td>\n",
       "      <td>ja</td>\n",
       "      <td>ja</td>\n",
       "      <td>hoch</td>\n",
       "    </tr>\n",
       "    <tr>\n",
       "      <th>1</th>\n",
       "      <td>alt</td>\n",
       "      <td>ja</td>\n",
       "      <td>nein</td>\n",
       "      <td>nein</td>\n",
       "      <td>gering</td>\n",
       "    </tr>\n",
       "    <tr>\n",
       "      <th>2</th>\n",
       "      <td>mittel</td>\n",
       "      <td>nein</td>\n",
       "      <td>nein</td>\n",
       "      <td>nein</td>\n",
       "      <td>gering</td>\n",
       "    </tr>\n",
       "    <tr>\n",
       "      <th>3</th>\n",
       "      <td>mittel</td>\n",
       "      <td>ja</td>\n",
       "      <td>ja</td>\n",
       "      <td>ja</td>\n",
       "      <td>hoch</td>\n",
       "    </tr>\n",
       "    <tr>\n",
       "      <th>4</th>\n",
       "      <td>jung</td>\n",
       "      <td>nein</td>\n",
       "      <td>nein</td>\n",
       "      <td>nein</td>\n",
       "      <td>gering</td>\n",
       "    </tr>\n",
       "    <tr>\n",
       "      <th>5</th>\n",
       "      <td>jung</td>\n",
       "      <td>ja</td>\n",
       "      <td>nein</td>\n",
       "      <td>nein</td>\n",
       "      <td>mittel</td>\n",
       "    </tr>\n",
       "    <tr>\n",
       "      <th>6</th>\n",
       "      <td>jung</td>\n",
       "      <td>ja</td>\n",
       "      <td>ja</td>\n",
       "      <td>ja</td>\n",
       "      <td>mittel</td>\n",
       "    </tr>\n",
       "    <tr>\n",
       "      <th>7</th>\n",
       "      <td>alt</td>\n",
       "      <td>nein</td>\n",
       "      <td>ja</td>\n",
       "      <td>nein</td>\n",
       "      <td>hoch</td>\n",
       "    </tr>\n",
       "  </tbody>\n",
       "</table>\n",
       "</div>"
      ],
      "text/plain": [
       "    alter verheiratet eigenheim akad_abschluss einkommensklasse\n",
       "0     alt          ja        ja             ja             hoch\n",
       "1     alt          ja      nein           nein           gering\n",
       "2  mittel        nein      nein           nein           gering\n",
       "3  mittel          ja        ja             ja             hoch\n",
       "4    jung        nein      nein           nein           gering\n",
       "5    jung          ja      nein           nein           mittel\n",
       "6    jung          ja        ja             ja           mittel\n",
       "7     alt        nein        ja           nein             hoch"
      ]
     },
     "execution_count": 26,
     "metadata": {},
     "output_type": "execute_result"
    }
   ],
   "source": [
    "# habe einen Dummy-Datensatz erstellt\n",
    "data"
   ]
  },
  {
   "cell_type": "markdown",
   "metadata": {
    "slideshow": {
     "slide_type": "subslide"
    }
   },
   "source": [
    "## Distanzfunktion?"
   ]
  },
  {
   "cell_type": "markdown",
   "metadata": {
    "slideshow": {
     "slide_type": "fragment"
    }
   },
   "source": [
    "z.B. **Hamming-Distanz**: Anteil (oder Anzahl) der Einträge, die nicht übereinstimmen.\n",
    "\n",
    "* (**alt**, ja, nein) und (**jung**, ja, nein) haben Abstand 1/3 (oder 1), da sie sich nur im ersten Eintrag unterscheiden\n",
    "* (**alt**, ja, **nein**) und (**jung**, ja, **ja**) haben Abstand 2/3 (oder 2), da sie sich im ersten und dritten Eintrag unterscheiden\n",
    "    "
   ]
  },
  {
   "cell_type": "code",
   "execution_count": 27,
   "metadata": {
    "slideshow": {
     "slide_type": "subslide"
    }
   },
   "outputs": [],
   "source": [
    "from sklearn.preprocessing import LabelEncoder\n",
    "le = LabelEncoder()"
   ]
  },
  {
   "cell_type": "code",
   "execution_count": 28,
   "metadata": {
    "slideshow": {
     "slide_type": "fragment"
    }
   },
   "outputs": [],
   "source": [
    "for col in data.columns:\n",
    "    data[col] = le.fit_transform(data[col])"
   ]
  },
  {
   "cell_type": "code",
   "execution_count": 29,
   "metadata": {
    "slideshow": {
     "slide_type": "fragment"
    }
   },
   "outputs": [
    {
     "data": {
      "text/html": [
       "<div>\n",
       "<style scoped>\n",
       "    .dataframe tbody tr th:only-of-type {\n",
       "        vertical-align: middle;\n",
       "    }\n",
       "\n",
       "    .dataframe tbody tr th {\n",
       "        vertical-align: top;\n",
       "    }\n",
       "\n",
       "    .dataframe thead th {\n",
       "        text-align: right;\n",
       "    }\n",
       "</style>\n",
       "<table border=\"1\" class=\"dataframe\">\n",
       "  <thead>\n",
       "    <tr style=\"text-align: right;\">\n",
       "      <th></th>\n",
       "      <th>alter</th>\n",
       "      <th>verheiratet</th>\n",
       "      <th>eigenheim</th>\n",
       "      <th>akad_abschluss</th>\n",
       "      <th>einkommensklasse</th>\n",
       "    </tr>\n",
       "  </thead>\n",
       "  <tbody>\n",
       "    <tr>\n",
       "      <th>0</th>\n",
       "      <td>0</td>\n",
       "      <td>0</td>\n",
       "      <td>0</td>\n",
       "      <td>0</td>\n",
       "      <td>1</td>\n",
       "    </tr>\n",
       "    <tr>\n",
       "      <th>1</th>\n",
       "      <td>0</td>\n",
       "      <td>0</td>\n",
       "      <td>1</td>\n",
       "      <td>1</td>\n",
       "      <td>0</td>\n",
       "    </tr>\n",
       "    <tr>\n",
       "      <th>2</th>\n",
       "      <td>2</td>\n",
       "      <td>1</td>\n",
       "      <td>1</td>\n",
       "      <td>1</td>\n",
       "      <td>0</td>\n",
       "    </tr>\n",
       "    <tr>\n",
       "      <th>3</th>\n",
       "      <td>2</td>\n",
       "      <td>0</td>\n",
       "      <td>0</td>\n",
       "      <td>0</td>\n",
       "      <td>1</td>\n",
       "    </tr>\n",
       "    <tr>\n",
       "      <th>4</th>\n",
       "      <td>1</td>\n",
       "      <td>1</td>\n",
       "      <td>1</td>\n",
       "      <td>1</td>\n",
       "      <td>0</td>\n",
       "    </tr>\n",
       "    <tr>\n",
       "      <th>5</th>\n",
       "      <td>1</td>\n",
       "      <td>0</td>\n",
       "      <td>1</td>\n",
       "      <td>1</td>\n",
       "      <td>2</td>\n",
       "    </tr>\n",
       "    <tr>\n",
       "      <th>6</th>\n",
       "      <td>1</td>\n",
       "      <td>0</td>\n",
       "      <td>0</td>\n",
       "      <td>0</td>\n",
       "      <td>2</td>\n",
       "    </tr>\n",
       "    <tr>\n",
       "      <th>7</th>\n",
       "      <td>0</td>\n",
       "      <td>1</td>\n",
       "      <td>0</td>\n",
       "      <td>1</td>\n",
       "      <td>1</td>\n",
       "    </tr>\n",
       "  </tbody>\n",
       "</table>\n",
       "</div>"
      ],
      "text/plain": [
       "   alter  verheiratet  eigenheim  akad_abschluss  einkommensklasse\n",
       "0      0            0          0               0                 1\n",
       "1      0            0          1               1                 0\n",
       "2      2            1          1               1                 0\n",
       "3      2            0          0               0                 1\n",
       "4      1            1          1               1                 0\n",
       "5      1            0          1               1                 2\n",
       "6      1            0          0               0                 2\n",
       "7      0            1          0               1                 1"
      ]
     },
     "execution_count": 29,
     "metadata": {},
     "output_type": "execute_result"
    }
   ],
   "source": [
    "data"
   ]
  },
  {
   "cell_type": "code",
   "execution_count": 30,
   "metadata": {
    "slideshow": {
     "slide_type": "subslide"
    }
   },
   "outputs": [],
   "source": [
    "new_data = ['jung', 'ja', 'nein', 'ja']"
   ]
  },
  {
   "cell_type": "code",
   "execution_count": 31,
   "metadata": {
    "slideshow": {
     "slide_type": "fragment"
    }
   },
   "outputs": [],
   "source": [
    "new_data_trans = [1, 0,1,0]"
   ]
  },
  {
   "cell_type": "code",
   "execution_count": 32,
   "metadata": {
    "slideshow": {
     "slide_type": "fragment"
    }
   },
   "outputs": [
    {
     "data": {
      "text/plain": [
       "0    0.50\n",
       "1    0.50\n",
       "2    0.75\n",
       "3    0.50\n",
       "4    0.50\n",
       "5    0.25\n",
       "6    0.25\n",
       "7    1.00\n",
       "dtype: float64"
      ]
     },
     "execution_count": 32,
     "metadata": {},
     "output_type": "execute_result"
    }
   ],
   "source": [
    "from scipy.spatial.distance import hamming\n",
    "# Hamming Abstand zum neuen Datenpunkt\n",
    "data[['alter', 'verheiratet', 'eigenheim', 'akad_abschluss']].apply(lambda x: hamming(x, new_data_trans), axis=1)"
   ]
  },
  {
   "cell_type": "code",
   "execution_count": 33,
   "metadata": {
    "slideshow": {
     "slide_type": "subslide"
    }
   },
   "outputs": [
    {
     "data": {
      "text/plain": [
       "KNeighborsClassifier(algorithm='auto', leaf_size=30, metric='hamming',\n",
       "           metric_params=None, n_jobs=1, n_neighbors=1, p=2,\n",
       "           weights='uniform')"
      ]
     },
     "execution_count": 33,
     "metadata": {},
     "output_type": "execute_result"
    }
   ],
   "source": [
    "knn = KNeighborsClassifier(n_neighbors=1, metric='hamming')\n",
    "knn.fit(data.drop('einkommensklasse', axis=1), data['einkommensklasse'])"
   ]
  },
  {
   "cell_type": "code",
   "execution_count": 34,
   "metadata": {
    "slideshow": {
     "slide_type": "fragment"
    }
   },
   "outputs": [
    {
     "data": {
      "text/plain": [
       "array([2])"
      ]
     },
     "execution_count": 34,
     "metadata": {},
     "output_type": "execute_result"
    }
   ],
   "source": [
    "knn.predict([new_data_trans])"
   ]
  },
  {
   "cell_type": "markdown",
   "metadata": {
    "slideshow": {
     "slide_type": "subslide"
    }
   },
   "source": [
    "Achtung: wenn man die Euklidische Distanz statt der Hamming-Distanz verwenden will, so sollte man die Variable `alter` besser in zwei Boolsche Variablen transofrmieren, z.B. `alter=jung` und `alter=alt`."
   ]
  },
  {
   "cell_type": "markdown",
   "metadata": {
    "slideshow": {
     "slide_type": "slide"
    }
   },
   "source": [
    "## Supervised Learning: Klassifikation & Regression\n",
    "\n",
    "--------\n",
    "\n",
    "<figure>\n",
    "    <img src=\"images/classification_vs_regression.png\" alt=\"Drawing\" style=\"width: 900px;\"/> \n",
    "    <br>\n",
    "</figure>"
   ]
  },
  {
   "cell_type": "markdown",
   "metadata": {
    "slideshow": {
     "slide_type": "subslide"
    }
   },
   "source": [
    "### Klassifikation: Vorhersage eines Labels\n",
    "\n",
    "### Regression: Vorhersage einer metrischen Größe"
   ]
  },
  {
   "cell_type": "markdown",
   "metadata": {
    "slideshow": {
     "slide_type": "subslide"
    }
   },
   "source": [
    "## $k$-NN für Regression\n",
    "\n",
    "1.  **Training**: Speichere die Trainingsmenge $x_{^1}, \\ldots , x_{m}$.\n",
    "2. Sei $x$ ein nicht-gelabelter Datenpunkt. Berechne für alle Objekte in der Trainingsmenge den Abstand zu $x$.\n",
    "3. Wähle denjenigen $k$ Datensätze aus der Trainingsmenge, die den geringensten Abstand zu $x$ haben. \n",
    "4. Der Zielwert für $x$ ergibt sich als **Mittelwert** der Zielwerte der nächsten $k$ Nachbarn.\n"
   ]
  },
  {
   "cell_type": "code",
   "execution_count": 35,
   "metadata": {
    "slideshow": {
     "slide_type": "subslide"
    }
   },
   "outputs": [],
   "source": [
    "from sklearn.neighbors import KNeighborsRegressor\n",
    "knn = KNeighborsRegressor(n_neighbors=5)"
   ]
  },
  {
   "cell_type": "code",
   "execution_count": 36,
   "metadata": {
    "slideshow": {
     "slide_type": "fragment"
    }
   },
   "outputs": [],
   "source": [
    "tips = sns.load_dataset(\"tips\")\n",
    "X_train, X_test, y_train, y_test = train_test_split(tips[['total_bill']], tips['tip'], random_state=0)"
   ]
  },
  {
   "cell_type": "code",
   "execution_count": 37,
   "metadata": {
    "slideshow": {
     "slide_type": "fragment"
    }
   },
   "outputs": [
    {
     "data": {
      "text/plain": [
       "KNeighborsRegressor(algorithm='auto', leaf_size=30, metric='minkowski',\n",
       "          metric_params=None, n_jobs=1, n_neighbors=5, p=2,\n",
       "          weights='uniform')"
      ]
     },
     "execution_count": 37,
     "metadata": {},
     "output_type": "execute_result"
    }
   ],
   "source": [
    "knn.fit(X_train, y_train)"
   ]
  },
  {
   "cell_type": "code",
   "execution_count": 38,
   "metadata": {
    "slideshow": {
     "slide_type": "subslide"
    }
   },
   "outputs": [],
   "source": [
    "y_pred = knn.predict(X_test)\n",
    "\n",
    "df_train = pd.DataFrame(X_train)\n",
    "df_train['train/test'] = 'train'\n",
    "df_train['tip'] = y_train\n",
    "df_train['tip_pred'] = y_train\n",
    "\n",
    "df_test = pd.DataFrame(X_test)\n",
    "df_test['train/test'] = 'test'\n",
    "df_test['tip'] = y_test\n",
    "df_test['tip_pred'] = y_pred\n",
    "\n",
    "df = pd.concat([df_train, df_test]).reset_index()"
   ]
  },
  {
   "cell_type": "code",
   "execution_count": 39,
   "metadata": {
    "slideshow": {
     "slide_type": "subslide"
    }
   },
   "outputs": [
    {
     "data": {
      "image/png": "[encoded data removed]",
      "text/plain": [
       "<Figure size 1296x504 with 2 Axes>"
      ]
     },
     "metadata": {},
     "output_type": "display_data"
    }
   ],
   "source": [
    "fig, (ax1, ax2) = plt.subplots(1, 2, figsize=(18,7))\n",
    "sns.scatterplot(x=\"total_bill\", y=\"tip\", data=df, hue='train/test', ax=ax1, color='g', size=100, sizes=(100,100), legend=False)\n",
    "ax1.set(xlabel='Rechnungsbetrag', ylabel='Trinkgeld', title='')\n",
    "sns.scatterplot(x=\"total_bill\", y=\"tip_pred\", data=df, hue='train/test', ax=ax2, color='g', size=100, sizes=(100,100), legend=False)\n",
    "ax2.set(xlabel='Rechnungsbetrag', ylabel='Trinkgeld Vorhersage', title='');"
   ]
  },
  {
   "cell_type": "markdown",
   "metadata": {
    "slideshow": {
     "slide_type": "slide"
    }
   },
   "source": [
    "# $k$-NN: Vor- und Nachteile"
   ]
  },
  {
   "cell_type": "markdown",
   "metadata": {
    "slideshow": {
     "slide_type": "subslide"
    }
   },
   "source": [
    "### Vorteile\n",
    "\n",
    "* einfach zu verstehen und zu implementieren\n",
    "* quasi keine Trainingszeit, eignet sich somit gut als Einstiegsalgorithmus für neue Daten\n",
    "* Funktioniert genauso für Probleme mit mehr als 2 Klassen\n",
    "* Macht keine Annhame über die statistischen Eigenschaften der Daten und performt deshalb teilweise besser in Situation mit \"sehr ungewöhnlichen\" Daten"
   ]
  },
  {
   "cell_type": "markdown",
   "metadata": {
    "slideshow": {
     "slide_type": "subslide"
    }
   },
   "source": [
    "### Nachteile\n",
    "\n",
    "* Rechenintensive Testphase, deshalb nicht gut für produktiven Einsatz geeignet\n",
    "* Es kann zu Problemen führen, falls eine Klasse deutlich stärker vertreten ist (diese Klasse dominiert dann das *majority voting*)\n",
    "* Daten mit vielen Input-Variablen sind nicht gut für $k$-NN geeignet, da, grob-gesagt, in einem Vektorraum von hoher Dimension der Abstand zwischen dem nächsten und dem entferntesten Nachbarn nicht allzu groß ist."
   ]
  },
  {
   "cell_type": "markdown",
   "metadata": {
    "slideshow": {
     "slide_type": "slide"
    }
   },
   "source": [
    "## Zusammenfassung\n",
    "\n",
    "* Typen von ML Algorithmen\n",
    "* Supervised ML: Klassifikation & Regression\n",
    "* Konzept: Splitten der Daten in Trainings- und Testmenge\n",
    "* Evaluation: eine sinnvolle Metrik für Klassifikation ist Genauigkeit (Accuracy)\n",
    "* erster Algorithmus: $k$-Nearest Neighbor ($k$-NN) am Beispiel der Lilien-Klassifikation\n",
    "* Erste Modellierung mit Hilfe von `scikit-learn`am Beispiel von $k$-NN\n",
    "* Distanzfunktionen\n",
    "* Normalisierung von Daten"
   ]
  }
 ],
 "metadata": {
  "celltoolbar": "Slideshow",
  "kernelspec": {
   "display_name": "Python 3",
   "language": "python",
   "name": "python3"
  },
  "language_info": {
   "codemirror_mode": {
    "name": "ipython",
    "version": 3
   },
   "file_extension": ".py",
   "mimetype": "text/x-python",
   "name": "python",
   "nbconvert_exporter": "python",
   "pygments_lexer": "ipython3",
   "version": "3.7.0"
  }
 },
 "nbformat": 4,
 "nbformat_minor": 2
}
