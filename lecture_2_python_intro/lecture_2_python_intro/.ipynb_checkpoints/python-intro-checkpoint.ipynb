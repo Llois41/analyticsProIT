{
 "cells": [
  {
   "cell_type": "markdown",
   "metadata": {
    "slideshow": {
     "slide_type": "slide"
    }
   },
   "source": [
    "<style>\n",
    "body {\n",
    "    font-size: 1.7em;\n",
    "} \n",
    "\n",
    ".rendered_html h1 {\n",
    "  font-size: 3.8em;\n",
    "}\n",
    "\n",
    ".rendered_html h2 {\n",
    "  font-size: 2.2em;\n",
    "}\n",
    "\n",
    ".rendered_html h3 {\n",
    "  font-size: 1.8em;\n",
    "}\n",
    "\n",
    ".rendered_html h4 {\n",
    "  font-size: 1.4em;\n",
    "}\n",
    "\n",
    "div.slides {\n",
    "width: 1920px;\n",
    "height: 1080px;\n",
    "}\n",
    "\n",
    ".rendered_html table, .rendered_html th, .rendered_html tr, .rendered_html td {\n",
    "     font-size: 100%;\n",
    "}\n",
    "\n",
    "</style>\n",
    "\n",
    "# <font color=\"#BD1550\">Analytics</font>\n",
    "## Python Introduction\n",
    "-------\n",
    "### Prof. Dr. Helena Mihaljević\n",
    "#### WS 2019/20\n"
   ]
  },
  {
   "cell_type": "markdown",
   "metadata": {
    "slideshow": {
     "slide_type": "slide"
    }
   },
   "source": [
    "## Literatur\n",
    "\n",
    "- Bernd Klein: Einführung in Python 3\n",
    "- [Allen B. Downey: Think Python: How to Think Like a Computer Scientist](http://greenteapress.com/thinkpython2/html/index.html)\n",
    "- [Jake Vanderplas: Whirlwind Tour of Python](https://github.com/jakevdp/WhirlwindTourOfPython)\n",
    "- [Jake Vanderplas: Python Data Science Handbook](https://github.com/jakevdp/PythonDataScienceHandbook)\n",
    "- [Wes McKinnery: Python for Data Analysis](https://github.com/wesm/pydata-book)\n",
    "- [stackoverflow](https://stackoverflow.com)"
   ]
  },
  {
   "cell_type": "markdown",
   "metadata": {
    "slideshow": {
     "slide_type": "slide"
    }
   },
   "source": [
    "## Python Bibliotheken (Libraries)\n",
    "- Pandas\n",
    "- NumPy\n",
    "- SciPy\n",
    "- Matplotlib\n",
    "- Jupyter\n",
    "- sklearn\n",
    "- tensorflow\n",
    "- pytorch\n",
    "- flask\n",
    "- ...\n"
   ]
  },
  {
   "cell_type": "markdown",
   "metadata": {
    "slideshow": {
     "slide_type": "slide"
    }
   },
   "source": [
    "## Python 2 vs. 3\n",
    "\n",
    "- [Python 2 wird bald nicht mehr unterstützt](https://pythonclock.org/)\n",
    "- Verwenden Sie Python 3\n",
    "- Wichtigster Unterschied: \n",
    " - python 2: \n",
    " ```python \n",
    " print \"foobar\"\n",
    " ```\n",
    " - python 3: \n",
    " ```python \n",
    " print(\"foobar\")\n",
    " ```"
   ]
  },
  {
   "cell_type": "markdown",
   "metadata": {
    "slideshow": {
     "slide_type": "slide"
    }
   },
   "source": [
    "## Installation von Python\n",
    "\n",
    "- Die meisten Betriebssysteme haben ein vorinstalliertes System-weites Python (in der Regel eine veraltete Version) \n",
    "- Empfehlung: ein zweites (lokales) Python installieren und damit arbeiten\n",
    "- Download der passenden Python binaries: [https://www.python.org/downloads/](https://www.python.org/downloads/)\n",
    "- Man kann auch Betriebssystem-spezifische Paket-Manager verwenden (apt für linux, homebrew für OSX)\n",
    "- Laborrechner haben ein vorinstalliertes Python 3\n",
    "- Alternative **Anaconda**: Python-Distribution für wissenschaftliches Rechnen, vereinfacht Paket-management und Installationen \n"
   ]
  },
  {
   "cell_type": "markdown",
   "metadata": {
    "slideshow": {
     "slide_type": "slide"
    }
   },
   "source": [
    "## Aufgabe: Python 3 installieren und Python Interpreter starten\n",
    "\n",
    "1. Öffnen Sie ein Terminal \n",
    "2. Geben Sie ein `python` und drücken Sie die Enter-Taste\n",
    "    --> Sie befinden sich nun im Python-Interpreter und können hier direkt Python-Code schreiben\n",
    "    \n",
    "```\n",
    "$ python\n",
    "Python 2.7.15 (default, Nov 27 2018, 21:40:55)\n",
    "[GCC 4.2.1 Compatible Apple LLVM 10.0.0 (clang-1000.11.45.5)] on darwin\n",
    "Type \"help\", \"copyright\", \"credits\" or \"license\" for more information.\n",
    ">>>\n",
    "\n",
    "```\n"
   ]
  },
  {
   "cell_type": "markdown",
   "metadata": {
    "slideshow": {
     "slide_type": "slide"
    }
   },
   "source": [
    "Sie können nun Code schreiben und ausführen. Probieren Sie es aus:\n",
    "\n",
    "Ein Ausdruck wird mit dem Drücken der Return-Taste ausgeführt; das Ergebnis wird in der nächsten Zeile ausgegeben.\n",
    "``` python\n",
    ">>> 1 + 1\n",
    "2\n",
    ">>> x = 5\n",
    ">>> x * 3\n",
    "15\n",
    "```\n",
    "\n",
    "Verlassen der interaktiven Shell:\n",
    "\n",
    "```python\n",
    ">>> exit()\n",
    "```\n"
   ]
  },
  {
   "cell_type": "markdown",
   "metadata": {
    "slideshow": {
     "slide_type": "slide"
    }
   },
   "source": [
    "## Ausführen von Python Code\n",
    "\n",
    "- Python-Interpreter eignet sich besonder gut, um schnell Code-Syntax auszuprobieren\n",
    "- Üblicherweise schreibt man Python-Code in Dateien und führt diese aus\n",
    "- es gibt auch noch Alternativen zum Python-Interpreter; betrachten wir erst später\n",
    "- Am Anfang wichtig, möglichst viel **selbst** zu tippen ohne große Hilfestellung"
   ]
  },
  {
   "cell_type": "markdown",
   "metadata": {
    "slideshow": {
     "slide_type": "slide"
    }
   },
   "source": [
    "## Virtuelle Umgebung (=Virtual Environment)\n",
    "\n",
    "- Python-Anwendungen verwenden i.d.R. auch Module (=Python-Datei mit Python-Funktionen und Variablen) oder Pakete (=Sammlungen von Modulen), die nicht Teil der Standard-Bibliothek sind\n",
    "- Teilweise wird eine bestimmte Version eines Pakets gebraucht, z.B. weil erst Version 2.1 einen bestimmten Bug-Fix beinhaltet\n",
    "- Eine einzelne Python-Installation kann nicht die Anforderungen aller auf dem Rechner entwicklenten Python-Anwendungen erfüllen \n",
    "- Lösung: virtuelle Umgebungen: **ein separater Directory-Baum mit einem isolierten Python und benötigten Paketen.**\n",
    "- Jede Software-Anwendung verwendet ihre eigene virtuelle Umgebung\n",
    "- Das lowest-level Modul, um virtuelle Umgebungen zu verwalten, ist `virtualenv`. Damit werden wir ebenfalls arbeiten\n",
    "- Es gibt weitere Module, um virtuelle Umgebungen zu verwalten (`pyenv`, `pipenv`, `venv`); bauen auf `virtualenv` auf\n",
    "- Wir werden im Laufe des Kurses ggf. verschiedene virtuelle Umgebungen erstellen\n"
   ]
  },
  {
   "cell_type": "markdown",
   "metadata": {
    "slideshow": {
     "slide_type": "slide"
    }
   },
   "source": [
    "Create a virtual environment named `my_env` (of course, choose a meaningful name instead)\n",
    "\n",
    "\n",
    "```bash\n",
    "python3 -m virtualenv my_env\n",
    "\n",
    "```\n",
    "\n",
    "if you see the error message `No module named virtualenv`, then install the package `virtualenv` \n",
    "```bash\n",
    "python3 -m pip install --user virtualenv\n",
    "```\n",
    "\n",
    "Now you have a directory named `my_env` in your home directory\n",
    "\n",
    "```bash\n",
    "ls ~\n",
    "```\n",
    "\n",
    "Activate virtual environment\n",
    "\n",
    "```bash\n",
    "source my_env/bin/activate\n",
    "```\n",
    "\n",
    "Deactivate virtual environment\n",
    "\n",
    "```bash\n",
    "deactivate\n",
    "```\n"
   ]
  },
  {
   "cell_type": "markdown",
   "metadata": {
    "slideshow": {
     "slide_type": "slide"
    }
   },
   "source": [
    "Probieren Sie es ruhig aus, virtuelle Umgebungen zu erstellen und zu aktivieren. Sie können nichts falsch machen. Eine virtual env kann man problemlos wieder löschen:\n",
    "\n",
    "```\n",
    "pyenv uninstall my_virt_env_name\n",
    "```\n"
   ]
  },
  {
   "cell_type": "markdown",
   "metadata": {
    "slideshow": {
     "slide_type": "slide"
    }
   },
   "source": [
    "## Python-Pakete installieren\n",
    "\n",
    "``pip install [packagename]``\n",
    "    \n",
    "Wenn nötig, update `pip`\n",
    "\n",
    "```bash\n",
    "pip install --user --upgrade pip\n",
    "```\n"
   ]
  },
  {
   "cell_type": "markdown",
   "metadata": {
    "slideshow": {
     "slide_type": "fragment"
    }
   },
   "source": [
    "Upgrade the python package manager and install jupyter\n",
    "```\n",
    "pip install --upgrade pip\n",
    "pip install prompt_toolkit==2.0.3\n",
    "pip install jupyter\n",
    "pip install pandas\n",
    "```"
   ]
  },
  {
   "cell_type": "markdown",
   "metadata": {
    "slideshow": {
     "slide_type": "slide"
    }
   },
   "source": [
    "## Übungen in der interaktiven Shell\n",
    "\n"
   ]
  },
  {
   "cell_type": "markdown",
   "metadata": {
    "slideshow": {
     "slide_type": "slide"
    }
   },
   "source": [
    "Einfache Arithmetik \n",
    "\n",
    "```python\n",
    ">>> 5 * 2.8\n",
    "14.0\n",
    ">>> 4* 12 / 3\n",
    "16.0\n",
    "```"
   ]
  },
  {
   "cell_type": "markdown",
   "metadata": {
    "slideshow": {
     "slide_type": "fragment"
    }
   },
   "source": [
    "Der jeweils letzte Ausgabewert in der interaktiven Shell wird in der Variable _ gespeichert:\n",
    "\n",
    "```python\n",
    ">>> _\n",
    "16.0\n",
    "```"
   ]
  },
  {
   "cell_type": "markdown",
   "metadata": {
    "slideshow": {
     "slide_type": "slide"
    }
   },
   "source": [
    "Strings lassen sich mit und ohne print-Befehl ausgeben\n",
    "\n",
    "```python\n",
    ">>> print(\"Hello World!\")\n",
    "Hello World!\n",
    ">>> \"Hello World!\"\n",
    "'Hello World!'\n",
    "```"
   ]
  },
  {
   "cell_type": "markdown",
   "metadata": {
    "slideshow": {
     "slide_type": "slide"
    }
   },
   "source": [
    "Werte lassen sich in Variablen speichern und benötigen keine besondere Kennzeichnung (später mehr zu Datentypen und Variablen):\n",
    "\n",
    "```python\n",
    ">>> laenge = 20\n",
    ">>> breite = 10\n",
    ">>> laenge * breite\n",
    "200\n",
    "```"
   ]
  },
  {
   "cell_type": "markdown",
   "metadata": {
    "slideshow": {
     "slide_type": "slide"
    }
   },
   "source": [
    "Mehrzeilige Anweisunge erfordern eine Einrückung. \n",
    "\n",
    "Beispiel: for-Schleife: alle Anweisungen, die mit der Schleife ausgeführt werden sollen, müssen um die gleiche ANzahl an Leerzeichen eingerückt werden. \n",
    "\n",
    "Die Shell teilt uns die Notwendigkeit einer Einrückung mit, indem drei Punkte \"...\" statt \">>>\" angezeigt werden.\n",
    "\n",
    "Nach der letzten Code-Zeile muss die Eingabetaste 2 mal gedrückt werden!\n",
    "\n",
    "```python\n",
    ">>> my_list = [\"a\", \"B\", 1, 456.78, \"another string\"]\n",
    ">>> for item in my_list:\n",
    "...     print(item)\n",
    "...\n",
    "a\n",
    "B\n",
    "1\n",
    "456.78\n",
    "another string\n",
    ">>>\n",
    "```"
   ]
  },
  {
   "cell_type": "markdown",
   "metadata": {
    "slideshow": {
     "slide_type": "slide"
    }
   },
   "source": [
    "# Programme schreiben"
   ]
  },
  {
   "cell_type": "markdown",
   "metadata": {
    "slideshow": {
     "slide_type": "slide"
    }
   },
   "source": [
    "## Aufgabe: Hello World\n",
    "\n",
    "- Schreiben Sie in einem Texteditor Ihrer Wahl die folgende Zeile:\n",
    "\n",
    "```python\n",
    "print(\"Hello World!\")\n",
    "```\n",
    "\n",
    "- Speichern Sie die Datei unter dem Namen `hello.py` ab.\n",
    "\n",
    "- Begeben Sie sich im Terminal in das Verzeichnis, in dem sich die Datei befindet, und aktivieren Sie Ihre virtuelle Umgebung. (Man kann dies auch in umgekehrter Reihenfolge machen, und der Switch in die virtual env ist auch nicht notwendig, aber wir wollen üben, mit dieser konsequent zu arbeiten.)\n",
    "\n",
    "- Führen Sie das Programm aus, indem Sie folgendes Kommando eingeben:\n",
    "\n",
    "```python\n",
    "python hello.py\n",
    "```"
   ]
  },
  {
   "cell_type": "markdown",
   "metadata": {
    "slideshow": {
     "slide_type": "slide"
    }
   },
   "source": [
    "## Was müsste man hierfür in C++ tun?"
   ]
  },
  {
   "cell_type": "markdown",
   "metadata": {
    "slideshow": {
     "slide_type": "fragment"
    }
   },
   "source": [
    "1. Folgenden Code in eine Datei, z.B. `hello.cpp`, speichern:\n",
    "\n",
    "```c++\n",
    "#include <iostream>\n",
    "  using namespace std;\n",
    "int main() {\n",
    "      cout << \"Hello World!\\n\";\n",
    "return 0; }\n",
    "```\n",
    "\n",
    "2. Code compilieren\n",
    "```bash\n",
    "Helenas-MBP-2:~ helena $: g++ -o hello hello.cpp\n",
    "```\n",
    "\n",
    "3. Programm starten"
   ]
  },
  {
   "cell_type": "markdown",
   "metadata": {
    "slideshow": {
     "slide_type": "slide"
    }
   },
   "source": [
    "## Struktur von Projekten\n",
    "\n",
    "- wir werden Python-Programme nicht irgendwo speichern\n",
    "- es ist wichtig, eine geordnete Verzeichnistruktur zu haben\n",
    "- wir werden dies im Laufe der veranstaltung aufbauen"
   ]
  },
  {
   "cell_type": "markdown",
   "metadata": {
    "slideshow": {
     "slide_type": "slide"
    }
   },
   "source": [
    "# Python Syntax\n"
   ]
  },
  {
   "cell_type": "markdown",
   "metadata": {
    "slideshow": {
     "slide_type": "slide"
    }
   },
   "source": [
    "## Kommentare \n",
    "\n",
    "Werden durch ``#`` am Anfang der Zeile markiert\n",
    "\n",
    "```python\n",
    "\n",
    "# this is a comment and will not be interpreted\n",
    "```\n",
    "\n",
    "Python hat keine multiline-Kommentare aber jeder vernünftige Editor / IDE übernimmt das für uns "
   ]
  },
  {
   "cell_type": "markdown",
   "metadata": {
    "slideshow": {
     "slide_type": "slide"
    }
   },
   "source": [
    "## Aufgabe\n",
    "\n",
    "Fügen Sie in der Datei `hello.py` einen Kommentar hinzu. "
   ]
  },
  {
   "cell_type": "markdown",
   "metadata": {
    "slideshow": {
     "slide_type": "slide"
    }
   },
   "source": [
    "## Zeilenende beendet ein Statement\n",
    "\n",
    "Andere Sprachen benötigen ein besonderes Zwichen, z.B. ; aber Python nicht \n",
    "\n",
    "Falls multiline statements nötig sein sollten, verwende z.B. backslash ``\\`` (wird auch von der IDE übernommen) \n",
    "\n",
    "```python\n",
    "x = 1 + 2 + 3 + 4 +\\\n",
    "5 + 6 + 7 + 8\n",
    "```\n"
   ]
  },
  {
   "cell_type": "markdown",
   "metadata": {
    "slideshow": {
     "slide_type": "slide"
    }
   },
   "source": [
    "## ``;`` beendet ebenfalls ein statement\n",
    "\n",
    "Alternative zu\n",
    "```python\n",
    "x = 1\n",
    "y = 2\n",
    "```\n",
    "\n",
    "ist\n",
    "\n",
    "```python\n",
    "x = 1; y = 2\n",
    "```"
   ]
  },
  {
   "cell_type": "markdown",
   "metadata": {
    "slideshow": {
     "slide_type": "slide"
    }
   },
   "source": [
    "## Einrückung ist sehr wichtig!\n",
    "\n",
    "\n",
    "In Python wird Code gruppiert durch Einrückung:\n",
    "\n",
    "```python\n",
    "for i in range(10):\n",
    "    if i < 5:\n",
    "        print(\"Lower\")\n",
    "    else:\n",
    "        print(\"Higher\")\n",
    "```\n",
    "\n",
    "Wichtig: Leerzeichen und Tab nicht vermischen. Man kann Tabs benutzen (v.a. in einer IDE) aber am Anfang ist davon abzuraten."
   ]
  },
  {
   "cell_type": "markdown",
   "metadata": {
    "slideshow": {
     "slide_type": "slide"
    }
   },
   "source": [
    "# Datentypen und Variablen"
   ]
  },
  {
   "cell_type": "markdown",
   "metadata": {
    "slideshow": {
     "slide_type": "slide"
    }
   },
   "source": [
    "- Eine Variable ist ein Behälter (Container) zur Aufbewahrung von Werten, z.B. von Strings wie \"abc\" oder Zahlen wie 45.\n",
    "- Variablen können im laufe eines Programms ihren Wert ändern\n",
    "- Man kann auf den Wert einer Variable zugreifen und z.B. damit rechnen oder der Variable einen neuen Wert zuweisen\n",
    "- Variablennamen sollten einer sinnvollen Namenskonvention folgen (Details später im Kurs: PEP 8 Standard). Zu Beginn wichtig: \n",
    "    - Kleinschreibung; einzelner Buchstabe, Wort oder mehrere Wörter verbunden durch Unterstrich, z.B. `x`, `var`, `my_variable`. Insbesondere kein Bindestrich - \n",
    "    - Name soll zum Inhalt passen, erleichtert Code-Lesbarkeit und -Verständnis\n"
   ]
  },
  {
   "cell_type": "markdown",
   "metadata": {
    "slideshow": {
     "slide_type": "slide"
    }
   },
   "source": [
    "Erstelle eine Variable `x` und weise ihr den Wert 23 zu:\n",
    "\n",
    "```python\n",
    ">>> x = 32\n",
    "```\n",
    "\n",
    "- Achtung: Das Gleichheitszeichen bedeutet nicht \"mathematisch gleich\" sondern Zuweisung\n",
    "- Wir sprechen auch von *Definition* einer Variablen\n",
    "\n",
    "Verwendung der Variablen:\n",
    "\n",
    "```python\n",
    ">>> print(\"Die variable x hat den Wert: \", x)\n",
    "```\n",
    "\n",
    "```python\n",
    ">>> y = x + 3\n",
    ">>> print(y)\n",
    "```\n",
    "\n",
    "Man kann eine variable auf beiden Seiten der Zuweisung platzieren:\n",
    "\n",
    "```python\n",
    ">>> x = x - 1\n",
    ">>> print(x)\n",
    "```"
   ]
  },
  {
   "cell_type": "markdown",
   "metadata": {
    "slideshow": {
     "slide_type": "slide"
    }
   },
   "source": [
    "## Dynamische Typdeklaration"
   ]
  },
  {
   "cell_type": "markdown",
   "metadata": {
    "slideshow": {
     "slide_type": "slide"
    }
   },
   "source": [
    "- In Programmiersprachen unterscheiden wir zwischen verschiedenen *Datentypen*:\n",
    "    - -3, -2, 0, 45, 123 *ganze Zahlen* oder *Integer*\n",
    "    - 0.05 oder 12.68 *Fließkommazahlen* oder *Floats*\n",
    "    - 'hello world' *Strings*\n",
    "- In vielen Sprachen wie C, C++ oder Java wird einer Variable ein Typ zugewiesen *bevor* man sie verwenden kann. Der Wert kann sich im Programm ändern aber nicht der Typ. Nennt sich *statische Typdeklaration*. \n",
    "\n",
    "- Bsp. in C:\n",
    "\n",
    "```C\n",
    "int i, j\n",
    "float x\n",
    "\n",
    "x = i / 3.0 + 5.8*j\n",
    "```\n"
   ]
  },
  {
   "cell_type": "markdown",
   "metadata": {
    "slideshow": {
     "slide_type": "slide"
    }
   },
   "source": [
    "- In Python benötigt man keine Typdeklaration\n",
    "- Möchte man eine Variable `x` vom Typ integer und Wert 23 dann erreicht man dies durch Zuweisung des Wertes: `x = 23`\n",
    "- In Python kann sich der Typ einer Variable im Programm ändern. \n",
    "```python\n",
    "x = 1         # x ist ein integer\n",
    "print(x)\n",
    "x = 'hello'   # jetzt ist x ein string\n",
    "print(x)\n",
    "x = 4.5       # jetzt ist x eine Fließkommazahl \n",
    "print(x)\n",
    "```\n",
    "- Der Typ wird von Python automatisch erkannt und ggf. geändert: *Dynamische Typdeklaration*"
   ]
  },
  {
   "cell_type": "markdown",
   "metadata": {
    "slideshow": {
     "slide_type": "slide"
    }
   },
   "source": [
    "## Typverletzungen (type conflicts)\n",
    "\n",
    "- Kommt nur bei Ausdrücken vor (da ja eine Variable jeden Typ haben kann).\n",
    "\n",
    "```python\n",
    ">>> x = \"some string\"\n",
    ">>> y = 23\n",
    ">>> x + y\n",
    "Traceback (most recent call last):\n",
    "  File \"<stdin>\", line 1, in <module>\n",
    "TypeError: must be str, not int\n",
    ">>>\n",
    "```\n",
    "- Das bedeutet nicht, dass man Variablen verschiedenen Typ nicht in einem Ausdruck kombinieren kann:\n",
    "    \n",
    "```python\n",
    ">>> x = 2\n",
    ">>> y = 3.4\n",
    ">>> x*y\n",
    "6.8\n",
    ">>>\n",
    "```"
   ]
  },
  {
   "cell_type": "markdown",
   "metadata": {
    "slideshow": {
     "slide_type": "slide"
    }
   },
   "source": [
    "## Typumwandlung\n",
    "\n",
    "\n",
    "```python\n",
    ">>> first_name = \"Helena\"\n",
    ">>> last_name = \"Mihaljević\"\n",
    ">>> age = 37\n",
    ">>> print(first_name + \" \" + last_name + \": \" + str(age))\n",
    "Helena Mihaljević: 37\n",
    "```"
   ]
  },
  {
   "cell_type": "markdown",
   "metadata": {
    "slideshow": {
     "slide_type": "slide"
    }
   },
   "source": [
    "## Duck Typing\n",
    "\n",
    "<center>\n",
    "<img src=\"figures/duck_typing.jpg\">\n",
    "</center>\n",
    "\n"
   ]
  },
  {
   "cell_type": "markdown",
   "metadata": {
    "slideshow": {
     "slide_type": "slide"
    }
   },
   "source": [
    "- Duck Typing: Anwendung des [Duck tests](https://en.wikipedia.org/wiki/Duck_typing): \"\"If it walks like a duck and it quacks like a duck, then it must be a duck\" \n",
    "- Eignung eines Objekts / einer Variable hängt davon ob, ob bestimmte Methoden und Eigenschaften vorhanden sind und nicht vom Typ selbst."
   ]
  },
  {
   "cell_type": "markdown",
   "metadata": {
    "slideshow": {
     "slide_type": "slide"
    }
   },
   "source": [
    "## Aufgabe: Duck Typing Multiplikation\n",
    "\n",
    "- Definieren Sie eine Variable x und weisen Sie ihr den Wert 2 zu\n",
    "- Definieren Sie eine Variable y und weisen Sie ihr den Wert \"2\" zu\n",
    "- Multiplizieren Sie nun beide mit 3 (Multiplikation erfordert den Operator ``*``)\n",
    "- Welche Ergebnisse erhalten Sie jeweils? Wie ist die Operation in den beiden Fällen jeweils zu verstehen?"
   ]
  },
  {
   "cell_type": "markdown",
   "metadata": {
    "slideshow": {
     "slide_type": "slide"
    }
   },
   "source": [
    "```python\n",
    ">>> x = 2\n",
    ">>> x * 3\n",
    "6\n",
    ">>> y = \"2\"\n",
    ">>> y * 3\n",
    "'222'\n",
    "```\n",
    "\n",
    "Angewendet auf einen String führt der Operator  `*` also zu einer Konkatenation:\n",
    "\n",
    "```python\n",
    ">>> 2*'string'\n",
    "stringstring\n",
    "```"
   ]
  },
  {
   "cell_type": "markdown",
   "metadata": {
    "slideshow": {
     "slide_type": "slide"
    }
   },
   "source": [
    "## Type Checking"
   ]
  },
  {
   "cell_type": "code",
   "execution_count": 1,
   "metadata": {
    "slideshow": {
     "slide_type": "fragment"
    }
   },
   "outputs": [
    {
     "data": {
      "text/plain": [
       "int"
      ]
     },
     "execution_count": 1,
     "metadata": {},
     "output_type": "execute_result"
    }
   ],
   "source": [
    "x = 1         # x is an integer\n",
    "type(x)"
   ]
  },
  {
   "cell_type": "code",
   "execution_count": 2,
   "metadata": {
    "slideshow": {
     "slide_type": "fragment"
    }
   },
   "outputs": [
    {
     "data": {
      "text/plain": [
       "str"
      ]
     },
     "execution_count": 2,
     "metadata": {},
     "output_type": "execute_result"
    }
   ],
   "source": [
    "x = \"1\"         # x is a string\n",
    "type(x)"
   ]
  },
  {
   "cell_type": "code",
   "execution_count": 3,
   "metadata": {
    "slideshow": {
     "slide_type": "fragment"
    }
   },
   "outputs": [
    {
     "data": {
      "text/plain": [
       "list"
      ]
     },
     "execution_count": 3,
     "metadata": {},
     "output_type": "execute_result"
    }
   ],
   "source": [
    "x = [1]         # x is a list\n",
    "type(x)"
   ]
  },
  {
   "cell_type": "code",
   "execution_count": 9,
   "metadata": {
    "slideshow": {
     "slide_type": "slide"
    }
   },
   "outputs": [
    {
     "data": {
      "text/plain": [
       "True"
      ]
     },
     "execution_count": 9,
     "metadata": {},
     "output_type": "execute_result"
    }
   ],
   "source": [
    "x = 1 \n",
    "isinstance(x, int)"
   ]
  },
  {
   "cell_type": "code",
   "execution_count": 8,
   "metadata": {
    "slideshow": {
     "slide_type": "fragment"
    }
   },
   "outputs": [
    {
     "data": {
      "text/plain": [
       "True"
      ]
     },
     "execution_count": 8,
     "metadata": {},
     "output_type": "execute_result"
    }
   ],
   "source": [
    "x = \"1\"         # x is a string\n",
    "isinstance(x, str)"
   ]
  },
  {
   "cell_type": "markdown",
   "metadata": {
    "slideshow": {
     "slide_type": "slide"
    }
   },
   "source": [
    "## Python Scalar Types\n",
    "\n",
    "| Type        | Example        | Description                                                  |\n",
    "|-------------|----------------|--------------------------------------------------------------|\n",
    "| ``int``     | ``x = 1``      | integers (i.e., whole numbers)                               |\n",
    "| ``float``   | ``x = 1.0``    | floating-point numbers (i.e., real numbers)                  |\n",
    "| ``complex`` | ``x = 1 + 2j`` | Complex numbers (i.e., numbers with real and imaginary part) |\n",
    "| ``bool``    | ``x = True``   | Boolean: True/False values                                   |\n",
    "| ``str``     | ``x = 'abc'``  | String: characters or text                                   |\n",
    "| ``NoneType``| ``x = None``   | Special object indicating nulls                              |\n"
   ]
  },
  {
   "cell_type": "markdown",
   "metadata": {
    "slideshow": {
     "slide_type": "slide"
    }
   },
   "source": [
    "## Integers"
   ]
  },
  {
   "cell_type": "code",
   "execution_count": 10,
   "metadata": {
    "slideshow": {
     "slide_type": "fragment"
    }
   },
   "outputs": [
    {
     "data": {
      "text/plain": [
       "int"
      ]
     },
     "execution_count": 10,
     "metadata": {},
     "output_type": "execute_result"
    }
   ],
   "source": [
    "x = 1\n",
    "type(x)"
   ]
  },
  {
   "cell_type": "code",
   "execution_count": 11,
   "metadata": {
    "slideshow": {
     "slide_type": "fragment"
    }
   },
   "outputs": [
    {
     "data": {
      "text/plain": [
       "0.5"
      ]
     },
     "execution_count": 11,
     "metadata": {},
     "output_type": "execute_result"
    }
   ],
   "source": [
    "# python ints are automatically casted to floats\n",
    "x / 2"
   ]
  },
  {
   "cell_type": "markdown",
   "metadata": {
    "slideshow": {
     "slide_type": "slide"
    }
   },
   "source": [
    "## Floats"
   ]
  },
  {
   "cell_type": "code",
   "execution_count": 12,
   "metadata": {
    "slideshow": {
     "slide_type": "fragment"
    }
   },
   "outputs": [
    {
     "data": {
      "text/plain": [
       "float"
      ]
     },
     "execution_count": 12,
     "metadata": {},
     "output_type": "execute_result"
    }
   ],
   "source": [
    "x = 1.\n",
    "type(x)"
   ]
  },
  {
   "cell_type": "code",
   "execution_count": 13,
   "metadata": {
    "slideshow": {
     "slide_type": "fragment"
    }
   },
   "outputs": [
    {
     "data": {
      "text/plain": [
       "float"
      ]
     },
     "execution_count": 13,
     "metadata": {},
     "output_type": "execute_result"
    }
   ],
   "source": [
    "# explicit cast\n",
    "x = float(1)\n",
    "type(x)"
   ]
  },
  {
   "cell_type": "code",
   "execution_count": 14,
   "metadata": {
    "slideshow": {
     "slide_type": "fragment"
    }
   },
   "outputs": [
    {
     "data": {
      "text/plain": [
       "True"
      ]
     },
     "execution_count": 14,
     "metadata": {},
     "output_type": "execute_result"
    }
   ],
   "source": [
    "# equality checks between floats and ints actually work\n",
    "x == 1"
   ]
  },
  {
   "cell_type": "markdown",
   "metadata": {
    "slideshow": {
     "slide_type": "slide"
    }
   },
   "source": [
    "## None Type\n"
   ]
  },
  {
   "cell_type": "code",
   "execution_count": 15,
   "metadata": {
    "slideshow": {
     "slide_type": "fragment"
    }
   },
   "outputs": [
    {
     "name": "stdout",
     "output_type": "stream",
     "text": [
      "abc\n"
     ]
    },
    {
     "data": {
      "text/plain": [
       "NoneType"
      ]
     },
     "execution_count": 15,
     "metadata": {},
     "output_type": "execute_result"
    }
   ],
   "source": [
    "return_value = print('abc')\n",
    "type(return_value)"
   ]
  },
  {
   "cell_type": "markdown",
   "metadata": {
    "slideshow": {
     "slide_type": "slide"
    }
   },
   "source": [
    "## Boolean Type\n",
    "\n",
    "- ```python True``` and ```python False```\n",
    "- Case sensitive!"
   ]
  },
  {
   "cell_type": "code",
   "execution_count": 16,
   "metadata": {
    "slideshow": {
     "slide_type": "fragment"
    }
   },
   "outputs": [
    {
     "data": {
      "text/plain": [
       "True"
      ]
     },
     "execution_count": 16,
     "metadata": {},
     "output_type": "execute_result"
    }
   ],
   "source": [
    "result = (4 < 5)\n",
    "result"
   ]
  },
  {
   "cell_type": "code",
   "execution_count": 17,
   "metadata": {
    "slideshow": {
     "slide_type": "fragment"
    }
   },
   "outputs": [
    {
     "data": {
      "text/plain": [
       "bool"
      ]
     },
     "execution_count": 17,
     "metadata": {},
     "output_type": "execute_result"
    }
   ],
   "source": [
    "type(result)"
   ]
  },
  {
   "cell_type": "markdown",
   "metadata": {
    "slideshow": {
     "slide_type": "slide"
    }
   },
   "source": [
    "### Many Things are implicitly cast to booleans:"
   ]
  },
  {
   "cell_type": "code",
   "execution_count": 18,
   "metadata": {
    "slideshow": {
     "slide_type": "fragment"
    }
   },
   "outputs": [
    {
     "data": {
      "text/plain": [
       "True"
      ]
     },
     "execution_count": 18,
     "metadata": {},
     "output_type": "execute_result"
    }
   ],
   "source": [
    "bool(2014)"
   ]
  },
  {
   "cell_type": "code",
   "execution_count": 19,
   "metadata": {
    "slideshow": {
     "slide_type": "fragment"
    }
   },
   "outputs": [
    {
     "data": {
      "text/plain": [
       "False"
      ]
     },
     "execution_count": 19,
     "metadata": {},
     "output_type": "execute_result"
    }
   ],
   "source": [
    "bool(0)"
   ]
  },
  {
   "cell_type": "code",
   "execution_count": 20,
   "metadata": {
    "slideshow": {
     "slide_type": "fragment"
    }
   },
   "outputs": [
    {
     "data": {
      "text/plain": [
       "False"
      ]
     },
     "execution_count": 20,
     "metadata": {},
     "output_type": "execute_result"
    }
   ],
   "source": [
    "bool(None)"
   ]
  },
  {
   "cell_type": "code",
   "execution_count": 21,
   "metadata": {
    "slideshow": {
     "slide_type": "fragment"
    }
   },
   "outputs": [
    {
     "data": {
      "text/plain": [
       "False"
      ]
     },
     "execution_count": 21,
     "metadata": {},
     "output_type": "execute_result"
    }
   ],
   "source": [
    "bool(\"\")"
   ]
  },
  {
   "cell_type": "code",
   "execution_count": 22,
   "metadata": {
    "slideshow": {
     "slide_type": "fragment"
    }
   },
   "outputs": [
    {
     "data": {
      "text/plain": [
       "True"
      ]
     },
     "execution_count": 22,
     "metadata": {},
     "output_type": "execute_result"
    }
   ],
   "source": [
    "bool(\"abc\")"
   ]
  },
  {
   "cell_type": "markdown",
   "metadata": {
    "slideshow": {
     "slide_type": "slide"
    }
   },
   "source": [
    "## Sequentielle Datentypen"
   ]
  },
  {
   "cell_type": "markdown",
   "metadata": {
    "slideshow": {
     "slide_type": "slide"
    }
   },
   "source": [
    "- Datentypen, deren Elemente sequentiell angeordnet sind\n",
    "- Strings, Listen und Tupel\n",
    "- Elemente von Strings sind gleichartig (Characters / Zeichen), bei Listen und Tupeln können sie variieren\n",
    "\n",
    "```python\n",
    "\n",
    ">>> x = [1,2,\"a\",4.5]   # Liste mit Elementen verschiedenen Typs\n",
    ">>> t = (1,2,4,6.7)     # Tupel\n",
    ">>> s = \"a string consists of characters\"\n",
    "```\n",
    "\n",
    "- Es gibt gleichnamige Methoden für sequentielle Datentypen, z.B.\n",
    "\n",
    "```python\n",
    "\n",
    ">>> x[0]   # Zugriff auf 1. Element\n",
    "1\n",
    ">>> t[1]   # Zugriff auf 2. Element\n",
    "2\n",
    ">>> s[2]   # Zugriff auf 3. Element\n",
    "'s'\n",
    ">>>\n",
    "\n",
    "```"
   ]
  },
  {
   "cell_type": "markdown",
   "metadata": {
    "slideshow": {
     "slide_type": "slide"
    }
   },
   "source": [
    "## Strings (=Zeichenketten)\n",
    "\n",
    "Eine Folge beliebige *Zeichen* (=Characters) gesetzt in einfache oder doppelte Hochkommata:\n",
    "\n",
    "```python\n",
    "\n",
    "s = 'Meistens reichen einfache Hochkommata'\n",
    "\n",
    "t = \"manchmal braucht's doppelte Hochkommata\"\n",
    "\n",
    "```"
   ]
  },
  {
   "cell_type": "markdown",
   "metadata": {
    "slideshow": {
     "slide_type": "slide"
    }
   },
   "source": [
    "## Listen\n",
    "\n",
    "- Eine Folge beliebiger *Objekte*, also z.B. Integer-Zahlen, Float-Zahlen, Strings oder (geschachtelten) Listen\n",
    "- Wird mit eckigen Klamern generiert\n",
    "- Elemente werden durch Kommata getrennt; für Lesbarkeit empfohlen, ein Leerzeichen nach dem Element zu setzen (muss aber nicht)\n",
    "\n",
    "```python\n",
    "x = [3, 99,\"irgendwas\"]\n",
    "y = [42443, 5 , [5, [89, 'ziemlich geschachtelt']], 55.7]\n",
    "```"
   ]
  },
  {
   "cell_type": "markdown",
   "metadata": {
    "slideshow": {
     "slide_type": "slide"
    }
   },
   "source": [
    "## Tupel\n",
    "\n",
    "Unterschied zu Listen: \n",
    "\n",
    "- äußerlich: runde Klammern\n",
    "\n",
    "```python\n",
    "x = (3, 99,\"irgendwas\")\n",
    "y = (42443, 5 , [5, [89, 'ziemlich geschachtelt']], 55.7)\n",
    "```\n",
    "\n",
    "- Tupel können nicht mehr verändert werden (unveränderliche Objekte)\n",
    "\n"
   ]
  },
  {
   "cell_type": "markdown",
   "metadata": {
    "slideshow": {
     "slide_type": "slide"
    }
   },
   "source": [
    "## Indexing & Slicing (= Indizierung & Ausschneiden)\n",
    "----------\n",
    "\n",
    "\n",
    "<center>\n",
    "<img src=\"figures/indexing_and_slicing.jpg\">\n",
    "</center>\n",
    "\n"
   ]
  },
  {
   "cell_type": "code",
   "execution_count": 29,
   "metadata": {
    "slideshow": {
     "slide_type": "slide"
    }
   },
   "outputs": [
    {
     "name": "stdout",
     "output_type": "stream",
     "text": [
      "M\n"
     ]
    }
   ],
   "source": [
    "s = \"Monty Python\"\n",
    "print(s[0])"
   ]
  },
  {
   "cell_type": "code",
   "execution_count": 30,
   "metadata": {
    "slideshow": {
     "slide_type": "fragment"
    }
   },
   "outputs": [
    {
     "name": "stdout",
     "output_type": "stream",
     "text": [
      "n\n"
     ]
    }
   ],
   "source": [
    "print(s[-1])"
   ]
  },
  {
   "cell_type": "code",
   "execution_count": 32,
   "metadata": {
    "slideshow": {
     "slide_type": "fragment"
    }
   },
   "outputs": [
    {
     "name": "stdout",
     "output_type": "stream",
     "text": [
      "nt\n"
     ]
    }
   ],
   "source": [
    "print(s[2:4])"
   ]
  },
  {
   "cell_type": "markdown",
   "metadata": {
    "slideshow": {
     "slide_type": "slide"
    }
   },
   "source": [
    "Der Slicing-Operator kann auch mit drei Argumenten verwendet werden. Das dritte ist *optional* und gibt die Schrittweite an `s[begin, end, step]`:\n"
   ]
  },
  {
   "cell_type": "code",
   "execution_count": 34,
   "metadata": {
    "slideshow": {
     "slide_type": "fragment"
    }
   },
   "outputs": [
    {
     "data": {
      "text/plain": [
       "'ot'"
      ]
     },
     "execution_count": 34,
     "metadata": {},
     "output_type": "execute_result"
    }
   ],
   "source": [
    "s[1:5:2]"
   ]
  },
  {
   "cell_type": "code",
   "execution_count": 35,
   "metadata": {
    "slideshow": {
     "slide_type": "fragment"
    }
   },
   "outputs": [
    {
     "data": {
      "text/plain": [
       "'oyyo'"
      ]
     },
     "execution_count": 35,
     "metadata": {},
     "output_type": "execute_result"
    }
   ],
   "source": [
    "s[1::3]"
   ]
  },
  {
   "cell_type": "markdown",
   "metadata": {
    "slideshow": {
     "slide_type": "slide"
    }
   },
   "source": [
    "# Verzweigungen"
   ]
  },
  {
   "cell_type": "markdown",
   "metadata": {
    "slideshow": {
     "slide_type": "slide"
    }
   },
   "source": [
    "## Syntax für `if-elif-else` Anweisungen\n",
    "\n",
    "```python\n",
    "if bedingung:\n",
    "    anweisungen\n",
    "elif bedingung:\n",
    "    anweisungen\n",
    "...\n",
    "elif bedingung:\n",
    "    anweisungen\n",
    "else:\n",
    "    anweisungen\n",
    "```\n"
   ]
  },
  {
   "cell_type": "code",
   "execution_count": 3,
   "metadata": {
    "slideshow": {
     "slide_type": "slide"
    }
   },
   "outputs": [
    {
     "name": "stdout",
     "output_type": "stream",
     "text": [
      "Bundesland? Niedersachsen\n",
      "Die Hauptstadt ist Hannover\n"
     ]
    }
   ],
   "source": [
    "bundesland = input(\"Bundesland? \")\n",
    "if bundesland == \"Berlin\":\n",
    "    print(\"Die Hauptstadt ist Berlin\")\n",
    "elif bundesland == \"Brandenburg\":\n",
    "    print(\"Die Hauptstadt ist Potsdam\")\n",
    "elif bundesland == \"Niedersachsen\":\n",
    "    print(\"Die Hauptstadt ist Hannover\")\n",
    "else:\n",
    "    print(\"Dieses Bundesland kenne ich nicht (falls es überhaupt eins ist)\")"
   ]
  },
  {
   "cell_type": "markdown",
   "metadata": {
    "slideshow": {
     "slide_type": "slide"
    }
   },
   "source": [
    "Es gibt mehr als diese 3 Bundesländer\n",
    "\n",
    "Wir könnten dieses Problem lösen, indem wir die 16 Anweisungen explizit aufschreiben. Hier gibt es allerdings viel Code-Redundanz. Dies sollte man beim Programmieren grundsätzlich vermeiden.\n",
    "\n",
    "Dont Repeat Yourself (DRY) Principle:\n",
    "\n",
    "*Every piece of knowledge or logic must have a single, unambiguous representation within a system.*"
   ]
  },
  {
   "cell_type": "markdown",
   "metadata": {
    "slideshow": {
     "slide_type": "slide"
    }
   },
   "source": [
    "In Java:\n",
    "\n",
    "- Zählschleife (klassisch, wie in `C` oder `C++`)\n",
    "    \n",
    "```java\n",
    "...\n",
    "String array[] = {\"Dina\", \"Dana\", \"Dora\"};\n",
    "...\n",
    "for (int i = 0; i < array.length; i++) \n",
    "{ \n",
    "    System.out.println(array[i]); \n",
    "} \n",
    "```\n",
    "\n",
    "\n",
    "- `foreach` Loop (seit Java 5)\n",
    "\n",
    "```java\n",
    "...\n",
    "String array[] = {\"Dina\", \"Dana\", \"Dora\"};\n",
    "...\n",
    "for (String x:array) \n",
    "{ \n",
    "    System.out.println(x); \n",
    "} \n",
    "```\n"
   ]
  },
  {
   "cell_type": "markdown",
   "metadata": {
    "slideshow": {
     "slide_type": "slide"
    }
   },
   "source": [
    "In Python: `for`-Schleife entspricht der `foreach` Schleife\n",
    "\n",
    "- Elemente einer Liste oder eines anderen \"iterierbaren Objektes\" werden nacheinander bearbeitet \n",
    "- Dazu werden sie einer Variable zugewiesen (Name frei wählbar, oft `item`, `x` oder inhaltlich passend)"
   ]
  },
  {
   "cell_type": "code",
   "execution_count": 4,
   "metadata": {
    "slideshow": {
     "slide_type": "slide"
    }
   },
   "outputs": [
    {
     "name": "stdout",
     "output_type": "stream",
     "text": [
      "Dina\n",
      "Dana\n",
      "Dora\n"
     ]
    }
   ],
   "source": [
    "names = [\"Dina\", \"Dana\", \"Dora\"]\n",
    "\n",
    "for n in names:\n",
    "    print(n)"
   ]
  },
  {
   "cell_type": "markdown",
   "metadata": {
    "slideshow": {
     "slide_type": "slide"
    }
   },
   "source": [
    "Manchmal möchte man in der Schleife auf die Indizes der Liste zugreifen. Bsp.:"
   ]
  },
  {
   "cell_type": "code",
   "execution_count": 5,
   "metadata": {
    "slideshow": {
     "slide_type": "fragment"
    }
   },
   "outputs": [
    {
     "name": "stdout",
     "output_type": "stream",
     "text": [
      "President 1: Washington\n",
      "President 2: Adams\n",
      "President 3: Jefferson\n",
      "President 4: Madison\n",
      "President 5: Monroe\n",
      "President 6: Adams\n"
     ]
    }
   ],
   "source": [
    "# Gebe die US Präsidenten sowie ihre Reihenfolge aus\n",
    "presidents = [\"Washington\", \"Adams\", \"Jefferson\", \"Madison\", \"Monroe\", \"Adams\"]\n",
    "for i in range(len(presidents)):\n",
    "    print(f\"President {i + 1}: {presidents[i]}\")"
   ]
  },
  {
   "cell_type": "markdown",
   "metadata": {
    "slideshow": {
     "slide_type": "fragment"
    }
   },
   "source": [
    "Haben hier übrigens sog. f-Strings verwendet. Gibt es erst seit Python 3.7. Besprechen wir später!"
   ]
  },
  {
   "cell_type": "markdown",
   "metadata": {
    "slideshow": {
     "slide_type": "fragment"
    }
   },
   "source": [
    "Wenn man sowohl auf die Elemente als auch auf die Indizes zugreifen will: Funktion `enumerate()`:"
   ]
  },
  {
   "cell_type": "code",
   "execution_count": 6,
   "metadata": {
    "slideshow": {
     "slide_type": "fragment"
    }
   },
   "outputs": [
    {
     "name": "stdout",
     "output_type": "stream",
     "text": [
      "President 1: Washington\n",
      "President 2: Adams\n",
      "President 3: Jefferson\n",
      "President 4: Madison\n",
      "President 5: Monroe\n",
      "President 6: Adams\n"
     ]
    }
   ],
   "source": [
    "presidents = [\"Washington\", \"Adams\", \"Jefferson\", \"Madison\", \"Monroe\", \"Adams\"]\n",
    "for i, name in enumerate(presidents, start=1):\n",
    "    print(f\"President {i}: {name}\")"
   ]
  },
  {
   "cell_type": "markdown",
   "metadata": {},
   "source": [
    "# Schleifen\n",
    "\n",
    "- werden benötigt, um einen Codeblock (=eine oder mehrere Anweisungen) wiederholt auszuführen\n",
    "- in Python gibt es die `for` und die `while` Schleife"
   ]
  },
  {
   "cell_type": "markdown",
   "metadata": {
    "slideshow": {
     "slide_type": "slide"
    }
   },
   "source": [
    "## `for` Schleife\n"
   ]
  },
  {
   "cell_type": "markdown",
   "metadata": {
    "slideshow": {
     "slide_type": "fragment"
    }
   },
   "source": [
    "<center>\n",
    "<img src=\"figures/for-flowchart.jpg\">\n",
    "    \n",
    "<caption>https://programmingstack.com/python-for-loop.html</caption>\n",
    "</center>\n",
    "\n"
   ]
  },
  {
   "cell_type": "markdown",
   "metadata": {
    "slideshow": {
     "slide_type": "slide"
    }
   },
   "source": [
    "## Übung\n",
    "\n",
    "Schreiben Sie ein Programm, welches mit Hilfe einer `for`-Schleife die Summe der Zahlen von 1 bis 100 berechnet und diese mit Hilfe der Funktion `print()` ausgibt."
   ]
  },
  {
   "cell_type": "code",
   "execution_count": 7,
   "metadata": {
    "slideshow": {
     "slide_type": "fragment"
    }
   },
   "outputs": [
    {
     "name": "stdout",
     "output_type": "stream",
     "text": [
      "Summe von 1 bis 100: 5050\n"
     ]
    }
   ],
   "source": [
    "sum = 0\n",
    "for i in range(101):\n",
    "    sum = sum + i\n",
    "print(f\"Summe von 1 bis 100: {sum}\")"
   ]
  },
  {
   "cell_type": "markdown",
   "metadata": {
    "slideshow": {
     "slide_type": "slide"
    }
   },
   "source": [
    "## `while` Schleife\n"
   ]
  },
  {
   "cell_type": "markdown",
   "metadata": {
    "slideshow": {
     "slide_type": "fragment"
    }
   },
   "source": [
    "<center>\n",
    "<img src=\"figures/python_while_flowchart.jpg\">\n",
    "    \n",
    "<caption>https://programmingstack.com/python-while-loop.html</caption>\n",
    "</center>\n",
    "\n"
   ]
  },
  {
   "cell_type": "code",
   "execution_count": 8,
   "metadata": {
    "slideshow": {
     "slide_type": "slide"
    }
   },
   "outputs": [
    {
     "name": "stdout",
     "output_type": "stream",
     "text": [
      "1\n",
      "2\n",
      "3\n",
      "4\n",
      "5\n"
     ]
    }
   ],
   "source": [
    "i = 1\n",
    "while i <= 5:\n",
    "    print(i)\n",
    "    i += 1"
   ]
  },
  {
   "cell_type": "markdown",
   "metadata": {
    "slideshow": {
     "slide_type": "slide"
    }
   },
   "source": [
    "Achtung: die `while`-Schleife ist eine **indefinite** Schleife: Sie wissen nicht im Vorfeld, wie oft der Codeblock in der Schleife ausgeführt werden wird.\n",
    "\n",
    "Sie sollten sich überlegen, ob Ihre `while`-Schleife terminieren soll und unter welchen Bedingungen dies erreicht wird."
   ]
  },
  {
   "cell_type": "markdown",
   "metadata": {
    "slideshow": {
     "slide_type": "slide"
    }
   },
   "source": [
    "## Übung\n",
    "\n",
    "Übertragen Sie folgenden Code in eine Datei und speichern Sie diese unter `while_indefinite.py` ab. Starten Sie anschließend das Skript und geben Sie verschiedene Zahlen ein, um die Funktionalität des Codes zu testen.\n",
    "\n",
    "\n",
    "```python\n",
    "i = 0\n",
    "while i < 100:\n",
    "    i = input()\n",
    "    print(i)\n",
    "    i = int(i)\n",
    "```"
   ]
  },
  {
   "cell_type": "markdown",
   "metadata": {
    "slideshow": {
     "slide_type": "slide"
    }
   },
   "source": [
    "## Übung\n",
    "\n",
    "Schreiben Sie ein Programm, welches mit Hilfe einer `while`-Schleife die Summe der Zahlen von 1 bis 100 berechnet und diese mit Hilfe der Funktion `print()` ausgibt."
   ]
  },
  {
   "cell_type": "code",
   "execution_count": null,
   "metadata": {
    "slideshow": {
     "slide_type": "fragment"
    }
   },
   "outputs": [],
   "source": [
    "n = 100\n",
    "sum = 0\n",
    "i = 1\n",
    "\n",
    "while i <= n:\n",
    "    sum = sum + i\n",
    "    i = i + 1\n",
    "print(f\"Summe von 1 bis 100: {sum}\")"
   ]
  },
  {
   "cell_type": "markdown",
   "metadata": {
    "slideshow": {
     "slide_type": "slide"
    }
   },
   "source": [
    "Wir können **Schleifen und Verzweigungen kombinieren**:"
   ]
  },
  {
   "cell_type": "code",
   "execution_count": 9,
   "metadata": {
    "slideshow": {
     "slide_type": "fragment"
    }
   },
   "outputs": [
    {
     "name": "stdout",
     "output_type": "stream",
     "text": [
      "4\n",
      "4\n",
      "2.0\n",
      "Endlich fertig\n"
     ]
    }
   ],
   "source": [
    "n = int(input())\n",
    "\n",
    "while n != 1:\n",
    "    print(n)\n",
    "    if n % 2 == 0: # n is even\n",
    "        n = n / 2 \n",
    "    else:          # n is odd\n",
    "        n = n*3 + 1\n",
    "print(\"Endlich fertig\")"
   ]
  },
  {
   "cell_type": "markdown",
   "metadata": {
    "slideshow": {
     "slide_type": "slide"
    }
   },
   "source": [
    "Und natürlich können wir **Schleifen ineinander schachteln**:"
   ]
  },
  {
   "cell_type": "code",
   "execution_count": null,
   "metadata": {
    "slideshow": {
     "slide_type": "fragment"
    }
   },
   "outputs": [],
   "source": [
    "# Was macht dieser Code?\n",
    "x = int(input('Enter an integer: '))\n",
    "\n",
    "while x != 0:\n",
    "    for y in range(1, x):\n",
    "        print(y)\n",
    "        y += 1\n",
    "    x = int(input('Enter an integer: '))"
   ]
  },
  {
   "cell_type": "markdown",
   "metadata": {
    "slideshow": {
     "slide_type": "slide"
    }
   },
   "source": [
    "## Exit a loop: `break`, `continue`, `pass`"
   ]
  },
  {
   "cell_type": "markdown",
   "metadata": {
    "slideshow": {
     "slide_type": "slide"
    }
   },
   "source": [
    "<center>\n",
    "<img src=\"figures/break_continue.webp\", width=350>\n",
    "    \n",
    "<caption>https://realpython.com/python-while-loop/</caption>\n",
    "</center>\n",
    "\n"
   ]
  },
  {
   "cell_type": "code",
   "execution_count": 10,
   "metadata": {
    "slideshow": {
     "slide_type": "slide"
    }
   },
   "outputs": [
    {
     "name": "stdout",
     "output_type": "stream",
     "text": [
      "s\n",
      "t\n",
      "r\n",
      "Done\n"
     ]
    }
   ],
   "source": [
    "# Einfaches Beispiel\n",
    "for val in \"string\":\n",
    "    if val == \"i\":\n",
    "        break\n",
    "    print(val)\n",
    "print(\"Done\")"
   ]
  },
  {
   "cell_type": "code",
   "execution_count": 11,
   "metadata": {
    "slideshow": {
     "slide_type": "fragment"
    }
   },
   "outputs": [
    {
     "name": "stdout",
     "output_type": "stream",
     "text": [
      "s\n",
      "t\n",
      "r\n",
      "n\n",
      "g\n",
      "Done\n"
     ]
    }
   ],
   "source": [
    "for val in \"string\":\n",
    "    if val == \"i\":\n",
    "        continue\n",
    "    print(val)\n",
    "print(\"Done\")"
   ]
  },
  {
   "cell_type": "code",
   "execution_count": null,
   "metadata": {
    "slideshow": {
     "slide_type": "slide"
    }
   },
   "outputs": [],
   "source": [
    "# Was macht dieser Code? Hinweis: 'num%teiler == 0' bedeutet 'num ist teilbar durch teiler'\n",
    "\n",
    "for num in range(2,101):\n",
    "    prime = True\n",
    "    for teiler in range(2,num):\n",
    "        if num%teiler==0:\n",
    "            prime = False\n",
    "            break\n",
    "    if prime:\n",
    "        print(num)"
   ]
  },
  {
   "cell_type": "markdown",
   "metadata": {
    "slideshow": {
     "slide_type": "slide"
    }
   },
   "source": [
    "`pass` statement \n",
    "\n",
    "- verwenden wir in der Regel als Platzhalter\n",
    "- wir können die Code-Struktur aufschreiben ohne die genauen Anweisungen zu formulieren\n"
   ]
  },
  {
   "cell_type": "code",
   "execution_count": 12,
   "metadata": {
    "slideshow": {
     "slide_type": "slide"
    }
   },
   "outputs": [
    {
     "name": "stdout",
     "output_type": "stream",
     "text": [
      "s\n",
      "t\n",
      "r\n",
      "i\n",
      "n\n",
      "g\n",
      "The end\n"
     ]
    }
   ],
   "source": [
    "for val in \"string\":\n",
    "    if val == \"i\":\n",
    "        pass\n",
    "    print(val)\n",
    "\n",
    "print(\"The end\")"
   ]
  },
  {
   "cell_type": "markdown",
   "metadata": {
    "slideshow": {
     "slide_type": "slide"
    }
   },
   "source": [
    "## `else` Statement in Schleifen\n",
    "\n",
    "```python\n",
    "while <expr>:\n",
    "    <statement(s)>\n",
    "else:\n",
    "    <additional_statement(s)>\n",
    "```\n",
    "\n",
    "- Die Anweisungen `<additional_statement(s)>`werden nur dann ausgeführt, wenn alle Elemente der Sequenz abgearbeitet worden sind. \n",
    "- Sie werden also nicht ausgeführt, wenn die Schleife vorzeitig durch ein `break` verlassen wurde."
   ]
  },
  {
   "cell_type": "markdown",
   "metadata": {
    "slideshow": {
     "slide_type": "slide"
    }
   },
   "source": [
    "# Operatoren\n",
    "\n",
    "- Um Bedingungen formulieren zu können, brauchen wir Operatoren (z.B. 'wenn a < 0')\n",
    "- Operatoren sind Methoden, welche auf einfachere Art verwendet werden können (lernen dazu mehr, wenn wir über Objekte und Klassen sprechen)\n",
    "\n",
    "## Operator-Typen\n",
    "\n",
    "- Arithmetic Operators\n",
    "- Bitwise Operators\n",
    "- Assignment Operators\n",
    "- Comparison Operators\n",
    "- Boolean Operators\n",
    "- Membership Operators\n"
   ]
  },
  {
   "cell_type": "markdown",
   "metadata": {
    "slideshow": {
     "slide_type": "slide"
    }
   },
   "source": [
    "## Arithmetic Operations\n",
    "\n",
    "| Operator     | Name           | Description                                            |\n",
    "|--------------|----------------|--------------------------------------------------------|\n",
    "| ``a + b``    | Addition       | Sum of ``a`` and ``b``                                 |\n",
    "| ``a - b``    | Subtraction    | Difference of ``a`` and ``b``                          |\n",
    "| ``a * b``    | Multiplication | Product of ``a`` and ``b``                             |\n",
    "| ``a / b``    | True division  | Quotient of ``a`` and ``b``                            |\n",
    "| ``a // b``   | Floor division | Quotient of ``a`` and ``b``, removing fractional parts |\n",
    "| ``a % b``    | Modulus        | Integer remainder after division of ``a`` by ``b``     |\n",
    "| ``a ** b``   | Exponentiation | ``a`` raised to the power of ``b``                     |\n",
    "| ``-a``       | Negation       | The negative of ``a``                                  |\n",
    "| ``+a``       | Unary plus     | ``a`` unchanged (rarely used)                          |\n"
   ]
  },
  {
   "cell_type": "markdown",
   "metadata": {
    "slideshow": {
     "slide_type": "slide"
    }
   },
   "source": [
    "## Bitwise Operations\n",
    "\n",
    "| Operator     | Name            | Description                                 |\n",
    "|--------------|-----------------|---------------------------------------------|\n",
    "| ``a & b``    | Bitwise AND     | Bits defined in both ``a`` and ``b``        |\n",
    "| <code>a &#124; b</code>| Bitwise OR      | Bits defined in ``a`` or ``b`` or both      |\n",
    "| ``a ^ b``    | Bitwise XOR     | Bits defined in ``a`` or ``b`` but not both |\n",
    "| ``a << b``   | Bit shift left  | Shift bits of ``a`` left by ``b`` units     |\n",
    "| ``a >> b``   | Bit shift right | Shift bits of ``a`` right by ``b`` units    |\n",
    "| ``~a``       | Bitwise NOT     | Bitwise negation of ``a``                          |"
   ]
  },
  {
   "cell_type": "code",
   "execution_count": 13,
   "metadata": {
    "slideshow": {
     "slide_type": "fragment"
    }
   },
   "outputs": [
    {
     "data": {
      "text/plain": [
       "False"
      ]
     },
     "execution_count": 13,
     "metadata": {},
     "output_type": "execute_result"
    }
   ],
   "source": [
    "a = True\n",
    "b = False\n",
    "a & b"
   ]
  },
  {
   "cell_type": "markdown",
   "metadata": {
    "slideshow": {
     "slide_type": "slide"
    }
   },
   "source": [
    "## Assignment Operations\n",
    "\n",
    "|||||\n",
    "|-|-|\n",
    "|``a += b``| ``a -= b``|``a *= b``| ``a /= b``|\n",
    "|``a //= b``| ``a %= b``|``a **= b``|``a &= b``|\n",
    "|<code>a &#124;= b</code>| ``a ^= b``|``a <<= b``| ``a >>= b``|"
   ]
  },
  {
   "cell_type": "code",
   "execution_count": 14,
   "metadata": {
    "slideshow": {
     "slide_type": "fragment"
    }
   },
   "outputs": [
    {
     "name": "stdout",
     "output_type": "stream",
     "text": [
      "4\n"
     ]
    }
   ],
   "source": [
    "a = 2\n",
    "a += 2  # equivalent to a = a + 2\n",
    "print(a)"
   ]
  },
  {
   "cell_type": "markdown",
   "metadata": {
    "slideshow": {
     "slide_type": "slide"
    }
   },
   "source": [
    "## Boolean Operations\n",
    "\n",
    "| Operator      | Description                                       |\n",
    "|---------------|---------------------------------------------------|\n",
    "| ``a and b``    | True if ``a`` and ``b``     |\n",
    "| ``a or b``| True if ``a`` or ``b`` is true |\n",
    "| ``not a``    | True if ``a`` is false.|"
   ]
  },
  {
   "cell_type": "code",
   "execution_count": 15,
   "metadata": {
    "slideshow": {
     "slide_type": "fragment"
    }
   },
   "outputs": [
    {
     "data": {
      "text/plain": [
       "False"
      ]
     },
     "execution_count": 15,
     "metadata": {},
     "output_type": "execute_result"
    }
   ],
   "source": [
    "True and False"
   ]
  },
  {
   "cell_type": "markdown",
   "metadata": {
    "slideshow": {
     "slide_type": "slide"
    }
   },
   "source": [
    "## Comparison Operations\n",
    "\n",
    "| Operation     | Description                       | Operation     | Description                          |\n",
    "|---------------|-----------------------------------|---------------|--------------------------------------|\n",
    "| ``a == b``    | ``a`` equal to ``b``              | ``a != b``    | ``a`` not equal to ``b``             |\n",
    "| ``a < b``     | ``a`` less than ``b``             | ``a > b``     | ``a`` greater than ``b``             |\n",
    "| ``a <= b``    | ``a`` less than or equal to ``b`` | ``a >= b``    | ``a`` greater than or equal to ``b`` |"
   ]
  },
  {
   "cell_type": "code",
   "execution_count": 16,
   "metadata": {
    "slideshow": {
     "slide_type": "fragment"
    }
   },
   "outputs": [
    {
     "data": {
      "text/plain": [
       "True"
      ]
     },
     "execution_count": 16,
     "metadata": {},
     "output_type": "execute_result"
    }
   ],
   "source": [
    "# 25 is odd\n",
    "25 % 2 == 1"
   ]
  },
  {
   "cell_type": "code",
   "execution_count": 17,
   "metadata": {
    "slideshow": {
     "slide_type": "fragment"
    }
   },
   "outputs": [
    {
     "data": {
      "text/plain": [
       "True"
      ]
     },
     "execution_count": 17,
     "metadata": {},
     "output_type": "execute_result"
    }
   ],
   "source": [
    "## check if a is between 15 and 30\n",
    "a = 25\n",
    "15 < a < 30"
   ]
  }
 ],
 "metadata": {
  "anaconda-cloud": {},
  "celltoolbar": "Slideshow",
  "kernelspec": {
   "display_name": "Python 3",
   "language": "python",
   "name": "python3"
  },
  "language_info": {
   "codemirror_mode": {
    "name": "ipython",
    "version": 3
   },
   "file_extension": ".py",
   "mimetype": "text/x-python",
   "name": "python",
   "nbconvert_exporter": "python",
   "pygments_lexer": "ipython3",
   "version": "3.6.5"
  }
 },
 "nbformat": 4,
 "nbformat_minor": 1
}
