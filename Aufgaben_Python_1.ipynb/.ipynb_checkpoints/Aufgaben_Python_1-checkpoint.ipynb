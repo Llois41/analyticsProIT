{
 "cells": [
  {
   "cell_type": "markdown",
   "metadata": {},
   "source": [
    "# Aufgaben Python Woche 1"
   ]
  },
  {
   "cell_type": "markdown",
   "metadata": {},
   "source": [
    "## Aufgabe 1\n",
    "\n",
    "Welche der folgenden Anweisungen in der Python-Shell sind richtig und welche nicht? Erklären Sie im Falle der inkorrekten Anweisungen, worin das Problem besteht.\n",
    "\n",
    "```python\n",
    "\n",
    ">>> t = (4, 7, 9)\n",
    "#valid Python code\n",
    "\n",
    ">>> s = \"Die Sonne scheint\"\n",
    "#valid Python code\n",
    "\n",
    ">>> l = [34, 22.1,\"777\",[3, 4]]\n",
    "#valid Python code\n",
    "\n",
    ">>> t2 = (4, 8, [45, 91])\n",
    "#valid Python code\n",
    "\n",
    ">>> t[0]\n",
    "#valid Python code\n",
    "\n",
    ">>> t[3]\n",
    "#IndexError: tuple index out of range\n",
    "#Kein Index 3, da Länge der Liste = 3 -> Indexe 0,1,2\n",
    "\n",
    ">>> t(3)\n",
    "#TypeError: 'tuple' object is not callable\n",
    "#() implies a function call, but a tuple is not a callable function\n",
    "\n",
    ">>> s[4]\n",
    "#valid Python code\n",
    "\n",
    ">>> s[4] = \"x\"\n",
    "#TypeError: 'str' object does not support item assignment\n",
    "#In Python strings are immutable so you cannot re-assign some value\n",
    "\n",
    ">>> l[2][0] = \"g\"\n",
    "#TypeError: 'str' object does not support item assignment\n",
    "#In Python strings are immutable so you cannot re-assign some value\n",
    "\n",
    ">>> l[3][0] = \"h\"\n",
    "#valid Python code\n",
    "\n",
    ">>> l\n",
    "#valid Python code\n",
    "\n",
    ">>> t2[2][0] = 23\n",
    "#valid Python code\n",
    "```\n"
   ]
  },
  {
   "cell_type": "code",
   "execution_count": 23,
   "metadata": {},
   "outputs": [
    {
     "name": "stdout",
     "output_type": "stream",
     "text": [
      "I think it is a new feature. Don't tell anyone it was an accident.\n",
      "You have a procedure with 10 parameters? you probably missed some.\n"
     ]
    }
   ],
   "source": [
    "str = \"IY otuh ihnakv ei ta  ipsr oac endeuwr ef ewaittuhr e1.0  Dpoanr'atm etteelrls ?a nyyooun ep riotb awbalsy  amni sascecdi dseonmte..\"\n",
    "print(str[::2])\n",
    "print(str[1::2])"
   ]
  },
  {
   "cell_type": "markdown",
   "metadata": {},
   "source": [
    "## Aufgabe 2\n",
    "#### Slicing-Operator auf sequentiellen Datentypen\n",
    "\n",
    "Welche zwei Sätze verbergen sich hinter dem folgenden Buchstabensalat \n",
    "\n",
    "<pre>\n",
    "\"IY otuh ihnakv ei ta  ipsr oac endeuwr ef ewaittuhr e1.0  Dpoanr'atm etteelrls ?a nyyooun ep riotb awbalsy  amni sascecdi dseonmte..\"\n",
    "</pre>\n",
    "\n",
    "#I think it is a new feature. Don't tell anyone it was an accident.\n",
    "#You have a procedure with 10 parameters? you probably missed some."
   ]
  },
  {
   "cell_type": "markdown",
   "metadata": {},
   "source": [
    "## Aufgabe 3\n",
    "\n",
    "#### Verzweigungen mit Vergleichsoperatoren und Boolschen Operatoren\n",
    " \n",
    "(a) Schreiben Sie ein Programm, welches die Userin auffordert, eine Farbe oder einen Anfangsbuchtaben einer Farbe einzugeben. Ist die Farbe 'schwarz' oder 'grau', soll der Satz 'Die Farbe ist etwas langweilig' ausgegeben werden. Fängt die Farbe mit dem Buchstaben 'b' oder 'g' an, soll eine andere Aussage ausgegeben werden (suchen Sie sich selbst eine aus :-)). \n",
    "\n",
    "(b) Erweitern Sie das Programm so, dass sowohl Groß- als auch Kleinschreibung akzeptiert wird. Hinweis: verwenden Sie dafür die String-Methode `lower()`, welche Sie folgender verwenden können: \n",
    "\n",
    "```python\n",
    ">>> 'sRt'.lower()\n",
    "'srt'\n",
    "```\n",
    "\n",
    "(c) Überlegen Sie sich eine Zahl und speichern Sie diese in einer Variable `my_lucky_number`. Ihr Programm soll nun die Userin auffordern, eine Zahl einzugeben. Ist die Zahl größer als der Wert Ihrer erdachten Zahl, soll 'Die eingegebene Zahl ist zu groß' ausgegeben werden. Entsprechende Sätze sollen für die anderen beiden Fälle (identisch mit der Zahl und kleiner als die Zahl) ausgegeben werden. Hinweis: die Funktion `input()` gibt einen string zurück, den Sie mit Hilfe einer Typ-ändernden Funktion konvertieren müssen.\n",
    "\n",
    "```python \n",
    "color = input(\"Bitte geben Sie eine Farbe ein: ...\")\n",
    "color.lower()\n",
    "if color==\"schwarz\" or color==\"grau\":\n",
    "    print(\"Die Farbe ist etwas langweilig\")\n",
    "elif color[0]==\"b\" or color[0]==\"g\":\n",
    "    print(\"Das ist eine schöne Farbe :)\")\n",
    "```"
   ]
  },
  {
   "cell_type": "markdown",
   "metadata": {},
   "source": [
    "## Aufgabe 4\n",
    "\n",
    "#### Schleifen mit Vergleichsoperatoren\n",
    "\n",
    "(a) Schreiben Sie ein Programm, welches den User auffordert, Ihre Glückszahl zu erraten (diese überlegen Sie sich selbst). Falls die Antwort korrekt ist, stoppt das Programm und gibt einen passenden Satz aus. Ansonsten wird die Aufforderung wiederholt.\n",
    "\n",
    "\n",
    "\n",
    "(b) Passen Sie das Programm aus (a) so an, dass der User zusätzlich gefragt wird, ob er nur einmal raten möchte. Verwenden Sie für die beiden Antworten des Users jeweils eine Variable. Das Programm stoppt, falls der User die richtige Zahl errät oder auf die zusätzliche Frage mit 'ja' geantwortet hat.\n",
    "\n",
    "(c) Passen SIe das Programm aus (b) so an, dass der User eine maximale Anzahl von Versuchen angeben kann. Er wird höchstens so oft aufgefordert, die richtige Zahl zu erraten."
   ]
  },
  {
   "cell_type": "code",
   "execution_count": null,
   "metadata": {},
   "outputs": [],
   "source": [
    "lucky_number = 10\n",
    "guess = input(\"Rate doch mal, was meine Zahl ist ;): ...\")\n",
    "not_guessed = True\n",
    "\n",
    "try:\n",
    "    guess = int(guess)\n",
    "except ValueError:\n",
    "   print(\"That's not an int!\")\n",
    "\n",
    "while not_guessed:\n",
    "    if guess == lucky_number:\n",
    "        print(\"Richtig! Kauf Dir nen Keks\")\n",
    "        not_guessed = False\n",
    "    else:\n",
    "        guess = input(\"Leider nicht, rate noch mal :P\")\n",
    "        try:\n",
    "            guess = int(guess)\n",
    "        except ValueError:\n",
    "            print(\"That's not an int!\")"
   ]
  },
  {
   "cell_type": "code",
   "execution_count": 1,
   "metadata": {},
   "outputs": [
    {
     "name": "stdout",
     "output_type": "stream",
     "text": [
      "Willst Du nur einmal raten, Kollege? Tippe y für ja: n\n",
      "Rate mal: ... 68\n",
      "Rate mal: ... 12\n",
      "Rate mal: ... 10.0\n",
      "That's not an int!\n",
      "Rate mal: ... 10\n",
      "Richtig geraten, Glueckwunsch\n"
     ]
    }
   ],
   "source": [
    "lucky_number = 10\n",
    "guess_onetime = input(\"Willst Du nur einmal raten, Kollege? Tippe y für ja: \")\n",
    "\n",
    "def guessFunc(guessCount):\n",
    "    guessed_right = False\n",
    "    while guessCount>0 and not guessed_right:\n",
    "        guess = input(\"Rate mal: ... \")\n",
    "        try:\n",
    "            guess = int(guess)\n",
    "        except ValueError:\n",
    "            print(\"That's not an int!\")\n",
    "        if guess == lucky_number:\n",
    "            print(\"Richtig geraten, Glueckwunsch\")\n",
    "            guessed_right = True\n",
    "        else:\n",
    "            guessCount = guessCount-1\n",
    "\n",
    "if guess_onetime == 'y':\n",
    "    guess_onetime = True\n",
    "else:\n",
    "    guess_onetime = False\n",
    "\n",
    "if guess_onetime:\n",
    "    guessFunc(1)\n",
    "else:\n",
    "    guessFunc(10000000) "
   ]
  },
  {
   "cell_type": "markdown",
   "metadata": {},
   "source": [
    "## Aufgabe 5\n",
    "\n",
    "#### `for`-Schleifen und Listen\n",
    "\n",
    "(a) Printen Sie alle Vielfachen von 11 zwischen 5 und 203. Verwenden Sie dafür die Funktion `range()`. \n",
    "\n",
    "(b) Schreiben Sie ein Programm, welches einen Input-String in umgekehrter Reihenfolge zurückgibt.\n",
    "\n",
    "(c) Erweitern Sie das Programm aus (b), indem Sie zwischen den einzelnen Zeichen das Zeichen '+' einbauen\n",
    "\n",
    "(d) Erweiter Sie das Programm aus (c), indem Sie zusätzlich prüfen, ob der eingegebene String der leere String '' ist. Falls ja, soll '+' ausgegeben werden."
   ]
  },
  {
   "cell_type": "code",
   "execution_count": 6,
   "metadata": {},
   "outputs": [
    {
     "name": "stdout",
     "output_type": "stream",
     "text": [
      "11\n",
      "22\n",
      "33\n",
      "44\n",
      "55\n",
      "66\n",
      "77\n",
      "88\n",
      "99\n",
      "110\n",
      "121\n",
      "132\n",
      "143\n",
      "154\n",
      "165\n",
      "176\n",
      "187\n",
      "198\n"
     ]
    }
   ],
   "source": [
    "for i in range(5,203):\n",
    "    if i%11 == 0:\n",
    "        print(i)"
   ]
  },
  {
   "cell_type": "code",
   "execution_count": 17,
   "metadata": {},
   "outputs": [
    {
     "name": "stdout",
     "output_type": "stream",
     "text": [
      "o\n",
      "ol\n",
      "oll\n",
      "olla\n",
      "ollaH\n"
     ]
    }
   ],
   "source": [
    "def revertString(string):\n",
    "    reverted_string = ''\n",
    "    for i in range(len(string)):\n",
    "        reverted_string += string[-i-1]\n",
    "        print(reverted_string)\n",
    "        \n",
    "revertString('Hallo')"
   ]
  },
  {
   "cell_type": "code",
   "execution_count": 22,
   "metadata": {},
   "outputs": [
    {
     "name": "stdout",
     "output_type": "stream",
     "text": [
      "o + l + l + a + H\n"
     ]
    }
   ],
   "source": [
    "def revertString(string):\n",
    "    reverted_string = ''\n",
    "    for i in range(len(string)):\n",
    "        reverted_string += string[-i-1] + ' + '\n",
    "    reverted_string = reverted_string[:-3]\n",
    "    print(reverted_string)\n",
    "        \n",
    "revertString('Hallo')"
   ]
  },
  {
   "cell_type": "code",
   "execution_count": null,
   "metadata": {},
   "outputs": [],
   "source": [
    "def revertString(string):\n",
    "    if string == '':\n",
    "        print('+')\n",
    "    else:\n",
    "        reverted_string = ''\n",
    "        for i in range(len(string)):\n",
    "            reverted_string += string[-i-1] + ' + '\n",
    "        reverted_string = reverted_string[:-3]\n",
    "        print(reverted_string)\n",
    "        \n",
    "revertString('')"
   ]
  }
 ],
 "metadata": {
  "kernelspec": {
   "display_name": "Python 3",
   "language": "python",
   "name": "python3"
  },
  "language_info": {
   "codemirror_mode": {
    "name": "ipython",
    "version": 3
   },
   "file_extension": ".py",
   "mimetype": "text/x-python",
   "name": "python",
   "nbconvert_exporter": "python",
   "pygments_lexer": "ipython3",
   "version": "3.7.4"
  }
 },
 "nbformat": 4,
 "nbformat_minor": 2
}
