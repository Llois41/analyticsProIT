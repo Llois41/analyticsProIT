{
 "cells": [
  {
   "cell_type": "markdown",
   "metadata": {
    "slideshow": {
     "slide_type": "slide"
    }
   },
   "source": [
    "<style>\n",
    "body {\n",
    "    font-size: 1.7em;\n",
    "} \n",
    "\n",
    ".rendered_html h1 {\n",
    "  font-size: 3.8em;\n",
    "}\n",
    "\n",
    ".rendered_html h2 {\n",
    "  font-size: 2.2em;\n",
    "}\n",
    "\n",
    ".rendered_html h3 {\n",
    "  font-size: 1.8em;\n",
    "}\n",
    "\n",
    ".rendered_html h4 {\n",
    "  font-size: 1.4em;\n",
    "}\n",
    "\n",
    "div.slides {\n",
    "width: 1920px;\n",
    "height: 1080px;\n",
    "}\n",
    "\n",
    ".rendered_html table, .rendered_html th, .rendered_html tr, .rendered_html td {\n",
    "     font-size: 100%;\n",
    "}\n",
    "\n",
    "</style>\n",
    "\n",
    "# <font color=\"#BD1550\">Analytics</font>\n",
    "## Introduction\n",
    "-------\n",
    "### Prof. Dr. Helena Mihaljević\n",
    "#### WS 2019/20\n"
   ]
  },
  {
   "cell_type": "markdown",
   "metadata": {
    "slideshow": {
     "slide_type": "slide"
    }
   },
   "source": [
    "# Was ist Analytics?\n",
    "\n",
    "<font color=\"#BD1550\"><strong>Analytics</strong></font> is the <font color=\"#BD1550\"><strong>discovery, interpretation, and communication of meaningful patterns in data</strong></font>. \n",
    "\n",
    "Especially valuable in areas rich with recorded information, <font color=\"#BD1550\"><strong>analytics relies on the simultaneous application of statistics, computer programming and operations research to quantify performance</strong></font>. [https://en.wikipedia.org/wiki/Analytics]"
   ]
  },
  {
   "cell_type": "markdown",
   "metadata": {
    "slideshow": {
     "slide_type": "slide"
    }
   },
   "source": [
    "### Begriffe sind oft nicht wohldefiniert\n",
    "\n",
    "Bsp.: <font color=\"#BD1550\"><strong>Analytics & Data Science</strong></font>\n",
    "\n",
    "\n",
    "<font color=\"#BD1550\"><strong>Data science</strong></font> is an interdisciplinary field that uses scientific methods, processes, algorithms and systems <font color=\"#BD1550\"><strong>to extract knowledge and insights from data in various forms, both structured and unstructured, similar to data mining</strong></font>. [...] \n",
    "In 2012, when Harvard Business Review called it \"The Sexiest Job of the 21st Century\", the term \"data science\" became a buzzword. <font color=\"#BD1550\"><strong>It is now often used interchangeably with earlier concepts like business analytics, business intelligence, predictive modeling, and statistics.</strong></font> [https://en.wikipedia.org/wiki/Data_science]\n",
    "\n",
    "\"... there is no true, universally accepted definition of a Data Scientist — the job title is a <font color=\"#BD1550\"><strong>victim of overuse</strong></font> with its meaning muddied by a deluge of <font color=\"#BD1550\"><strong>marketing hype and buzzword mania</strong></font>.\" [https://tinyurl.com/ycmwd4vp]"
   ]
  },
  {
   "cell_type": "markdown",
   "metadata": {
    "slideshow": {
     "slide_type": "slide"
    }
   },
   "source": [
    "<figure>\n",
    "    <img src=\"figures/DM-DA-DS.jpg\" alt=\"Drawing\" style=\"width: 600px;\"/> \n",
    "    <br>\n",
    "</figure>\n",
    "\n",
    "#### Wir werden die Begriffe *Data Science* und *(Data) Analytics* meistens synonym verwenden "
   ]
  },
  {
   "cell_type": "markdown",
   "metadata": {
    "slideshow": {
     "slide_type": "slide"
    }
   },
   "source": [
    "<figure>\n",
    "    <img src=\"figures/what_is_statistics_ml.png\" alt=\"Drawing\" style=\"width: 600px;\"/> \n",
    "    <br>\n",
    "</figure>\n",
    "\n",
    "[https://sandserifcomics.threadless.com/]"
   ]
  },
  {
   "cell_type": "markdown",
   "metadata": {
    "slideshow": {
     "slide_type": "slide"
    }
   },
   "source": [
    "<figure>\n",
    "    <img src=\"figures/baron_schwartz_what_is_ml.JPG\" alt=\"Drawing\" style=\"width: 600px;\"/> \n",
    "    <br>\n",
    "</figure>\n"
   ]
  },
  {
   "cell_type": "markdown",
   "metadata": {
    "slideshow": {
     "slide_type": "slide"
    }
   },
   "source": [
    "## (Buzz) Words\n",
    "\n",
    "* Big Data\n",
    "* Data Mining\n",
    "* Data Science\n",
    "* Data Engineering\n",
    "* (Data / Business) Analytics\n",
    "* Business Intelligence\n",
    "* Machine Learning / Statistical Learning / Deep Learning\n",
    "* Künstliche Intelligenz / Artificial Intelligence\n",
    "* Vorhersage / Prediction\n",
    "* Clustering\n",
    "* Statistics\n",
    "* Data Visualization\n",
    "\n",
    "Diese und andere Begriffe werden uns regelmäßig begegnen; wir werden, wenn relevant, schrittweise eine Differenzierung vornehmen."
   ]
  },
  {
   "cell_type": "markdown",
   "metadata": {
    "slideshow": {
     "slide_type": "slide"
    }
   },
   "source": [
    "## Arbeitsdefinition\n",
    "\n",
    "(Große) Datenmengen mathematisch und statistisch analysieren, interpretieren und Empfehlungen für Unternehmen ableiten\n",
    "* Extraktion aufschlussreicher und wertvoller Informationen und Muster aus Daten \n",
    "* Erstellung deskriptiver (beschreibender) Modelle von relevanten Ereignissen\n",
    "* Berechnung mathematischer / statistischer Vorhersage-Modelle\n",
    "* Daten-basiert oder Daten-getrieben\n",
    "* interdisziplinäres Tätigkeitsfeld: Mathematik/Statistik; Programmierung; Technologien; Kommunikation; Business-Sicht\n",
    "    \n",
    "*Passionate about the business, curius about the data*\n",
    "\n",
    "\n"
   ]
  },
  {
   "cell_type": "markdown",
   "metadata": {
    "slideshow": {
     "slide_type": "slide"
    }
   },
   "source": [
    "## Welche Skills brauchen wir?\n",
    "------\n",
    "\n",
    "<figure>\n",
    "    <img src=\"figures/Data_Scientist_cropped.png\" alt=\"Drawing\" style=\"width: 500px;\"/> \n",
    "    <br>\n",
    "</figure>"
   ]
  },
  {
   "cell_type": "markdown",
   "metadata": {
    "slideshow": {
     "slide_type": "slide"
    }
   },
   "source": [
    "## Welche Beispiele für Analytics-Anwendungen kennen Sie aus Ihrem Unternehmen?"
   ]
  },
  {
   "cell_type": "markdown",
   "metadata": {
    "slideshow": {
     "slide_type": "slide"
    }
   },
   "source": [
    "## Ein paar Analytics-Beispiele\n",
    "\n",
    "* Steigerung der Konversionsraten: Welche Produkte werden besonders häufig angeklickt, welche gekauft? Sind die interessanten Produkte gut platziert?\n",
    "* Personalisierung von Werbekampagnen, um den Umsatz zu steigern\n",
    "* Churn-Vermeidung (Vermeidung von Kundenabwanderung): lassen sich Kunden, die abwandern wollen, frühzeitig erkennen? \n",
    "* Gibt es Anomalien im Netzwerk-Traffic von Finanzunternehmen oder Banken? Kann die Auslastung einer Hosting-Plattform geplant werden, damit genügend Kapazitäten da sind aber keine unnötigen Kosten entstehen?\n",
    "* Predictive maintenance: Vorhersage von notwendigen Reparaturen, bevor sie überfällig sind (aber nicht zu früh). Vermeidung unnötiger Reparaturkosten sowie von Ausfällen von Maschinen.\n",
    "* IoT: Modelliere den zu erwartenden Stromverbrauch mit Hilfe möglichst weniger Sensoren.\n"
   ]
  },
  {
   "cell_type": "markdown",
   "metadata": {
    "slideshow": {
     "slide_type": "slide"
    }
   },
   "source": [
    "## Warum über Analytics lernen?\n",
    "\n",
    "Die Wahrscheinlichkeit, mit Datenanalysen in Berührung zu kommen, wird immer größer:\n",
    "\n",
    "* Teil eines Data Analysis Teams\n",
    "* Database Engineers\n",
    "* Entwicklung von Software, die Datenverarbeitung beinhaltet\n",
    "* Business-Perspektive\n",
    "* Mündige Bürger in einer Welt, die immer stärker durch Daten und Algorithmen bestimmt wird\n",
    "* ...\n",
    "\n",
    "Es ist somit essenziell zu verstehen, welche Aufgaben in Analytics gelöst werden, mit welchen Methoden und wie die Ergebnisse bewertet werden können. "
   ]
  },
  {
   "cell_type": "markdown",
   "metadata": {
    "slideshow": {
     "slide_type": "slide"
    }
   },
   "source": [
    "# Fahrplan für dieses Semester"
   ]
  },
  {
   "cell_type": "markdown",
   "metadata": {
    "slideshow": {
     "slide_type": "slide"
    }
   },
   "source": [
    "## Themen im Kurs\n",
    "\n",
    "* Wiederholung: Mathematische und statistische Grundlagen\n",
    "* Data Science Pipeline\n",
    "* Daten und Daten-Vorverarbeitung\n",
    "* Python: Einführung und Daten-Verarbeitung\n",
    "* Visualisierung\n",
    "* Technologie-Stacks\n",
    "* Machine Learning: Algorithmen und Vorgehensweisen\n",
    "* Analytics as a Service\n",
    "* Natural Language Processing\n",
    "* Bias in Machine Learning & Interpretierbarkeit von Modellen"
   ]
  },
  {
   "cell_type": "markdown",
   "metadata": {
    "slideshow": {
     "slide_type": "slide"
    }
   },
   "source": [
    "## Tools \n",
    "\n",
    "* Python 3 (pandas, sklearn, numpy, matplotlib)\n",
    "* Jupyter Notebook\n",
    "* data iku (https://www.dataiku.com/): free edition verfügbar; code oder click; Datenverarbeitung; modelling; deployment \n",
    "* Material wird in der Regel auf Deutsch sein, teils auf Englisch (z.B. Beschreibungen von Datensätzen)"
   ]
  },
  {
   "cell_type": "markdown",
   "metadata": {
    "slideshow": {
     "slide_type": "slide"
    }
   },
   "source": [
    "## Warum Python?\n"
   ]
  },
  {
   "cell_type": "markdown",
   "metadata": {
    "slideshow": {
     "slide_type": "slide"
    }
   },
   "source": [
    "### Popularity\n",
    "\n",
    "<img src=\"figures/python_popularity.png\" width=\"550\">\n",
    "\n",
    "https://stackoverflow.blog/2017/09/06/incredible-growth-python/\n",
    "\n"
   ]
  },
  {
   "cell_type": "markdown",
   "metadata": {
    "slideshow": {
     "slide_type": "slide"
    }
   },
   "source": [
    "- high-level Sprache; bietet einen **einfachen** Einstieg, selbst mit sehr wenig Programmiererfahrung\n",
    "- Kein Boilerplate Code (= Code-Bausteine, die wenig Funktionalität haben aber häufig eingebaut werden müssen)\n",
    "- mittlerweile die wichtigste Programmiersprache für Data Science / Machine Learning\n",
    "- es gibt viele Bibliotheken, von statistischer Modellierung bis zu web services\n",
    "- eignet sich sowohl für Prototyping als auch produktiv eingesetzte Software\n",
    "- es lässt sich in verschiedenen Programmier-Paradigmen arbeiten, einschl. Objekt-orientiert, imperativ, funktional und procedural\n",
    "\n"
   ]
  },
  {
   "cell_type": "markdown",
   "metadata": {
    "slideshow": {
     "slide_type": "slide"
    }
   },
   "source": [
    "## Warum Jupyter?\n",
    "\n",
    "* *literate programming*: Software development Stil, entwickelt von Donald Knuth, bei welchem verständlicher Text und Code-Blöcke sich abwechseln.\n",
    "* ermöglicht es, Gedanken und Ideen in natürlicher Sprache zu beschreiben. Integration von mathematischen Formeln ebenfalls möglich\n",
    "* besonders nützlich im wissenschaftlichen Kontext (für Forschung und Lehre) für Kommunikation und Präsentation\n",
    "\n",
    "Artikel in Nature zu Jupyter Notebooks: https://www.nature.com/news/interactive-notebooks-sharing-the-code-1.16261"
   ]
  },
  {
   "cell_type": "markdown",
   "metadata": {
    "slideshow": {
     "slide_type": "slide"
    }
   },
   "source": [
    "## Formalia\n",
    "\n",
    "* Vorlesung / PC Übung: ca. 50/50 %\n",
    "* Folien sind Jupyter Notebooks; werden in Moodle zur Verfügung gestellt\n",
    "* Übungen werden überwiegend als Jupyter Notebooks ausgeführt \n",
    "* Übungen werden nicht benotet; Sie müssen jedoch mindestens 2 mal im Semester eine Hausaufgabe im Kurs präsentieren, um zur Klausur zugelassen zu werden\n",
    "* Prüfung: Klausur am Ende des Semesters (14.2.2020) "
   ]
  },
  {
   "cell_type": "markdown",
   "metadata": {
    "slideshow": {
     "slide_type": "slide"
    }
   },
   "source": [
    "## Ihr Background?\n",
    "\n",
    "- Wer hat Programmier-Erfahrung? Wer kann in Python programmieren?\n",
    "- Wer hat schon mal Datenanalysen durchgeführt? Mit welchen Tools?\n",
    "- Wer kann sich an den Inhalt der Statistik-Vorlesung aus dem Bachelor-Studium erinnern? Wer verwendet statistische Verfahren im Rahmen der eigenen Tätigkeit?\n",
    "- Hat jemand schon mal Machine Learning Algorithmen mitentwickelt?\n",
    "- War jemand an der Entwicklung einer Big Data Anwendung beteiligt? "
   ]
  },
  {
   "cell_type": "markdown",
   "metadata": {
    "slideshow": {
     "slide_type": "slide"
    }
   },
   "source": [
    "# Welche Arten von Erkenntnissen sind möglich in Data Science? \n"
   ]
  },
  {
   "cell_type": "markdown",
   "metadata": {
    "slideshow": {
     "slide_type": "skip"
    }
   },
   "source": [
    "http://jtleek.com/modules/01_DataScientistToolbox/03_01_typesOfQuestions"
   ]
  },
  {
   "cell_type": "markdown",
   "metadata": {
    "slideshow": {
     "slide_type": "slide"
    }
   },
   "source": [
    "## Deskription\n",
    "\n",
    "**Ziel: Beschreibe einen oder mehrere Datensätze**\n",
    "\n",
    "* üblicherweise der erste Schritt in Analytics-Projekten\n",
    "* kann bereits enormen Sprung für ein Unternehmen bedeuten (*low hanging fruits*)\n",
    "* Erfordert üblicherweise Visualisierungen\n",
    "* **Beschreibung und Interpretation sind zwei verschiedene Schritte**\n",
    "* Beschreibende Ergebnisse können ohne statische Modellierung i.d.R. **nicht verallgemeinert** werden "
   ]
  },
  {
   "cell_type": "markdown",
   "metadata": {
    "slideshow": {
     "slide_type": "slide"
    }
   },
   "source": [
    "## Monitoring dashboard\n",
    "---------\n",
    "\n",
    "<figure>\n",
    "    <img src=\"figures/kibana_dashboard.png\" alt=\"Drawing\" style=\"width: 600px;\"/> \n",
    "    <br>\n",
    "</figure>"
   ]
  },
  {
   "cell_type": "markdown",
   "metadata": {
    "slideshow": {
     "slide_type": "slide"
    }
   },
   "source": [
    "## Google Books N-Gram Viewer\n",
    "\n",
    "https://books.google.com/ngrams/graph\n",
    "\n",
    "------------\n",
    "\n",
    "<figure>\n",
    "    <img src=\"figures/Google_books_ngramm_viewer.png\" alt=\"Drawing\" style=\"width: 700px;\"/> \n",
    "    <br>\n",
    "</figure>"
   ]
  },
  {
   "cell_type": "markdown",
   "metadata": {
    "slideshow": {
     "slide_type": "slide"
    }
   },
   "source": [
    "\n",
    "<figure>\n",
    "    <img src=\"figures/Google_ngram_viewer_fuck.png\" alt=\"Drawing\" style=\"width: 700px;\"/> \n",
    "    <br>\n",
    "</figure>\n"
   ]
  },
  {
   "cell_type": "markdown",
   "metadata": {
    "slideshow": {
     "slide_type": "fragment"
    }
   },
   "source": [
    "#### Wow! Das Wort \"fuck\" wurde schon vor 1820 benutzt, ist dann aus Büchern gänzlich verschwunden und wurde in den 1960er Jahren wiederentdeckt!"
   ]
  },
  {
   "cell_type": "markdown",
   "metadata": {
    "slideshow": {
     "slide_type": "notes"
    }
   },
   "source": [
    "Dies stimmt natürlich nicht."
   ]
  },
  {
   "cell_type": "markdown",
   "metadata": {
    "slideshow": {
     "slide_type": "slide"
    }
   },
   "source": [
    "### Achtung vor zu schnellen Folgerungen\n",
    "\n",
    "* **OCR Probleme**: Das kleingeschriebene 's' in alten Büchern sieht aus wie 'f' :-)\n",
    "* **Beliebtheit**: Bücher werden einmal geschrieben aber unterschiedlich oft gelesen. Insbesondere keine direkte Übertragung auf gesprochene Sprache möglich.\n",
    "* **unterschiedliche Buchtypen:** Anteil an wissenschaflicher Literatur in Google Books ist in den letzten Jahrzehnten stark angestiegen. Datenbasis kann also verzerrt sein."
   ]
  },
  {
   "cell_type": "markdown",
   "metadata": {
    "slideshow": {
     "slide_type": "notes"
    }
   },
   "source": [
    "Quellen zu Google Ngram Analysen:\n",
    "\n",
    "https://www.wired.com/2015/10/pitfalls-of-studying-language-with-google-ngram/"
   ]
  },
  {
   "cell_type": "markdown",
   "metadata": {
    "slideshow": {
     "slide_type": "slide"
    }
   },
   "source": [
    "## Exploration\n",
    "\n",
    "**Ziel: Entdecke neue Beziehungen und Muster in Daten**\n",
    "\n",
    "* Sinnvoll, um zukünftige Studien und Analysen zu definieren\n",
    "* In der Regel nicht der letzte Schritt\n",
    "* Aus explorativen Analysen können i.d.R. **keine verallgemeinernden Aussagen oder Vorhersagen** abgeleitet werden\n",
    "* **Korrelation impliziert nicht Kausalität** (Mit sehr einfachen Worten bedeutet Korrelation eine 'Je ... desto ...' Beziehung)"
   ]
  },
  {
   "cell_type": "markdown",
   "metadata": {
    "slideshow": {
     "slide_type": "slide"
    }
   },
   "source": [
    "### Chocolate Consumption, Cognitive Function, and Nobel Laureates\n",
    "-----\n",
    "\n",
    "<figure>\n",
    "    <img src=\"figures/correlation_nobel_laureates_chocolate.jpg\" alt=\"Drawing\" style=\"width: 450px;\"/> \n",
    "    <br>\n",
    "</figure>\n",
    "<small>[F. H. Messerli, Chocolate Consumption, Cognitive Function, and Nobel Laureates]</small>"
   ]
  },
  {
   "cell_type": "markdown",
   "metadata": {
    "slideshow": {
     "slide_type": "slide"
    }
   },
   "source": [
    "\"Since chocolate consumption could hypothetically improve cognitive function [...], I wondered whether there would be a <font color=\"#BD1550\"><strong>correlation between a country’s level of chocolate consumption and its population’s cognitive function</strong></font>. [...] <font color=\"#BD1550\"><strong>the total number of Nobel laureates per capita could serve as a surrogate end point reflecting the proportion with superior cognitive function</strong></font> and thereby give us <font color=\"#BD1550\"><strong>some measure</strong></font> of the overall cognitive function of a given country. [...]\n",
    "\n",
    "The principal finding of this study is a <font color=\"#BD1550\"><strong>surprisingly powerful correlation between chocolate intake per capita and the number of Nobel laureates in various countries</strong></font>. Of course, a correlation between X and Y does not prove causation but indicates that either X influences Y, Y influences X, or X and Y are influenced by a common underlying mechanism. However, since chocolate consumption has been documented to improve cognitive function, it seems most likely that in a dose-dependent way, chocolate intake provides the abundant fertile ground needed for the sprouting of Nobel laureates. Obviously, these findings are hypothesis-generating only and will have to be tested in a prospective, randomised trial.\" "
   ]
  },
  {
   "cell_type": "markdown",
   "metadata": {
    "slideshow": {
     "slide_type": "notes"
    }
   },
   "source": [
    "Liegt allerdings tatsächlich eine Ursache-Wirkungs-Beziehung vor, dann erwartet man eine Korrelation von Ursache und Wirkung. Daher benutzt man häufig die Korrelation auch, um einen Hinweis darauf zu bekommen, ob zwei statistische Größen ursächlich miteinander zusammenhängen könnten."
   ]
  },
  {
   "cell_type": "markdown",
   "metadata": {
    "slideshow": {
     "slide_type": "skip"
    }
   },
   "source": [
    "\"For example, in a widely studied case, numerous epidemiological studies showed that women taking combined hormone replacement therapy (HRT) also had a lower-than-average incidence of coronary heart disease (CHD), leading doctors to propose that HRT was protective against CHD. But randomized controlled trials showed that HRT caused a small but statistically significant increase in risk of CHD. Re-analysis of the data from the epidemiological studies showed that women undertaking HRT were more likely to be from higher socio-economic groups (ABC1), with better-than-average diet and exercise regimens. The use of HRT and decreased incidence of coronary heart disease were coincident effects of a common cause (i.e. the benefits associated with a higher socioeconomic status), rather than a direct cause and effect, as had been supposed.\" [https://en.wikipedia.org/wiki/Correlation_does_not_imply_causation]"
   ]
  },
  {
   "cell_type": "markdown",
   "metadata": {
    "slideshow": {
     "slide_type": "slide"
    }
   },
   "source": [
    "## Inferenz\n",
    "\n",
    "**Ziel: Verwende ein Daten-Sample, um Schlüsse über die Gesamtheit zu ziehen**\n",
    "\n",
    "* Üblicherweise das Ziel von statistischen Modellen\n",
    "* I.d.R. schätzt man die Zielgröße sowie die (Un-)Gewissheit über die Schätzung selbst\n",
    "* Hängt stark ab von den Daten und dem Sampling-Schema"
   ]
  },
  {
   "cell_type": "markdown",
   "metadata": {
    "slideshow": {
     "slide_type": "slide"
    }
   },
   "source": [
    "\n",
    "<figure>\n",
    "    <img src=\"figures/inference_example.png\" alt=\"Drawing\" style=\"width: 600px; border: 1px solid #000;\"/> \n",
    "    <br>\n",
    "</figure>\n",
    "\n",
    "We assembled a data set for 545 U.S. counties consisting of yearly county-specific **average PM2.5**, yearly county-specific **life expectancy**, and **several potentially confounding variables measuring socioeconomic status, smoking prevalence, and demographic characteristics** for the years 2000 and 2007. We used regression models to **estimate the association between reductions in PM2.5 and changes in life expectancy** for the period from 2000 to 2007.\n",
    "\n"
   ]
  },
  {
   "cell_type": "markdown",
   "metadata": {
    "slideshow": {
     "slide_type": "slide"
    }
   },
   "source": [
    "## Prognose\n",
    "\n",
    "**Ziel: Verwende Daten über ein Objekt, um Vorhersagen über ein anderes Objekt zu machen** \n",
    "\n",
    "* Falls $X$ geeignet ist, um über $Y$ Vorhersagen zu machen, bedeutet es nicht, dass $Y$ aus $X$ folgt\n",
    "* Qualität von Vorhersagemodellen hängt stark von den Daten, ihrer Vorverarbeitung und den richtigen Variablen ab\n",
    "* Grundsätzlich gilt: mit viel guten Daten funktionieren auch einfache Modelle sehr gut\n"
   ]
  },
  {
   "cell_type": "markdown",
   "metadata": {
    "slideshow": {
     "slide_type": "skip"
    }
   },
   "source": [
    "https://www.forbes.com/sites/kashmirhill/2012/02/16/how-target-figured-out-a-teen-girl-was-pregnant-before-her-father-did/#2489d8586668"
   ]
  },
  {
   "cell_type": "markdown",
   "metadata": {
    "slideshow": {
     "slide_type": "slide"
    }
   },
   "source": [
    "<figure>\n",
    "    <img src=\"figures/target_pregnancy_prediction.png\" alt=\"Drawing\" style=\"width: 600px; border: 1px solid #000;\"/> \n",
    "    <br>\n",
    "</figure>\n"
   ]
  },
  {
   "cell_type": "markdown",
   "metadata": {
    "slideshow": {
     "slide_type": "slide"
    }
   },
   "source": [
    "\"[...] Another analyst noted that sometime in the first 20 weeks, pregnant women loaded up on supplements like calcium, magnesium and zinc. Many shoppers purchase soap and cotton balls, but when someone **suddenly** starts buying **lots of** scent-free soap and extra-big bags of cotton balls, **in addition to** hand sanitizers and washcloths, **it signals** they could be getting close to their delivery date.\n",
    "\n",
    "As Pole’s computers crawled through the data, he was able to identify about 25 products that, when analyzed together, allowed him to assign each shopper a “pregnancy prediction” score. More important, he could also **estimate her due date** to within a small window, so Target could send coupons timed to very specific stages of her pregnancy.\n",
    "\n",
    "[...]Take a fictional Target shopper named Jenny Ward, who is 23, lives in Atlanta and in March bought cocoa-butter lotion, a purse large enough to double as a diaper bag, zinc and magnesium supplements and a bright blue rug. There’s, say, an 87 percent chance that she’s pregnant and that her delivery date is sometime in late August.\""
   ]
  },
  {
   "cell_type": "markdown",
   "metadata": {
    "slideshow": {
     "slide_type": "slide"
    }
   },
   "source": [
    "## Kausalität\n",
    "\n",
    "**Ziel: Finde plausible Gründe für beobachtete Muster in Daten**\n",
    "\n",
    "* Das *warum* verstehen\n",
    "* Verstehen, was mit einer Variable passiert, wenn eine andere verändert wird\n",
    "* Benötigt üblicherweise randomisierte Studien\n",
    "* In der Regel schwerer als prädiktive Modelle; gilt als *gold standard* für Datenanalyse"
   ]
  },
  {
   "cell_type": "markdown",
   "metadata": {
    "slideshow": {
     "slide_type": "slide"
    }
   },
   "source": [
    "## Exkurs: John Snow und die Verbreitung von Cholera\n",
    "    \n",
    "“These problems are, and will probably ever remain, among the inscrutable secrets of nature. They belong to a class of questions radically inaccessible to the human intelligence.” —The Times of London, September 1849, on how cholera is contracted and spread.    "
   ]
  },
  {
   "cell_type": "markdown",
   "metadata": {
    "slideshow": {
     "slide_type": "slide"
    }
   },
   "source": [
    "* 1850er Jahre: noch nicht bekannt, dass Erreger Krankheiten verursachen. Miasmentheorie: übler Dunst, verursacht durch Verwesung, Grund für viele Krankheiten wie Cholera\n",
    "* Dr. John Snow skeptisch gegenüber Miasmentheorie und hatte Wasser im Verdacht: \n",
    "    * (1) teilweise starben ganze Haushalte an Cholera, während Nachbarn völlig verschont blieben\n",
    "    * (2) Erste Symptome Erbrechen u.ä., Essen oder Getränke als Quelle naheliegender als Luft\n",
    "* August 1854: Cholera-Ausbruch im dicht bewohnten Stadtteil Soho. Snow zeichnet die Toten detailliert auf einer Karte auf."
   ]
  },
  {
   "cell_type": "markdown",
   "metadata": {
    "slideshow": {
     "slide_type": "slide"
    }
   },
   "source": [
    "### Todesfälle v.a. um die Broad-Street Pumpe\n",
    "-------\n",
    "\n",
    "<figure>\n",
    "    <img src=\"figures/Snow-cholera-map.jpg\" alt=\"Drawing\" style=\"width: 600px;\"/> \n",
    "    <br>\n",
    "</figure>"
   ]
  },
  {
   "cell_type": "markdown",
   "metadata": {
    "slideshow": {
     "slide_type": "notes"
    }
   },
   "source": [
    "* Selbst Todesfälle, die weiter entfernt lagen, ließen sich dennoch zu der Pumpe zurückführen\n",
    "* Snow verwendete die Karte, um die Lokale Verwaltung zu überzeugen, die Pumpe abzustellen\n"
   ]
  },
  {
   "cell_type": "markdown",
   "metadata": {
    "slideshow": {
     "slide_type": "slide"
    }
   },
   "source": [
    "Snow’s Karte ist eine der **frühsten und erkenntnisreichsten Datenvisualisierungen** überhaupt. Heutzutage sind ähnliche Karten ein Standard-Tool bei der Bekämpfung von Epidemien. "
   ]
  },
  {
   "cell_type": "markdown",
   "metadata": {
    "slideshow": {
     "slide_type": "fragment"
    }
   },
   "source": [
    "Die Karte ist zwar eine **starke Indikation** aber noch **kein belastbares Argument** dafür, dass unsauberes Wasser die **Ursache** ist."
   ]
  },
  {
   "cell_type": "markdown",
   "metadata": {
    "slideshow": {
     "slide_type": "fragment"
    }
   },
   "source": [
    "Eigentlich wird ein **Vergleich** benötigt: eine Gruppe mit sauberem Wasser (**Kontrollgruppe**) und eine mit kontaminiertem (**Behandlungsgruppe**). Falls sich die Ergebnisse pro Gruppe \"signifikant\" unterschieden, ist das ein Beweis für eine Assoziation. Für Kausalität ist noch mehr nötig..."
   ]
  },
  {
   "cell_type": "markdown",
   "metadata": {
    "slideshow": {
     "slide_type": "slide"
    }
   },
   "source": [
    "### Vergleich der Wasserversorger\n",
    "<figure>\n",
    "    <img src=\"figures/Snow-cholera-map-2.png\" alt=\"Drawing\" style=\"width: 500px;\"/> \n",
    "</figure>\n",
    "\n",
    "* Lambeth-Wasser stammt oberhalb der Stelle, wo Abwässer in die Themse eingeleitet werden, S&V Wasser unterhalb.\n",
    "* Eine Region wurde von beiden Unternehmen versorgt.\n",
    "* Kein systematischer Unterschied zwischen  beiden Personengruppen bzgl. Einkommen, Beruf, Hausgröße u.ä.\n"
   ]
  },
  {
   "cell_type": "markdown",
   "metadata": {
    "slideshow": {
     "slide_type": "slide"
    }
   },
   "source": [
    "| Wasserversorger |  Haushalte  | Cholera Todesfälle  | Todesfälle / 10,000 Haushalte  |\n",
    "|------------|-------------|---|---|\n",
    "| S&V  | 40,046 | 1,263  | <font color=\"#BD1550\"><strong>315</strong></font>  |\n",
    "| Lambeth  | 26,107 | 98  | <font color=\"#BD1550\"><strong><font color=\"#BD1550\"><strong>37</strong></font>  |\n",
    "| Rest von London |  256,423 | 1,422  | <font color=\"#BD1550\"><strong>59</strong></font>  |\n"
   ]
  },
  {
   "cell_type": "markdown",
   "metadata": {
    "slideshow": {
     "slide_type": "fragment"
    }
   },
   "source": [
    "* S&V: Behandlungsgruppe, Lambeth: Kontrollgruppe\n",
    "* Wichtig: die Personen in beiden Gruppen wiesen **sonst keine relevanten Unterschiede auf**. \n",
    "* Eigenschaften mit signifikanten Unterschieden zw. beiden Gruppen heißen **Störfaktoren** oder verzerrende Faktoren. \n",
    "* Bsp.: Studien in den 1960er Jahren zeigten, dass Kaffee-Trinker häufiger an Lungenkrebs erkrankten. Störfaktor: Rauchen\n",
    "* Störfaktoren können durch **Randomisierung** reduziert werden. Randomisierte Studien nicht immer möglich, z.B. aus ethischen Gründen (Bsp.: Effekt von Alkoholkonsum auf Neugeborene)\n",
    "* Business-Bsp.: neues Webshop-Design --> höhere Konversionsrate? --> A/B Tests"
   ]
  },
  {
   "cell_type": "markdown",
   "metadata": {
    "slideshow": {
     "slide_type": "slide"
    }
   },
   "source": [
    "## Zusammengefasst\n",
    "\n",
    "* **deskriptiv**: durchschnittlicher Kunde wird zu 70% den Vertrag erneuern\n",
    "* **explorativ**: verschiedene Sales-personen haben unterschiedliche Raten bei Vertragserneuerung\n",
    "* **kausal**: ein randomisiertes Experiment zeigt, dass Kunden von Alice mit höherer Wahrscheinlichkeit den Vertrag erneuern werden als die Kunden von Bob"
   ]
  },
  {
   "cell_type": "markdown",
   "metadata": {
    "slideshow": {
     "slide_type": "notes"
    }
   },
   "source": [
    "\n",
    "TODO: finde Beispiele von falschen Schlüssen aufgrund schlecht verarbeiteter Daten (z.B: Missing values nicht gesäubert, oder falscher Wertebereich angenommen, etc.)\n",
    "    "
   ]
  },
  {
   "cell_type": "markdown",
   "metadata": {
    "slideshow": {
     "slide_type": "slide"
    }
   },
   "source": [
    "# Machine Learning"
   ]
  },
  {
   "cell_type": "markdown",
   "metadata": {
    "slideshow": {
     "slide_type": "slide"
    }
   },
   "source": [
    "### Für welche Arten von Problemen glauben Sie, dass Algorithmen des Maschinellen Lernens notwendig sind?"
   ]
  },
  {
   "cell_type": "markdown",
   "metadata": {
    "slideshow": {
     "slide_type": "slide"
    }
   },
   "source": [
    "Für manche Probleme wie **Erkennung von 3-dimensionalen Objekten** ist es sehr schwer, ein Regel-basiertes Programm zu schreiben:\n",
    "\n",
    "* wir wissen nicht, wie wir ein solches Programm schreiben sollen, da wir (noch) nicht genau wissen, wie unser Gehirn Objekte erkennt  \n",
    "* selbst wenn wir einen Ansatz hätten, wäre er vermutlich extrem komplex"
   ]
  },
  {
   "cell_type": "markdown",
   "metadata": {
    "slideshow": {
     "slide_type": "fragment"
    }
   },
   "source": [
    "Ein Programm zu schreiben, das die **Wahrscheinlichkeit für Kreditkartenbetrug** berechnet, ist ebenfalls sehr schwer:\n",
    "\n",
    "* es gibt vermutlich keine Regeln, die gleichzeitig einfach und zuverlässig sind. Wir müssten eine große Menge schwacher Regeln kombinieren\n",
    "* Betrug ist ein 'bewegtes Ziel': Betrüger ändern ihre Methoden, das Programm müsste also kontinuierlich angepasst werden"
   ]
  },
  {
   "cell_type": "markdown",
   "metadata": {
    "slideshow": {
     "slide_type": "slide"
    }
   },
   "source": [
    "Beim **Machine Learning** werden stattdessen viele vielfältige Daten gesammelt, welche als Beispiele für das formulierte Problem dienen. Der ML Algorithmus **lernt** aus diesen Beispielen und produziert ein Programm, welches (wenn wir es richtig machen):\n",
    "\n",
    "* auch auf **ungesehenen Beispielen** gute Ergebnisse produziert\n",
    "* auch auf **veränderte Daten** angewendet werden kann, indem es neu trainiert wird\n",
    "* i.d.R. **deutlich anders aussehen wird** als ein übliches Programm (es ist üblicherweise eine mathematische Funktion mit Millionen von Zahlen)\n"
   ]
  },
  {
   "cell_type": "markdown",
   "metadata": {
    "slideshow": {
     "slide_type": "slide"
    }
   },
   "source": [
    "ML Algorithmen sind also besonders dann sinnvoll, wenn:\n",
    "\n",
    "* Probleme nicht mit Hilfe von wenigen, einfachen und zuverlässigen Regeln gelöst werden können\n",
    "* Wir die Lösung des Problems gar nicht genau kennen (Bsp.: Bilderkennung)\n",
    "* Zu erwarten ist, dass sich die Daten häufing ändern werden (Bsp.: Kreditkartenbetrug)\n",
    "* Implementierung eines klassischen Programms sehr zeitintensiv ist\n",
    "* Gute Daten vorhanden sind!"
   ]
  },
  {
   "cell_type": "markdown",
   "metadata": {
    "slideshow": {
     "slide_type": "slide"
    }
   },
   "source": [
    "# Beispiele für Machine Learning Anwendungen"
   ]
  },
  {
   "cell_type": "markdown",
   "metadata": {
    "slideshow": {
     "slide_type": "slide"
    }
   },
   "source": [
    "### Word2Vec: Einbettung von Wörtern in einen Vektorraum\n",
    "---------\n",
    "\n",
    "<figure>\n",
    "    <img src=\"figures/word2vec_machine_translation.png\" alt=\"Drawing\" style=\"width: 600px;\"/> \n",
    "    <br>\n",
    "</figure>"
   ]
  },
  {
   "cell_type": "markdown",
   "metadata": {
    "slideshow": {
     "slide_type": "slide"
    }
   },
   "source": [
    "### Erkennung und Klassifikation von Objekten in Bildern\n",
    "---------\n",
    "\n",
    "<figure>\n",
    "    <img src=\"figures/image_detection_and_classification.png\" alt=\"Drawing\" style=\"width: 500px;\"/> \n",
    "    <br>\n",
    "</figure>"
   ]
  },
  {
   "cell_type": "markdown",
   "metadata": {
    "slideshow": {
     "slide_type": "slide"
    }
   },
   "source": [
    "### Übertragung von Bewegungen in Videos"
   ]
  },
  {
   "cell_type": "code",
   "execution_count": 2,
   "metadata": {
    "slideshow": {
     "slide_type": "fragment"
    }
   },
   "outputs": [
    {
     "data": {
      "image/jpeg": "[encoded data removed]",
      "text/html": [
       "\n",
       "        <iframe\n",
       "            width=\"700\"\n",
       "            height=\"300\"\n",
       "            src=\"https://www.youtube.com/embed/PCBTZh41Ris\"\n",
       "            frameborder=\"0\"\n",
       "            allowfullscreen\n",
       "        ></iframe>\n",
       "        "
      ],
      "text/plain": [
       "<IPython.lib.display.YouTubeVideo at 0x1029c7ba8>"
      ]
     },
     "execution_count": 2,
     "metadata": {},
     "output_type": "execute_result"
    }
   ],
   "source": [
    "from IPython.display import HTML,Audio,Image,YouTubeVideo\n",
    "YouTubeVideo(id='PCBTZh41Ris',width=700,height=300)"
   ]
  },
  {
   "cell_type": "markdown",
   "metadata": {
    "slideshow": {
     "slide_type": "slide"
    }
   },
   "source": [
    "# Sometimes, things go wrong ..."
   ]
  },
  {
   "cell_type": "markdown",
   "metadata": {
    "slideshow": {
     "slide_type": "slide"
    }
   },
   "source": [
    "\n",
    "<figure>\n",
    "    <img src=\"figures/Image_Net_Roulette_Trump_Obama.png\" alt=\"Drawing\" style=\"width: 600px;\"/> \n",
    "    <br>\n",
    "</figure>\n",
    "\n",
    "produced by Image Net Roulette"
   ]
  },
  {
   "cell_type": "markdown",
   "metadata": {
    "slideshow": {
     "slide_type": "slide"
    }
   },
   "source": [
    "### Man is to computer programmer as woman is to homemaker?\n",
    "\n",
    "----------\n",
    "\n",
    "<figure>\n",
    "    <img src=\"figures/google_translate_sexism.png\" alt=\"Drawing\" style=\"width: 600px;\"/> \n",
    "    <br>\n",
    "</figure>\n"
   ]
  },
  {
   "cell_type": "markdown",
   "metadata": {
    "slideshow": {
     "slide_type": "skip"
    }
   },
   "source": [
    "First coined in 1956 by John McCarthy, AI involves machines that can perform tasks that are characteristic of human intelligence. While this is rather general, it includes things like planning, understanding language, recognizing objects and sounds, learning, and problem solving.\n",
    "\n",
    "We can put AI in two categories, general and narrow. General AI would have all of the characteristics of human intelligence, including the capacities mentioned above. Narrow AI exhibits some facet(s) of human intelligence, and can do that facet extremely well, but is lacking in other areas. A machine that’s great at recognizing images, but nothing else, would be an example of narrow AI."
   ]
  },
  {
   "cell_type": "markdown",
   "metadata": {
    "slideshow": {
     "slide_type": "notes"
    }
   },
   "source": [
    "From Wikipedia: https://en.wikipedia.org/wiki/Cross-industry_standard_process_for_data_mining\n",
    "\n",
    "Cross-industry standard process for data mining, known as CRISP-DM, is an open standard process model that describes common approaches used by data mining experts. It is the most widely-used analytics model.\n",
    "\n",
    "CRISP-DM was conceived in 1996 and became a European Union project under the ESPRIT funding initiative in 1997. The project was led by five companies: SPSS, Teradata, Daimler AG, NCR Corporation and OHRA, an insurance company.\n",
    "\n",
    "This core consortium brought different experiences to the project: ISL, later acquired and merged into SPSS. The computer giant NCR Corporation produced the Teradata data warehouse and its own data mining software. Daimler-Benz had a significant data mining team. OHRA was just starting to explore the potential use of data mining. "
   ]
  }
 ],
 "metadata": {
  "celltoolbar": "Slideshow",
  "kernelspec": {
   "display_name": "Python 3",
   "language": "python",
   "name": "python3"
  },
  "language_info": {
   "codemirror_mode": {
    "name": "ipython",
    "version": 3
   },
   "file_extension": ".py",
   "mimetype": "text/x-python",
   "name": "python",
   "nbconvert_exporter": "python",
   "pygments_lexer": "ipython3",
   "version": "3.6.5"
  }
 },
 "nbformat": 4,
 "nbformat_minor": 2
}
