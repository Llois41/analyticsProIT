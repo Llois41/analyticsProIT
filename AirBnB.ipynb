{
 "cells": [
  {
   "cell_type": "code",
   "execution_count": 1,
   "metadata": {},
   "outputs": [],
   "source": [
    "import pandas as pd\n",
    "import matplotlib.pyplot as plt\n",
    "from sklearn.linear_model import LinearRegression\n",
    "import numpy as np"
   ]
  },
  {
   "cell_type": "code",
   "execution_count": 2,
   "metadata": {},
   "outputs": [],
   "source": [
    "listings = pd.read_csv('~/studies/analytics/listings.csv')"
   ]
  },
  {
   "cell_type": "code",
   "execution_count": 3,
   "metadata": {},
   "outputs": [],
   "source": [
    "listings.shape\n",
    "original = listings.copy()"
   ]
  },
  {
   "cell_type": "markdown",
   "metadata": {},
   "source": [
    "#### Lösche alle Spalten in denen alle Werte gleich sind, bzw. die keine Werte haben."
   ]
  },
  {
   "cell_type": "code",
   "execution_count": 4,
   "metadata": {
    "scrolled": true
   },
   "outputs": [
    {
     "data": {
      "text/plain": [
       "(24422, 97)"
      ]
     },
     "execution_count": 4,
     "metadata": {},
     "output_type": "execute_result"
    }
   ],
   "source": [
    "for column in listings.columns:\n",
    "    if listings[column].nunique() <= 1:\n",
    "        listings = listings.drop(columns=column)\n",
    "listings.shape"
   ]
  },
  {
   "cell_type": "markdown",
   "metadata": {},
   "source": [
    "#### Alle Spalten und die Anzahl der verschiedenen Werte anzeigen"
   ]
  },
  {
   "cell_type": "code",
   "execution_count": 5,
   "metadata": {
    "scrolled": true
   },
   "outputs": [
    {
     "name": "stdout",
     "output_type": "stream",
     "text": [
      "id 24422\n",
      "listing_url 24422\n",
      "last_scraped 2\n",
      "name 23722\n",
      "summary 22480\n",
      "space 15160\n",
      "description 23556\n",
      "neighborhood_overview 12462\n",
      "notes 7119\n",
      "transit 13945\n",
      "access 10193\n",
      "interaction 11011\n",
      "house_rules 10991\n",
      "picture_url 24164\n",
      "host_id 20413\n",
      "host_url 20413\n",
      "host_name 6369\n",
      "host_since 3215\n",
      "host_location 1079\n",
      "host_about 9369\n",
      "host_response_time 4\n",
      "host_response_rate 76\n",
      "host_is_superhost 2\n",
      "host_thumbnail_url 20314\n",
      "host_picture_url 20314\n",
      "host_neighbourhood 190\n",
      "host_listings_count 44\n",
      "host_total_listings_count 44\n",
      "host_verifications 333\n",
      "host_has_profile_pic 2\n",
      "host_identity_verified 2\n",
      "street 94\n",
      "neighbourhood 93\n",
      "neighbourhood_cleansed 138\n",
      "neighbourhood_group_cleansed 12\n",
      "city 64\n",
      "state 28\n",
      "zipcode 216\n",
      "market 7\n",
      "smart_location 66\n",
      "country_code 2\n",
      "country 2\n",
      "latitude 10256\n",
      "longitude 13643\n",
      "is_location_exact 2\n",
      "property_type 33\n",
      "room_type 4\n",
      "accommodates 16\n",
      "bathrooms 18\n",
      "bedrooms 12\n",
      "beds 21\n",
      "bed_type 5\n",
      "amenities 21688\n",
      "square_feet 113\n",
      "price 335\n",
      "weekly_price 372\n",
      "monthly_price 396\n",
      "security_deposit 164\n",
      "cleaning_fee 126\n",
      "guests_included 16\n",
      "extra_people 68\n",
      "minimum_nights 107\n",
      "maximum_nights 227\n",
      "minimum_minimum_nights 107\n",
      "maximum_minimum_nights 110\n",
      "minimum_maximum_nights 228\n",
      "maximum_maximum_nights 227\n",
      "minimum_nights_avg_ntm 258\n",
      "maximum_nights_avg_ntm 286\n",
      "calendar_updated 84\n",
      "availability_30 31\n",
      "availability_60 61\n",
      "availability_90 91\n",
      "availability_365 366\n",
      "calendar_last_scraped 2\n",
      "number_of_reviews 342\n",
      "number_of_reviews_ltm 129\n",
      "first_review 2489\n",
      "last_review 1573\n",
      "review_scores_rating 46\n",
      "review_scores_accuracy 9\n",
      "review_scores_cleanliness 9\n",
      "review_scores_checkin 9\n",
      "review_scores_communication 8\n",
      "review_scores_location 8\n",
      "review_scores_value 9\n",
      "requires_license 2\n",
      "license 2101\n",
      "instant_bookable 2\n",
      "cancellation_policy 6\n",
      "require_guest_profile_picture 2\n",
      "require_guest_phone_verification 2\n",
      "calculated_host_listings_count 27\n",
      "calculated_host_listings_count_entire_homes 26\n",
      "calculated_host_listings_count_private_rooms 11\n",
      "calculated_host_listings_count_shared_rooms 8\n",
      "reviews_per_month 810\n"
     ]
    }
   ],
   "source": [
    "for column in listings.columns:\n",
    "    print(column + ' ' + str(listings[column].nunique()))"
   ]
  },
  {
   "cell_type": "markdown",
   "metadata": {},
   "source": [
    "#### Alle Spalten mit 2 verschiedenen Werten zur näheren Betrachtung."
   ]
  },
  {
   "cell_type": "code",
   "execution_count": 6,
   "metadata": {},
   "outputs": [
    {
     "name": "stdout",
     "output_type": "stream",
     "text": [
      "last_scraped 2\n",
      "0        2019-09-19\n",
      "1        2019-09-19\n",
      "2        2019-09-19\n",
      "3        2019-09-19\n",
      "4        2019-09-19\n",
      "            ...    \n",
      "24417    2019-09-19\n",
      "24418    2019-09-19\n",
      "24419    2019-09-19\n",
      "24420    2019-09-19\n",
      "24421    2019-09-19\n",
      "Name: last_scraped, Length: 24422, dtype: object\n",
      "host_is_superhost 2\n",
      "0        f\n",
      "1        t\n",
      "2        f\n",
      "3        f\n",
      "4        f\n",
      "        ..\n",
      "24417    f\n",
      "24418    f\n",
      "24419    f\n",
      "24420    f\n",
      "24421    t\n",
      "Name: host_is_superhost, Length: 24422, dtype: object\n",
      "host_has_profile_pic 2\n",
      "0        t\n",
      "1        t\n",
      "2        t\n",
      "3        t\n",
      "4        t\n",
      "        ..\n",
      "24417    t\n",
      "24418    t\n",
      "24419    t\n",
      "24420    t\n",
      "24421    t\n",
      "Name: host_has_profile_pic, Length: 24422, dtype: object\n",
      "host_identity_verified 2\n",
      "0        t\n",
      "1        t\n",
      "2        t\n",
      "3        f\n",
      "4        t\n",
      "        ..\n",
      "24417    f\n",
      "24418    f\n",
      "24419    f\n",
      "24420    f\n",
      "24421    t\n",
      "Name: host_identity_verified, Length: 24422, dtype: object\n",
      "country_code 2\n",
      "0        DE\n",
      "1        DE\n",
      "2        DE\n",
      "3        DE\n",
      "4        DE\n",
      "         ..\n",
      "24417    DE\n",
      "24418    DE\n",
      "24419    DE\n",
      "24420    DE\n",
      "24421    DE\n",
      "Name: country_code, Length: 24422, dtype: object\n",
      "country 2\n",
      "0        Germany\n",
      "1        Germany\n",
      "2        Germany\n",
      "3        Germany\n",
      "4        Germany\n",
      "          ...   \n",
      "24417    Germany\n",
      "24418    Germany\n",
      "24419    Germany\n",
      "24420    Germany\n",
      "24421    Germany\n",
      "Name: country, Length: 24422, dtype: object\n",
      "is_location_exact 2\n",
      "0        t\n",
      "1        f\n",
      "2        t\n",
      "3        t\n",
      "4        t\n",
      "        ..\n",
      "24417    t\n",
      "24418    f\n",
      "24419    f\n",
      "24420    t\n",
      "24421    t\n",
      "Name: is_location_exact, Length: 24422, dtype: object\n",
      "calendar_last_scraped 2\n",
      "0        2019-09-19\n",
      "1        2019-09-19\n",
      "2        2019-09-19\n",
      "3        2019-09-19\n",
      "4        2019-09-19\n",
      "            ...    \n",
      "24417    2019-09-19\n",
      "24418    2019-09-19\n",
      "24419    2019-09-19\n",
      "24420    2019-09-19\n",
      "24421    2019-09-19\n",
      "Name: calendar_last_scraped, Length: 24422, dtype: object\n",
      "requires_license 2\n",
      "0        t\n",
      "1        t\n",
      "2        t\n",
      "3        t\n",
      "4        t\n",
      "        ..\n",
      "24417    t\n",
      "24418    t\n",
      "24419    t\n",
      "24420    t\n",
      "24421    t\n",
      "Name: requires_license, Length: 24422, dtype: object\n",
      "instant_bookable 2\n",
      "0        f\n",
      "1        f\n",
      "2        f\n",
      "3        f\n",
      "4        f\n",
      "        ..\n",
      "24417    t\n",
      "24418    t\n",
      "24419    t\n",
      "24420    f\n",
      "24421    f\n",
      "Name: instant_bookable, Length: 24422, dtype: object\n",
      "require_guest_profile_picture 2\n",
      "0        f\n",
      "1        f\n",
      "2        f\n",
      "3        f\n",
      "4        f\n",
      "        ..\n",
      "24417    f\n",
      "24418    f\n",
      "24419    f\n",
      "24420    f\n",
      "24421    f\n",
      "Name: require_guest_profile_picture, Length: 24422, dtype: object\n",
      "require_guest_phone_verification 2\n",
      "0        f\n",
      "1        f\n",
      "2        f\n",
      "3        f\n",
      "4        t\n",
      "        ..\n",
      "24417    f\n",
      "24418    f\n",
      "24419    f\n",
      "24420    f\n",
      "24421    f\n",
      "Name: require_guest_phone_verification, Length: 24422, dtype: object\n"
     ]
    }
   ],
   "source": [
    "for column in listings.columns:\n",
    "    if listings[column].nunique() == 2:\n",
    "        print(column + ' ' + str(listings[column].nunique()))\n",
    "        print(listings[column])"
   ]
  },
  {
   "cell_type": "code",
   "execution_count": 7,
   "metadata": {},
   "outputs": [
    {
     "data": {
      "text/html": [
       "<div>\n",
       "<style scoped>\n",
       "    .dataframe tbody tr th:only-of-type {\n",
       "        vertical-align: middle;\n",
       "    }\n",
       "\n",
       "    .dataframe tbody tr th {\n",
       "        vertical-align: top;\n",
       "    }\n",
       "\n",
       "    .dataframe thead th {\n",
       "        text-align: right;\n",
       "    }\n",
       "</style>\n",
       "<table border=\"1\" class=\"dataframe\">\n",
       "  <thead>\n",
       "    <tr style=\"text-align: right;\">\n",
       "      <th></th>\n",
       "      <th>id</th>\n",
       "      <th>listing_url</th>\n",
       "      <th>last_scraped</th>\n",
       "      <th>name</th>\n",
       "      <th>summary</th>\n",
       "      <th>space</th>\n",
       "      <th>description</th>\n",
       "      <th>neighborhood_overview</th>\n",
       "      <th>notes</th>\n",
       "      <th>transit</th>\n",
       "      <th>...</th>\n",
       "      <th>license</th>\n",
       "      <th>instant_bookable</th>\n",
       "      <th>cancellation_policy</th>\n",
       "      <th>require_guest_profile_picture</th>\n",
       "      <th>require_guest_phone_verification</th>\n",
       "      <th>calculated_host_listings_count</th>\n",
       "      <th>calculated_host_listings_count_entire_homes</th>\n",
       "      <th>calculated_host_listings_count_private_rooms</th>\n",
       "      <th>calculated_host_listings_count_shared_rooms</th>\n",
       "      <th>reviews_per_month</th>\n",
       "    </tr>\n",
       "  </thead>\n",
       "  <tbody>\n",
       "    <tr>\n",
       "      <td>20607</td>\n",
       "      <td>32920540</td>\n",
       "      <td>https://www.airbnb.com/rooms/32920540</td>\n",
       "      <td>2019-09-19</td>\n",
       "      <td>Penthouse, Sauna, Panoramic Balcony, &lt;3 of Berlin</td>\n",
       "      <td>Stay in this gorgeous luxury penthouse apartme...</td>\n",
       "      <td>Modern design, cozy interior décor, luxury bui...</td>\n",
       "      <td>Stay in this gorgeous luxury penthouse apartme...</td>\n",
       "      <td>This is the center of all of Berlin.</td>\n",
       "      <td>Please do not take anything that does not belo...</td>\n",
       "      <td>NaN</td>\n",
       "      <td>...</td>\n",
       "      <td>NaN</td>\n",
       "      <td>t</td>\n",
       "      <td>strict_14_with_grace_period</td>\n",
       "      <td>f</td>\n",
       "      <td>f</td>\n",
       "      <td>2</td>\n",
       "      <td>0</td>\n",
       "      <td>2</td>\n",
       "      <td>0</td>\n",
       "      <td>4.05</td>\n",
       "    </tr>\n",
       "  </tbody>\n",
       "</table>\n",
       "<p>1 rows × 97 columns</p>\n",
       "</div>"
      ],
      "text/plain": [
       "             id                            listing_url last_scraped  \\\n",
       "20607  32920540  https://www.airbnb.com/rooms/32920540   2019-09-19   \n",
       "\n",
       "                                                    name  \\\n",
       "20607  Penthouse, Sauna, Panoramic Balcony, <3 of Berlin   \n",
       "\n",
       "                                                 summary  \\\n",
       "20607  Stay in this gorgeous luxury penthouse apartme...   \n",
       "\n",
       "                                                   space  \\\n",
       "20607  Modern design, cozy interior décor, luxury bui...   \n",
       "\n",
       "                                             description  \\\n",
       "20607  Stay in this gorgeous luxury penthouse apartme...   \n",
       "\n",
       "                      neighborhood_overview  \\\n",
       "20607  This is the center of all of Berlin.   \n",
       "\n",
       "                                                   notes transit  ... license  \\\n",
       "20607  Please do not take anything that does not belo...     NaN  ...     NaN   \n",
       "\n",
       "      instant_bookable          cancellation_policy  \\\n",
       "20607                t  strict_14_with_grace_period   \n",
       "\n",
       "      require_guest_profile_picture  require_guest_phone_verification  \\\n",
       "20607                             f                                 f   \n",
       "\n",
       "      calculated_host_listings_count  \\\n",
       "20607                              2   \n",
       "\n",
       "      calculated_host_listings_count_entire_homes  \\\n",
       "20607                                           0   \n",
       "\n",
       "      calculated_host_listings_count_private_rooms  \\\n",
       "20607                                            2   \n",
       "\n",
       "      calculated_host_listings_count_shared_rooms reviews_per_month  \n",
       "20607                                           0              4.05  \n",
       "\n",
       "[1 rows x 97 columns]"
      ]
     },
     "execution_count": 7,
     "metadata": {},
     "output_type": "execute_result"
    }
   ],
   "source": [
    "listings.loc[listings['country_code'] == 'US']"
   ]
  },
  {
   "cell_type": "markdown",
   "metadata": {},
   "source": [
    "#### Spalten entfernen (nach eigenem Ermessen)"
   ]
  },
  {
   "cell_type": "code",
   "execution_count": 8,
   "metadata": {},
   "outputs": [
    {
     "data": {
      "text/plain": [
       "(24422, 81)"
      ]
     },
     "execution_count": 8,
     "metadata": {},
     "output_type": "execute_result"
    }
   ],
   "source": [
    "listings = listings.drop(columns=[\"last_scraped\", \"country_code\", \"country\", \"calendar_last_scraped\", \"listing_url\",\n",
    "                                 \"calculated_host_listings_count\", \"calculated_host_listings_count_entire_homes\",\n",
    "                                 \"calculated_host_listings_count_private_rooms\",\n",
    "                                 \"calculated_host_listings_count_shared_rooms\", \"city\", \"state\", \"host_thumbnail_url\",\n",
    "                                 \"host_picture_url\", \"host_url\", \"host_listings_count\", \"host_total_listings_count\"])\n",
    "listings.shape"
   ]
  },
  {
   "cell_type": "markdown",
   "metadata": {},
   "source": [
    "### Nähere Betrachtungen\n",
    "#### Preis bereinigen"
   ]
  },
  {
   "cell_type": "code",
   "execution_count": 9,
   "metadata": {},
   "outputs": [],
   "source": [
    "def price_to_float(price):\n",
    "    price = float(price.replace('$','').replace(',',''))\n",
    "    return price"
   ]
  },
  {
   "cell_type": "code",
   "execution_count": 10,
   "metadata": {},
   "outputs": [
    {
     "data": {
      "text/plain": [
       "0         21.0\n",
       "1         60.0\n",
       "2         90.0\n",
       "3         28.0\n",
       "4        125.0\n",
       "         ...  \n",
       "24417     54.0\n",
       "24418     60.0\n",
       "24419     36.0\n",
       "24420     50.0\n",
       "24421     70.0\n",
       "Name: price, Length: 24422, dtype: float64"
      ]
     },
     "execution_count": 10,
     "metadata": {},
     "output_type": "execute_result"
    }
   ],
   "source": [
    "listings['price'] = listings['price'].map(price_to_float)\n",
    "listings['price']"
   ]
  },
  {
   "cell_type": "markdown",
   "metadata": {},
   "source": [
    "#### 'calender_updated' in Tage (int) umrechnen."
   ]
  },
  {
   "cell_type": "code",
   "execution_count": 11,
   "metadata": {},
   "outputs": [],
   "source": [
    "def weeks_ago_to_days(weeks):\n",
    "    if 'days' in weeks:\n",
    "        weeks = int(weeks.replace(' days ago',''))\n",
    "    elif 'weeks' in weeks:\n",
    "        weeks = int(weeks.replace(' weeks ago','')) * 7\n",
    "    elif 'months' in weeks:\n",
    "        weeks = int(weeks.replace(' months ago','')) * 30\n",
    "    elif weeks == 'today':\n",
    "        weeks = 0\n",
    "    elif weeks == 'yesterday':\n",
    "        weeks = 1\n",
    "    elif weeks == 'never':\n",
    "        weeks = 10000\n",
    "    elif weeks == 'a week ago' or weeks == '1 week ago':\n",
    "        weeks = 7\n",
    "    \n",
    "        \n",
    "    return weeks"
   ]
  },
  {
   "cell_type": "code",
   "execution_count": 12,
   "metadata": {},
   "outputs": [
    {
     "data": {
      "text/plain": [
       "0        270\n",
       "1         14\n",
       "2        330\n",
       "3          7\n",
       "4          7\n",
       "        ... \n",
       "24417      0\n",
       "24418      0\n",
       "24419      0\n",
       "24420      0\n",
       "24421      0\n",
       "Name: calendar_updated, Length: 24422, dtype: int64"
      ]
     },
     "execution_count": 12,
     "metadata": {},
     "output_type": "execute_result"
    }
   ],
   "source": [
    "listings['calendar_updated'] = listings['calendar_updated'].map(weeks_ago_to_days)\n",
    "listings.calendar_updated"
   ]
  },
  {
   "cell_type": "code",
   "execution_count": 13,
   "metadata": {
    "scrolled": true
   },
   "outputs": [
    {
     "data": {
      "image/png": "[encoded data removed]",
      "text/plain": [
       "<Figure size 432x288 with 1 Axes>"
      ]
     },
     "metadata": {
      "needs_background": "light"
     },
     "output_type": "display_data"
    }
   ],
   "source": [
    "# cal = pd.DataFrame({'price': listings.price, 'updated':listings.calendar_updated})\n",
    "price_ = listings.plot.line(x='id', y='price')"
   ]
  },
  {
   "cell_type": "code",
   "execution_count": 14,
   "metadata": {},
   "outputs": [
    {
     "data": {
      "image/png": "[encoded data removed]",
      "text/plain": [
       "<Figure size 432x288 with 1 Axes>"
      ]
     },
     "metadata": {
      "needs_background": "light"
     },
     "output_type": "display_data"
    }
   ],
   "source": [
    "cal_ = listings.plot.line(x='id', y='calendar_updated')"
   ]
  },
  {
   "cell_type": "markdown",
   "metadata": {},
   "source": [
    "#### Vergleiche Größe:Preis & Ausreißer Größe"
   ]
  },
  {
   "cell_type": "code",
   "execution_count": 15,
   "metadata": {},
   "outputs": [
    {
     "data": {
      "image/png": "[encoded data removed]",
      "text/plain": [
       "<Figure size 1440x504 with 2 Axes>"
      ]
     },
     "metadata": {
      "needs_background": "light"
     },
     "output_type": "display_data"
    }
   ],
   "source": [
    "fig, axs = plt.subplots(1,2, figsize = (20,7))\n",
    "price_sqf = listings.plot.scatter(x='square_feet', y='price', ax=axs[0])\n",
    "price_sqf_box = listings.plot.box(x='price', y='square_feet', ax=axs[1])"
   ]
  },
  {
   "cell_type": "markdown",
   "metadata": {},
   "source": [
    "#### Größenausreißer entfernen"
   ]
  },
  {
   "cell_type": "code",
   "execution_count": 16,
   "metadata": {},
   "outputs": [
    {
     "data": {
      "text/plain": [
       "23992"
      ]
     },
     "execution_count": 16,
     "metadata": {},
     "output_type": "execute_result"
    }
   ],
   "source": [
    "listings.square_feet.isnull().sum(axis=0)"
   ]
  },
  {
   "cell_type": "code",
   "execution_count": 17,
   "metadata": {},
   "outputs": [
    {
     "data": {
      "text/plain": [
       "(314, 81)"
      ]
     },
     "execution_count": 17,
     "metadata": {},
     "output_type": "execute_result"
    }
   ],
   "source": [
    "listings = listings.drop(listings[listings.square_feet == 0].index)\n",
    "listings = listings.drop(listings[listings.price == 0].index)\n",
    "listings = listings.drop(listings[listings.square_feet.isnull()].index)\n",
    "listings.shape"
   ]
  },
  {
   "cell_type": "code",
   "execution_count": 18,
   "metadata": {},
   "outputs": [
    {
     "data": {
      "image/png": "[encoded data removed]",
      "text/plain": [
       "<Figure size 1440x504 with 2 Axes>"
      ]
     },
     "metadata": {
      "needs_background": "light"
     },
     "output_type": "display_data"
    }
   ],
   "source": [
    "fig, axs = plt.subplots(1,2, figsize = (20,7))\n",
    "price_sqf = listings.plot.scatter(x='square_feet', y='price', ax=axs[0])\n",
    "price_sqf_box = listings.plot.box(x='price', y='square_feet', ax=axs[1])"
   ]
  },
  {
   "cell_type": "code",
   "execution_count": 19,
   "metadata": {},
   "outputs": [],
   "source": [
    "def outlier(df, column):\n",
    "    df[column] = df[column]._get_numeric_data()\n",
    "    q1 = df[column].quantile(0.25)\n",
    "    print(q1)\n",
    "    q3 = df[column].quantile(0.75)\n",
    "    print(q3)\n",
    "    iqr = q3 - q1\n",
    "\n",
    "    lower_bound = q1 -(1.5 * iqr) \n",
    "    upper_bound = q3 +(1.5 * iqr)\n",
    "\n",
    "    df = df.drop(df[df[column] < lower_bound].index)\n",
    "    df = df.drop(df[df[column] > upper_bound].index)\n",
    "            \n",
    "    \n",
    "    return(df)"
   ]
  },
  {
   "cell_type": "code",
   "execution_count": 20,
   "metadata": {},
   "outputs": [
    {
     "data": {
      "text/plain": [
       "2         720.0\n",
       "14        753.0\n",
       "18       1012.0\n",
       "26        646.0\n",
       "30        215.0\n",
       "          ...  \n",
       "20794     323.0\n",
       "20953     108.0\n",
       "21480     431.0\n",
       "21501     300.0\n",
       "22347     990.0\n",
       "Name: square_feet, Length: 314, dtype: float64"
      ]
     },
     "execution_count": 20,
     "metadata": {},
     "output_type": "execute_result"
    }
   ],
   "source": [
    "listings.square_feet"
   ]
  },
  {
   "cell_type": "code",
   "execution_count": 21,
   "metadata": {},
   "outputs": [
    {
     "name": "stdout",
     "output_type": "stream",
     "text": [
      "355.0\n",
      "809.25\n"
     ]
    },
    {
     "data": {
      "text/plain": [
       "(296, 81)"
      ]
     },
     "execution_count": 21,
     "metadata": {},
     "output_type": "execute_result"
    }
   ],
   "source": [
    "listings = outlier(listings, 'square_feet')\n",
    "listings.shape"
   ]
  },
  {
   "cell_type": "code",
   "execution_count": 22,
   "metadata": {},
   "outputs": [
    {
     "data": {
      "image/png": "[encoded data removed]",
      "text/plain": [
       "<Figure size 1440x504 with 2 Axes>"
      ]
     },
     "metadata": {
      "needs_background": "light"
     },
     "output_type": "display_data"
    }
   ],
   "source": [
    "fig, axs = plt.subplots(1,2, figsize = (20,7))\n",
    "price_sqf = listings.plot.scatter(x='square_feet', y='price', ax=axs[0])\n",
    "price_sqf_box = listings.plot.box(x='price', y='square_feet', ax=axs[1])"
   ]
  },
  {
   "cell_type": "code",
   "execution_count": 23,
   "metadata": {},
   "outputs": [
    {
     "data": {
      "text/plain": [
       "2         720.0\n",
       "14        753.0\n",
       "18       1012.0\n",
       "26        646.0\n",
       "30        215.0\n",
       "          ...  \n",
       "20794     323.0\n",
       "20953     108.0\n",
       "21480     431.0\n",
       "21501     300.0\n",
       "22347     990.0\n",
       "Name: square_feet, Length: 296, dtype: float64"
      ]
     },
     "execution_count": 23,
     "metadata": {},
     "output_type": "execute_result"
    }
   ],
   "source": [
    "listings.square_feet"
   ]
  },
  {
   "cell_type": "code",
   "execution_count": 24,
   "metadata": {},
   "outputs": [
    {
     "name": "stdout",
     "output_type": "stream",
     "text": [
      "f(x) = 0.07008251341418208 * x + 35.35950324697031\n"
     ]
    }
   ],
   "source": [
    "square_fit = np.polyfit(listings.square_feet, listings.price, 1)\n",
    "x = square_fit[0]\n",
    "n = square_fit[1]\n",
    "print(f\"f(x) = {x} * x + {n}\")"
   ]
  },
  {
   "cell_type": "code",
   "execution_count": 26,
   "metadata": {},
   "outputs": [
    {
     "data": {
      "text/html": [
       "<div>\n",
       "<style scoped>\n",
       "    .dataframe tbody tr th:only-of-type {\n",
       "        vertical-align: middle;\n",
       "    }\n",
       "\n",
       "    .dataframe tbody tr th {\n",
       "        vertical-align: top;\n",
       "    }\n",
       "\n",
       "    .dataframe thead th {\n",
       "        text-align: right;\n",
       "    }\n",
       "</style>\n",
       "<table border=\"1\" class=\"dataframe\">\n",
       "  <thead>\n",
       "    <tr style=\"text-align: right;\">\n",
       "      <th></th>\n",
       "      <th>square_feet</th>\n",
       "      <th>property_type</th>\n",
       "      <th>room_type</th>\n",
       "    </tr>\n",
       "  </thead>\n",
       "  <tbody>\n",
       "    <tr>\n",
       "      <td>12943</td>\n",
       "      <td>NaN</td>\n",
       "      <td>Apartment</td>\n",
       "      <td>Private room</td>\n",
       "    </tr>\n",
       "    <tr>\n",
       "      <td>3885</td>\n",
       "      <td>NaN</td>\n",
       "      <td>Apartment</td>\n",
       "      <td>Entire home/apt</td>\n",
       "    </tr>\n",
       "    <tr>\n",
       "      <td>12953</td>\n",
       "      <td>NaN</td>\n",
       "      <td>Apartment</td>\n",
       "      <td>Private room</td>\n",
       "    </tr>\n",
       "    <tr>\n",
       "      <td>23843</td>\n",
       "      <td>NaN</td>\n",
       "      <td>Apartment</td>\n",
       "      <td>Private room</td>\n",
       "    </tr>\n",
       "    <tr>\n",
       "      <td>8546</td>\n",
       "      <td>NaN</td>\n",
       "      <td>Apartment</td>\n",
       "      <td>Private room</td>\n",
       "    </tr>\n",
       "    <tr>\n",
       "      <td>9916</td>\n",
       "      <td>NaN</td>\n",
       "      <td>Apartment</td>\n",
       "      <td>Entire home/apt</td>\n",
       "    </tr>\n",
       "    <tr>\n",
       "      <td>8490</td>\n",
       "      <td>NaN</td>\n",
       "      <td>Apartment</td>\n",
       "      <td>Entire home/apt</td>\n",
       "    </tr>\n",
       "    <tr>\n",
       "      <td>18471</td>\n",
       "      <td>NaN</td>\n",
       "      <td>House</td>\n",
       "      <td>Entire home/apt</td>\n",
       "    </tr>\n",
       "    <tr>\n",
       "      <td>6462</td>\n",
       "      <td>NaN</td>\n",
       "      <td>Apartment</td>\n",
       "      <td>Entire home/apt</td>\n",
       "    </tr>\n",
       "    <tr>\n",
       "      <td>2715</td>\n",
       "      <td>NaN</td>\n",
       "      <td>Apartment</td>\n",
       "      <td>Private room</td>\n",
       "    </tr>\n",
       "    <tr>\n",
       "      <td>17449</td>\n",
       "      <td>NaN</td>\n",
       "      <td>Apartment</td>\n",
       "      <td>Private room</td>\n",
       "    </tr>\n",
       "    <tr>\n",
       "      <td>18887</td>\n",
       "      <td>NaN</td>\n",
       "      <td>Apartment</td>\n",
       "      <td>Private room</td>\n",
       "    </tr>\n",
       "    <tr>\n",
       "      <td>14875</td>\n",
       "      <td>NaN</td>\n",
       "      <td>Apartment</td>\n",
       "      <td>Entire home/apt</td>\n",
       "    </tr>\n",
       "    <tr>\n",
       "      <td>7305</td>\n",
       "      <td>NaN</td>\n",
       "      <td>Apartment</td>\n",
       "      <td>Private room</td>\n",
       "    </tr>\n",
       "    <tr>\n",
       "      <td>20493</td>\n",
       "      <td>NaN</td>\n",
       "      <td>House</td>\n",
       "      <td>Private room</td>\n",
       "    </tr>\n",
       "    <tr>\n",
       "      <td>20373</td>\n",
       "      <td>NaN</td>\n",
       "      <td>Apartment</td>\n",
       "      <td>Entire home/apt</td>\n",
       "    </tr>\n",
       "    <tr>\n",
       "      <td>16999</td>\n",
       "      <td>NaN</td>\n",
       "      <td>Apartment</td>\n",
       "      <td>Private room</td>\n",
       "    </tr>\n",
       "    <tr>\n",
       "      <td>13389</td>\n",
       "      <td>NaN</td>\n",
       "      <td>Apartment</td>\n",
       "      <td>Entire home/apt</td>\n",
       "    </tr>\n",
       "    <tr>\n",
       "      <td>3148</td>\n",
       "      <td>NaN</td>\n",
       "      <td>Apartment</td>\n",
       "      <td>Private room</td>\n",
       "    </tr>\n",
       "    <tr>\n",
       "      <td>6185</td>\n",
       "      <td>NaN</td>\n",
       "      <td>Apartment</td>\n",
       "      <td>Entire home/apt</td>\n",
       "    </tr>\n",
       "  </tbody>\n",
       "</table>\n",
       "</div>"
      ],
      "text/plain": [
       "       square_feet property_type        room_type\n",
       "12943          NaN     Apartment     Private room\n",
       "3885           NaN     Apartment  Entire home/apt\n",
       "12953          NaN     Apartment     Private room\n",
       "23843          NaN     Apartment     Private room\n",
       "8546           NaN     Apartment     Private room\n",
       "9916           NaN     Apartment  Entire home/apt\n",
       "8490           NaN     Apartment  Entire home/apt\n",
       "18471          NaN         House  Entire home/apt\n",
       "6462           NaN     Apartment  Entire home/apt\n",
       "2715           NaN     Apartment     Private room\n",
       "17449          NaN     Apartment     Private room\n",
       "18887          NaN     Apartment     Private room\n",
       "14875          NaN     Apartment  Entire home/apt\n",
       "7305           NaN     Apartment     Private room\n",
       "20493          NaN         House     Private room\n",
       "20373          NaN     Apartment  Entire home/apt\n",
       "16999          NaN     Apartment     Private room\n",
       "13389          NaN     Apartment  Entire home/apt\n",
       "3148           NaN     Apartment     Private room\n",
       "6185           NaN     Apartment  Entire home/apt"
      ]
     },
     "execution_count": 26,
     "metadata": {},
     "output_type": "execute_result"
    }
   ],
   "source": [
    "original[['square_feet', 'property_type', 'room_type']].sample(20)"
   ]
  },
  {
   "cell_type": "code",
   "execution_count": 31,
   "metadata": {},
   "outputs": [
    {
     "data": {
      "text/plain": [
       "Apartment                 88.678241\n",
       "Condominium                2.665629\n",
       "House                      1.953157\n",
       "Loft                       1.920400\n",
       "Serviced apartment         1.289821\n",
       "Hostel                     0.777987\n",
       "Townhouse                  0.479076\n",
       "Boutique hotel             0.360331\n",
       "Hotel                      0.356236\n",
       "Guest suite                0.290721\n",
       "Guesthouse                 0.249775\n",
       "Bed and breakfast          0.212923\n",
       "Other                      0.139219\n",
       "Bungalow                   0.102367\n",
       "Houseboat                  0.069609\n",
       "Boat                       0.069609\n",
       "Villa                      0.069609\n",
       "Tiny house                 0.049136\n",
       "Aparthotel                 0.049136\n",
       "Camper/RV                  0.040947\n",
       "Cottage                    0.032757\n",
       "Pension (South Korea)      0.032757\n",
       "Cabin                      0.032757\n",
       "Barn                       0.016379\n",
       "Treehouse                  0.012284\n",
       "Castle                     0.012284\n",
       "Casa particular (Cuba)     0.008189\n",
       "Resort                     0.008189\n",
       "Earth house                0.004095\n",
       "Tipi                       0.004095\n",
       "Lighthouse                 0.004095\n",
       "Cave                       0.004095\n",
       "Vacation home              0.004095\n",
       "Name: property_type, dtype: float64"
      ]
     },
     "execution_count": 31,
     "metadata": {},
     "output_type": "execute_result"
    }
   ],
   "source": [
    "100*original['property_type'].value_counts(normalize=True)"
   ]
  },
  {
   "cell_type": "code",
   "execution_count": 33,
   "metadata": {},
   "outputs": [
    {
     "data": {
      "text/plain": [
       "Apartment                  88.678241\n",
       "Condominium                91.343870\n",
       "House                      93.297027\n",
       "Loft                       95.217427\n",
       "Serviced apartment         96.507248\n",
       "Hostel                     97.285235\n",
       "Townhouse                  97.764311\n",
       "Boutique hotel             98.124642\n",
       "Hotel                      98.480878\n",
       "Guest suite                98.771599\n",
       "Guesthouse                 99.021374\n",
       "Bed and breakfast          99.234297\n",
       "Other                      99.373516\n",
       "Bungalow                   99.475882\n",
       "Houseboat                  99.545492\n",
       "Boat                       99.615101\n",
       "Villa                      99.684711\n",
       "Tiny house                 99.733847\n",
       "Aparthotel                 99.782983\n",
       "Camper/RV                  99.823929\n",
       "Cottage                    99.856687\n",
       "Pension (South Korea)      99.889444\n",
       "Cabin                      99.922201\n",
       "Barn                       99.938580\n",
       "Treehouse                  99.950864\n",
       "Castle                     99.963148\n",
       "Casa particular (Cuba)     99.971337\n",
       "Resort                     99.979527\n",
       "Earth house                99.983621\n",
       "Tipi                       99.987716\n",
       "Lighthouse                 99.991811\n",
       "Cave                       99.995905\n",
       "Vacation home             100.000000\n",
       "Name: property_type, dtype: float64"
      ]
     },
     "execution_count": 33,
     "metadata": {},
     "output_type": "execute_result"
    }
   ],
   "source": [
    "100*original['property_type'].value_counts(normalize=True).cumsum()"
   ]
  },
  {
   "cell_type": "code",
   "execution_count": 28,
   "metadata": {},
   "outputs": [
    {
     "data": {
      "text/plain": [
       "Entire home/apt    12136\n",
       "Private room       11638\n",
       "Hotel room           348\n",
       "Shared room          300\n",
       "Name: room_type, dtype: int64"
      ]
     },
     "execution_count": 28,
     "metadata": {},
     "output_type": "execute_result"
    }
   ],
   "source": [
    "original['room_type'].value_counts()"
   ]
  },
  {
   "cell_type": "code",
   "execution_count": null,
   "metadata": {},
   "outputs": [],
   "source": []
  }
 ],
 "metadata": {
  "kernelspec": {
   "display_name": "Python 3",
   "language": "python",
   "name": "python3"
  },
  "language_info": {
   "codemirror_mode": {
    "name": "ipython",
    "version": 3
   },
   "file_extension": ".py",
   "mimetype": "text/x-python",
   "name": "python",
   "nbconvert_exporter": "python",
   "pygments_lexer": "ipython3",
   "version": "3.7.1"
  }
 },
 "nbformat": 4,
 "nbformat_minor": 2
}
