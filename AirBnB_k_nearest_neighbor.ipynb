{
 "cells": [
  {
   "cell_type": "markdown",
   "metadata": {},
   "source": [
    "# Machine Learning\n",
    "## import libs"
   ]
  },
  {
   "cell_type": "code",
   "execution_count": 1,
   "metadata": {},
   "outputs": [],
   "source": [
    "import pandas as pd\n",
    "import matplotlib.pyplot as plt\n",
    "from sklearn.neighbors import NearestNeighbors, KNeighborsRegressor\n",
    "from sklearn import preprocessing\n",
    "from sklearn.preprocessing import LabelEncoder\n",
    "from sklearn.model_selection import train_test_split\n",
    "import numpy as np\n",
    "from sklearn.metrics import mean_squared_error\n",
    "from sklearn.linear_model import LinearRegression"
   ]
  },
  {
   "cell_type": "markdown",
   "metadata": {},
   "source": [
    "## Bereinigen"
   ]
  },
  {
   "cell_type": "code",
   "execution_count": 2,
   "metadata": {},
   "outputs": [],
   "source": [
    "def price_to_float(price):\n",
    "    price = float(price.replace('$','').replace(',',''))\n",
    "    return price"
   ]
  },
  {
   "cell_type": "code",
   "execution_count": 3,
   "metadata": {},
   "outputs": [],
   "source": [
    "def outlier(df, column):\n",
    "    df[column] = df[column]._get_numeric_data()\n",
    "    q1 = df[column].quantile(0.25)\n",
    "    print(q1)\n",
    "    q3 = df[column].quantile(0.75)\n",
    "    print(q3)\n",
    "    iqr = q3 - q1\n",
    "\n",
    "    lower_bound = q1 -(1.5 * iqr) \n",
    "    upper_bound = q3 +(1.5 * iqr)\n",
    "\n",
    "    df = df.drop(df[df[column] < lower_bound].index)\n",
    "    df = df.drop(df[df[column] > upper_bound].index)\n",
    "            \n",
    "    \n",
    "    return(df)"
   ]
  },
  {
   "cell_type": "code",
   "execution_count": 4,
   "metadata": {},
   "outputs": [
    {
     "data": {
      "text/html": [
       "<div>\n",
       "<style scoped>\n",
       "    .dataframe tbody tr th:only-of-type {\n",
       "        vertical-align: middle;\n",
       "    }\n",
       "\n",
       "    .dataframe tbody tr th {\n",
       "        vertical-align: top;\n",
       "    }\n",
       "\n",
       "    .dataframe thead th {\n",
       "        text-align: right;\n",
       "    }\n",
       "</style>\n",
       "<table border=\"1\" class=\"dataframe\">\n",
       "  <thead>\n",
       "    <tr style=\"text-align: right;\">\n",
       "      <th></th>\n",
       "      <th>beds</th>\n",
       "      <th>bedrooms</th>\n",
       "      <th>room_type</th>\n",
       "      <th>price</th>\n",
       "    </tr>\n",
       "  </thead>\n",
       "  <tbody>\n",
       "    <tr>\n",
       "      <td>0</td>\n",
       "      <td>1.0</td>\n",
       "      <td>1.0</td>\n",
       "      <td>Private room</td>\n",
       "      <td>21.0</td>\n",
       "    </tr>\n",
       "    <tr>\n",
       "      <td>1</td>\n",
       "      <td>2.0</td>\n",
       "      <td>1.0</td>\n",
       "      <td>Entire home/apt</td>\n",
       "      <td>60.0</td>\n",
       "    </tr>\n",
       "    <tr>\n",
       "      <td>2</td>\n",
       "      <td>2.0</td>\n",
       "      <td>1.0</td>\n",
       "      <td>Entire home/apt</td>\n",
       "      <td>90.0</td>\n",
       "    </tr>\n",
       "    <tr>\n",
       "      <td>3</td>\n",
       "      <td>1.0</td>\n",
       "      <td>1.0</td>\n",
       "      <td>Private room</td>\n",
       "      <td>28.0</td>\n",
       "    </tr>\n",
       "    <tr>\n",
       "      <td>4</td>\n",
       "      <td>1.0</td>\n",
       "      <td>1.0</td>\n",
       "      <td>Entire home/apt</td>\n",
       "      <td>125.0</td>\n",
       "    </tr>\n",
       "    <tr>\n",
       "      <td>...</td>\n",
       "      <td>...</td>\n",
       "      <td>...</td>\n",
       "      <td>...</td>\n",
       "      <td>...</td>\n",
       "    </tr>\n",
       "    <tr>\n",
       "      <td>24417</td>\n",
       "      <td>1.0</td>\n",
       "      <td>1.0</td>\n",
       "      <td>Private room</td>\n",
       "      <td>54.0</td>\n",
       "    </tr>\n",
       "    <tr>\n",
       "      <td>24418</td>\n",
       "      <td>0.0</td>\n",
       "      <td>0.0</td>\n",
       "      <td>Entire home/apt</td>\n",
       "      <td>60.0</td>\n",
       "    </tr>\n",
       "    <tr>\n",
       "      <td>24419</td>\n",
       "      <td>1.0</td>\n",
       "      <td>0.0</td>\n",
       "      <td>Private room</td>\n",
       "      <td>36.0</td>\n",
       "    </tr>\n",
       "    <tr>\n",
       "      <td>24420</td>\n",
       "      <td>2.0</td>\n",
       "      <td>1.0</td>\n",
       "      <td>Private room</td>\n",
       "      <td>50.0</td>\n",
       "    </tr>\n",
       "    <tr>\n",
       "      <td>24421</td>\n",
       "      <td>2.0</td>\n",
       "      <td>2.0</td>\n",
       "      <td>Entire home/apt</td>\n",
       "      <td>70.0</td>\n",
       "    </tr>\n",
       "  </tbody>\n",
       "</table>\n",
       "<p>24370 rows × 4 columns</p>\n",
       "</div>"
      ],
      "text/plain": [
       "       beds  bedrooms        room_type  price\n",
       "0       1.0       1.0     Private room   21.0\n",
       "1       2.0       1.0  Entire home/apt   60.0\n",
       "2       2.0       1.0  Entire home/apt   90.0\n",
       "3       1.0       1.0     Private room   28.0\n",
       "4       1.0       1.0  Entire home/apt  125.0\n",
       "...     ...       ...              ...    ...\n",
       "24417   1.0       1.0     Private room   54.0\n",
       "24418   0.0       0.0  Entire home/apt   60.0\n",
       "24419   1.0       0.0     Private room   36.0\n",
       "24420   2.0       1.0     Private room   50.0\n",
       "24421   2.0       2.0  Entire home/apt   70.0\n",
       "\n",
       "[24370 rows x 4 columns]"
      ]
     },
     "execution_count": 4,
     "metadata": {},
     "output_type": "execute_result"
    }
   ],
   "source": [
    "listings = pd.read_csv('~/studies/analytics/listings.csv')\n",
    "original = listings.copy()\n",
    "listings.dropna()\n",
    "listings.shape\n",
    "listings['price'] = listings['price'].map(price_to_float)\n",
    "listings['price']\n",
    "df = listings[['beds', 'bedrooms', 'room_type', 'price']]\n",
    "df.dropna()"
   ]
  },
  {
   "cell_type": "code",
   "execution_count": 36,
   "metadata": {},
   "outputs": [
    {
     "name": "stdout",
     "output_type": "stream",
     "text": [
      "id\n",
      "listing_url\n",
      "scrape_id\n",
      "last_scraped\n",
      "name\n",
      "summary\n",
      "space\n",
      "description\n",
      "experiences_offered\n",
      "neighborhood_overview\n",
      "notes\n",
      "transit\n",
      "access\n",
      "interaction\n",
      "house_rules\n",
      "thumbnail_url\n",
      "medium_url\n",
      "picture_url\n",
      "xl_picture_url\n",
      "host_id\n",
      "host_url\n",
      "host_name\n",
      "host_since\n",
      "host_location\n",
      "host_about\n",
      "host_response_time\n",
      "host_response_rate\n",
      "host_acceptance_rate\n",
      "host_is_superhost\n",
      "host_thumbnail_url\n",
      "host_picture_url\n",
      "host_neighbourhood\n",
      "host_listings_count\n",
      "host_total_listings_count\n",
      "host_verifications\n",
      "host_has_profile_pic\n",
      "host_identity_verified\n",
      "street\n",
      "neighbourhood\n",
      "neighbourhood_cleansed\n",
      "neighbourhood_group_cleansed\n",
      "city\n",
      "state\n",
      "zipcode\n",
      "market\n",
      "smart_location\n",
      "country_code\n",
      "country\n",
      "latitude\n",
      "longitude\n",
      "is_location_exact\n",
      "property_type\n",
      "room_type\n",
      "accommodates\n",
      "bathrooms\n",
      "bedrooms\n",
      "beds\n",
      "bed_type\n",
      "amenities\n",
      "square_feet\n",
      "price\n",
      "weekly_price\n",
      "monthly_price\n",
      "security_deposit\n",
      "cleaning_fee\n",
      "guests_included\n",
      "extra_people\n",
      "minimum_nights\n",
      "maximum_nights\n",
      "minimum_minimum_nights\n",
      "maximum_minimum_nights\n",
      "minimum_maximum_nights\n",
      "maximum_maximum_nights\n",
      "minimum_nights_avg_ntm\n",
      "maximum_nights_avg_ntm\n",
      "calendar_updated\n",
      "has_availability\n",
      "availability_30\n",
      "availability_60\n",
      "availability_90\n",
      "availability_365\n",
      "calendar_last_scraped\n",
      "number_of_reviews\n",
      "number_of_reviews_ltm\n",
      "first_review\n",
      "last_review\n",
      "review_scores_rating\n",
      "review_scores_accuracy\n",
      "review_scores_cleanliness\n",
      "review_scores_checkin\n",
      "review_scores_communication\n",
      "review_scores_location\n",
      "review_scores_value\n",
      "requires_license\n",
      "license\n",
      "jurisdiction_names\n",
      "instant_bookable\n",
      "is_business_travel_ready\n",
      "cancellation_policy\n",
      "require_guest_profile_picture\n",
      "require_guest_phone_verification\n",
      "calculated_host_listings_count\n",
      "calculated_host_listings_count_entire_homes\n",
      "calculated_host_listings_count_private_rooms\n",
      "calculated_host_listings_count_shared_rooms\n",
      "reviews_per_month\n"
     ]
    }
   ],
   "source": [
    "for i in original.columns:\n",
    "    print(i)"
   ]
  },
  {
   "cell_type": "code",
   "execution_count": 5,
   "metadata": {},
   "outputs": [],
   "source": [
    "df = df[df['beds'].notna() == True]\n",
    "df = df[df['bedrooms'].notna() == True]"
   ]
  },
  {
   "cell_type": "code",
   "execution_count": 6,
   "metadata": {},
   "outputs": [],
   "source": [
    "df = pd.get_dummies(data=df, columns=['room_type'], drop_first=True)"
   ]
  },
  {
   "cell_type": "code",
   "execution_count": 7,
   "metadata": {},
   "outputs": [
    {
     "name": "stdout",
     "output_type": "stream",
     "text": [
      "33.0\n",
      "75.0\n",
      "1.0\n",
      "2.0\n",
      "1.0\n",
      "1.0\n"
     ]
    }
   ],
   "source": [
    "df = outlier(df, 'price')\n",
    "df = outlier(df, 'beds')\n",
    "df = outlier(df, 'bedrooms')"
   ]
  },
  {
   "cell_type": "markdown",
   "metadata": {},
   "source": [
    "## Trainings-/Testdaten"
   ]
  },
  {
   "cell_type": "code",
   "execution_count": 8,
   "metadata": {},
   "outputs": [],
   "source": [
    "X = df.drop(columns=['price'])\n",
    "y = df['price'].values"
   ]
  },
  {
   "cell_type": "code",
   "execution_count": 9,
   "metadata": {},
   "outputs": [],
   "source": [
    "X_train, X_test, y_train, y_test = train_test_split(X, y, test_size=0.33, random_state=42)"
   ]
  },
  {
   "cell_type": "code",
   "execution_count": 10,
   "metadata": {},
   "outputs": [],
   "source": [
    "min_max_scaler = preprocessing.MinMaxScaler()\n",
    "X_train_scaled = min_max_scaler.fit_transform(X_train)\n",
    "X_test_scaled = min_max_scaler.fit_transform(X_test)"
   ]
  },
  {
   "cell_type": "code",
   "execution_count": 11,
   "metadata": {},
   "outputs": [],
   "source": [
    "y_train_scaled = min_max_scaler.fit_transform(y_train.reshape(-1,1))\n",
    "y_test_scaled = min_max_scaler.fit_transform(y_test.reshape(-1,1))"
   ]
  },
  {
   "cell_type": "markdown",
   "metadata": {},
   "source": [
    "## k-nearest-neighbor"
   ]
  },
  {
   "cell_type": "code",
   "execution_count": 12,
   "metadata": {},
   "outputs": [],
   "source": [
    "knn = KNeighborsRegressor(n_neighbors=1)"
   ]
  },
  {
   "cell_type": "code",
   "execution_count": 13,
   "metadata": {},
   "outputs": [
    {
     "data": {
      "text/plain": [
       "KNeighborsRegressor(algorithm='auto', leaf_size=30, metric='minkowski',\n",
       "                    metric_params=None, n_jobs=None, n_neighbors=1, p=2,\n",
       "                    weights='uniform')"
      ]
     },
     "execution_count": 13,
     "metadata": {},
     "output_type": "execute_result"
    }
   ],
   "source": [
    "knn.fit(X_train_scaled, y_train_scaled)"
   ]
  },
  {
   "cell_type": "code",
   "execution_count": 14,
   "metadata": {},
   "outputs": [],
   "source": [
    "y_pred = knn.predict(X_test_scaled)"
   ]
  },
  {
   "cell_type": "code",
   "execution_count": 15,
   "metadata": {},
   "outputs": [
    {
     "data": {
      "text/plain": [
       "0.051106785047078725"
      ]
     },
     "execution_count": 15,
     "metadata": {},
     "output_type": "execute_result"
    }
   ],
   "source": [
    "mean_squared_error(y_test_scaled, y_pred)"
   ]
  },
  {
   "cell_type": "code",
   "execution_count": 28,
   "metadata": {},
   "outputs": [
    {
     "data": {
      "text/plain": [
       "array([[0.2189781 ],\n",
       "       [0.1459854 ],\n",
       "       [0.18248175],\n",
       "       ...,\n",
       "       [0.20437956],\n",
       "       [0.18248175],\n",
       "       [0.2189781 ]])"
      ]
     },
     "execution_count": 28,
     "metadata": {},
     "output_type": "execute_result"
    }
   ],
   "source": [
    "y_test_scaled"
   ]
  },
  {
   "cell_type": "code",
   "execution_count": 31,
   "metadata": {},
   "outputs": [
    {
     "data": {
      "text/html": [
       "<div>\n",
       "<style scoped>\n",
       "    .dataframe tbody tr th:only-of-type {\n",
       "        vertical-align: middle;\n",
       "    }\n",
       "\n",
       "    .dataframe tbody tr th {\n",
       "        vertical-align: top;\n",
       "    }\n",
       "\n",
       "    .dataframe thead th {\n",
       "        text-align: right;\n",
       "    }\n",
       "</style>\n",
       "<table border=\"1\" class=\"dataframe\">\n",
       "  <thead>\n",
       "    <tr style=\"text-align: right;\">\n",
       "      <th></th>\n",
       "      <th>0</th>\n",
       "      <th>1</th>\n",
       "    </tr>\n",
       "  </thead>\n",
       "  <tbody>\n",
       "    <tr>\n",
       "      <td>0</td>\n",
       "      <td>0.218978</td>\n",
       "      <td>0.181159</td>\n",
       "    </tr>\n",
       "    <tr>\n",
       "      <td>1</td>\n",
       "      <td>0.145985</td>\n",
       "      <td>0.181159</td>\n",
       "    </tr>\n",
       "    <tr>\n",
       "      <td>2</td>\n",
       "      <td>0.182482</td>\n",
       "      <td>0.181159</td>\n",
       "    </tr>\n",
       "    <tr>\n",
       "      <td>3</td>\n",
       "      <td>0.408759</td>\n",
       "      <td>0.326087</td>\n",
       "    </tr>\n",
       "    <tr>\n",
       "      <td>4</td>\n",
       "      <td>0.255474</td>\n",
       "      <td>0.181159</td>\n",
       "    </tr>\n",
       "    <tr>\n",
       "      <td>...</td>\n",
       "      <td>...</td>\n",
       "      <td>...</td>\n",
       "    </tr>\n",
       "    <tr>\n",
       "      <td>5760</td>\n",
       "      <td>0.248175</td>\n",
       "      <td>0.181159</td>\n",
       "    </tr>\n",
       "    <tr>\n",
       "      <td>5761</td>\n",
       "      <td>0.547445</td>\n",
       "      <td>0.181159</td>\n",
       "    </tr>\n",
       "    <tr>\n",
       "      <td>5762</td>\n",
       "      <td>0.204380</td>\n",
       "      <td>0.181159</td>\n",
       "    </tr>\n",
       "    <tr>\n",
       "      <td>5763</td>\n",
       "      <td>0.182482</td>\n",
       "      <td>0.181159</td>\n",
       "    </tr>\n",
       "    <tr>\n",
       "      <td>5764</td>\n",
       "      <td>0.218978</td>\n",
       "      <td>0.181159</td>\n",
       "    </tr>\n",
       "  </tbody>\n",
       "</table>\n",
       "<p>5765 rows × 2 columns</p>\n",
       "</div>"
      ],
      "text/plain": [
       "             0         1\n",
       "0     0.218978  0.181159\n",
       "1     0.145985  0.181159\n",
       "2     0.182482  0.181159\n",
       "3     0.408759  0.326087\n",
       "4     0.255474  0.181159\n",
       "...        ...       ...\n",
       "5760  0.248175  0.181159\n",
       "5761  0.547445  0.181159\n",
       "5762  0.204380  0.181159\n",
       "5763  0.182482  0.181159\n",
       "5764  0.218978  0.181159\n",
       "\n",
       "[5765 rows x 2 columns]"
      ]
     },
     "execution_count": 31,
     "metadata": {},
     "output_type": "execute_result"
    }
   ],
   "source": [
    "pd.DataFrame([y_test_scaled[:,0], y_pred[:,0]]).transpose()"
   ]
  },
  {
   "cell_type": "markdown",
   "metadata": {},
   "source": [
    "## Linear Regression\n",
    "#### Alle Features"
   ]
  },
  {
   "cell_type": "code",
   "execution_count": 16,
   "metadata": {},
   "outputs": [],
   "source": [
    "reg = LinearRegression().fit(X_train_scaled, y_train_scaled)"
   ]
  },
  {
   "cell_type": "code",
   "execution_count": 17,
   "metadata": {},
   "outputs": [
    {
     "data": {
      "text/plain": [
       "array([[ 8.03502581e-02,  5.55111512e-17,  7.91989904e-02,\n",
       "        -1.87316950e-01, -2.32996945e-01]])"
      ]
     },
     "execution_count": 17,
     "metadata": {},
     "output_type": "execute_result"
    }
   ],
   "source": [
    "reg.coef_"
   ]
  },
  {
   "cell_type": "code",
   "execution_count": 18,
   "metadata": {},
   "outputs": [
    {
     "data": {
      "text/plain": [
       "array([0.42990041])"
      ]
     },
     "execution_count": 18,
     "metadata": {},
     "output_type": "execute_result"
    }
   ],
   "source": [
    "reg.intercept_"
   ]
  },
  {
   "cell_type": "code",
   "execution_count": 19,
   "metadata": {},
   "outputs": [],
   "source": [
    "y_pred_lin = reg.predict(X_test_scaled)"
   ]
  },
  {
   "cell_type": "code",
   "execution_count": 20,
   "metadata": {},
   "outputs": [
    {
     "data": {
      "text/plain": [
       "0.02143400395072975"
      ]
     },
     "execution_count": 20,
     "metadata": {},
     "output_type": "execute_result"
    }
   ],
   "source": [
    "mean_squared_error(y_test_scaled, y_pred_lin)"
   ]
  },
  {
   "cell_type": "markdown",
   "metadata": {},
   "source": [
    "#### Ein Feature"
   ]
  },
  {
   "cell_type": "code",
   "execution_count": 21,
   "metadata": {},
   "outputs": [],
   "source": [
    "reg_single = LinearRegression().fit(X_train['beds'].to_numpy().reshape(-1,1), y_train)"
   ]
  },
  {
   "cell_type": "code",
   "execution_count": 22,
   "metadata": {},
   "outputs": [],
   "source": [
    "y_pred_single = reg_single.predict(X_test['beds'].to_numpy().reshape(-1,1))"
   ]
  },
  {
   "cell_type": "code",
   "execution_count": 23,
   "metadata": {},
   "outputs": [
    {
     "data": {
      "text/plain": [
       "array([8.62388277])"
      ]
     },
     "execution_count": 23,
     "metadata": {},
     "output_type": "execute_result"
    }
   ],
   "source": [
    "reg_single.coef_"
   ]
  },
  {
   "cell_type": "code",
   "execution_count": 24,
   "metadata": {},
   "outputs": [
    {
     "data": {
      "text/plain": [
       "37.005659048657776"
      ]
     },
     "execution_count": 24,
     "metadata": {},
     "output_type": "execute_result"
    }
   ],
   "source": [
    "reg_single.intercept_"
   ]
  },
  {
   "cell_type": "code",
   "execution_count": 25,
   "metadata": {},
   "outputs": [
    {
     "data": {
      "text/plain": [
       "548.8408716230032"
      ]
     },
     "execution_count": 25,
     "metadata": {},
     "output_type": "execute_result"
    }
   ],
   "source": [
    "mean_squared_error(y_test, y_pred_single)"
   ]
  },
  {
   "cell_type": "code",
   "execution_count": 26,
   "metadata": {},
   "outputs": [
    {
     "data": {
      "image/png": "[encoded data removed]",
      "text/plain": [
       "<Figure size 432x288 with 1 Axes>"
      ]
     },
     "metadata": {},
     "output_type": "display_data"
    }
   ],
   "source": [
    "plt.scatter(X_train['beds'].to_numpy().reshape(-1,1), y_train, color = 'black')\n",
    "plt.plot(X_test['beds'].to_numpy().reshape(-1,1), y_pred_single, color='blue', linewidth=3)\n",
    "plt.xticks(())\n",
    "plt.yticks(())\n",
    "\n",
    "plt.show()"
   ]
  },
  {
   "cell_type": "code",
   "execution_count": null,
   "metadata": {},
   "outputs": [],
   "source": []
  }
 ],
 "metadata": {
  "kernelspec": {
   "display_name": "Python 3",
   "language": "python",
   "name": "python3"
  },
  "language_info": {
   "codemirror_mode": {
    "name": "ipython",
    "version": 3
   },
   "file_extension": ".py",
   "mimetype": "text/x-python",
   "name": "python",
   "nbconvert_exporter": "python",
   "pygments_lexer": "ipython3",
   "version": "3.7.1"
  }
 },
 "nbformat": 4,
 "nbformat_minor": 2
}
