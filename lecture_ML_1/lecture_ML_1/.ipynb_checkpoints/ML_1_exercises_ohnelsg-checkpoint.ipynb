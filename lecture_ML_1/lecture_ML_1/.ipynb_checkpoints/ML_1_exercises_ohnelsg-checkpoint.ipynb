{
 "cells": [
  {
   "cell_type": "markdown",
   "metadata": {
    "slideshow": {
     "slide_type": "slide"
    }
   },
   "source": [
    "<style>\n",
    "body {\n",
    "    font-size: 1.5em;\n",
    "} \n",
    "\n",
    ".rendered_html h1 {\n",
    "  font-size: 3.8em;\n",
    "}\n",
    "\n",
    ".rendered_html h2 {\n",
    "  font-size: 2.2em;\n",
    "}\n",
    "\n",
    ".rendered_html h3 {\n",
    "  font-size: 1.8em;\n",
    "}\n",
    "\n",
    ".rendered_html h4 {\n",
    "  font-size: 1.4em;\n",
    "}\n",
    "\n",
    "div.slides {\n",
    "width: 1920px;\n",
    "height: 1080px;\n",
    "}\n",
    "\n",
    "</style>\n",
    "\n",
    "\n",
    "# Übung zu *Intro: Machine Learning*\n"
   ]
  },
  {
   "cell_type": "markdown",
   "metadata": {
    "slideshow": {
     "slide_type": "subslide"
    }
   },
   "source": [
    "### Aufgabe 1:\n",
    "\n",
    "Welche der beiden Funktionen können Sie benutzen, um die Distanz zwischen zwei Strings zu berechnen? \n",
    "* A: Euklidische Distanz\n",
    "* B: Hamming-Distanz\n",
    "\n",
    "Welchen Wert würden Sie bekommen für den Abstand zwischen `s = 'cats'` und `t = 'dogs'`?"
   ]
  },
  {
   "cell_type": "markdown",
   "metadata": {
    "slideshow": {
     "slide_type": "subslide"
    }
   },
   "source": [
    "### Aufgabe 2:\n",
    "\n",
    "Berechnen Sie den Euklidischen Abstand jeweils zwischen $A=(1,3)$, $B=(2,3)$ und $C = (-1,4)$."
   ]
  },
  {
   "cell_type": "code",
   "execution_count": 31,
   "metadata": {
    "slideshow": {
     "slide_type": "subslide"
    }
   },
   "outputs": [
    {
     "name": "stdout",
     "output_type": "stream",
     "text": [
      "Populating the interactive namespace from numpy and matplotlib\n"
     ]
    }
   ],
   "source": [
    "import pandas as pd\n",
    "import matplotlib.pyplot as plt\n",
    "import seaborn as sns\n",
    "%pylab inline"
   ]
  },
  {
   "cell_type": "markdown",
   "metadata": {
    "slideshow": {
     "slide_type": "subslide"
    }
   },
   "source": [
    "### Aufgabe 3:\n",
    "\n",
    "Gegeben sei die folgende Datenmenge:"
   ]
  },
  {
   "cell_type": "code",
   "execution_count": 32,
   "metadata": {
    "slideshow": {
     "slide_type": "subslide"
    }
   },
   "outputs": [],
   "source": [
    "data = pd.DataFrame([[-1, 1, 'A'], [0, 2, 'B'], [1, 2, 'A'], [2, 1, 'A'], [-1,2, 'B'], [1,1, 'B'], \n",
    "                     [1,3, 'B'], [1, 0, 'B'], [2, 0, 'B'], [2, 2, 'A']], columns=['x1', 'x2', 'y'])"
   ]
  },
  {
   "cell_type": "code",
   "execution_count": 33,
   "metadata": {
    "slideshow": {
     "slide_type": "subslide"
    }
   },
   "outputs": [
    {
     "data": {
      "text/html": [
       "<div>\n",
       "<style scoped>\n",
       "    .dataframe tbody tr th:only-of-type {\n",
       "        vertical-align: middle;\n",
       "    }\n",
       "\n",
       "    .dataframe tbody tr th {\n",
       "        vertical-align: top;\n",
       "    }\n",
       "\n",
       "    .dataframe thead th {\n",
       "        text-align: right;\n",
       "    }\n",
       "</style>\n",
       "<table border=\"1\" class=\"dataframe\">\n",
       "  <thead>\n",
       "    <tr style=\"text-align: right;\">\n",
       "      <th></th>\n",
       "      <th>x1</th>\n",
       "      <th>x2</th>\n",
       "      <th>y</th>\n",
       "    </tr>\n",
       "  </thead>\n",
       "  <tbody>\n",
       "    <tr>\n",
       "      <th>0</th>\n",
       "      <td>-1</td>\n",
       "      <td>1</td>\n",
       "      <td>A</td>\n",
       "    </tr>\n",
       "    <tr>\n",
       "      <th>1</th>\n",
       "      <td>0</td>\n",
       "      <td>2</td>\n",
       "      <td>B</td>\n",
       "    </tr>\n",
       "    <tr>\n",
       "      <th>2</th>\n",
       "      <td>1</td>\n",
       "      <td>2</td>\n",
       "      <td>A</td>\n",
       "    </tr>\n",
       "    <tr>\n",
       "      <th>3</th>\n",
       "      <td>2</td>\n",
       "      <td>1</td>\n",
       "      <td>A</td>\n",
       "    </tr>\n",
       "    <tr>\n",
       "      <th>4</th>\n",
       "      <td>-1</td>\n",
       "      <td>2</td>\n",
       "      <td>B</td>\n",
       "    </tr>\n",
       "    <tr>\n",
       "      <th>5</th>\n",
       "      <td>1</td>\n",
       "      <td>1</td>\n",
       "      <td>B</td>\n",
       "    </tr>\n",
       "    <tr>\n",
       "      <th>6</th>\n",
       "      <td>1</td>\n",
       "      <td>3</td>\n",
       "      <td>B</td>\n",
       "    </tr>\n",
       "    <tr>\n",
       "      <th>7</th>\n",
       "      <td>1</td>\n",
       "      <td>0</td>\n",
       "      <td>B</td>\n",
       "    </tr>\n",
       "    <tr>\n",
       "      <th>8</th>\n",
       "      <td>2</td>\n",
       "      <td>0</td>\n",
       "      <td>B</td>\n",
       "    </tr>\n",
       "    <tr>\n",
       "      <th>9</th>\n",
       "      <td>2</td>\n",
       "      <td>2</td>\n",
       "      <td>A</td>\n",
       "    </tr>\n",
       "  </tbody>\n",
       "</table>\n",
       "</div>"
      ],
      "text/plain": [
       "   x1  x2  y\n",
       "0  -1   1  A\n",
       "1   0   2  B\n",
       "2   1   2  A\n",
       "3   2   1  A\n",
       "4  -1   2  B\n",
       "5   1   1  B\n",
       "6   1   3  B\n",
       "7   1   0  B\n",
       "8   2   0  B\n",
       "9   2   2  A"
      ]
     },
     "execution_count": 33,
     "metadata": {},
     "output_type": "execute_result"
    }
   ],
   "source": [
    "data"
   ]
  },
  {
   "cell_type": "markdown",
   "metadata": {
    "slideshow": {
     "slide_type": "subslide"
    }
   },
   "source": [
    "Betrachten Sie den Punkt (3,3). Welcher Klasse würde er durch den $3$-NN Algorithmus mit `data` als Trainingsmenge  zugeordnet werden? Wie sieht es aus mit dem Punkt (0,0)? Wie ist das Ergebnis, wenn Sie statt $k=3$ nun $k=5$ verwenden? Fertigen Sie jeweils Skizzen an."
   ]
  },
  {
   "cell_type": "markdown",
   "metadata": {
    "slideshow": {
     "slide_type": "subslide"
    }
   },
   "source": [
    "### Aufgabe 4:\n",
    "\n",
    "Worin besteht der Unterschied zwischen $k$-NN als Klassifikations- und $k$-NN als Regressionsalgorithmus?"
   ]
  },
  {
   "cell_type": "markdown",
   "metadata": {
    "slideshow": {
     "slide_type": "subslide"
    }
   },
   "source": [
    "### Aufgabe 5:\n",
    "\n",
    "Benötigt der $k$-NN Algorithmus normalerweise mehr Rechenaufwand in der Test-Phase als in der Trainingspahse?"
   ]
  },
  {
   "cell_type": "markdown",
   "metadata": {
    "slideshow": {
     "slide_type": "subslide"
    }
   },
   "source": [
    "### Aufgabe 6:\n",
    "\n",
    "Sie möchten einen $k$-NN Klassifikator für ein binäres Problem programmieren (d.h. Zielvariable kann genau zwei verschiedene Werte annehmen). Was ist eine sinnvolle Regel für die Wahl von $k$, um beim Majority Vote kein Unentschieden zu produzieren? Ist diese Regel auch sinnvoll, wenn Sie mehr als zwei Klassen haben?"
   ]
  },
  {
   "cell_type": "markdown",
   "metadata": {
    "slideshow": {
     "slide_type": "subslide"
    }
   },
   "source": [
    "### Aufgabe 7:\n",
    "\n",
    "Angenommen, Sie programmieren einen 1-NN Algorithmus und für einen Datenpunkt $x$ gibt es mehrere Datenpunkte, die den gleichen kleinsten Abstand zu $x$ haben. Wie können Sie das auflösen? "
   ]
  },
  {
   "cell_type": "markdown",
   "metadata": {
    "slideshow": {
     "slide_type": "subslide"
    }
   },
   "source": [
    "### Aufgabe 8:\n",
    "\n",
    "Welche Möglichkeiten sehen Sie, die Entscheidungsfindung des $k$-NN etwas differenzierter zu machen, so dass beispielsweise Datenpunkte, die näher dran sind, eine größere Rolle spielen?"
   ]
  },
  {
   "cell_type": "markdown",
   "metadata": {
    "slideshow": {
     "slide_type": "subslide"
    }
   },
   "source": [
    "### Aufgabe 9:\n",
    "\n",
    "Folge dem Code im Notebook für die Vorlesung, um den sklearn Wine-Datensatz in einen pandas DataFrame zu laden: http://scikit-learn.org/stable/modules/generated/sklearn.datasets.load_wine.html#sklearn.datasets.load_wine"
   ]
  },
  {
   "cell_type": "markdown",
   "metadata": {
    "slideshow": {
     "slide_type": "subslide"
    }
   },
   "source": [
    "### Aufgabe 10a (komplexer):\n",
    "\n",
    "Trainieren Sie auf dem Wine-Datensatz aus Aufgabe 9 einen 1-NN Klassifikations-Algorithmus mit zwei Variablen Ihrer Wahl. Denken Sie an Normalisierung der Daten. "
   ]
  },
  {
   "cell_type": "markdown",
   "metadata": {
    "slideshow": {
     "slide_type": "subslide"
    }
   },
   "source": [
    "### Aufgabe 10b (komplexer):\n",
    "\n",
    "Wiederholen Sie die Vorgehensweise in Aufgabe 10a mit einem anderen (deutlich größeren) Wert für $k$. Vergleichen Sie die Ergebnisse auf der Testmenge. Fällt Ihnen etwas auf?"
   ]
  }
 ],
 "metadata": {
  "celltoolbar": "Slideshow",
  "kernelspec": {
   "display_name": "Python 3",
   "language": "python",
   "name": "python3"
  },
  "language_info": {
   "codemirror_mode": {
    "name": "ipython",
    "version": 3
   },
   "file_extension": ".py",
   "mimetype": "text/x-python",
   "name": "python",
   "nbconvert_exporter": "python",
   "pygments_lexer": "ipython3",
   "version": "3.6.5"
  }
 },
 "nbformat": 4,
 "nbformat_minor": 2
}
