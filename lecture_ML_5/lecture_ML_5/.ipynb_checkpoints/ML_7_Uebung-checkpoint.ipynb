{
 "cells": [
  {
   "cell_type": "markdown",
   "metadata": {},
   "source": [
    "# Aufgaben zu SVM"
   ]
  },
  {
   "cell_type": "markdown",
   "metadata": {},
   "source": [
    "## Aufgabe 1\n",
    "\n",
    "Skizzieren SIe die Hyperebene $1 + 3X_1 − X_2= 0$. Zeichnen Sie ein, welche Punkte die Ungleichung $1 + 3X_1 − X_2 > 0$ und welche $1 + 3X_1 − X_2 < 0$ erfüllen."
   ]
  },
  {
   "cell_type": "markdown",
   "metadata": {},
   "source": [
    "### Lösung\n",
    "\n",
    "Die Gleichung beschreibt eine Gerade in 2D. Jede solche Gerade ist eindeutig festgelegt durch 2 Punkte, d.h. für eine Skizze reicht es aus, 2 Punkte zu finden, welche auf der Geraden liegen. Am einfachsten setzt man immer eine der beiden Koordinaten = 0; für $x_1=0$ ergibt sich $x_2= 1$, d.h. $P_1(0,1)$, und für $x_2=0$ erhalten wir $x_1=-1/3$, d.h. $P_2(-1/3,0)$.\n",
    "\n",
    "Die gegebenen Ungelichungen werden jeweils von den Punkten auf einer Seite der Geraden erfüllt. Welche Seite nun welche Ungleichung erfüllt, lässt sich am einfachsten dadurch rausfinden, dass man einen Punkt oberhalb bzw. unterhalb der Geraden einsetzt."
   ]
  },
  {
   "cell_type": "code",
   "execution_count": 10,
   "metadata": {},
   "outputs": [],
   "source": [
    "import numpy as np\n",
    "import matplotlib.pyplot as plt\n",
    "from matplotlib.lines import Line2D  "
   ]
  },
  {
   "cell_type": "code",
   "execution_count": 21,
   "metadata": {},
   "outputs": [
    {
     "data": {
      "image/png": "[encoded data removed]",
      "text/plain": [
       "<Figure size 432x288 with 1 Axes>"
      ]
     },
     "metadata": {},
     "output_type": "display_data"
    }
   ],
   "source": [
    "fig = plt.figure()\n",
    "ax = fig.add_subplot()\n",
    "x = np.linspace(-5, 5, 1000)\n",
    "plt.plot(x, 1 + 3*x, linestyle='solid', c='red')\n",
    "plt.plot(0, 1, 'bo'); # P_1\n",
    "plt.plot(-1/3, 0, 'bo'); # P_2\n"
   ]
  },
  {
   "cell_type": "markdown",
   "metadata": {},
   "source": [
    "## Aufgabe 2:\n",
    "\n",
    "Lineare Entscheidungsgrenzen in 2-Dim haben die Form $b + w_1X_1 + w_2 X_2= 0$. Skizzieren Sie die nicht-lineare Entscheidungsgrenze gegeben diurch $(1 + X_1)^2 + (2−X_2)^2=4$. Zeichen Sie ein, welche Punkte die Ungleichung $(1 + X_1)^2 + (2−X_2)^2>4$ erfüllen?"
   ]
  },
  {
   "cell_type": "markdown",
   "metadata": {},
   "source": [
    "### Lösung:\n",
    "\n",
    "Die Gleichung beschreibt einen Kreis mit Radius 2 um den Mittelpunkt $(-1,2)$. Vorgehen bzgl. der Ungleichungen wie in Aufgabe davor."
   ]
  },
  {
   "cell_type": "markdown",
   "metadata": {},
   "source": [
    "# Aufgaben zu Baum-Methoden"
   ]
  },
  {
   "cell_type": "markdown",
   "metadata": {},
   "source": [
    "## Aufgabe 1\n",
    "\n",
    "Konstruieren Sie ein Beispiel für einen Datensatz mit 2 Features und erstellen Sie eine Partition des Feature-Raums in 6 Rechtecke, welche durch die Anwendung eines Decision Tree Verfahrens (*recursive binary split*) entstanden sein konnte. Labeln Sie im Graphen die Rechtecke mit $R_1, \\ldots, R_6$ sowie die zugehörigen Schwellwerte."
   ]
  },
  {
   "cell_type": "markdown",
   "metadata": {},
   "source": [
    "### Lösung:\n",
    "\n",
    "Nehme z.B. die Skizze zu Aufgabe 3 links, und unterteile das rechte Rechteck vertikal bei $X_1 = 2$."
   ]
  },
  {
   "cell_type": "markdown",
   "metadata": {},
   "source": [
    "## Aufgabe 2\n",
    "\n",
    "Sie haben ein Ensemble (Bagged Trees oder Random Forest) bestehend aus 10 Entscheidungsbäumen für Klassifikation eines Datensatzes mit 2 Klassen, *grün* und *rot*. Für einen Datenpunkt $x$ liefern die 10 Bäume folgende Wahrscheinlichkeiten für die Zugehörigkeit zu Klasse *rot*: `(0.1, 0.2, 0.15, 0.55, 0.6, 0.2, 0.75, 0.7, 0.6, 0.5)`. Es gibt nun 2 Verfahren, um die Ergebnisse der einzelnen Bäume zu kombinieren: Mehrheitsvotum sowie Mittelwert der Wahrscheinlichkeiten und danach die Zuordnung zur Klasse mit Wahrscheinlichkeit > 0.5. Zu welchem Ergebnis würden die beiden Verfahren jeweils führen?"
   ]
  },
  {
   "cell_type": "markdown",
   "metadata": {},
   "source": [
    "### Lösung:\n",
    "\n",
    "* Mehrheitsvotum: 5 der 10 Bäume prognostizieren eine Wahrscheinlichkeit $>0.5$ für die Klasse *rot*, 4 haben Wahrscheinlichkeiten $<0.5$. Es kommt nun darauf an, wie mit dem Wert 0.5 umgegangen wird. Z.B., wird er igniriert, steht es 5:4 für *rot*, also *rot* gewinnt, wird der Wert zu *rot* gezählt ebenso, wird er zufällig zu einer der beiden Klassen hinzugefügt, kommt es auf den Ausgang an. Ebenso käme es bei einem Unentschieden zwischen *rot* und *grün* auf die Entscheidungsfindung an, z.B. zufällige Ziehung einer der beiden Klassen.\n",
    "\n",
    "* Mittelwert der Wahrscheinlichkeiten: Summe der Werte ist gleich 4.35. Gemittelt durch 10 ergibt das 0.435 und ist somit < 0.5. D.h. Entscheidung gegen *rot* und für *grün*."
   ]
  },
  {
   "cell_type": "markdown",
   "metadata": {},
   "source": [
    "## Aufgabe 3"
   ]
  },
  {
   "cell_type": "markdown",
   "metadata": {},
   "source": [
    "(a) Skizzieren Sie einen Entscheidungsbaum für Regression basierend auf der Partition des Feature-Raums im unteren Bild links. Die Zahlen in den Rechtecken sind die Mittelwerte der Zielvariable.\n",
    "\n",
    "(b) Skizzieren Sie eine Partition des Feature-Raums zum Entscheidungsbaum im unteren Bild rechts.\n",
    "\n",
    "-------\n",
    "<figure>\n",
    "    <img src=\"Trees_Aufgabe3.png\" alt=\"Drawing\" style=\"width: 600px;\"/> \n",
    "    <br>\n",
    "</figure>"
   ]
  },
  {
   "cell_type": "markdown",
   "metadata": {},
   "source": [
    "### Lösung:\n",
    "--------\n",
    "<figure>\n",
    "    <img src=\"Skizze_Trees_Aufgabe3.JPG\" alt=\"Drawing\" style=\"width: 600px;\"/> \n",
    "    <br>\n",
    "</figure>"
   ]
  },
  {
   "cell_type": "code",
   "execution_count": null,
   "metadata": {},
   "outputs": [],
   "source": []
  }
 ],
 "metadata": {
  "kernelspec": {
   "display_name": "Python 3",
   "language": "python",
   "name": "python3"
  },
  "language_info": {
   "codemirror_mode": {
    "name": "ipython",
    "version": 3
   },
   "file_extension": ".py",
   "mimetype": "text/x-python",
   "name": "python",
   "nbconvert_exporter": "python",
   "pygments_lexer": "ipython3",
   "version": "3.6.5"
  }
 },
 "nbformat": 4,
 "nbformat_minor": 2
}
