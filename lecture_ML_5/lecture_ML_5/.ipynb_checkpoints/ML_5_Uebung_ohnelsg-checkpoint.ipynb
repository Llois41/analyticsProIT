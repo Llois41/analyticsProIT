{
 "cells": [
  {
   "cell_type": "markdown",
   "metadata": {},
   "source": [
    "# Aufgaben zu Baum-Methoden"
   ]
  },
  {
   "cell_type": "markdown",
   "metadata": {},
   "source": [
    "## Aufgabe 1\n",
    "\n",
    "Konstruieren Sie ein Beispiel für einen Datensatz mit 2 Features und erstellen Sie eine Partition des Feature-Raums in 6 Rechtecke, welche durch die Anwendung eines Decision Tree Verfahrens (*recursive binary split*) entstanden sein konnte. Labeln Sie im Graphen die Rechtecke mit $R_1, \\ldots, R_6$ sowie die zugehörigen Schwellwerte."
   ]
  },
  {
   "cell_type": "markdown",
   "metadata": {},
   "source": [
    "## Aufgabe 2\n",
    "\n",
    "Sie haben ein Ensemble (Bagged Trees oder Random Forest) bestehend aus 10 Entscheidungsbäumen für Klassifikation eines Datensatzes mit 2 Klassen, *grün* und *rot*. Für einen Datenpunkt $x$ liefern die 10 Bäume folgende Wahrscheinlichkeiten für die Zugehörigkeit zu Klasse *rot*: `(0.1, 0.2, 0.15, 0.55, 0.6, 0.2, 0.75, 0.7, 0.6, 0.5)`. Es gibt nun 2 Verfahren, um die Ergebnisse der einzelnen Bäume zu kombinieren: Mehrheitsvotum sowie Mittelwert der Wahrscheinlichkeiten und danach die Zuordnung zur Klasse mit Wahrscheinlichkeit > 0.5. Zu welchem Ergebnis würden die beiden Verfahren jeweils führen?"
   ]
  },
  {
   "cell_type": "markdown",
   "metadata": {},
   "source": [
    "### Mehrheitsvotum:\n",
    "- 5x <=0,5\n",
    "- 5x   0,5<\n",
    "=> Zuordnung unbekannt?\n",
    "\n",
    "## Mittelwert:\n",
    "- = 0,435\n",
    "=> Zuordung zu grün\n"
   ]
  },
  {
   "cell_type": "markdown",
   "metadata": {},
   "source": [
    "## Aufgabe 3"
   ]
  },
  {
   "cell_type": "markdown",
   "metadata": {},
   "source": [
    "(a) Skizzieren Sie einen Entscheidungsbaum für Regression basierend auf der Partition des Feature-Raums im unteren Bild links. Die Zahlen in den Rechtecken sind die Mittelwerte der Zielvariable.\n",
    "\n",
    "(b) Skizzieren Sie eine Partition des Feature-Raums zum Entscheidungsbaum im unteren Bild rechts.\n",
    "\n",
    "-------\n",
    "<figure>\n",
    "    <img src=\"Trees_Aufgabe3.png\" alt=\"Drawing\" style=\"width: 600px;\"/> \n",
    "    <br>\n",
    "</figure>"
   ]
  }
 ],
 "metadata": {
  "kernelspec": {
   "display_name": "Python 3",
   "language": "python",
   "name": "python3"
  },
  "language_info": {
   "codemirror_mode": {
    "name": "ipython",
    "version": 3
   },
   "file_extension": ".py",
   "mimetype": "text/x-python",
   "name": "python",
   "nbconvert_exporter": "python",
   "pygments_lexer": "ipython3",
   "version": "3.7.4"
  }
 },
 "nbformat": 4,
 "nbformat_minor": 2
}
