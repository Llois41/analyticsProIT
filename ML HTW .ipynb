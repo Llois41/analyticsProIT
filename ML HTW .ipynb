{
 "cells": [
  {
   "cell_type": "markdown",
   "metadata": {},
   "source": [
    "# Machine Learning "
   ]
  },
  {
   "cell_type": "code",
   "execution_count": 1,
   "metadata": {
    "collapsed": true
   },
   "outputs": [],
   "source": [
    "import pandas as pd\n",
    "import matplotlib.pyplot as plt\n",
    "from sklearn.neighbors import NearestNeighbors, KNeighborsRegressor\n",
    "from sklearn import preprocessing\n",
    "from sklearn.preprocessing import LabelEncoder\n",
    "from sklearn.model_selection import train_test_split\n",
    "import numpy as np\n",
    "from sklearn.metrics import mean_squared_error\n",
    "from sklearn.linear_model import LinearRegression"
   ]
  },
  {
   "cell_type": "markdown",
   "metadata": {},
   "source": [
    "# Data Cleaning "
   ]
  },
  {
   "cell_type": "code",
   "execution_count": 2,
   "metadata": {
    "collapsed": true
   },
   "outputs": [],
   "source": [
    "def price_to_float(price):\n",
    "    price = float(price.replace('$','').replace(',',''))\n",
    "    return price"
   ]
  },
  {
   "cell_type": "code",
   "execution_count": 3,
   "metadata": {
    "collapsed": true
   },
   "outputs": [],
   "source": [
    "def outlier(df, column):\n",
    "    df[column] = df[column]._get_numeric_data()\n",
    "    q1 = df[column].quantile(0.25)\n",
    "    print(q1)\n",
    "    q3 = df[column].quantile(0.75)\n",
    "    print(q3)\n",
    "    iqr = q3 - q1\n",
    "\n",
    "    lower_bound = q1 -(1.5 * iqr) \n",
    "    upper_bound = q3 +(1.5 * iqr)\n",
    "\n",
    "    df = df.drop(df[df[column] < lower_bound].index)\n",
    "    df = df.drop(df[df[column] > upper_bound].index)\n",
    "            \n",
    "    \n",
    "    return(df)\n"
   ]
  },
  {
   "cell_type": "code",
   "execution_count": 4,
   "metadata": {
    "collapsed": true
   },
   "outputs": [],
   "source": [
    "listings = pd.read_csv('/Users/victorkausch/Desktop/Data Analytics/listings.csv')\n",
    "original = listings.copy()"
   ]
  },
  {
   "cell_type": "code",
   "execution_count": 5,
   "metadata": {
    "collapsed": true
   },
   "outputs": [],
   "source": [
    "listings['price'] = listings['price'].map(price_to_float)"
   ]
  },
  {
   "cell_type": "code",
   "execution_count": 6,
   "metadata": {
    "collapsed": true
   },
   "outputs": [],
   "source": [
    "ATTRS = ['beds', 'bedrooms', 'room_type', 'amenities', 'price']"
   ]
  },
  {
   "cell_type": "code",
   "execution_count": 7,
   "metadata": {
    "collapsed": true,
    "scrolled": true
   },
   "outputs": [],
   "source": [
    "df = listings[ATTRS]"
   ]
  },
  {
   "cell_type": "code",
   "execution_count": 8,
   "metadata": {},
   "outputs": [
    {
     "name": "stdout",
     "output_type": "stream",
     "text": [
      "beds\n",
      "29\n",
      "bedrooms\n",
      "23\n",
      "room_type\n",
      "0\n",
      "amenities\n",
      "0\n",
      "price\n",
      "0\n"
     ]
    }
   ],
   "source": [
    "# check number of missing values per column\n",
    "for col in df.columns:\n",
    "    print(col)\n",
    "    print(pd.isnull(df[col]).sum())"
   ]
  },
  {
   "cell_type": "code",
   "execution_count": 9,
   "metadata": {},
   "outputs": [
    {
     "name": "stderr",
     "output_type": "stream",
     "text": [
      "/Users/victorkausch/anaconda3/lib/python3.6/site-packages/ipykernel_launcher.py:1: SettingWithCopyWarning: \n",
      "A value is trying to be set on a copy of a slice from a DataFrame\n",
      "\n",
      "See the caveats in the documentation: http://pandas.pydata.org/pandas-docs/stable/indexing.html#indexing-view-versus-copy\n",
      "  \"\"\"Entry point for launching an IPython kernel.\n"
     ]
    }
   ],
   "source": [
    "df.dropna(inplace=True)"
   ]
  },
  {
   "cell_type": "markdown",
   "metadata": {},
   "source": [
    "# Feature Engineering"
   ]
  },
  {
   "cell_type": "code",
   "execution_count": 10,
   "metadata": {},
   "outputs": [
    {
     "data": {
      "text/plain": [
       "'{TV,Wifi,Kitchen,Elevator,\"Indoor fireplace\",Heating,\"Family/kid friendly\",Washer,\"Smoke detector\",Essentials,Hangers,Iron,\"High chair\",\"Children’s books and toys\",\"Pack ’n Play/travel crib\",\"Hot water\",Refrigerator,\"Dishes and silverware\",\"Long term stays allowed\"}'"
      ]
     },
     "execution_count": 10,
     "metadata": {},
     "output_type": "execute_result"
    }
   ],
   "source": [
    "df.loc[11,\"amenities\"]\n",
    "# .loc function calls on the row number and a specific column "
   ]
  },
  {
   "cell_type": "code",
   "execution_count": 11,
   "metadata": {
    "collapsed": true
   },
   "outputs": [],
   "source": [
    "am = df.loc[11,\"amenities\"]"
   ]
  },
  {
   "cell_type": "code",
   "execution_count": 12,
   "metadata": {},
   "outputs": [
    {
     "data": {
      "text/plain": [
       "['TV',\n",
       " 'Wifi',\n",
       " 'Kitchen',\n",
       " 'Elevator',\n",
       " '\"Indoor fireplace\"',\n",
       " 'Heating',\n",
       " '\"Family/kid friendly\"',\n",
       " 'Washer',\n",
       " '\"Smoke detector\"',\n",
       " 'Essentials',\n",
       " 'Hangers',\n",
       " 'Iron',\n",
       " '\"High chair\"',\n",
       " '\"Children’s books and toys\"',\n",
       " '\"Pack ’n Play/travel crib\"',\n",
       " '\"Hot water\"',\n",
       " 'Refrigerator',\n",
       " '\"Dishes and silverware\"',\n",
       " '\"Long term stays allowed\"']"
      ]
     },
     "execution_count": 12,
     "metadata": {},
     "output_type": "execute_result"
    }
   ],
   "source": [
    "am.replace(\"{\",\"\").replace(\"}\",\"\").split(\",\")"
   ]
  },
  {
   "cell_type": "code",
   "execution_count": 13,
   "metadata": {
    "collapsed": true
   },
   "outputs": [],
   "source": [
    "def clean_amenities(a):\n",
    "    return a.replace(\"{\",\"\").replace(\"}\",\"\").split(\",\")\n",
    "\n",
    "# function for cleaning the list within the amenities column "
   ]
  },
  {
   "cell_type": "code",
   "execution_count": 14,
   "metadata": {},
   "outputs": [
    {
     "name": "stderr",
     "output_type": "stream",
     "text": [
      "/Users/victorkausch/anaconda3/lib/python3.6/site-packages/ipykernel_launcher.py:1: SettingWithCopyWarning: \n",
      "A value is trying to be set on a copy of a slice from a DataFrame.\n",
      "Try using .loc[row_indexer,col_indexer] = value instead\n",
      "\n",
      "See the caveats in the documentation: http://pandas.pydata.org/pandas-docs/stable/indexing.html#indexing-view-versus-copy\n",
      "  \"\"\"Entry point for launching an IPython kernel.\n"
     ]
    }
   ],
   "source": [
    "df[\"amenities_list\"] = df[\"amenities\"].map(clean_amenities)\n",
    "\n",
    "#map function copies the previous above mentioned function onto the whole column "
   ]
  },
  {
   "cell_type": "code",
   "execution_count": 15,
   "metadata": {
    "scrolled": true
   },
   "outputs": [
    {
     "data": {
      "text/plain": [
       "array([list(['\"Cable TV\"', 'Internet', 'Wifi', '\"Free street parking\"', 'Heating', '\"Family/kid friendly\"', 'Washer', '\"Smoke detector\"', 'Essentials', '\"Lock on bedroom door\"', '\"Hair dryer\"', '\"Hot water\"', '\"Host greets you\"']),\n",
       "       list(['TV', '\"Cable TV\"', 'Wifi', 'Kitchen', 'Gym', 'Heating', '\"Family/kid friendly\"', '\"Smoke detector\"', 'Essentials', 'Shampoo', '\"Lock on bedroom door\"', 'Hangers', '\"Hair dryer\"', 'Iron', '\"Laptop friendly workspace\"', '\"Self check-in\"', 'Lockbox', '\"Private living room\"', 'Bathtub', '\"Hot water\"', '\"Bed linens\"', '\"Extra pillows and blankets\"', 'Microwave', '\"Coffee maker\"', 'Refrigerator', 'Dishwasher', '\"Dishes and silverware\"', '\"Cooking basics\"', 'Stove', '\"Luggage dropoff allowed\"', '\"Long term stays allowed\"']),\n",
       "       list(['Internet', 'Wifi', 'Kitchen', '\"Buzzer/wireless intercom\"', 'Heating', '\"Family/kid friendly\"', 'Washer', '\"Smoke detector\"', '\"Carbon monoxide detector\"', '\"First aid kit\"', '\"Safety card\"', '\"Fire extinguisher\"', 'Essentials', 'Shampoo', '\"24-hour check-in\"', 'Hangers', '\"Hair dryer\"', 'Iron', '\"Laptop friendly workspace\"']),\n",
       "       ...,\n",
       "       list(['Wifi', 'Kitchen', '\"Free parking on premises\"', '\"Pets allowed\"', 'Heating', 'Washer', '\"First aid kit\"', 'Essentials', '\"Laptop friendly workspace\"', '\"Hot water\"']),\n",
       "       list(['TV', 'Wifi', 'Kitchen', '\"Smoking allowed\"', '\"Pets allowed\"', 'Heating', 'Washer', '\"Smoke detector\"', 'Essentials', '\"Hair dryer\"']),\n",
       "       list(['TV', 'Wifi', 'Kitchen', '\"Free street parking\"', 'Heating', 'Washer', '\"Smoke detector\"', '\"First aid kit\"', 'Essentials', 'Shampoo', 'Hangers', '\"Hair dryer\"', '\"Laptop friendly workspace\"', '\"Hot water\"', '\"Bed linens\"', '\"Extra pillows and blankets\"', '\"Ethernet connection\"', '\"Coffee maker\"', 'Refrigerator', '\"Dishes and silverware\"', '\"Cooking basics\"', 'Oven', 'Stove', '\"Patio or balcony\"', '\"Luggage dropoff allowed\"', '\"Host greets you\"'])],\n",
       "      dtype=object)"
      ]
     },
     "execution_count": 15,
     "metadata": {},
     "output_type": "execute_result"
    }
   ],
   "source": [
    "df[\"amenities_list\"].values"
   ]
  },
  {
   "cell_type": "code",
   "execution_count": 16,
   "metadata": {
    "collapsed": true
   },
   "outputs": [],
   "source": [
    "def flatten_nested_list(nested_list):\n",
    "    return [item for sub_list in nested_list for item in sub_list]"
   ]
  },
  {
   "cell_type": "code",
   "execution_count": 17,
   "metadata": {
    "collapsed": true
   },
   "outputs": [],
   "source": [
    "amenities_flat = flatten_nested_list(df[\"amenities_list\"].values)"
   ]
  },
  {
   "cell_type": "code",
   "execution_count": 18,
   "metadata": {},
   "outputs": [
    {
     "data": {
      "text/plain": [
       "['\"Cable TV\"',\n",
       " 'Internet',\n",
       " 'Wifi',\n",
       " '\"Free street parking\"',\n",
       " 'Heating',\n",
       " '\"Family/kid friendly\"',\n",
       " 'Washer',\n",
       " '\"Smoke detector\"',\n",
       " 'Essentials',\n",
       " '\"Lock on bedroom door\"',\n",
       " '\"Hair dryer\"',\n",
       " '\"Hot water\"',\n",
       " '\"Host greets you\"',\n",
       " 'TV',\n",
       " '\"Cable TV\"',\n",
       " 'Wifi',\n",
       " 'Kitchen',\n",
       " 'Gym',\n",
       " 'Heating',\n",
       " '\"Family/kid friendly\"',\n",
       " '\"Smoke detector\"',\n",
       " 'Essentials',\n",
       " 'Shampoo',\n",
       " '\"Lock on bedroom door\"',\n",
       " 'Hangers',\n",
       " '\"Hair dryer\"',\n",
       " 'Iron',\n",
       " '\"Laptop friendly workspace\"',\n",
       " '\"Self check-in\"',\n",
       " 'Lockbox',\n",
       " '\"Private living room\"',\n",
       " 'Bathtub',\n",
       " '\"Hot water\"',\n",
       " '\"Bed linens\"',\n",
       " '\"Extra pillows and blankets\"',\n",
       " 'Microwave',\n",
       " '\"Coffee maker\"',\n",
       " 'Refrigerator',\n",
       " 'Dishwasher',\n",
       " '\"Dishes and silverware\"',\n",
       " '\"Cooking basics\"',\n",
       " 'Stove',\n",
       " '\"Luggage dropoff allowed\"',\n",
       " '\"Long term stays allowed\"',\n",
       " 'Internet',\n",
       " 'Wifi',\n",
       " 'Kitchen',\n",
       " '\"Buzzer/wireless intercom\"',\n",
       " 'Heating',\n",
       " '\"Family/kid friendly\"',\n",
       " 'Washer',\n",
       " '\"Smoke detector\"',\n",
       " '\"Carbon monoxide detector\"',\n",
       " '\"First aid kit\"',\n",
       " '\"Safety card\"',\n",
       " '\"Fire extinguisher\"',\n",
       " 'Essentials',\n",
       " 'Shampoo',\n",
       " '\"24-hour check-in\"',\n",
       " 'Hangers',\n",
       " '\"Hair dryer\"',\n",
       " 'Iron',\n",
       " '\"Laptop friendly workspace\"',\n",
       " 'Internet',\n",
       " 'Wifi',\n",
       " '\"Pets live on this property\"',\n",
       " 'Cat(s)',\n",
       " '\"Free street parking\"',\n",
       " '\"Buzzer/wireless intercom\"',\n",
       " 'Heating',\n",
       " 'Washer',\n",
       " '\"Smoke detector\"',\n",
       " '\"Carbon monoxide detector\"',\n",
       " 'Essentials',\n",
       " 'Shampoo',\n",
       " 'Hangers',\n",
       " '\"Hair dryer\"',\n",
       " 'Iron',\n",
       " '\"Laptop friendly workspace\"',\n",
       " '\"translation missing: en.hosting_amenity_49\"',\n",
       " '\"translation missing: en.hosting_amenity_50\"',\n",
       " '\"Hot water\"',\n",
       " '\"Bed linens\"',\n",
       " '\"Extra pillows and blankets\"',\n",
       " '\"Luggage dropoff allowed\"',\n",
       " '\"Long term stays allowed\"',\n",
       " '\"Host greets you\"',\n",
       " 'TV',\n",
       " '\"Cable TV\"',\n",
       " 'Internet',\n",
       " 'Wifi',\n",
       " '\"Air conditioning\"',\n",
       " 'Kitchen',\n",
       " 'Elevator',\n",
       " '\"Buzzer/wireless intercom\"',\n",
       " 'Heating',\n",
       " 'Washer',\n",
       " 'Dryer',\n",
       " '\"Smoke detector\"',\n",
       " '\"Carbon monoxide detector\"',\n",
       " 'Essentials',\n",
       " 'Shampoo',\n",
       " 'Hangers',\n",
       " '\"Hair dryer\"',\n",
       " 'Iron',\n",
       " '\"Laptop friendly workspace\"',\n",
       " '\"Hot water\"',\n",
       " '\"Bed linens\"',\n",
       " 'Other',\n",
       " 'Wifi',\n",
       " 'Heating',\n",
       " '\"Family/kid friendly\"',\n",
       " 'Essentials',\n",
       " 'Shampoo',\n",
       " 'Hangers',\n",
       " '\"Hair dryer\"',\n",
       " '\"Laptop friendly workspace\"',\n",
       " '\"translation missing: en.hosting_amenity_50\"',\n",
       " '\"Hot water\"',\n",
       " '\"Bed linens\"',\n",
       " '\"Extra pillows and blankets\"',\n",
       " 'Refrigerator',\n",
       " '\"Single level home\"',\n",
       " '\"Host greets you\"',\n",
       " 'TV',\n",
       " '\"Cable TV\"',\n",
       " 'Internet',\n",
       " 'Wifi',\n",
       " 'Kitchen',\n",
       " '\"Paid parking off premises\"',\n",
       " 'Elevator',\n",
       " '\"Buzzer/wireless intercom\"',\n",
       " 'Heating',\n",
       " '\"Family/kid friendly\"',\n",
       " 'Washer',\n",
       " 'Dryer',\n",
       " '\"Smoke detector\"',\n",
       " 'Essentials',\n",
       " 'Hangers',\n",
       " '\"Hair dryer\"',\n",
       " 'Iron',\n",
       " 'Bathtub',\n",
       " '\"High chair\"',\n",
       " '\"Children’s books and toys\"',\n",
       " '\"Babysitter recommendations\"',\n",
       " 'Crib',\n",
       " '\"Pack ’n Play/travel crib\"',\n",
       " '\"Room-darkening shades\"',\n",
       " '\"Children’s dinnerware\"',\n",
       " '\"Hot water\"',\n",
       " '\"Bed linens\"',\n",
       " 'Microwave',\n",
       " '\"Coffee maker\"',\n",
       " 'Refrigerator',\n",
       " 'Dishwasher',\n",
       " '\"Dishes and silverware\"',\n",
       " '\"Cooking basics\"',\n",
       " 'Oven',\n",
       " 'Stove',\n",
       " '\"Luggage dropoff allowed\"',\n",
       " 'Other',\n",
       " 'TV',\n",
       " 'Internet',\n",
       " 'Wifi',\n",
       " 'Kitchen',\n",
       " '\"Buzzer/wireless intercom\"',\n",
       " 'Heating',\n",
       " 'Washer',\n",
       " '\"Smoke detector\"',\n",
       " 'Hangers',\n",
       " '\"Private entrance\"',\n",
       " '\"Hot water\"',\n",
       " '\"Ethernet connection\"',\n",
       " '\"Host greets you\"',\n",
       " 'TV',\n",
       " '\"Cable TV\"',\n",
       " 'Internet',\n",
       " 'Wifi',\n",
       " 'Kitchen',\n",
       " '\"Smoking allowed\"',\n",
       " 'Heating',\n",
       " 'Washer',\n",
       " 'Dryer',\n",
       " 'TV',\n",
       " 'Wifi',\n",
       " 'Kitchen',\n",
       " '\"Buzzer/wireless intercom\"',\n",
       " 'Heating',\n",
       " '\"Family/kid friendly\"',\n",
       " 'Washer',\n",
       " '\"Smoke detector\"',\n",
       " '\"First aid kit\"',\n",
       " 'Essentials',\n",
       " 'Shampoo',\n",
       " 'Hangers',\n",
       " '\"Hair dryer\"',\n",
       " 'Iron',\n",
       " '\"Laptop friendly workspace\"',\n",
       " '\"translation missing: en.hosting_amenity_50\"',\n",
       " '\"High chair\"',\n",
       " '\"Children’s books and toys\"',\n",
       " '\"Pack ’n Play/travel crib\"',\n",
       " '\"Room-darkening shades\"',\n",
       " 'TV',\n",
       " 'Wifi',\n",
       " 'Kitchen',\n",
       " 'Elevator',\n",
       " '\"Indoor fireplace\"',\n",
       " 'Heating',\n",
       " '\"Family/kid friendly\"',\n",
       " 'Washer',\n",
       " '\"Smoke detector\"',\n",
       " 'Essentials',\n",
       " 'Hangers',\n",
       " 'Iron',\n",
       " '\"High chair\"',\n",
       " '\"Children’s books and toys\"',\n",
       " '\"Pack ’n Play/travel crib\"',\n",
       " '\"Hot water\"',\n",
       " 'Refrigerator',\n",
       " '\"Dishes and silverware\"',\n",
       " '\"Long term stays allowed\"',\n",
       " 'TV',\n",
       " 'Internet',\n",
       " 'Wifi',\n",
       " 'Kitchen',\n",
       " '\"Buzzer/wireless intercom\"',\n",
       " 'Heating',\n",
       " '\"Family/kid friendly\"',\n",
       " 'Washer',\n",
       " 'Dryer',\n",
       " 'Essentials',\n",
       " 'Shampoo',\n",
       " 'Hangers',\n",
       " '\"Hair dryer\"',\n",
       " 'Iron',\n",
       " '\"Laptop friendly workspace\"',\n",
       " '\"translation missing: en.hosting_amenity_50\"',\n",
       " 'Bathtub',\n",
       " '\"Children’s books and toys\"',\n",
       " '\"Pack ’n Play/travel crib\"',\n",
       " '\"Cable TV\"',\n",
       " 'Internet',\n",
       " 'Wifi',\n",
       " 'Kitchen',\n",
       " '\"Pets allowed\"',\n",
       " '\"Free street parking\"',\n",
       " 'Heating',\n",
       " '\"Family/kid friendly\"',\n",
       " 'Washer',\n",
       " 'Essentials',\n",
       " '\"24-hour check-in\"',\n",
       " 'Hangers',\n",
       " '\"Hair dryer\"',\n",
       " 'Iron',\n",
       " '\"Laptop friendly workspace\"',\n",
       " '\"Hot water\"',\n",
       " '\"Host greets you\"',\n",
       " 'TV',\n",
       " 'Internet',\n",
       " 'Wifi',\n",
       " '\"Wheelchair accessible\"',\n",
       " 'Kitchen',\n",
       " '\"Buzzer/wireless intercom\"',\n",
       " 'Heating',\n",
       " '\"Family/kid friendly\"',\n",
       " 'Washer',\n",
       " '\"First aid kit\"',\n",
       " '\"Fire extinguisher\"',\n",
       " 'Essentials',\n",
       " '\"24-hour check-in\"',\n",
       " 'Hangers',\n",
       " '\"Hair dryer\"',\n",
       " 'Iron',\n",
       " '\"Laptop friendly workspace\"',\n",
       " 'Bathtub',\n",
       " '\"High chair\"',\n",
       " '\"Children’s books and toys\"',\n",
       " 'Crib',\n",
       " '\"Pack ’n Play/travel crib\"',\n",
       " '\"Children’s dinnerware\"',\n",
       " '\"Hot water\"',\n",
       " 'Microwave',\n",
       " '\"Coffee maker\"',\n",
       " 'Refrigerator',\n",
       " 'Dishwasher',\n",
       " '\"Dishes and silverware\"',\n",
       " '\"Cooking basics\"',\n",
       " 'Oven',\n",
       " 'Stove',\n",
       " '\"Single level home\"',\n",
       " '\"Garden or backyard\"',\n",
       " 'TV',\n",
       " 'Wifi',\n",
       " 'Kitchen',\n",
       " '\"Free street parking\"',\n",
       " 'Heating',\n",
       " '\"Family/kid friendly\"',\n",
       " 'Essentials',\n",
       " '\"Lock on bedroom door\"',\n",
       " 'Hangers',\n",
       " '\"Hair dryer\"',\n",
       " 'Iron',\n",
       " '\"Laptop friendly workspace\"',\n",
       " '\"Private living room\"',\n",
       " 'Bathtub',\n",
       " '\"Baby bath\"',\n",
       " '\"High chair\"',\n",
       " 'Crib',\n",
       " '\"Pack ’n Play/travel crib\"',\n",
       " '\"Room-darkening shades\"',\n",
       " '\"Hot water\"',\n",
       " '\"Bed linens\"',\n",
       " '\"Extra pillows and blankets\"',\n",
       " 'Microwave',\n",
       " '\"Coffee maker\"',\n",
       " 'Refrigerator',\n",
       " '\"Dishes and silverware\"',\n",
       " '\"Cooking basics\"',\n",
       " 'Stove',\n",
       " '\"Long term stays allowed\"',\n",
       " '\"Wide hallways\"',\n",
       " '\"Wide entrance for guests\"',\n",
       " '\"Well-lit path to entrance\"',\n",
       " '\"No stairs or steps to enter\"',\n",
       " '\"Wide entrance\"',\n",
       " '\"Accessible-height bed\"',\n",
       " '\"Wide doorway to guest bathroom\"',\n",
       " '\"Host greets you\"',\n",
       " '\"Handheld shower head\"',\n",
       " 'Internet',\n",
       " 'Wifi',\n",
       " '\"Wheelchair accessible\"',\n",
       " 'Kitchen',\n",
       " '\"Paid parking off premises\"',\n",
       " '\"Smoking allowed\"',\n",
       " '\"Pets allowed\"',\n",
       " '\"Washer / Dryer\"',\n",
       " 'Elevator',\n",
       " '\"Buzzer/wireless intercom\"',\n",
       " 'Heating',\n",
       " 'Washer',\n",
       " 'Dryer',\n",
       " 'Essentials',\n",
       " 'Hangers',\n",
       " '\"Hair dryer\"',\n",
       " 'Iron',\n",
       " '\"Hot water\"',\n",
       " 'Other',\n",
       " 'TV',\n",
       " '\"Cable TV\"',\n",
       " 'Internet',\n",
       " 'Wifi',\n",
       " '\"Wheelchair accessible\"',\n",
       " 'Kitchen',\n",
       " '\"Paid parking off premises\"',\n",
       " 'Elevator',\n",
       " '\"Buzzer/wireless intercom\"',\n",
       " 'Heating',\n",
       " '\"Family/kid friendly\"',\n",
       " 'Washer',\n",
       " 'Dryer',\n",
       " 'Essentials',\n",
       " '\"Hot water\"',\n",
       " 'Other',\n",
       " 'TV',\n",
       " 'Internet',\n",
       " 'Wifi',\n",
       " 'Kitchen',\n",
       " '\"Buzzer/wireless intercom\"',\n",
       " 'Heating',\n",
       " '\"Family/kid friendly\"',\n",
       " 'Washer',\n",
       " 'Dryer',\n",
       " '\"Smoke detector\"',\n",
       " '\"Carbon monoxide detector\"',\n",
       " 'Essentials',\n",
       " 'Shampoo',\n",
       " 'Hangers',\n",
       " '\"Hair dryer\"',\n",
       " 'Iron',\n",
       " '\"Laptop friendly workspace\"',\n",
       " 'Bathtub',\n",
       " '\"High chair\"',\n",
       " 'Crib',\n",
       " '\"Room-darkening shades\"',\n",
       " '\"Hot water\"',\n",
       " '\"Bed linens\"',\n",
       " '\"Extra pillows and blankets\"',\n",
       " 'Microwave',\n",
       " '\"Coffee maker\"',\n",
       " 'Refrigerator',\n",
       " 'Dishwasher',\n",
       " '\"Dishes and silverware\"',\n",
       " '\"Cooking basics\"',\n",
       " 'Oven',\n",
       " 'Stove',\n",
       " '\"Luggage dropoff allowed\"',\n",
       " '\"Long term stays allowed\"',\n",
       " '\"Wide hallways\"',\n",
       " '\"No stairs or steps to enter\"',\n",
       " '\"Wide entrance for guests\"',\n",
       " '\"Well-lit path to entrance\"',\n",
       " '\"Disabled parking spot\"',\n",
       " '\"No stairs or steps to enter\"',\n",
       " '\"Wide entrance\"',\n",
       " '\"Extra space around bed\"',\n",
       " '\"Accessible-height bed\"',\n",
       " '\"No stairs or steps to enter\"',\n",
       " '\"Wide doorway to guest bathroom\"',\n",
       " '\"Accessible-height toilet\"',\n",
       " '\"Wide clearance to shower',\n",
       " ' toilet\"',\n",
       " '\"Wide entryway\"',\n",
       " '\"Host greets you\"',\n",
       " '\"Handheld shower head\"',\n",
       " 'TV',\n",
       " 'Internet',\n",
       " 'Wifi',\n",
       " 'Kitchen',\n",
       " '\"Buzzer/wireless intercom\"',\n",
       " 'Heating',\n",
       " 'Washer',\n",
       " '\"Smoke detector\"',\n",
       " 'Hangers',\n",
       " '\"Private entrance\"',\n",
       " '\"Hot water\"',\n",
       " '\"Ethernet connection\"',\n",
       " '\"Host greets you\"',\n",
       " 'TV',\n",
       " 'Wifi',\n",
       " 'Kitchen',\n",
       " '\"Paid parking off premises\"',\n",
       " 'Heating',\n",
       " '\"Family/kid friendly\"',\n",
       " 'Washer',\n",
       " 'Essentials',\n",
       " 'Hangers',\n",
       " '\"Hair dryer\"',\n",
       " 'Iron',\n",
       " 'Bathtub',\n",
       " '\"Pack ’n Play/travel crib\"',\n",
       " '\"Children’s dinnerware\"',\n",
       " '\"Hot water\"',\n",
       " '\"Coffee maker\"',\n",
       " 'Refrigerator',\n",
       " 'Dishwasher',\n",
       " '\"Dishes and silverware\"',\n",
       " '\"Cooking basics\"',\n",
       " 'Oven',\n",
       " 'Stove',\n",
       " '\"Long term stays allowed\"',\n",
       " '\"Host greets you\"',\n",
       " 'TV',\n",
       " '\"Cable TV\"',\n",
       " 'Internet',\n",
       " 'Wifi',\n",
       " '\"Wheelchair accessible\"',\n",
       " 'Kitchen',\n",
       " 'Elevator',\n",
       " '\"Free street parking\"',\n",
       " '\"Buzzer/wireless intercom\"',\n",
       " 'Heating',\n",
       " '\"Family/kid friendly\"',\n",
       " 'Washer',\n",
       " 'Dryer',\n",
       " 'Essentials',\n",
       " 'Shampoo',\n",
       " '\"24-hour check-in\"',\n",
       " 'Hangers',\n",
       " '\"Hair dryer\"',\n",
       " 'Iron',\n",
       " '\"Laptop friendly workspace\"',\n",
       " '\"Self check-in\"',\n",
       " '\"Building staff\"',\n",
       " '\"Private entrance\"',\n",
       " '\"High chair\"',\n",
       " 'Crib',\n",
       " '\"Room-darkening shades\"',\n",
       " '\"Hot water\"',\n",
       " 'Microwave',\n",
       " '\"Coffee maker\"',\n",
       " 'Refrigerator',\n",
       " '\"Dishes and silverware\"',\n",
       " '\"Paid parking on premises\"',\n",
       " 'TV',\n",
       " '\"Cable TV\"',\n",
       " 'Internet',\n",
       " 'Wifi',\n",
       " 'Kitchen',\n",
       " 'Heating',\n",
       " 'Washer',\n",
       " '\"Smoke detector\"',\n",
       " '\"translation missing: en.hosting_amenity_49\"',\n",
       " '\"translation missing: en.hosting_amenity_50\"',\n",
       " 'TV',\n",
       " '\"Cable TV\"',\n",
       " 'Wifi',\n",
       " 'Kitchen',\n",
       " '\"Free street parking\"',\n",
       " 'Heating',\n",
       " '\"Family/kid friendly\"',\n",
       " 'Washer',\n",
       " 'Essentials',\n",
       " 'Shampoo',\n",
       " 'Hangers',\n",
       " '\"Hair dryer\"',\n",
       " 'Iron',\n",
       " '\"Laptop friendly workspace\"',\n",
       " 'Bathtub',\n",
       " 'Crib',\n",
       " '\"Room-darkening shades\"',\n",
       " '\"Hot water\"',\n",
       " '\"Bed linens\"',\n",
       " 'Microwave',\n",
       " '\"Coffee maker\"',\n",
       " 'Refrigerator',\n",
       " 'Dishwasher',\n",
       " '\"Dishes and silverware\"',\n",
       " '\"Cooking basics\"',\n",
       " 'Stove',\n",
       " '\"Patio or balcony\"',\n",
       " '\"Long term stays allowed\"',\n",
       " '\"Wide hallways\"',\n",
       " '\"Wide entrance for guests\"',\n",
       " '\"Well-lit path to entrance\"',\n",
       " '\"Wide entrance\"',\n",
       " '\"Extra space around bed\"',\n",
       " '\"No stairs or steps to enter\"',\n",
       " '\"Wide doorway to guest bathroom\"',\n",
       " 'TV',\n",
       " 'Wifi',\n",
       " 'Kitchen',\n",
       " '\"Paid parking off premises\"',\n",
       " 'Elevator',\n",
       " '\"Buzzer/wireless intercom\"',\n",
       " 'Heating',\n",
       " 'Washer',\n",
       " '\"Smoke detector\"',\n",
       " '\"Carbon monoxide detector\"',\n",
       " 'Essentials',\n",
       " 'Shampoo',\n",
       " '\"Lock on bedroom door\"',\n",
       " 'Hangers',\n",
       " '\"Hair dryer\"',\n",
       " 'Iron',\n",
       " '\"Laptop friendly workspace\"',\n",
       " '\"Hot water\"',\n",
       " '\"Bed linens\"',\n",
       " '\"Extra pillows and blankets\"',\n",
       " 'Microwave',\n",
       " '\"Coffee maker\"',\n",
       " 'Refrigerator',\n",
       " 'Dishwasher',\n",
       " '\"Dishes and silverware\"',\n",
       " '\"Cooking basics\"',\n",
       " 'Oven',\n",
       " 'Stove',\n",
       " '\"Single level home\"',\n",
       " '\"Patio or balcony\"',\n",
       " '\"Long term stays allowed\"',\n",
       " '\"Host greets you\"',\n",
       " 'Heating',\n",
       " '\"Smoke detector\"',\n",
       " '\"Carbon monoxide detector\"',\n",
       " 'Essentials',\n",
       " 'Shampoo',\n",
       " 'Hangers',\n",
       " '\"Hair dryer\"',\n",
       " 'Iron',\n",
       " '\"Laptop friendly workspace\"',\n",
       " '\"translation missing: en.hosting_amenity_49\"',\n",
       " '\"translation missing: en.hosting_amenity_50\"',\n",
       " '\"Hot water\"',\n",
       " '\"Bed linens\"',\n",
       " 'Microwave',\n",
       " '\"Coffee maker\"',\n",
       " '\"Host greets you\"',\n",
       " '\"Cable TV\"',\n",
       " 'Wifi',\n",
       " 'Kitchen',\n",
       " '\"Smoking allowed\"',\n",
       " '\"Pets live on this property\"',\n",
       " '\"Other pet(s)\"',\n",
       " '\"Free street parking\"',\n",
       " 'Heating',\n",
       " '\"Family/kid friendly\"',\n",
       " '\"Suitable for events\"',\n",
       " 'Washer',\n",
       " 'Essentials',\n",
       " 'Shampoo',\n",
       " '\"Lock on bedroom door\"',\n",
       " 'Hangers',\n",
       " '\"Hair dryer\"',\n",
       " 'Iron',\n",
       " '\"Laptop friendly workspace\"',\n",
       " '\"Private entrance\"',\n",
       " '\"Hot water\"',\n",
       " '\"Bed linens\"',\n",
       " '\"Extra pillows and blankets\"',\n",
       " 'Microwave',\n",
       " '\"Coffee maker\"',\n",
       " 'Refrigerator',\n",
       " 'Dishwasher',\n",
       " '\"Dishes and silverware\"',\n",
       " '\"Cooking basics\"',\n",
       " 'Oven',\n",
       " 'Stove',\n",
       " '\"Single level home\"',\n",
       " '\"Luggage dropoff allowed\"',\n",
       " '\"Long term stays allowed\"',\n",
       " '\"Cleaning before checkout\"',\n",
       " '\"Wide hallways\"',\n",
       " '\"Host greets you\"',\n",
       " '\"Cable TV\"',\n",
       " 'Internet',\n",
       " 'Wifi',\n",
       " 'Kitchen',\n",
       " '\"Free street parking\"',\n",
       " 'Heating',\n",
       " '\"Family/kid friendly\"',\n",
       " 'Washer',\n",
       " '\"Smoke detector\"',\n",
       " '\"Carbon monoxide detector\"',\n",
       " '\"First aid kit\"',\n",
       " 'Essentials',\n",
       " '\"Hair dryer\"',\n",
       " '\"translation missing: en.hosting_amenity_50\"',\n",
       " 'Bathtub',\n",
       " '\"Baby bath\"',\n",
       " '\"Changing table\"',\n",
       " '\"Children’s books and toys\"',\n",
       " '\"Hot water\"',\n",
       " '\"Luggage dropoff allowed\"',\n",
       " '\"Host greets you\"',\n",
       " 'Internet',\n",
       " 'Wifi',\n",
       " 'Kitchen',\n",
       " '\"Paid parking off premises\"',\n",
       " '\"Buzzer/wireless intercom\"',\n",
       " 'Heating',\n",
       " 'Washer',\n",
       " 'Dryer',\n",
       " 'Essentials',\n",
       " 'Hangers',\n",
       " '\"Hair dryer\"',\n",
       " 'Iron',\n",
       " '\"Laptop friendly workspace\"',\n",
       " '\"Bed linens\"',\n",
       " 'Microwave',\n",
       " '\"Coffee maker\"',\n",
       " 'Refrigerator',\n",
       " '\"Dishes and silverware\"',\n",
       " '\"Cooking basics\"',\n",
       " 'Stove',\n",
       " '\"Long term stays allowed\"',\n",
       " '\"Cleaning before checkout\"',\n",
       " '\"Host greets you\"',\n",
       " 'TV',\n",
       " '\"Cable TV\"',\n",
       " 'Internet',\n",
       " 'Wifi',\n",
       " 'Kitchen',\n",
       " '\"Smoking allowed\"',\n",
       " '\"Pets allowed\"',\n",
       " '\"Buzzer/wireless intercom\"',\n",
       " 'Heating',\n",
       " '\"Family/kid friendly\"',\n",
       " 'Washer',\n",
       " 'Dryer',\n",
       " 'Internet',\n",
       " 'Wifi',\n",
       " 'Kitchen',\n",
       " 'Heating',\n",
       " '\"Family/kid friendly\"',\n",
       " 'Washer',\n",
       " 'Internet',\n",
       " 'Wifi',\n",
       " 'Kitchen',\n",
       " '\"Smoking allowed\"',\n",
       " '\"Buzzer/wireless intercom\"',\n",
       " 'Heating',\n",
       " 'Essentials',\n",
       " '\"translation missing: en.hosting_amenity_49\"',\n",
       " '\"translation missing: en.hosting_amenity_50\"',\n",
       " '\"Hot water\"',\n",
       " '\"Host greets you\"',\n",
       " 'Internet',\n",
       " 'Wifi',\n",
       " 'Kitchen',\n",
       " 'Heating',\n",
       " 'Washer',\n",
       " '\"Cable TV\"',\n",
       " 'Wifi',\n",
       " 'Kitchen',\n",
       " '\"Free street parking\"',\n",
       " '\"Buzzer/wireless intercom\"',\n",
       " 'Heating',\n",
       " '\"Family/kid friendly\"',\n",
       " 'Washer',\n",
       " 'Dryer',\n",
       " '\"Smoke detector\"',\n",
       " '\"Carbon monoxide detector\"',\n",
       " '\"First aid kit\"',\n",
       " 'Essentials',\n",
       " '\"Hair dryer\"',\n",
       " '\"Hot water\"',\n",
       " '\"Coffee maker\"',\n",
       " 'Refrigerator',\n",
       " '\"Dishes and silverware\"',\n",
       " '\"Cooking basics\"',\n",
       " 'Oven',\n",
       " 'Stove',\n",
       " '\"Host greets you\"',\n",
       " 'TV',\n",
       " '\"Cable TV\"',\n",
       " 'Internet',\n",
       " 'Wifi',\n",
       " 'Kitchen',\n",
       " '\"Paid parking off premises\"',\n",
       " 'Heating',\n",
       " '\"Family/kid friendly\"',\n",
       " 'Washer',\n",
       " 'Essentials',\n",
       " 'Hangers',\n",
       " '\"Hair dryer\"',\n",
       " 'Iron',\n",
       " '\"Laptop friendly workspace\"',\n",
       " '\"High chair\"',\n",
       " '\"Children’s books and toys\"',\n",
       " 'Crib',\n",
       " '\"Hot water\"',\n",
       " '\"Bed linens\"',\n",
       " '\"Extra pillows and blankets\"',\n",
       " '\"Ethernet connection\"',\n",
       " '\"Luggage dropoff allowed\"',\n",
       " '\"Long term stays allowed\"',\n",
       " '\"Host greets you\"',\n",
       " 'TV',\n",
       " '\"Cable TV\"',\n",
       " 'Internet',\n",
       " 'Wifi',\n",
       " 'Kitchen',\n",
       " '\"Paid parking off premises\"',\n",
       " '\"Free street parking\"',\n",
       " '\"Buzzer/wireless intercom\"',\n",
       " 'Heating',\n",
       " '\"Family/kid friendly\"',\n",
       " 'Washer',\n",
       " '\"Smoke detector\"',\n",
       " '\"Safety card\"',\n",
       " 'Essentials',\n",
       " '\"24-hour check-in\"',\n",
       " 'Hangers',\n",
       " '\"Hair dryer\"',\n",
       " 'Iron',\n",
       " '\"Laptop friendly workspace\"',\n",
       " '\"translation missing: en.hosting_amenity_49\"',\n",
       " '\"Hot water\"',\n",
       " '\"Bed linens\"',\n",
       " 'Microwave',\n",
       " '\"Coffee maker\"',\n",
       " 'Refrigerator',\n",
       " 'Dishwasher',\n",
       " '\"Dishes and silverware\"',\n",
       " '\"Cooking basics\"',\n",
       " 'Oven',\n",
       " 'Stove',\n",
       " '\"Patio or balcony\"',\n",
       " '\"Luggage dropoff allowed\"',\n",
       " '\"Long term stays allowed\"',\n",
       " 'Other',\n",
       " 'Internet',\n",
       " 'Wifi',\n",
       " '\"Wheelchair accessible\"',\n",
       " 'Kitchen',\n",
       " 'Elevator',\n",
       " '\"Free street parking\"',\n",
       " '\"Buzzer/wireless intercom\"',\n",
       " 'Heating',\n",
       " '\"Family/kid friendly\"',\n",
       " 'Washer',\n",
       " 'Dryer',\n",
       " '\"Smoke detector\"',\n",
       " '\"Carbon monoxide detector\"',\n",
       " '\"First aid kit\"',\n",
       " 'Essentials',\n",
       " 'Shampoo',\n",
       " '\"Hair dryer\"',\n",
       " '\"Laptop friendly workspace\"',\n",
       " '\"Hot water\"',\n",
       " '\"Host greets you\"',\n",
       " 'Internet',\n",
       " 'Wifi',\n",
       " 'Kitchen',\n",
       " '\"Buzzer/wireless intercom\"',\n",
       " 'Heating',\n",
       " '\"Smoke detector\"',\n",
       " '\"Fire extinguisher\"',\n",
       " 'Essentials',\n",
       " 'Shampoo',\n",
       " '\"Lock on bedroom door\"',\n",
       " 'Hangers',\n",
       " '\"Hot water\"',\n",
       " '\"Bed linens\"',\n",
       " 'Internet',\n",
       " 'Wifi',\n",
       " 'Kitchen',\n",
       " '\"Paid parking off premises\"',\n",
       " '\"Pets allowed\"',\n",
       " 'Elevator',\n",
       " '\"Buzzer/wireless intercom\"',\n",
       " 'Heating',\n",
       " '\"Family/kid friendly\"',\n",
       " '\"Smoke detector\"',\n",
       " 'Essentials',\n",
       " 'Shampoo',\n",
       " '\"24-hour check-in\"',\n",
       " 'Hangers',\n",
       " '\"Hair dryer\"',\n",
       " 'Iron',\n",
       " '\"Laptop friendly workspace\"',\n",
       " '\"Hot water\"',\n",
       " '\"Bed linens\"',\n",
       " '\"Coffee maker\"',\n",
       " 'Refrigerator',\n",
       " 'Dishwasher',\n",
       " '\"Dishes and silverware\"',\n",
       " '\"Cooking basics\"',\n",
       " 'Stove',\n",
       " '\"Luggage dropoff allowed\"',\n",
       " '\"Long term stays allowed\"',\n",
       " '\"Host greets you\"',\n",
       " 'Internet',\n",
       " 'Wifi',\n",
       " 'Kitchen',\n",
       " '\"Buzzer/wireless intercom\"',\n",
       " 'Heating',\n",
       " '\"Family/kid friendly\"',\n",
       " 'Washer',\n",
       " '\"First aid kit\"',\n",
       " 'Essentials',\n",
       " 'Shampoo',\n",
       " 'Hangers',\n",
       " '\"Hair dryer\"',\n",
       " 'Iron',\n",
       " '\"Laptop friendly workspace\"',\n",
       " '\"Outlet covers\"',\n",
       " 'Bathtub',\n",
       " '\"Changing table\"',\n",
       " '\"High chair\"',\n",
       " '\"Children’s books and toys\"',\n",
       " '\"Babysitter recommendations\"',\n",
       " '\"Children’s dinnerware\"',\n",
       " '\"Hot water\"',\n",
       " 'Refrigerator',\n",
       " 'Dishwasher',\n",
       " '\"Dishes and silverware\"',\n",
       " '\"Cooking basics\"',\n",
       " 'Oven',\n",
       " 'Stove',\n",
       " '\"Patio or balcony\"',\n",
       " '\"Luggage dropoff allowed\"',\n",
       " '\"Host greets you\"',\n",
       " 'TV',\n",
       " '\"Cable TV\"',\n",
       " 'Internet',\n",
       " 'Wifi',\n",
       " 'Kitchen',\n",
       " 'Heating',\n",
       " 'Washer',\n",
       " '\"Smoke detector\"',\n",
       " '\"Carbon monoxide detector\"',\n",
       " 'Shampoo',\n",
       " '\"Hair dryer\"',\n",
       " 'Iron',\n",
       " 'Wifi',\n",
       " 'Kitchen',\n",
       " '\"Buzzer/wireless intercom\"',\n",
       " 'Heating',\n",
       " '\"Family/kid friendly\"',\n",
       " 'Washer',\n",
       " '\"Smoke detector\"',\n",
       " '\"First aid kit\"',\n",
       " '\"Fire extinguisher\"',\n",
       " 'Essentials',\n",
       " 'Shampoo',\n",
       " '\"24-hour check-in\"',\n",
       " 'Hangers',\n",
       " '\"Hair dryer\"',\n",
       " 'Iron',\n",
       " '\"Laptop friendly workspace\"',\n",
       " '\"translation missing: en.hosting_amenity_49\"',\n",
       " '\"Hot water\"',\n",
       " '\"Host greets you\"',\n",
       " 'Internet',\n",
       " 'Wifi',\n",
       " 'Kitchen',\n",
       " '\"Paid parking off premises\"',\n",
       " 'Elevator',\n",
       " '\"Free street parking\"',\n",
       " '\"Buzzer/wireless intercom\"',\n",
       " 'Heating',\n",
       " 'Washer',\n",
       " '\"Smoke detector\"',\n",
       " '\"Fire extinguisher\"',\n",
       " 'Essentials',\n",
       " 'Shampoo',\n",
       " '\"Lock on bedroom door\"',\n",
       " 'Hangers',\n",
       " '\"Hair dryer\"',\n",
       " 'Iron',\n",
       " '\"Laptop friendly workspace\"',\n",
       " '\"translation missing: en.hosting_amenity_49\"',\n",
       " '\"translation missing: en.hosting_amenity_50\"',\n",
       " '\"Hot water\"',\n",
       " '\"Bed linens\"',\n",
       " '\"Extra pillows and blankets\"',\n",
       " 'Microwave',\n",
       " '\"Coffee maker\"',\n",
       " 'Refrigerator',\n",
       " '\"Dishes and silverware\"',\n",
       " '\"Cooking basics\"',\n",
       " 'Oven',\n",
       " 'Stove',\n",
       " '\"Single level home\"',\n",
       " '\"No stairs or steps to enter\"',\n",
       " '\"Well-lit path to entrance\"',\n",
       " '\"No stairs or steps to enter\"',\n",
       " '\"Accessible-height bed\"',\n",
       " '\"No stairs or steps to enter\"',\n",
       " '\"Host greets you\"',\n",
       " 'Waterfront',\n",
       " 'TV',\n",
       " '\"Cable TV\"',\n",
       " 'Internet',\n",
       " 'Wifi',\n",
       " 'Kitchen',\n",
       " '\"Free street parking\"',\n",
       " '\"Buzzer/wireless intercom\"',\n",
       " 'Heating',\n",
       " '\"Family/kid friendly\"',\n",
       " 'Washer',\n",
       " 'Essentials',\n",
       " 'Shampoo',\n",
       " 'Hangers',\n",
       " '\"Hair dryer\"',\n",
       " 'Iron',\n",
       " '\"Laptop friendly workspace\"',\n",
       " '\"Private entrance\"',\n",
       " 'Bathtub',\n",
       " '\"High chair\"',\n",
       " '\"Children’s books and toys\"',\n",
       " '\"Pack ’n Play/travel crib\"',\n",
       " '\"Hot water\"',\n",
       " '\"Bed linens\"',\n",
       " '\"Extra pillows and blankets\"',\n",
       " '\"Luggage dropoff allowed\"',\n",
       " '\"Long term stays allowed\"',\n",
       " '\"Host greets you\"',\n",
       " 'Wifi',\n",
       " 'Heating',\n",
       " '\"Family/kid friendly\"',\n",
       " 'Essentials',\n",
       " 'Shampoo',\n",
       " 'Hangers',\n",
       " '\"Hair dryer\"',\n",
       " '\"Laptop friendly workspace\"',\n",
       " '\"Hot water\"',\n",
       " '\"Bed linens\"',\n",
       " '\"Extra pillows and blankets\"',\n",
       " '\"Single level home\"',\n",
       " '\"Host greets you\"',\n",
       " 'TV',\n",
       " 'Wifi',\n",
       " 'Kitchen',\n",
       " '\"Paid parking off premises\"',\n",
       " 'Elevator',\n",
       " 'Heating',\n",
       " '\"Family/kid friendly\"',\n",
       " 'Washer',\n",
       " 'Dryer',\n",
       " 'Essentials',\n",
       " 'Shampoo',\n",
       " 'Hangers',\n",
       " '\"Hair dryer\"',\n",
       " 'Iron',\n",
       " '\"Laptop friendly workspace\"',\n",
       " '\"High chair\"',\n",
       " 'Crib',\n",
       " '\"Pack ’n Play/travel crib\"',\n",
       " '\"Children’s dinnerware\"',\n",
       " '\"Hot water\"',\n",
       " 'Microwave',\n",
       " '\"Coffee maker\"',\n",
       " 'Refrigerator',\n",
       " 'Dishwasher',\n",
       " '\"Dishes and silverware\"',\n",
       " '\"Cooking basics\"',\n",
       " 'Oven',\n",
       " ...]"
      ]
     },
     "execution_count": 18,
     "metadata": {},
     "output_type": "execute_result"
    }
   ],
   "source": [
    "amenities_flat"
   ]
  },
  {
   "cell_type": "code",
   "execution_count": 19,
   "metadata": {
    "collapsed": true
   },
   "outputs": [],
   "source": [
    "from collections import Counter"
   ]
  },
  {
   "cell_type": "code",
   "execution_count": 20,
   "metadata": {},
   "outputs": [
    {
     "data": {
      "text/plain": [
       "Counter({'a': 2, 'b': 1, 'c': 1, 'd': 1})"
      ]
     },
     "execution_count": 20,
     "metadata": {},
     "output_type": "execute_result"
    }
   ],
   "source": [
    "Counter([\"a\", \"b\", \"c\", \"a\", \"d\"])"
   ]
  },
  {
   "cell_type": "code",
   "execution_count": 21,
   "metadata": {
    "collapsed": true
   },
   "outputs": [],
   "source": [
    "amenities_count = Counter(amenities_flat)"
   ]
  },
  {
   "cell_type": "code",
   "execution_count": 22,
   "metadata": {},
   "outputs": [
    {
     "data": {
      "text/plain": [
       "Counter({'': 61,\n",
       "         ' toilet\"': 304,\n",
       "         '\"24-hour check-in\"': 1218,\n",
       "         '\"Accessible-height bed\"': 608,\n",
       "         '\"Accessible-height toilet\"': 218,\n",
       "         '\"Air conditioning\"': 490,\n",
       "         '\"Air purifier\"': 2,\n",
       "         '\"BBQ grill\"': 510,\n",
       "         '\"Baby bath\"': 368,\n",
       "         '\"Baby monitor\"': 147,\n",
       "         '\"Babysitter recommendations\"': 305,\n",
       "         '\"Bath towel\"': 43,\n",
       "         '\"Bathroom essentials\"': 48,\n",
       "         '\"Bathtub with bath chair\"': 30,\n",
       "         '\"Beach essentials\"': 93,\n",
       "         '\"Beach view\"': 1,\n",
       "         '\"Bed linens\"': 6746,\n",
       "         '\"Bedroom comforts\"': 48,\n",
       "         '\"Body soap\"': 43,\n",
       "         '\"Breakfast table\"': 11,\n",
       "         '\"Building staff\"': 368,\n",
       "         '\"Buzzer/wireless intercom\"': 5487,\n",
       "         '\"Cable TV\"': 3658,\n",
       "         '\"Carbon monoxide detector\"': 2573,\n",
       "         '\"Ceiling fan\"': 1,\n",
       "         '\"Ceiling hoist\"': 1,\n",
       "         '\"Changing table\"': 364,\n",
       "         '\"Children’s books and toys\"': 1365,\n",
       "         '\"Children’s dinnerware\"': 654,\n",
       "         '\"Cleaning before checkout\"': 665,\n",
       "         '\"Coffee maker\"': 5383,\n",
       "         '\"Convection oven\"': 11,\n",
       "         '\"Cooking basics\"': 6931,\n",
       "         '\"DVD player\"': 6,\n",
       "         '\"Day bed\"': 5,\n",
       "         '\"Disabled parking spot\"': 176,\n",
       "         '\"Dishes and silverware\"': 7403,\n",
       "         '\"Double oven\"': 1,\n",
       "         '\"EV charger\"': 284,\n",
       "         '\"Electric profiling bed\"': 7,\n",
       "         '\"En suite bathroom\"': 9,\n",
       "         '\"Espresso machine\"': 14,\n",
       "         '\"Ethernet connection\"': 710,\n",
       "         '\"Extra pillows and blankets\"': 3407,\n",
       "         '\"Extra space around bed\"': 769,\n",
       "         '\"Family/kid friendly\"': 7180,\n",
       "         '\"Fire extinguisher\"': 3585,\n",
       "         '\"Fire pit\"': 2,\n",
       "         '\"Fireplace guards\"': 25,\n",
       "         '\"Firm mattress\"': 4,\n",
       "         '\"First aid kit\"': 4576,\n",
       "         '\"Fixed grab bars for shower\"': 90,\n",
       "         '\"Fixed grab bars for toilet\"': 31,\n",
       "         '\"Flat path to guest entrance\"': 688,\n",
       "         '\"Formal dining area\"': 5,\n",
       "         '\"Free parking on premises\"': 2410,\n",
       "         '\"Free street parking\"': 5558,\n",
       "         '\"Full kitchen\"': 80,\n",
       "         '\"Game console\"': 278,\n",
       "         '\"Garden or backyard\"': 1123,\n",
       "         '\"Gas oven\"': 1,\n",
       "         '\"Ground floor access\"': 9,\n",
       "         '\"HBO GO\"': 1,\n",
       "         '\"Hair dryer\"': 16656,\n",
       "         '\"Handheld shower head\"': 861,\n",
       "         '\"Heated floors\"': 6,\n",
       "         '\"Heated towel rack\"': 9,\n",
       "         '\"High chair\"': 1442,\n",
       "         '\"High-resolution computer monitor\"': 2,\n",
       "         '\"Host greets you\"': 6294,\n",
       "         '\"Hot tub\"': 559,\n",
       "         '\"Hot water kettle\"': 76,\n",
       "         '\"Hot water\"': 11366,\n",
       "         '\"Indoor fireplace\"': 631,\n",
       "         '\"Lake access\"': 286,\n",
       "         '\"Laptop friendly workspace\"': 16052,\n",
       "         '\"Lock on bedroom door\"': 6357,\n",
       "         '\"Long term stays allowed\"': 3619,\n",
       "         '\"Luggage dropoff allowed\"': 3428,\n",
       "         '\"Memory foam mattress\"': 2,\n",
       "         '\"Mobile hoist\"': 1,\n",
       "         '\"Murphy bed\"': 1,\n",
       "         '\"No stairs or steps to enter\"': 3387,\n",
       "         '\"Other pet(s)\"': 50,\n",
       "         '\"Outdoor parking\"': 3,\n",
       "         '\"Outdoor seating\"': 12,\n",
       "         '\"Outlet covers\"': 383,\n",
       "         '\"Pack ’n Play/travel crib\"': 999,\n",
       "         '\"Paid parking off premises\"': 2170,\n",
       "         '\"Paid parking on premises\"': 681,\n",
       "         '\"Patio or balcony\"': 3451,\n",
       "         '\"Pets allowed\"': 3434,\n",
       "         '\"Pets live on this property\"': 802,\n",
       "         '\"Pillow-top mattress\"': 2,\n",
       "         '\"Pocket wifi\"': 164,\n",
       "         '\"Pool with pool hoist\"': 1,\n",
       "         '\"Private bathroom\"': 3,\n",
       "         '\"Private entrance\"': 3597,\n",
       "         '\"Private hot tub\"': 1,\n",
       "         '\"Private living room\"': 2427,\n",
       "         '\"Projector and screen\"': 3,\n",
       "         '\"Rain shower\"': 12,\n",
       "         '\"Roll-in shower\"': 189,\n",
       "         '\"Room-darkening shades\"': 1247,\n",
       "         '\"Safety card\"': 1859,\n",
       "         '\"Self check-in\"': 1504,\n",
       "         '\"Shower chair\"': 35,\n",
       "         '\"Single level home\"': 1635,\n",
       "         '\"Smart TV\"': 8,\n",
       "         '\"Smart lock\"': 126,\n",
       "         '\"Smoke detector\"': 8620,\n",
       "         '\"Smoking allowed\"': 4606,\n",
       "         '\"Soaking tub\"': 8,\n",
       "         '\"Sound system\"': 8,\n",
       "         '\"Stair gates\"': 84,\n",
       "         '\"Stand alone steam shower\"': 2,\n",
       "         '\"Standing valet\"': 2,\n",
       "         '\"Steam oven\"': 2,\n",
       "         '\"Suitable for events\"': 575,\n",
       "         '\"Sun loungers\"': 1,\n",
       "         '\"Table corner guards\"': 55,\n",
       "         '\"Toilet paper\"': 43,\n",
       "         '\"Walk-in shower\"': 10,\n",
       "         '\"Warming drawer\"': 1,\n",
       "         '\"Washer / Dryer\"': 6,\n",
       "         '\"Well-lit path to entrance\"': 1403,\n",
       "         '\"Wheelchair accessible\"': 625,\n",
       "         '\"Wide clearance to shower': 304,\n",
       "         '\"Wide doorway to guest bathroom\"': 330,\n",
       "         '\"Wide entrance for guests\"': 898,\n",
       "         '\"Wide entrance\"': 661,\n",
       "         '\"Wide entryway\"': 484,\n",
       "         '\"Wide hallways\"': 959,\n",
       "         '\"Window guards\"': 320,\n",
       "         '\"Wine cooler\"': 1,\n",
       "         '\"translation missing: en.hosting_amenity_49\"': 2616,\n",
       "         '\"translation missing: en.hosting_amenity_50\"': 3497,\n",
       "         'Balcony': 6,\n",
       "         'Bathtub': 2025,\n",
       "         'Beachfront': 20,\n",
       "         'Bidet': 1,\n",
       "         'Breakfast': 1297,\n",
       "         'Cat(s)': 378,\n",
       "         'Crib': 999,\n",
       "         'Dishwasher': 4573,\n",
       "         'Dog(s)': 242,\n",
       "         'Doorman': 69,\n",
       "         'Dryer': 3857,\n",
       "         'Elevator': 5539,\n",
       "         'Essentials': 22201,\n",
       "         'Gym': 277,\n",
       "         'Hammock': 1,\n",
       "         'Hangers': 15695,\n",
       "         'Heating': 22953,\n",
       "         'Internet': 7113,\n",
       "         'Iron': 12663,\n",
       "         'Keypad': 164,\n",
       "         'Kitchen': 22871,\n",
       "         'Kitchenette': 9,\n",
       "         'Lockbox': 843,\n",
       "         'Microwave': 3221,\n",
       "         'Mudroom': 1,\n",
       "         'Netflix': 10,\n",
       "         'Other': 1475,\n",
       "         'Oven': 6229,\n",
       "         'Pool': 137,\n",
       "         'Printer': 5,\n",
       "         'Refrigerator': 7666,\n",
       "         'Shampoo': 11795,\n",
       "         'Ski-in/Ski-out': 56,\n",
       "         'Stove': 6930,\n",
       "         'TV': 11042,\n",
       "         'Terrace': 4,\n",
       "         'Washer': 19808,\n",
       "         'Waterfront': 302,\n",
       "         'Wifi': 23302})"
      ]
     },
     "execution_count": 22,
     "metadata": {},
     "output_type": "execute_result"
    }
   ],
   "source": [
    "amenities_count"
   ]
  },
  {
   "cell_type": "code",
   "execution_count": 23,
   "metadata": {},
   "outputs": [
    {
     "data": {
      "text/plain": [
       "176"
      ]
     },
     "execution_count": 23,
     "metadata": {},
     "output_type": "execute_result"
    }
   ],
   "source": [
    "# number of unique words in original amenities\n",
    "len(amenities_count)"
   ]
  },
  {
   "cell_type": "code",
   "execution_count": 24,
   "metadata": {},
   "outputs": [
    {
     "data": {
      "text/plain": [
       "[('Wifi', 23302),\n",
       " ('Heating', 22953),\n",
       " ('Kitchen', 22871),\n",
       " ('Essentials', 22201),\n",
       " ('Washer', 19808),\n",
       " ('\"Hair dryer\"', 16656),\n",
       " ('\"Laptop friendly workspace\"', 16052),\n",
       " ('Hangers', 15695),\n",
       " ('Iron', 12663),\n",
       " ('Shampoo', 11795),\n",
       " ('\"Hot water\"', 11366),\n",
       " ('TV', 11042),\n",
       " ('\"Smoke detector\"', 8620),\n",
       " ('Refrigerator', 7666),\n",
       " ('\"Dishes and silverware\"', 7403),\n",
       " ('\"Family/kid friendly\"', 7180),\n",
       " ('Internet', 7113),\n",
       " ('\"Cooking basics\"', 6931),\n",
       " ('Stove', 6930),\n",
       " ('\"Bed linens\"', 6746),\n",
       " ('\"Lock on bedroom door\"', 6357),\n",
       " ('\"Host greets you\"', 6294),\n",
       " ('Oven', 6229),\n",
       " ('\"Free street parking\"', 5558),\n",
       " ('Elevator', 5539),\n",
       " ('\"Buzzer/wireless intercom\"', 5487),\n",
       " ('\"Coffee maker\"', 5383),\n",
       " ('\"Smoking allowed\"', 4606),\n",
       " ('\"First aid kit\"', 4576),\n",
       " ('Dishwasher', 4573),\n",
       " ('Dryer', 3857),\n",
       " ('\"Cable TV\"', 3658),\n",
       " ('\"Long term stays allowed\"', 3619),\n",
       " ('\"Private entrance\"', 3597),\n",
       " ('\"Fire extinguisher\"', 3585),\n",
       " ('\"translation missing: en.hosting_amenity_50\"', 3497),\n",
       " ('\"Patio or balcony\"', 3451),\n",
       " ('\"Pets allowed\"', 3434),\n",
       " ('\"Luggage dropoff allowed\"', 3428),\n",
       " ('\"Extra pillows and blankets\"', 3407),\n",
       " ('\"No stairs or steps to enter\"', 3387),\n",
       " ('Microwave', 3221),\n",
       " ('\"translation missing: en.hosting_amenity_49\"', 2616),\n",
       " ('\"Carbon monoxide detector\"', 2573),\n",
       " ('\"Private living room\"', 2427),\n",
       " ('\"Free parking on premises\"', 2410),\n",
       " ('\"Paid parking off premises\"', 2170),\n",
       " ('Bathtub', 2025),\n",
       " ('\"Safety card\"', 1859),\n",
       " ('\"Single level home\"', 1635),\n",
       " ('\"Self check-in\"', 1504),\n",
       " ('Other', 1475),\n",
       " ('\"High chair\"', 1442),\n",
       " ('\"Well-lit path to entrance\"', 1403),\n",
       " ('\"Children’s books and toys\"', 1365),\n",
       " ('Breakfast', 1297),\n",
       " ('\"Room-darkening shades\"', 1247),\n",
       " ('\"24-hour check-in\"', 1218),\n",
       " ('\"Garden or backyard\"', 1123),\n",
       " ('Crib', 999),\n",
       " ('\"Pack ’n Play/travel crib\"', 999),\n",
       " ('\"Wide hallways\"', 959),\n",
       " ('\"Wide entrance for guests\"', 898),\n",
       " ('\"Handheld shower head\"', 861),\n",
       " ('Lockbox', 843),\n",
       " ('\"Pets live on this property\"', 802),\n",
       " ('\"Extra space around bed\"', 769),\n",
       " ('\"Ethernet connection\"', 710),\n",
       " ('\"Flat path to guest entrance\"', 688),\n",
       " ('\"Paid parking on premises\"', 681),\n",
       " ('\"Cleaning before checkout\"', 665),\n",
       " ('\"Wide entrance\"', 661),\n",
       " ('\"Children’s dinnerware\"', 654),\n",
       " ('\"Indoor fireplace\"', 631),\n",
       " ('\"Wheelchair accessible\"', 625),\n",
       " ('\"Accessible-height bed\"', 608),\n",
       " ('\"Suitable for events\"', 575),\n",
       " ('\"Hot tub\"', 559),\n",
       " ('\"BBQ grill\"', 510),\n",
       " ('\"Air conditioning\"', 490),\n",
       " ('\"Wide entryway\"', 484),\n",
       " ('\"Outlet covers\"', 383),\n",
       " ('Cat(s)', 378),\n",
       " ('\"Baby bath\"', 368),\n",
       " ('\"Building staff\"', 368),\n",
       " ('\"Changing table\"', 364),\n",
       " ('\"Wide doorway to guest bathroom\"', 330),\n",
       " ('\"Window guards\"', 320),\n",
       " ('\"Babysitter recommendations\"', 305),\n",
       " ('\"Wide clearance to shower', 304),\n",
       " (' toilet\"', 304),\n",
       " ('Waterfront', 302),\n",
       " ('\"Lake access\"', 286),\n",
       " ('\"EV charger\"', 284),\n",
       " ('\"Game console\"', 278),\n",
       " ('Gym', 277),\n",
       " ('Dog(s)', 242),\n",
       " ('\"Accessible-height toilet\"', 218),\n",
       " ('\"Roll-in shower\"', 189),\n",
       " ('\"Disabled parking spot\"', 176),\n",
       " ('Keypad', 164),\n",
       " ('\"Pocket wifi\"', 164),\n",
       " ('\"Baby monitor\"', 147),\n",
       " ('Pool', 137),\n",
       " ('\"Smart lock\"', 126),\n",
       " ('\"Beach essentials\"', 93),\n",
       " ('\"Fixed grab bars for shower\"', 90),\n",
       " ('\"Stair gates\"', 84),\n",
       " ('\"Full kitchen\"', 80),\n",
       " ('\"Hot water kettle\"', 76),\n",
       " ('Doorman', 69),\n",
       " ('', 61),\n",
       " ('Ski-in/Ski-out', 56),\n",
       " ('\"Table corner guards\"', 55),\n",
       " ('\"Other pet(s)\"', 50),\n",
       " ('\"Bedroom comforts\"', 48),\n",
       " ('\"Bathroom essentials\"', 48),\n",
       " ('\"Body soap\"', 43),\n",
       " ('\"Bath towel\"', 43),\n",
       " ('\"Toilet paper\"', 43),\n",
       " ('\"Shower chair\"', 35),\n",
       " ('\"Fixed grab bars for toilet\"', 31),\n",
       " ('\"Bathtub with bath chair\"', 30),\n",
       " ('\"Fireplace guards\"', 25),\n",
       " ('Beachfront', 20),\n",
       " ('\"Espresso machine\"', 14),\n",
       " ('\"Rain shower\"', 12),\n",
       " ('\"Outdoor seating\"', 12),\n",
       " ('\"Breakfast table\"', 11),\n",
       " ('\"Convection oven\"', 11),\n",
       " ('Netflix', 10),\n",
       " ('\"Walk-in shower\"', 10),\n",
       " ('\"Ground floor access\"', 9),\n",
       " ('\"Heated towel rack\"', 9),\n",
       " ('Kitchenette', 9),\n",
       " ('\"En suite bathroom\"', 9),\n",
       " ('\"Smart TV\"', 8),\n",
       " ('\"Sound system\"', 8),\n",
       " ('\"Soaking tub\"', 8),\n",
       " ('\"Electric profiling bed\"', 7),\n",
       " ('\"Washer / Dryer\"', 6),\n",
       " ('\"Heated floors\"', 6),\n",
       " ('\"DVD player\"', 6),\n",
       " ('Balcony', 6),\n",
       " ('Printer', 5),\n",
       " ('\"Day bed\"', 5),\n",
       " ('\"Formal dining area\"', 5),\n",
       " ('\"Firm mattress\"', 4),\n",
       " ('Terrace', 4),\n",
       " ('\"Outdoor parking\"', 3),\n",
       " ('\"Private bathroom\"', 3),\n",
       " ('\"Projector and screen\"', 3),\n",
       " ('\"High-resolution computer monitor\"', 2),\n",
       " ('\"Steam oven\"', 2),\n",
       " ('\"Standing valet\"', 2),\n",
       " ('\"Fire pit\"', 2),\n",
       " ('\"Pillow-top mattress\"', 2),\n",
       " ('\"Air purifier\"', 2),\n",
       " ('\"Memory foam mattress\"', 2),\n",
       " ('\"Stand alone steam shower\"', 2),\n",
       " ('Mudroom', 1),\n",
       " ('\"Mobile hoist\"', 1),\n",
       " ('\"Double oven\"', 1),\n",
       " ('\"Warming drawer\"', 1),\n",
       " ('\"Wine cooler\"', 1),\n",
       " ('Hammock', 1),\n",
       " ('\"Beach view\"', 1),\n",
       " ('\"Sun loungers\"', 1),\n",
       " ('\"Ceiling fan\"', 1),\n",
       " ('Bidet', 1),\n",
       " ('\"Gas oven\"', 1),\n",
       " ('\"HBO GO\"', 1),\n",
       " ('\"Private hot tub\"', 1),\n",
       " ('\"Ceiling hoist\"', 1),\n",
       " ('\"Murphy bed\"', 1),\n",
       " ('\"Pool with pool hoist\"', 1)]"
      ]
     },
     "execution_count": 24,
     "metadata": {},
     "output_type": "execute_result"
    }
   ],
   "source": [
    "# sort by value (i.e. number of occurences) in reverse order, i.e. largest  numbers first\n",
    "sorted(amenities_count.items(), key= lambda x: x[1], reverse=True)"
   ]
  },
  {
   "cell_type": "code",
   "execution_count": 25,
   "metadata": {
    "collapsed": true
   },
   "outputs": [],
   "source": [
    "main_amenities = ['Wifi', 'Heating', 'Kitchen']"
   ]
  },
  {
   "cell_type": "code",
   "execution_count": 26,
   "metadata": {
    "collapsed": true
   },
   "outputs": [],
   "source": [
    "def is_in_amenities(key, a):\n",
    "    if key in a:\n",
    "        return 1\n",
    "    else:\n",
    "        return 0"
   ]
  },
  {
   "cell_type": "code",
   "execution_count": 27,
   "metadata": {},
   "outputs": [
    {
     "name": "stderr",
     "output_type": "stream",
     "text": [
      "/Users/victorkausch/anaconda3/lib/python3.6/site-packages/ipykernel_launcher.py:2: SettingWithCopyWarning: \n",
      "A value is trying to be set on a copy of a slice from a DataFrame.\n",
      "Try using .loc[row_indexer,col_indexer] = value instead\n",
      "\n",
      "See the caveats in the documentation: http://pandas.pydata.org/pandas-docs/stable/indexing.html#indexing-view-versus-copy\n",
      "  \n"
     ]
    }
   ],
   "source": [
    "for a in main_amenities:\n",
    "    df[\"has_\" + a] = df[\"amenities_list\"].map(lambda x: is_in_amenities(a, x))"
   ]
  },
  {
   "cell_type": "code",
   "execution_count": null,
   "metadata": {
    "collapsed": true
   },
   "outputs": [],
   "source": [
    "# put it all together\n",
    "\n",
    "def clean_amenities(a):\n",
    "        return a.replace(\"{\",\"\").replace(\"}\",\"\").split(\",\")\n",
    "    \n",
    "def is_in_amenities(a, amenities):\n",
    "    \"\"\"Return 1 if a single amenity, e.g. 'Wifi', is present in a list of amenities. \n",
    "    Apply this function using map to a pandas column\"\"\"\n",
    "    if a in amenities:\n",
    "        return 1\n",
    "    else:\n",
    "        return 0\n",
    "    \n",
    "def extract_amenities(df, amenities=\"all\"):\n",
    "    \"\"\"Add to your dataframe df columns indicating whether a certain amenity is represented in the apartment (row).\n",
    "    Specify the amenities of interest using pthe parameter amenities, e.g. amenities = ['Wifi', 'Heating', 'Kitchen'].\n",
    "    >>>extract_amenities(df, amenities = ['Wifi', 'Heating', 'Kitchen'])\n",
    "    \"\"\"\n",
    "    df[\"amenities_list\"] = df[\"amenities\"].map(clean_amenities)\n",
    "    \n",
    "    if amenities == \"all\":\n",
    "        all_amenities_flat = flatten_nested_list(df[\"amenities_list\"].values)\n",
    "        amenities = list(set(all_amenities_flat))\n",
    "        \n",
    "    for a in amenities:\n",
    "        df[\"has_\" + a] = df[\"amenities_list\"].map(lambda x: is_in_amenities(a, x))\n",
    "        \n",
    "    return df.drop([\"amenities_list\", \"amenities\"])\n",
    "\n",
    "def count_amenities(df):\n",
    "    \"\"\"Compute for each amenity the number of occurences in the entire dataset\"\"\"\n",
    "    df[\"amenities_list\"] = df[\"amenities\"].map(clean_amenities)\n",
    "    all_amenities_flat = flatten_nested_list(df[\"amenities_list\"].values)\n",
    "    all_amenities_count = Counter(all_amenities_flat)\n",
    "    \n",
    "    return sorted(amenities_count.items(), key= lambda x: x[1], reverse=True)\n",
    "    "
   ]
  },
  {
   "cell_type": "code",
   "execution_count": 28,
   "metadata": {},
   "outputs": [
    {
     "data": {
      "text/html": [
       "<div>\n",
       "<style>\n",
       "    .dataframe thead tr:only-child th {\n",
       "        text-align: right;\n",
       "    }\n",
       "\n",
       "    .dataframe thead th {\n",
       "        text-align: left;\n",
       "    }\n",
       "\n",
       "    .dataframe tbody tr th {\n",
       "        vertical-align: top;\n",
       "    }\n",
       "</style>\n",
       "<table border=\"1\" class=\"dataframe\">\n",
       "  <thead>\n",
       "    <tr style=\"text-align: right;\">\n",
       "      <th></th>\n",
       "      <th>beds</th>\n",
       "      <th>bedrooms</th>\n",
       "      <th>room_type</th>\n",
       "      <th>amenities</th>\n",
       "      <th>price</th>\n",
       "      <th>amenities_list</th>\n",
       "      <th>has_Wifi</th>\n",
       "      <th>has_Heating</th>\n",
       "      <th>has_Kitchen</th>\n",
       "    </tr>\n",
       "  </thead>\n",
       "  <tbody>\n",
       "    <tr>\n",
       "      <th>19760</th>\n",
       "      <td>4.0</td>\n",
       "      <td>4.0</td>\n",
       "      <td>Entire home/apt</td>\n",
       "      <td>{TV,Wifi,\"Air conditioning\",Kitchen,\"Free park...</td>\n",
       "      <td>1350.0</td>\n",
       "      <td>[TV, Wifi, \"Air conditioning\", Kitchen, \"Free ...</td>\n",
       "      <td>1</td>\n",
       "      <td>1</td>\n",
       "      <td>1</td>\n",
       "    </tr>\n",
       "    <tr>\n",
       "      <th>11096</th>\n",
       "      <td>1.0</td>\n",
       "      <td>1.0</td>\n",
       "      <td>Private room</td>\n",
       "      <td>{Wifi,Kitchen,\"Pets allowed\",Heating,Washer,\"S...</td>\n",
       "      <td>15.0</td>\n",
       "      <td>[Wifi, Kitchen, \"Pets allowed\", Heating, Washe...</td>\n",
       "      <td>1</td>\n",
       "      <td>1</td>\n",
       "      <td>1</td>\n",
       "    </tr>\n",
       "    <tr>\n",
       "      <th>10810</th>\n",
       "      <td>1.0</td>\n",
       "      <td>1.0</td>\n",
       "      <td>Entire home/apt</td>\n",
       "      <td>{TV,Wifi,Kitchen,Washer,Dryer,Essentials,\"Hair...</td>\n",
       "      <td>100.0</td>\n",
       "      <td>[TV, Wifi, Kitchen, Washer, Dryer, Essentials,...</td>\n",
       "      <td>1</td>\n",
       "      <td>0</td>\n",
       "      <td>1</td>\n",
       "    </tr>\n",
       "    <tr>\n",
       "      <th>1648</th>\n",
       "      <td>1.0</td>\n",
       "      <td>1.0</td>\n",
       "      <td>Entire home/apt</td>\n",
       "      <td>{TV,\"Cable TV\",Internet,Wifi,Kitchen,Elevator,...</td>\n",
       "      <td>95.0</td>\n",
       "      <td>[TV, \"Cable TV\", Internet, Wifi, Kitchen, Elev...</td>\n",
       "      <td>1</td>\n",
       "      <td>1</td>\n",
       "      <td>1</td>\n",
       "    </tr>\n",
       "    <tr>\n",
       "      <th>23883</th>\n",
       "      <td>1.0</td>\n",
       "      <td>1.0</td>\n",
       "      <td>Private room</td>\n",
       "      <td>{Internet,Wifi,Kitchen,\"Pets live on this prop...</td>\n",
       "      <td>95.0</td>\n",
       "      <td>[Internet, Wifi, Kitchen, \"Pets live on this p...</td>\n",
       "      <td>1</td>\n",
       "      <td>1</td>\n",
       "      <td>1</td>\n",
       "    </tr>\n",
       "    <tr>\n",
       "      <th>11229</th>\n",
       "      <td>1.0</td>\n",
       "      <td>1.0</td>\n",
       "      <td>Private room</td>\n",
       "      <td>{TV,Wifi,\"Air conditioning\",Kitchen,\"Free park...</td>\n",
       "      <td>25.0</td>\n",
       "      <td>[TV, Wifi, \"Air conditioning\", Kitchen, \"Free ...</td>\n",
       "      <td>1</td>\n",
       "      <td>1</td>\n",
       "      <td>1</td>\n",
       "    </tr>\n",
       "    <tr>\n",
       "      <th>7686</th>\n",
       "      <td>1.0</td>\n",
       "      <td>1.0</td>\n",
       "      <td>Entire home/apt</td>\n",
       "      <td>{Internet,Wifi,Kitchen,\"Buzzer/wireless interc...</td>\n",
       "      <td>30.0</td>\n",
       "      <td>[Internet, Wifi, Kitchen, \"Buzzer/wireless int...</td>\n",
       "      <td>1</td>\n",
       "      <td>1</td>\n",
       "      <td>1</td>\n",
       "    </tr>\n",
       "    <tr>\n",
       "      <th>15843</th>\n",
       "      <td>1.0</td>\n",
       "      <td>1.0</td>\n",
       "      <td>Entire home/apt</td>\n",
       "      <td>{Wifi,Kitchen,\"Smoking allowed\",Heating,Washer...</td>\n",
       "      <td>35.0</td>\n",
       "      <td>[Wifi, Kitchen, \"Smoking allowed\", Heating, Wa...</td>\n",
       "      <td>1</td>\n",
       "      <td>1</td>\n",
       "      <td>1</td>\n",
       "    </tr>\n",
       "    <tr>\n",
       "      <th>3652</th>\n",
       "      <td>5.0</td>\n",
       "      <td>1.0</td>\n",
       "      <td>Entire home/apt</td>\n",
       "      <td>{TV,Internet,Wifi,Kitchen,Heating,\"Family/kid ...</td>\n",
       "      <td>70.0</td>\n",
       "      <td>[TV, Internet, Wifi, Kitchen, Heating, \"Family...</td>\n",
       "      <td>1</td>\n",
       "      <td>1</td>\n",
       "      <td>1</td>\n",
       "    </tr>\n",
       "    <tr>\n",
       "      <th>3358</th>\n",
       "      <td>1.0</td>\n",
       "      <td>1.0</td>\n",
       "      <td>Private room</td>\n",
       "      <td>{Wifi,Kitchen,Heating,Washer,Essentials,Hanger...</td>\n",
       "      <td>39.0</td>\n",
       "      <td>[Wifi, Kitchen, Heating, Washer, Essentials, H...</td>\n",
       "      <td>1</td>\n",
       "      <td>1</td>\n",
       "      <td>1</td>\n",
       "    </tr>\n",
       "  </tbody>\n",
       "</table>\n",
       "</div>"
      ],
      "text/plain": [
       "       beds  bedrooms        room_type  \\\n",
       "19760   4.0       4.0  Entire home/apt   \n",
       "11096   1.0       1.0     Private room   \n",
       "10810   1.0       1.0  Entire home/apt   \n",
       "1648    1.0       1.0  Entire home/apt   \n",
       "23883   1.0       1.0     Private room   \n",
       "11229   1.0       1.0     Private room   \n",
       "7686    1.0       1.0  Entire home/apt   \n",
       "15843   1.0       1.0  Entire home/apt   \n",
       "3652    5.0       1.0  Entire home/apt   \n",
       "3358    1.0       1.0     Private room   \n",
       "\n",
       "                                               amenities   price  \\\n",
       "19760  {TV,Wifi,\"Air conditioning\",Kitchen,\"Free park...  1350.0   \n",
       "11096  {Wifi,Kitchen,\"Pets allowed\",Heating,Washer,\"S...    15.0   \n",
       "10810  {TV,Wifi,Kitchen,Washer,Dryer,Essentials,\"Hair...   100.0   \n",
       "1648   {TV,\"Cable TV\",Internet,Wifi,Kitchen,Elevator,...    95.0   \n",
       "23883  {Internet,Wifi,Kitchen,\"Pets live on this prop...    95.0   \n",
       "11229  {TV,Wifi,\"Air conditioning\",Kitchen,\"Free park...    25.0   \n",
       "7686   {Internet,Wifi,Kitchen,\"Buzzer/wireless interc...    30.0   \n",
       "15843  {Wifi,Kitchen,\"Smoking allowed\",Heating,Washer...    35.0   \n",
       "3652   {TV,Internet,Wifi,Kitchen,Heating,\"Family/kid ...    70.0   \n",
       "3358   {Wifi,Kitchen,Heating,Washer,Essentials,Hanger...    39.0   \n",
       "\n",
       "                                          amenities_list  has_Wifi  \\\n",
       "19760  [TV, Wifi, \"Air conditioning\", Kitchen, \"Free ...         1   \n",
       "11096  [Wifi, Kitchen, \"Pets allowed\", Heating, Washe...         1   \n",
       "10810  [TV, Wifi, Kitchen, Washer, Dryer, Essentials,...         1   \n",
       "1648   [TV, \"Cable TV\", Internet, Wifi, Kitchen, Elev...         1   \n",
       "23883  [Internet, Wifi, Kitchen, \"Pets live on this p...         1   \n",
       "11229  [TV, Wifi, \"Air conditioning\", Kitchen, \"Free ...         1   \n",
       "7686   [Internet, Wifi, Kitchen, \"Buzzer/wireless int...         1   \n",
       "15843  [Wifi, Kitchen, \"Smoking allowed\", Heating, Wa...         1   \n",
       "3652   [TV, Internet, Wifi, Kitchen, Heating, \"Family...         1   \n",
       "3358   [Wifi, Kitchen, Heating, Washer, Essentials, H...         1   \n",
       "\n",
       "       has_Heating  has_Kitchen  \n",
       "19760            1            1  \n",
       "11096            1            1  \n",
       "10810            0            1  \n",
       "1648             1            1  \n",
       "23883            1            1  \n",
       "11229            1            1  \n",
       "7686             1            1  \n",
       "15843            1            1  \n",
       "3652             1            1  \n",
       "3358             1            1  "
      ]
     },
     "execution_count": 28,
     "metadata": {},
     "output_type": "execute_result"
    }
   ],
   "source": [
    "df.sample(10)"
   ]
  },
  {
   "cell_type": "code",
   "execution_count": 29,
   "metadata": {},
   "outputs": [
    {
     "name": "stderr",
     "output_type": "stream",
     "text": [
      "/Users/victorkausch/anaconda3/lib/python3.6/site-packages/ipykernel_launcher.py:2: SettingWithCopyWarning: \n",
      "A value is trying to be set on a copy of a slice from a DataFrame\n",
      "\n",
      "See the caveats in the documentation: http://pandas.pydata.org/pandas-docs/stable/indexing.html#indexing-view-versus-copy\n",
      "  \n"
     ]
    }
   ],
   "source": [
    "# remove old amenities columns containing strings or lists of strings\n",
    "df.drop([\"amenities\", \"amenities_list\"], axis=1, inplace=True)"
   ]
  },
  {
   "cell_type": "code",
   "execution_count": 30,
   "metadata": {},
   "outputs": [
    {
     "data": {
      "text/html": [
       "<div>\n",
       "<style>\n",
       "    .dataframe thead tr:only-child th {\n",
       "        text-align: right;\n",
       "    }\n",
       "\n",
       "    .dataframe thead th {\n",
       "        text-align: left;\n",
       "    }\n",
       "\n",
       "    .dataframe tbody tr th {\n",
       "        vertical-align: top;\n",
       "    }\n",
       "</style>\n",
       "<table border=\"1\" class=\"dataframe\">\n",
       "  <thead>\n",
       "    <tr style=\"text-align: right;\">\n",
       "      <th></th>\n",
       "      <th>beds</th>\n",
       "      <th>bedrooms</th>\n",
       "      <th>room_type</th>\n",
       "      <th>price</th>\n",
       "      <th>has_Wifi</th>\n",
       "      <th>has_Heating</th>\n",
       "      <th>has_Kitchen</th>\n",
       "    </tr>\n",
       "  </thead>\n",
       "  <tbody>\n",
       "    <tr>\n",
       "      <th>22569</th>\n",
       "      <td>2.0</td>\n",
       "      <td>1.0</td>\n",
       "      <td>Entire home/apt</td>\n",
       "      <td>85.0</td>\n",
       "      <td>1</td>\n",
       "      <td>1</td>\n",
       "      <td>1</td>\n",
       "    </tr>\n",
       "    <tr>\n",
       "      <th>3148</th>\n",
       "      <td>1.0</td>\n",
       "      <td>1.0</td>\n",
       "      <td>Private room</td>\n",
       "      <td>45.0</td>\n",
       "      <td>1</td>\n",
       "      <td>1</td>\n",
       "      <td>1</td>\n",
       "    </tr>\n",
       "    <tr>\n",
       "      <th>13667</th>\n",
       "      <td>1.0</td>\n",
       "      <td>1.0</td>\n",
       "      <td>Private room</td>\n",
       "      <td>25.0</td>\n",
       "      <td>1</td>\n",
       "      <td>1</td>\n",
       "      <td>0</td>\n",
       "    </tr>\n",
       "    <tr>\n",
       "      <th>8134</th>\n",
       "      <td>1.0</td>\n",
       "      <td>1.0</td>\n",
       "      <td>Private room</td>\n",
       "      <td>40.0</td>\n",
       "      <td>1</td>\n",
       "      <td>1</td>\n",
       "      <td>1</td>\n",
       "    </tr>\n",
       "    <tr>\n",
       "      <th>19310</th>\n",
       "      <td>1.0</td>\n",
       "      <td>0.0</td>\n",
       "      <td>Entire home/apt</td>\n",
       "      <td>60.0</td>\n",
       "      <td>1</td>\n",
       "      <td>1</td>\n",
       "      <td>1</td>\n",
       "    </tr>\n",
       "  </tbody>\n",
       "</table>\n",
       "</div>"
      ],
      "text/plain": [
       "       beds  bedrooms        room_type  price  has_Wifi  has_Heating  \\\n",
       "22569   2.0       1.0  Entire home/apt   85.0         1            1   \n",
       "3148    1.0       1.0     Private room   45.0         1            1   \n",
       "13667   1.0       1.0     Private room   25.0         1            1   \n",
       "8134    1.0       1.0     Private room   40.0         1            1   \n",
       "19310   1.0       0.0  Entire home/apt   60.0         1            1   \n",
       "\n",
       "       has_Kitchen  \n",
       "22569            1  \n",
       "3148             1  \n",
       "13667            0  \n",
       "8134             1  \n",
       "19310            1  "
      ]
     },
     "execution_count": 30,
     "metadata": {},
     "output_type": "execute_result"
    }
   ],
   "source": [
    "df.sample(5)"
   ]
  },
  {
   "cell_type": "code",
   "execution_count": 31,
   "metadata": {
    "collapsed": true
   },
   "outputs": [],
   "source": [
    "df = pd.get_dummies(data=df, columns=['room_type'], drop_first=True)"
   ]
  },
  {
   "cell_type": "code",
   "execution_count": 32,
   "metadata": {},
   "outputs": [
    {
     "name": "stdout",
     "output_type": "stream",
     "text": [
      "33.0\n",
      "75.0\n",
      "1.0\n",
      "2.0\n",
      "1.0\n",
      "1.0\n"
     ]
    }
   ],
   "source": [
    "df = outlier(df, 'price')\n",
    "df = outlier(df, 'beds')\n",
    "df = outlier(df, 'bedrooms')\n",
    "# we don't need to handle Boolean columns here"
   ]
  },
  {
   "cell_type": "markdown",
   "metadata": {},
   "source": [
    "## Split in `X` (features) and `y` (target)"
   ]
  },
  {
   "cell_type": "code",
   "execution_count": 33,
   "metadata": {
    "collapsed": true
   },
   "outputs": [],
   "source": [
    "X = df.drop('price', axis = 1)\n",
    "y = df['price'].values"
   ]
  },
  {
   "cell_type": "markdown",
   "metadata": {},
   "source": [
    "# Train-Test-Split"
   ]
  },
  {
   "cell_type": "code",
   "execution_count": 34,
   "metadata": {
    "collapsed": true
   },
   "outputs": [],
   "source": [
    "X_train, X_test, y_train, y_test = train_test_split(X, y, test_size=0.25, random_state=10)"
   ]
  },
  {
   "cell_type": "code",
   "execution_count": 35,
   "metadata": {
    "collapsed": true
   },
   "outputs": [],
   "source": [
    "min_max_scaler = preprocessing.MinMaxScaler()\n",
    "X_train_scaled = min_max_scaler.fit_transform(X_train)\n",
    "X_test_scaled = min_max_scaler.fit_transform(X_test)"
   ]
  },
  {
   "cell_type": "code",
   "execution_count": 36,
   "metadata": {
    "collapsed": true
   },
   "outputs": [],
   "source": [
    "y_train_scaled = min_max_scaler.fit_transform(y_train.reshape(-1,1))\n",
    "y_test_scaled = min_max_scaler.fit_transform(y_test.reshape(-1,1))"
   ]
  },
  {
   "cell_type": "code",
   "execution_count": 37,
   "metadata": {},
   "outputs": [
    {
     "name": "stdout",
     "output_type": "stream",
     "text": [
      "(13100, 8) (13100,)\n"
     ]
    }
   ],
   "source": [
    "print (X_train.shape, y_train.shape)"
   ]
  },
  {
   "cell_type": "code",
   "execution_count": 38,
   "metadata": {},
   "outputs": [
    {
     "name": "stdout",
     "output_type": "stream",
     "text": [
      "(4367, 8) (4367,)\n"
     ]
    }
   ],
   "source": [
    "print (X_test.shape, y_test.shape)"
   ]
  },
  {
   "cell_type": "markdown",
   "metadata": {},
   "source": [
    "# K-Nearest-Neighbor"
   ]
  },
  {
   "cell_type": "code",
   "execution_count": 39,
   "metadata": {
    "collapsed": true
   },
   "outputs": [],
   "source": [
    "knn = KNeighborsRegressor(n_neighbors=3)"
   ]
  },
  {
   "cell_type": "code",
   "execution_count": 40,
   "metadata": {},
   "outputs": [
    {
     "data": {
      "text/plain": [
       "KNeighborsRegressor(algorithm='auto', leaf_size=30, metric='minkowski',\n",
       "          metric_params=None, n_jobs=1, n_neighbors=3, p=2,\n",
       "          weights='uniform')"
      ]
     },
     "execution_count": 40,
     "metadata": {},
     "output_type": "execute_result"
    }
   ],
   "source": [
    "knn.fit(X_train_scaled, y_train_scaled)"
   ]
  },
  {
   "cell_type": "code",
   "execution_count": 41,
   "metadata": {
    "collapsed": true
   },
   "outputs": [],
   "source": [
    "y_pred = knn.predict(X_test_scaled)"
   ]
  },
  {
   "cell_type": "code",
   "execution_count": 42,
   "metadata": {},
   "outputs": [
    {
     "data": {
      "text/plain": [
       "0.027157116568228064"
      ]
     },
     "execution_count": 42,
     "metadata": {},
     "output_type": "execute_result"
    }
   ],
   "source": [
    "mean_squared_error(y_test_scaled, y_pred)"
   ]
  },
  {
   "cell_type": "code",
   "execution_count": 43,
   "metadata": {},
   "outputs": [
    {
     "data": {
      "text/plain": [
       "array([[0.12307692],\n",
       "       [0.13076923],\n",
       "       [0.15384615],\n",
       "       ...,\n",
       "       [0.46923077],\n",
       "       [0.13076923],\n",
       "       [0.28461538]])"
      ]
     },
     "execution_count": 43,
     "metadata": {},
     "output_type": "execute_result"
    }
   ],
   "source": [
    "y_test_scaled"
   ]
  },
  {
   "cell_type": "code",
   "execution_count": 44,
   "metadata": {},
   "outputs": [
    {
     "data": {
      "text/html": [
       "<div>\n",
       "<style>\n",
       "    .dataframe thead tr:only-child th {\n",
       "        text-align: right;\n",
       "    }\n",
       "\n",
       "    .dataframe thead th {\n",
       "        text-align: left;\n",
       "    }\n",
       "\n",
       "    .dataframe tbody tr th {\n",
       "        vertical-align: top;\n",
       "    }\n",
       "</style>\n",
       "<table border=\"1\" class=\"dataframe\">\n",
       "  <thead>\n",
       "    <tr style=\"text-align: right;\">\n",
       "      <th></th>\n",
       "      <th>0</th>\n",
       "      <th>1</th>\n",
       "    </tr>\n",
       "  </thead>\n",
       "  <tbody>\n",
       "    <tr>\n",
       "      <th>343</th>\n",
       "      <td>0.161538</td>\n",
       "      <td>0.223844</td>\n",
       "    </tr>\n",
       "    <tr>\n",
       "      <th>1064</th>\n",
       "      <td>0.323077</td>\n",
       "      <td>0.484185</td>\n",
       "    </tr>\n",
       "    <tr>\n",
       "      <th>2701</th>\n",
       "      <td>0.415385</td>\n",
       "      <td>0.377129</td>\n",
       "    </tr>\n",
       "    <tr>\n",
       "      <th>1231</th>\n",
       "      <td>0.476923</td>\n",
       "      <td>0.484185</td>\n",
       "    </tr>\n",
       "    <tr>\n",
       "      <th>3713</th>\n",
       "      <td>0.461538</td>\n",
       "      <td>0.389294</td>\n",
       "    </tr>\n",
       "    <tr>\n",
       "      <th>572</th>\n",
       "      <td>0.323077</td>\n",
       "      <td>0.389294</td>\n",
       "    </tr>\n",
       "    <tr>\n",
       "      <th>3354</th>\n",
       "      <td>0.084615</td>\n",
       "      <td>0.255474</td>\n",
       "    </tr>\n",
       "    <tr>\n",
       "      <th>4309</th>\n",
       "      <td>0.684615</td>\n",
       "      <td>0.236010</td>\n",
       "    </tr>\n",
       "    <tr>\n",
       "      <th>3838</th>\n",
       "      <td>0.146154</td>\n",
       "      <td>0.236010</td>\n",
       "    </tr>\n",
       "    <tr>\n",
       "      <th>1028</th>\n",
       "      <td>0.861538</td>\n",
       "      <td>0.377129</td>\n",
       "    </tr>\n",
       "  </tbody>\n",
       "</table>\n",
       "</div>"
      ],
      "text/plain": [
       "             0         1\n",
       "343   0.161538  0.223844\n",
       "1064  0.323077  0.484185\n",
       "2701  0.415385  0.377129\n",
       "1231  0.476923  0.484185\n",
       "3713  0.461538  0.389294\n",
       "572   0.323077  0.389294\n",
       "3354  0.084615  0.255474\n",
       "4309  0.684615  0.236010\n",
       "3838  0.146154  0.236010\n",
       "1028  0.861538  0.377129"
      ]
     },
     "execution_count": 44,
     "metadata": {},
     "output_type": "execute_result"
    }
   ],
   "source": [
    "pd.DataFrame([y_test_scaled[:,0], y_pred[:,0]]).transpose().sample(10)"
   ]
  },
  {
   "cell_type": "markdown",
   "metadata": {},
   "source": [
    "# Linear Regression"
   ]
  },
  {
   "cell_type": "code",
   "execution_count": 45,
   "metadata": {
    "collapsed": true
   },
   "outputs": [],
   "source": [
    "reg = LinearRegression().fit(X_train_scaled, y_train_scaled)"
   ]
  },
  {
   "cell_type": "code",
   "execution_count": 46,
   "metadata": {},
   "outputs": [
    {
     "data": {
      "text/plain": [
       "array([[ 0.08740903,  0.        ,  0.04194557,  0.014859  , -0.02341873,\n",
       "         0.05825603, -0.188203  , -0.225258  ]])"
      ]
     },
     "execution_count": 46,
     "metadata": {},
     "output_type": "execute_result"
    }
   ],
   "source": [
    "reg.coef_"
   ]
  },
  {
   "cell_type": "code",
   "execution_count": 47,
   "metadata": {},
   "outputs": [
    {
     "data": {
      "text/plain": [
       "array([0.39751228])"
      ]
     },
     "execution_count": 47,
     "metadata": {},
     "output_type": "execute_result"
    }
   ],
   "source": [
    "reg.intercept_"
   ]
  },
  {
   "cell_type": "code",
   "execution_count": 48,
   "metadata": {
    "collapsed": true
   },
   "outputs": [],
   "source": [
    "y_pred_lin = reg.predict(X_test_scaled)"
   ]
  },
  {
   "cell_type": "code",
   "execution_count": 49,
   "metadata": {},
   "outputs": [
    {
     "data": {
      "text/plain": [
       "0.025763208067694547"
      ]
     },
     "execution_count": 49,
     "metadata": {},
     "output_type": "execute_result"
    }
   ],
   "source": [
    "mean_squared_error(y_test_scaled, y_pred_lin)"
   ]
  },
  {
   "cell_type": "markdown",
   "metadata": {},
   "source": [
    "## Cross Validation"
   ]
  },
  {
   "cell_type": "code",
   "execution_count": 56,
   "metadata": {
    "collapsed": true
   },
   "outputs": [],
   "source": [
    "from sklearn.model_selection import cross_validate, cross_val_score"
   ]
  },
  {
   "cell_type": "code",
   "execution_count": 57,
   "metadata": {
    "collapsed": true
   },
   "outputs": [],
   "source": [
    "knn = KNeighborsRegressor(n_neighbors=5)"
   ]
  },
  {
   "cell_type": "code",
   "execution_count": 58,
   "metadata": {
    "collapsed": true
   },
   "outputs": [],
   "source": [
    "scores = cross_val_score(knn, X, y, cv=10)"
   ]
  },
  {
   "cell_type": "code",
   "execution_count": 59,
   "metadata": {},
   "outputs": [
    {
     "data": {
      "text/plain": [
       "array([ 0.03587591, -0.16187952, -0.14419934, -0.14959881,  0.0640713 ,\n",
       "        0.04767405,  0.00758319,  0.16788745,  0.16095842, -0.05125026])"
      ]
     },
     "execution_count": 59,
     "metadata": {},
     "output_type": "execute_result"
    }
   ],
   "source": [
    "scores"
   ]
  },
  {
   "cell_type": "code",
   "execution_count": 60,
   "metadata": {
    "collapsed": true
   },
   "outputs": [],
   "source": [
    "scores = cross_validate(knn, X, y, cv=10,return_train_score=True)"
   ]
  },
  {
   "cell_type": "code",
   "execution_count": 61,
   "metadata": {},
   "outputs": [
    {
     "data": {
      "text/plain": [
       "{'fit_time': array([0.23000979, 0.17658281, 0.1830349 , 0.17628479, 0.17119789,\n",
       "        0.17444992, 0.17035198, 0.17194986, 0.17064118, 0.17143679]),\n",
       " 'score_time': array([0.17886424, 0.18379498, 0.19076824, 0.20095325, 0.18097711,\n",
       "        0.17920709, 0.1826458 , 0.1721971 , 0.17640901, 0.16705823]),\n",
       " 'test_score': array([ 0.03587591, -0.16187952, -0.14419934, -0.14959881,  0.0640713 ,\n",
       "         0.04767405,  0.00758319,  0.16788745,  0.16095842, -0.05125026]),\n",
       " 'train_score': array([ 0.15903414, -0.00811358,  0.07091511, -0.05353474,  0.14449745,\n",
       "         0.12798282,  0.08557728,  0.07444454,  0.07257293, -0.21943668])}"
      ]
     },
     "execution_count": 61,
     "metadata": {},
     "output_type": "execute_result"
    }
   ],
   "source": [
    "scores"
   ]
  },
  {
   "cell_type": "code",
   "execution_count": 62,
   "metadata": {
    "collapsed": true
   },
   "outputs": [],
   "source": [
    "lr = LinearRegression()\n"
   ]
  },
  {
   "cell_type": "code",
   "execution_count": 63,
   "metadata": {
    "collapsed": true
   },
   "outputs": [],
   "source": [
    "scores = cross_validate(lr, X, y, cv=10,return_train_score=True)"
   ]
  },
  {
   "cell_type": "code",
   "execution_count": 64,
   "metadata": {},
   "outputs": [
    {
     "data": {
      "text/plain": [
       "{'fit_time': array([0.01040888, 0.0071969 , 0.00385714, 0.0053277 , 0.00626612,\n",
       "        0.00432825, 0.00296497, 0.00298023, 0.00306582, 0.00274587]),\n",
       " 'score_time': array([0.00111318, 0.00074601, 0.00090098, 0.00061917, 0.00103092,\n",
       "        0.00053787, 0.00069594, 0.00048685, 0.00158215, 0.00046515]),\n",
       " 'test_score': array([0.25533579, 0.27824243, 0.2836433 , 0.31173482, 0.28069107,\n",
       "        0.29517117, 0.27294569, 0.30223836, 0.31284163, 0.24053055]),\n",
       " 'train_score': array([0.30696281, 0.30760132, 0.30498642, 0.3043179 , 0.30727015,\n",
       "        0.30456   , 0.30841998, 0.30323026, 0.30270381, 0.30885756])}"
      ]
     },
     "execution_count": 64,
     "metadata": {},
     "output_type": "execute_result"
    }
   ],
   "source": [
    "scores"
   ]
  },
  {
   "cell_type": "code",
   "execution_count": 65,
   "metadata": {
    "collapsed": true
   },
   "outputs": [],
   "source": [
    "train_scores = scores['train_score']\n",
    "test_score = scores['test_score']"
   ]
  },
  {
   "cell_type": "code",
   "execution_count": 66,
   "metadata": {},
   "outputs": [
    {
     "data": {
      "text/plain": [
       "0.3058910214955769"
      ]
     },
     "execution_count": 66,
     "metadata": {},
     "output_type": "execute_result"
    }
   ],
   "source": [
    "train_scores.mean()"
   ]
  },
  {
   "cell_type": "code",
   "execution_count": 67,
   "metadata": {},
   "outputs": [
    {
     "data": {
      "text/plain": [
       "0.2833374802577488"
      ]
     },
     "execution_count": 67,
     "metadata": {},
     "output_type": "execute_result"
    }
   ],
   "source": [
    "test_score.mean()"
   ]
  },
  {
   "cell_type": "markdown",
   "metadata": {
    "collapsed": true
   },
   "source": [
    "# Decision Trees"
   ]
  },
  {
   "cell_type": "code",
   "execution_count": 5,
   "metadata": {},
   "outputs": [],
   "source": [
    "import pydotplus, graphviz\n",
    "from sklearn.externals.six import StringIO  \n",
    "from IPython.display import Image"
   ]
  },
  {
   "cell_type": "code",
   "execution_count": null,
   "metadata": {
    "collapsed": true
   },
   "outputs": [],
   "source": []
  },
  {
   "cell_type": "code",
   "execution_count": null,
   "metadata": {
    "collapsed": true
   },
   "outputs": [],
   "source": []
  }
 ],
 "metadata": {
  "kernelspec": {
   "display_name": "Python 3",
   "language": "python",
   "name": "python3"
  },
  "language_info": {
   "codemirror_mode": {
    "name": "ipython",
    "version": 3
   },
   "file_extension": ".py",
   "mimetype": "text/x-python",
   "name": "python",
   "nbconvert_exporter": "python",
   "pygments_lexer": "ipython3",
   "version": "3.6.3"
  }
 },
 "nbformat": 4,
 "nbformat_minor": 2
}
